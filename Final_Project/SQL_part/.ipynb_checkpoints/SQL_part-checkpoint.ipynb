{
 "cells": [
  {
   "cell_type": "markdown",
   "metadata": {},
   "source": [
    "# Book Service"
   ]
  },
  {
   "cell_type": "markdown",
   "metadata": {},
   "source": [
    "# Table of contents"
   ]
  },
  {
   "cell_type": "markdown",
   "metadata": {},
   "source": [
    "1. [Project Description](#ProjectDescription)\n",
    "2. [Part 0: Open data and general information](#OpenData&GeneralInfo)\n",
    "3. [Part 1: Tasks](#Tasks)"
   ]
  },
  {
   "cell_type": "markdown",
   "metadata": {},
   "source": [
    "|  Name  |  Description  |\n",
    "| :----: |  :---- |\n",
    "|  **Initial conditions**  | You've been given a database of one of the services competing in this market. It contains data on books, publishers, authors, and customer ratings and reviews of books. This information will be used to generate a value proposition for a new product.                | \n",
    "|  **What we have**        | SQL database                                   |\n",
    "|  **Main question of project**  |  You need to prioritize these hypotheses, launch an A/B test, and analyze the results.                               |\n",
    "| **Project Description**  | [Link to Project Description](https://practicum.yandex.com/trainer/data-analyst/lesson/da301f15-cfdb-4ac1-ba36-0872df8f9cf5/task/eb50e373-a61a-4206-89a3-49095515f6a7/)    |\n",
    "| **Datasets**             | [/datasets/visits_log_us.csv](https://code.s3.yandex.net/datasets/visits_log_us.csv)  |\n",
    "|                          | [/datasets/orders_log_us.csv](https://code.s3.yandex.net/datasets/orders_log_us.csv)  |\n",
    "|                          | [/datasets/costs_us.csv](https://code.s3.yandex.net/datasets/costs_us.csv)            |"
   ]
  },
  {
   "cell_type": "markdown",
   "metadata": {},
   "source": [
    "### Project Description. <a name=\"ProjectDescription\"></a>"
   ]
  },
  {
   "cell_type": "code",
   "execution_count": 1,
   "metadata": {},
   "outputs": [],
   "source": [
    "# import all packages\n",
    "import pandas as pd\n",
    "import numpy as np\n",
    "import random\n",
    "import scipy.stats as stats\n",
    "import sys\n",
    "\n",
    "import matplotlib.pyplot as plt\n",
    "import matplotlib.patches as mpatches\n",
    "import seaborn as sns\n",
    "\n",
    "import sqlalchemy as sql\n",
    "from sqlalchemy import create_engine\n",
    "\n",
    "pd.set_option('max_colwidth', 400)\n",
    "\n",
    "%matplotlib inline"
   ]
  },
  {
   "cell_type": "code",
   "execution_count": 2,
   "metadata": {},
   "outputs": [
    {
     "name": "stdout",
     "output_type": "stream",
     "text": [
      "Pandas version library: 0.25.1\n",
      "Numpy version library: 1.19.5\n",
      "Seaborn version library: 0.9.0\n",
      "Anaconda version package: 3.7.8 | packaged by conda-forge | (default, Nov 17 2020, 23:45:15) \n",
      "[GCC 7.5.0]\n",
      "SQLAlchemy version package: 1.3.11\n"
     ]
    }
   ],
   "source": [
    "print('Pandas version library:',pd.__version__)\n",
    "print('Numpy version library:', np.__version__)\n",
    "print('Seaborn version library:', sns.__version__)\n",
    "print('Anaconda version package:', sys.version)\n",
    "print('SQLAlchemy version package:', sql.__version__)"
   ]
  },
  {
   "cell_type": "code",
   "execution_count": 3,
   "metadata": {},
   "outputs": [],
   "source": [
    "# function to determine if columns in file have null values:\n",
    "def get_percent_of_na(df, num):\n",
    "    count = 0; # first reset counter.\n",
    "    df = df.copy() # copy dataframe in new structure.\n",
    "    amount = (df.isna().sum() / df.shape[0])\n",
    "    \n",
    "    for column, percent in zip(amount.index, amount.values):\n",
    "        num_of_nulls = df[column].isna().sum()\n",
    "        if num_of_nulls == 0:\n",
    "            continue\n",
    "        else:\n",
    "            count += 1\n",
    "        print('Column {} has {:.{}%} percent of Nulls, and {} of nulls'.format(column, percent, num, num_of_nulls))\n",
    "        \n",
    "    if count != 0:\n",
    "        print('\\033[1m' + 'There are {} columns with NA.'.format(count) + '\\033[0m')\n",
    "    else: \n",
    "        print()\n",
    "        print('\\033[1m' + 'There are no columns with NA.' + '\\033[0m')"
   ]
  },
  {
   "cell_type": "code",
   "execution_count": 4,
   "metadata": {},
   "outputs": [],
   "source": [
    "def get_percent_of_na_table(df, num):\n",
    "    df_nulls = pd.DataFrame(df.isna().sum(), columns=['Missing Values'])\n",
    "    df_nulls['Percent of Nulls'] = round(df_nulls['Missing Values'] / df.shape[0], num) * 100\n",
    "    return df_nulls"
   ]
  },
  {
   "cell_type": "code",
   "execution_count": 5,
   "metadata": {},
   "outputs": [],
   "source": [
    "# function to display helpfull information about each file.\n",
    "def get_info(df):\n",
    "    print('Head:')\n",
    "    display(df.head())\n",
    "    print('-'*110)\n",
    "    \n",
    "    print('Info:')\n",
    "    display(df.info())\n",
    "    print('-'*110)\n",
    "    \n",
    "    print('Describe:')\n",
    "    display(df.describe())\n",
    "    display(df.describe(include=['category', 'object', 'float64']))\n",
    "    print('-'*110)\n",
    "    \n",
    "    print('Percent of columns with nulls:')\n",
    "    display(get_percent_of_na_table(df, 2))\n",
    "    print('-'*110)\n",
    "    \n",
    "    print('Shape:')\n",
    "    print(df.shape)\n",
    "    print('-'*110)\n",
    "    \n",
    "    print('Duplicated:')\n",
    "    print('\\033[1m' + 'We have {} duplicated rows. \\n'.format(df.duplicated().sum()) + '\\033[0m')\n",
    "    print('/'*110)"
   ]
  },
  {
   "cell_type": "code",
   "execution_count": 6,
   "metadata": {},
   "outputs": [],
   "source": [
    "db_config = {'user': 'praktikum_student',         # user name\n",
    "             'pwd': 'Sdf4$2;d-d30pp', # password\n",
    "             'host': 'rc1b-wcoijxj3yxfsf3fs.mdb.yandexcloud.net',\n",
    "             'port': 6432,              # connection port\n",
    "             'db': 'data-analyst-final-project-db'}          # the name of the data base\n",
    "\n",
    "connection_string = 'postgresql://{}:{}@{}:{}/{}'.format(db_config['user'],\n",
    "                                                                     db_config['pwd'],\n",
    "                                                                       db_config['host'],\n",
    "                                                                       db_config['port'],\n",
    "                                                                       db_config['db'])\n",
    "\n",
    "engine = create_engine(connection_string, connect_args={'sslmode':'require'})"
   ]
  },
  {
   "cell_type": "code",
   "execution_count": 8,
   "metadata": {},
   "outputs": [
    {
     "name": "stdout",
     "output_type": "stream",
     "text": [
      "['orders', 'visits', 'advertisment_costs', 'trip', 'C:\\x08oks', 'boks', 'finished_lessons1', 'finished_lessons2', 'publishers', 'authors', 'reviews', 'ratings', 'finished_lessons', 'books']\n"
     ]
    }
   ],
   "source": [
    "print (engine.table_names())"
   ]
  },
  {
   "cell_type": "code",
   "execution_count": 29,
   "metadata": {},
   "outputs": [],
   "source": [
    "query_books = ''' SELECT book_id, publication_date FROM books '''\n",
    "query_user_review = ''' SELECT \n",
    "                            books.book_id as book_id, \n",
    "                            books.title as title,\n",
    "                            COUNT(reviews.review_id) as review_count,\n",
    "                            AVG(ratings.rating) as avg_book_rating\n",
    "                        FROM \n",
    "                            books\n",
    "                        LEFT JOIN reviews on reviews.book_id = books.book_id\n",
    "                        LEFT JOIN ratings on ratings.book_id = books.book_id\n",
    "                        GROUP BY\n",
    "                            books.book_id\n",
    "                        ORDER BY\n",
    "                            review_count DESC;\n",
    "                    '''\n",
    "\n",
    "query_publisher = ''' SELECT \n",
    "                            publishers.publisher_id as publisher_id,\n",
    "                            publishers.publisher as publisher_name,\n",
    "                            COUNT(DISTINCT books.book_id) as book_count\n",
    "                        FROM \n",
    "                            publishers \n",
    "                        JOIN \n",
    "                            books on books.publisher_id = publishers.publisher_id\n",
    "                        WHERE \n",
    "                            num_pages > 50\n",
    "                        GROUP BY\n",
    "                            publishers.publisher_id\n",
    "                        ORDER BY\n",
    "                            book_count DESC\n",
    "                  '''\n",
    "\n",
    "query_book_rating = ''' SELECT   \n",
    "                            authors.author as author_name,\n",
    "                            AVG(ratings.rating) as average_rating\n",
    "                        FROM \n",
    "                            authors\n",
    "                        INNER JOIN\n",
    "                            books on books.author_id = authors.author_id\n",
    "                        INNER JOIN\n",
    "                            ratings on ratings.book_id = books.book_id\n",
    "                        GROUP BY\n",
    "                            author_name\n",
    "                        HAVING\n",
    "                            COUNT(ratings.rating) > 50\n",
    "                        ORDER BY\n",
    "                            average_rating DESC;\n",
    "                   '''\n",
    "\n",
    "query_book_author = ''' SELECT\n",
    "                            COUNT(*) / COUNT(distinct username) as average_reviews\n",
    "                        FROM \n",
    "                            reviews\n",
    "                        WHERE\n",
    "                            username\n",
    "                        IN\n",
    "                            (SELECT username FROM ratings GROUP BY username HAVING COUNT(*) > 50)\n",
    "                    '''"
   ]
  },
  {
   "cell_type": "code",
   "execution_count": 30,
   "metadata": {},
   "outputs": [],
   "source": [
    "books_data = pd.io.sql.read_sql(query_books, con = engine)\n",
    "number_user_review = pd.io.sql.read_sql(query_user_review, con = engine)\n",
    "books_publishers = pd.io.sql.read_sql(query_publisher, con = engine)\n",
    "books_rating = pd.io.sql.read_sql(query_book_rating, con = engine)\n",
    "author_rating = pd.io.sql.read_sql(query_book_author, con = engine)"
   ]
  },
  {
   "cell_type": "markdown",
   "metadata": {},
   "source": [
    "### Tasks  <a name=\"Tasks\"></a>"
   ]
  },
  {
   "cell_type": "code",
   "execution_count": 12,
   "metadata": {},
   "outputs": [
    {
     "name": "stdout",
     "output_type": "stream",
     "text": [
      "<class 'pandas.core.frame.DataFrame'>\n",
      "RangeIndex: 1000 entries, 0 to 999\n",
      "Data columns (total 2 columns):\n",
      "book_id             1000 non-null int64\n",
      "publication_date    1000 non-null object\n",
      "dtypes: int64(1), object(1)\n",
      "memory usage: 15.8+ KB\n",
      "None\n"
     ]
    }
   ],
   "source": [
    "print(books_data.info())"
   ]
  },
  {
   "cell_type": "code",
   "execution_count": 13,
   "metadata": {},
   "outputs": [
    {
     "name": "stdout",
     "output_type": "stream",
     "text": [
      "<class 'pandas.core.frame.DataFrame'>\n",
      "RangeIndex: 1000 entries, 0 to 999\n",
      "Data columns (total 2 columns):\n",
      "book_id             1000 non-null int64\n",
      "publication_date    1000 non-null datetime64[ns]\n",
      "dtypes: datetime64[ns](1), int64(1)\n",
      "memory usage: 15.8 KB\n"
     ]
    },
    {
     "data": {
      "text/plain": [
       "None"
      ]
     },
     "metadata": {},
     "output_type": "display_data"
    }
   ],
   "source": [
    "books_data['publication_date'] = books_data['publication_date'].astype(\"datetime64\")\n",
    "display(books_data.info())"
   ]
  },
  {
   "cell_type": "code",
   "execution_count": 14,
   "metadata": {},
   "outputs": [
    {
     "name": "stdout",
     "output_type": "stream",
     "text": [
      "819 books released after January 1, 2000\n"
     ]
    }
   ],
   "source": [
    "print(\"{} books released after January 1, 2000\".format(books_data.query('publication_date > \"2000-01-01\"').book_id.count()))"
   ]
  },
  {
   "cell_type": "markdown",
   "metadata": {},
   "source": [
    "- [X] Find the number of user reviews and the average rating for each book."
   ]
  },
  {
   "cell_type": "code",
   "execution_count": 15,
   "metadata": {},
   "outputs": [
    {
     "name": "stdout",
     "output_type": "stream",
     "text": [
      "1000 of users reviews\n"
     ]
    }
   ],
   "source": [
    "print(\"{} of users reviews\".format(number_user_review.shape[0]))"
   ]
  },
  {
   "cell_type": "code",
   "execution_count": 16,
   "metadata": {},
   "outputs": [
    {
     "data": {
      "text/html": [
       "<div>\n",
       "<style scoped>\n",
       "    .dataframe tbody tr th:only-of-type {\n",
       "        vertical-align: middle;\n",
       "    }\n",
       "\n",
       "    .dataframe tbody tr th {\n",
       "        vertical-align: top;\n",
       "    }\n",
       "\n",
       "    .dataframe thead th {\n",
       "        text-align: right;\n",
       "    }\n",
       "</style>\n",
       "<table border=\"1\" class=\"dataframe\">\n",
       "  <thead>\n",
       "    <tr style=\"text-align: right;\">\n",
       "      <th></th>\n",
       "      <th>book_id</th>\n",
       "      <th>title</th>\n",
       "      <th>review_count</th>\n",
       "      <th>avg_book_rating</th>\n",
       "    </tr>\n",
       "  </thead>\n",
       "  <tbody>\n",
       "    <tr>\n",
       "      <td>0</td>\n",
       "      <td>948</td>\n",
       "      <td>Twilight (Twilight  #1)</td>\n",
       "      <td>1120</td>\n",
       "      <td>3.662500</td>\n",
       "    </tr>\n",
       "    <tr>\n",
       "      <td>1</td>\n",
       "      <td>750</td>\n",
       "      <td>The Hobbit  or There and Back Again</td>\n",
       "      <td>528</td>\n",
       "      <td>4.125000</td>\n",
       "    </tr>\n",
       "    <tr>\n",
       "      <td>2</td>\n",
       "      <td>673</td>\n",
       "      <td>The Catcher in the Rye</td>\n",
       "      <td>516</td>\n",
       "      <td>3.825581</td>\n",
       "    </tr>\n",
       "    <tr>\n",
       "      <td>3</td>\n",
       "      <td>302</td>\n",
       "      <td>Harry Potter and the Prisoner of Azkaban (Harry Potter  #3)</td>\n",
       "      <td>492</td>\n",
       "      <td>4.414634</td>\n",
       "    </tr>\n",
       "    <tr>\n",
       "      <td>4</td>\n",
       "      <td>299</td>\n",
       "      <td>Harry Potter and the Chamber of Secrets (Harry Potter  #2)</td>\n",
       "      <td>480</td>\n",
       "      <td>4.287500</td>\n",
       "    </tr>\n",
       "  </tbody>\n",
       "</table>\n",
       "</div>"
      ],
      "text/plain": [
       "   book_id                                                        title  \\\n",
       "0      948                                      Twilight (Twilight  #1)   \n",
       "1      750                          The Hobbit  or There and Back Again   \n",
       "2      673                                       The Catcher in the Rye   \n",
       "3      302  Harry Potter and the Prisoner of Azkaban (Harry Potter  #3)   \n",
       "4      299   Harry Potter and the Chamber of Secrets (Harry Potter  #2)   \n",
       "\n",
       "   review_count  avg_book_rating  \n",
       "0          1120         3.662500  \n",
       "1           528         4.125000  \n",
       "2           516         3.825581  \n",
       "3           492         4.414634  \n",
       "4           480         4.287500  "
      ]
     },
     "execution_count": 16,
     "metadata": {},
     "output_type": "execute_result"
    }
   ],
   "source": [
    "number_user_review.head()"
   ]
  },
  {
   "cell_type": "code",
   "execution_count": 17,
   "metadata": {},
   "outputs": [
    {
     "data": {
      "text/plain": [
       "count    1000.000000\n",
       "mean        3.898973\n",
       "std         0.562376\n",
       "min         1.500000\n",
       "25%         3.500000\n",
       "50%         4.000000\n",
       "75%         4.333333\n",
       "max         5.000000\n",
       "Name: avg_book_rating, dtype: float64"
      ]
     },
     "execution_count": 17,
     "metadata": {},
     "output_type": "execute_result"
    }
   ],
   "source": [
    "number_user_review['avg_book_rating'].describe()"
   ]
  },
  {
   "cell_type": "markdown",
   "metadata": {},
   "source": [
    "- [X] Identify the publisher that has released the greatest number of books with more than 50 pages (this will help you exclude brochures and similar publications from your analysis)."
   ]
  },
  {
   "cell_type": "code",
   "execution_count": 16,
   "metadata": {},
   "outputs": [
    {
     "data": {
      "text/html": [
       "<div>\n",
       "<style scoped>\n",
       "    .dataframe tbody tr th:only-of-type {\n",
       "        vertical-align: middle;\n",
       "    }\n",
       "\n",
       "    .dataframe tbody tr th {\n",
       "        vertical-align: top;\n",
       "    }\n",
       "\n",
       "    .dataframe thead th {\n",
       "        text-align: right;\n",
       "    }\n",
       "</style>\n",
       "<table border=\"1\" class=\"dataframe\">\n",
       "  <thead>\n",
       "    <tr style=\"text-align: right;\">\n",
       "      <th></th>\n",
       "      <th>publisher_id</th>\n",
       "      <th>publisher_name</th>\n",
       "      <th>book_count</th>\n",
       "    </tr>\n",
       "  </thead>\n",
       "  <tbody>\n",
       "    <tr>\n",
       "      <td>0</td>\n",
       "      <td>212</td>\n",
       "      <td>Penguin Books</td>\n",
       "      <td>42</td>\n",
       "    </tr>\n",
       "    <tr>\n",
       "      <td>1</td>\n",
       "      <td>309</td>\n",
       "      <td>Vintage</td>\n",
       "      <td>31</td>\n",
       "    </tr>\n",
       "    <tr>\n",
       "      <td>2</td>\n",
       "      <td>116</td>\n",
       "      <td>Grand Central Publishing</td>\n",
       "      <td>25</td>\n",
       "    </tr>\n",
       "    <tr>\n",
       "      <td>3</td>\n",
       "      <td>217</td>\n",
       "      <td>Penguin Classics</td>\n",
       "      <td>24</td>\n",
       "    </tr>\n",
       "    <tr>\n",
       "      <td>4</td>\n",
       "      <td>35</td>\n",
       "      <td>Bantam</td>\n",
       "      <td>19</td>\n",
       "    </tr>\n",
       "  </tbody>\n",
       "</table>\n",
       "</div>"
      ],
      "text/plain": [
       "   publisher_id            publisher_name  book_count\n",
       "0           212             Penguin Books          42\n",
       "1           309                   Vintage          31\n",
       "2           116  Grand Central Publishing          25\n",
       "3           217          Penguin Classics          24\n",
       "4            35                    Bantam          19"
      ]
     },
     "execution_count": 16,
     "metadata": {},
     "output_type": "execute_result"
    }
   ],
   "source": [
    "books_publishers.head()"
   ]
  },
  {
   "cell_type": "code",
   "execution_count": 17,
   "metadata": {},
   "outputs": [
    {
     "data": {
      "text/plain": [
       "array([42, 31, 25, 24, 19, 17, 14, 13, 12, 11, 10,  9,  8,  7,  6,  5,  4,\n",
       "        3,  2,  1])"
      ]
     },
     "execution_count": 17,
     "metadata": {},
     "output_type": "execute_result"
    }
   ],
   "source": [
    "books_publishers['book_count'].unique()"
   ]
  },
  {
   "cell_type": "markdown",
   "metadata": {},
   "source": [
    "#### <font color='Purple'>Student's commentary:</font> if we consider books with a rating of books over 50, then there is not a single book. The maximum rating is 5. <a class=\"tocSkip\"> </div>"
   ]
  },
  {
   "cell_type": "code",
   "execution_count": 26,
   "metadata": {},
   "outputs": [
    {
     "data": {
      "text/html": [
       "<div>\n",
       "<style scoped>\n",
       "    .dataframe tbody tr th:only-of-type {\n",
       "        vertical-align: middle;\n",
       "    }\n",
       "\n",
       "    .dataframe tbody tr th {\n",
       "        vertical-align: top;\n",
       "    }\n",
       "\n",
       "    .dataframe thead th {\n",
       "        text-align: right;\n",
       "    }\n",
       "</style>\n",
       "<table border=\"1\" class=\"dataframe\">\n",
       "  <thead>\n",
       "    <tr style=\"text-align: right;\">\n",
       "      <th></th>\n",
       "      <th>author_name</th>\n",
       "      <th>average_rating</th>\n",
       "    </tr>\n",
       "  </thead>\n",
       "  <tbody>\n",
       "    <tr>\n",
       "      <td>0</td>\n",
       "      <td>J.K. Rowling/Mary GrandPré</td>\n",
       "      <td>4.288462</td>\n",
       "    </tr>\n",
       "    <tr>\n",
       "      <td>1</td>\n",
       "      <td>Agatha Christie</td>\n",
       "      <td>4.283019</td>\n",
       "    </tr>\n",
       "    <tr>\n",
       "      <td>2</td>\n",
       "      <td>Markus Zusak/Cao Xuân Việt Khương</td>\n",
       "      <td>4.264151</td>\n",
       "    </tr>\n",
       "    <tr>\n",
       "      <td>3</td>\n",
       "      <td>J.R.R. Tolkien</td>\n",
       "      <td>4.240964</td>\n",
       "    </tr>\n",
       "    <tr>\n",
       "      <td>4</td>\n",
       "      <td>Roald Dahl/Quentin Blake</td>\n",
       "      <td>4.209677</td>\n",
       "    </tr>\n",
       "  </tbody>\n",
       "</table>\n",
       "</div>"
      ],
      "text/plain": [
       "                         author_name  average_rating\n",
       "0         J.K. Rowling/Mary GrandPré        4.288462\n",
       "1                    Agatha Christie        4.283019\n",
       "2  Markus Zusak/Cao Xuân Việt Khương        4.264151\n",
       "3                     J.R.R. Tolkien        4.240964\n",
       "4           Roald Dahl/Quentin Blake        4.209677"
      ]
     },
     "execution_count": 26,
     "metadata": {},
     "output_type": "execute_result"
    }
   ],
   "source": [
    "books_rating.head()"
   ]
  },
  {
   "cell_type": "code",
   "execution_count": 27,
   "metadata": {},
   "outputs": [
    {
     "data": {
      "text/plain": [
       "array([4.28846154, 4.28301887, 4.26415094, 4.24096386, 4.20967742,\n",
       "       4.2037037 , 4.13095238, 4.10714286, 4.00943396, 3.97142857,\n",
       "       3.90140845, 3.88288288, 3.88157895, 3.87719298, 3.859375  ,\n",
       "       3.84693878, 3.78947368, 3.78787879, 3.74125874, 3.73846154,\n",
       "       3.72972973, 3.6625    , 3.64383562])"
      ]
     },
     "execution_count": 27,
     "metadata": {},
     "output_type": "execute_result"
    }
   ],
   "source": [
    "books_rating['average_rating'].unique()"
   ]
  },
  {
   "cell_type": "markdown",
   "metadata": {},
   "source": [
    "- There are no authors, who books with a rating higher than 50."
   ]
  },
  {
   "cell_type": "markdown",
   "metadata": {},
   "source": [
    "- [X] Find the average number of text reviews among users who rated more than 50 books. "
   ]
  },
  {
   "cell_type": "code",
   "execution_count": 31,
   "metadata": {},
   "outputs": [
    {
     "data": {
      "text/html": [
       "<div>\n",
       "<style scoped>\n",
       "    .dataframe tbody tr th:only-of-type {\n",
       "        vertical-align: middle;\n",
       "    }\n",
       "\n",
       "    .dataframe tbody tr th {\n",
       "        vertical-align: top;\n",
       "    }\n",
       "\n",
       "    .dataframe thead th {\n",
       "        text-align: right;\n",
       "    }\n",
       "</style>\n",
       "<table border=\"1\" class=\"dataframe\">\n",
       "  <thead>\n",
       "    <tr style=\"text-align: right;\">\n",
       "      <th></th>\n",
       "      <th>average_reviews</th>\n",
       "    </tr>\n",
       "  </thead>\n",
       "  <tbody>\n",
       "    <tr>\n",
       "      <td>0</td>\n",
       "      <td>24</td>\n",
       "    </tr>\n",
       "  </tbody>\n",
       "</table>\n",
       "</div>"
      ],
      "text/plain": [
       "   average_reviews\n",
       "0               24"
      ]
     },
     "execution_count": 31,
     "metadata": {},
     "output_type": "execute_result"
    }
   ],
   "source": [
    "author_rating.head()"
   ]
  },
  {
   "cell_type": "code",
   "execution_count": 32,
   "metadata": {},
   "outputs": [
    {
     "name": "stdout",
     "output_type": "stream",
     "text": [
      "Average number of text reviews among users who rated more than 50 books: average_reviews    24.0\n",
      "dtype: float64\n"
     ]
    }
   ],
   "source": [
    "print(\"Average number of text reviews among users who rated more than 50 books: {}\".format(author_rating.mean()))"
   ]
  }
 ],
 "metadata": {
  "ExecuteTimeLog": [
   {
    "duration": 1134,
    "start_time": "2021-11-02T07:49:45.976Z"
   },
   {
    "duration": 5,
    "start_time": "2021-11-02T07:49:57.291Z"
   },
   {
    "duration": 935,
    "start_time": "2021-11-02T07:51:56.276Z"
   },
   {
    "duration": 316,
    "start_time": "2021-11-02T07:52:02.580Z"
   },
   {
    "duration": 922,
    "start_time": "2021-11-02T07:52:08.139Z"
   },
   {
    "duration": 10,
    "start_time": "2021-11-02T07:52:09.062Z"
   },
   {
    "duration": 888,
    "start_time": "2021-11-02T07:52:20.742Z"
   },
   {
    "duration": 8,
    "start_time": "2021-11-02T07:52:21.727Z"
   },
   {
    "duration": 10374,
    "start_time": "2021-11-02T07:54:12.875Z"
   },
   {
    "duration": 3,
    "start_time": "2021-11-02T08:15:27.980Z"
   },
   {
    "duration": 9,
    "start_time": "2021-11-02T09:40:21.592Z"
   },
   {
    "duration": 10,
    "start_time": "2021-11-02T09:40:33.321Z"
   },
   {
    "duration": 280,
    "start_time": "2021-11-02T09:40:52.372Z"
   },
   {
    "duration": 9919,
    "start_time": "2021-11-02T09:40:59.495Z"
   },
   {
    "duration": 9,
    "start_time": "2021-11-02T09:41:09.417Z"
   },
   {
    "duration": 5,
    "start_time": "2021-11-02T14:57:16.850Z"
   },
   {
    "duration": 4,
    "start_time": "2021-11-02T14:57:46.221Z"
   },
   {
    "duration": 6,
    "start_time": "2021-11-02T14:58:02.195Z"
   },
   {
    "duration": 4,
    "start_time": "2021-11-02T14:58:03.171Z"
   },
   {
    "duration": 6,
    "start_time": "2021-11-02T14:58:04.724Z"
   },
   {
    "duration": 99,
    "start_time": "2021-11-02T14:58:30.669Z"
   },
   {
    "duration": 256,
    "start_time": "2021-11-02T14:58:51.519Z"
   },
   {
    "duration": 1261,
    "start_time": "2021-11-02T14:59:06.189Z"
   },
   {
    "duration": 2035,
    "start_time": "2021-11-02T14:59:43.640Z"
   },
   {
    "duration": 1852,
    "start_time": "2021-11-07T09:59:14.950Z"
   },
   {
    "duration": 354,
    "start_time": "2021-11-07T09:59:22.847Z"
   },
   {
    "duration": 14,
    "start_time": "2021-11-07T09:59:36.444Z"
   },
   {
    "duration": 9,
    "start_time": "2021-11-07T09:59:43.443Z"
   },
   {
    "duration": 10,
    "start_time": "2021-11-07T09:59:48.696Z"
   },
   {
    "duration": 4,
    "start_time": "2021-11-07T09:59:49.484Z"
   },
   {
    "duration": 6,
    "start_time": "2021-11-07T09:59:50.089Z"
   },
   {
    "duration": 41,
    "start_time": "2021-11-07T10:00:23.703Z"
   },
   {
    "duration": 1357,
    "start_time": "2021-11-11T10:03:38.873Z"
   },
   {
    "duration": 5,
    "start_time": "2021-11-11T10:03:41.972Z"
   },
   {
    "duration": 5,
    "start_time": "2021-11-11T10:03:43.819Z"
   },
   {
    "duration": 4,
    "start_time": "2021-11-11T10:03:46.363Z"
   },
   {
    "duration": 5,
    "start_time": "2021-11-11T10:03:47.391Z"
   },
   {
    "duration": 32,
    "start_time": "2021-11-11T10:03:48.784Z"
   },
   {
    "duration": 3,
    "start_time": "2021-11-11T10:03:50.333Z"
   },
   {
    "duration": 82,
    "start_time": "2021-11-11T10:03:52.749Z"
   },
   {
    "duration": 606,
    "start_time": "2021-11-11T10:03:56.960Z"
   },
   {
    "duration": 36,
    "start_time": "2021-11-11T10:10:12.504Z"
   },
   {
    "duration": 1577,
    "start_time": "2021-11-11T16:04:15.951Z"
   },
   {
    "duration": 7,
    "start_time": "2021-11-11T16:04:18.257Z"
   },
   {
    "duration": 6,
    "start_time": "2021-11-11T16:04:19.636Z"
   },
   {
    "duration": 4,
    "start_time": "2021-11-11T16:04:21.671Z"
   },
   {
    "duration": 6,
    "start_time": "2021-11-11T16:04:23.726Z"
   },
   {
    "duration": 195,
    "start_time": "2021-11-11T16:04:29.324Z"
   },
   {
    "duration": 87,
    "start_time": "2021-11-11T16:04:30.976Z"
   },
   {
    "duration": 3,
    "start_time": "2021-11-11T16:05:53.283Z"
   },
   {
    "duration": 512,
    "start_time": "2021-11-11T16:05:55.122Z"
   },
   {
    "duration": 4,
    "start_time": "2021-11-11T16:06:18.285Z"
   },
   {
    "duration": 437,
    "start_time": "2021-11-11T16:06:19.304Z"
   },
   {
    "duration": 3,
    "start_time": "2021-11-11T16:08:46.729Z"
   },
   {
    "duration": 18,
    "start_time": "2021-11-11T16:08:47.240Z"
   },
   {
    "duration": 10,
    "start_time": "2021-11-11T16:09:06.892Z"
   },
   {
    "duration": 17,
    "start_time": "2021-11-11T16:09:16.142Z"
   },
   {
    "duration": 15,
    "start_time": "2021-11-11T16:09:22.204Z"
   },
   {
    "duration": 6,
    "start_time": "2021-11-11T16:10:50.618Z"
   },
   {
    "duration": 122,
    "start_time": "2021-11-11T16:13:44.697Z"
   },
   {
    "duration": 2664,
    "start_time": "2021-11-11T16:13:56.609Z"
   },
   {
    "duration": 1455,
    "start_time": "2021-11-11T16:14:09.951Z"
   },
   {
    "duration": 1489,
    "start_time": "2021-11-11T16:18:12.946Z"
   },
   {
    "duration": 15,
    "start_time": "2021-11-11T16:20:49.052Z"
   },
   {
    "duration": 9,
    "start_time": "2021-11-11T16:20:58.089Z"
   },
   {
    "duration": 23,
    "start_time": "2021-11-11T16:21:05.855Z"
   },
   {
    "duration": 393,
    "start_time": "2021-11-11T16:21:39.058Z"
   },
   {
    "duration": 392,
    "start_time": "2021-11-11T16:21:47.724Z"
   },
   {
    "duration": 10,
    "start_time": "2021-11-11T16:22:17.816Z"
   },
   {
    "duration": 15,
    "start_time": "2021-11-11T16:23:21.491Z"
   },
   {
    "duration": 9,
    "start_time": "2021-11-11T16:24:00.370Z"
   },
   {
    "duration": 123,
    "start_time": "2021-11-11T16:24:36.199Z"
   },
   {
    "duration": 8,
    "start_time": "2021-11-11T16:24:43.146Z"
   },
   {
    "duration": 8,
    "start_time": "2021-11-11T16:25:01.677Z"
   },
   {
    "duration": 409,
    "start_time": "2021-11-11T16:31:48.632Z"
   },
   {
    "duration": 4,
    "start_time": "2021-11-11T16:31:53.151Z"
   },
   {
    "duration": 15,
    "start_time": "2021-11-11T16:31:53.896Z"
   },
   {
    "duration": 4,
    "start_time": "2021-11-11T16:32:26.987Z"
   },
   {
    "duration": 1503,
    "start_time": "2021-11-11T16:34:17.912Z"
   },
   {
    "duration": 5,
    "start_time": "2021-11-11T16:34:20.289Z"
   },
   {
    "duration": 6,
    "start_time": "2021-11-11T16:34:23.398Z"
   },
   {
    "duration": 6,
    "start_time": "2021-11-11T16:34:25.993Z"
   },
   {
    "duration": 7,
    "start_time": "2021-11-11T16:34:26.739Z"
   },
   {
    "duration": 187,
    "start_time": "2021-11-11T16:34:27.531Z"
   },
   {
    "duration": 67,
    "start_time": "2021-11-11T16:34:29.394Z"
   },
   {
    "duration": 4,
    "start_time": "2021-11-11T16:34:31.034Z"
   },
   {
    "duration": 4,
    "start_time": "2021-11-11T16:44:58.723Z"
   },
   {
    "duration": 443,
    "start_time": "2021-11-11T16:45:01.312Z"
   },
   {
    "duration": 1578,
    "start_time": "2021-11-11T16:45:15.742Z"
   },
   {
    "duration": 6,
    "start_time": "2021-11-11T16:45:17.323Z"
   },
   {
    "duration": 8,
    "start_time": "2021-11-11T16:45:17.331Z"
   },
   {
    "duration": 17,
    "start_time": "2021-11-11T16:45:17.342Z"
   },
   {
    "duration": 12,
    "start_time": "2021-11-11T16:45:17.361Z"
   },
   {
    "duration": 189,
    "start_time": "2021-11-11T16:45:17.375Z"
   },
   {
    "duration": 93,
    "start_time": "2021-11-11T16:45:17.567Z"
   },
   {
    "duration": 3,
    "start_time": "2021-11-11T16:45:17.663Z"
   },
   {
    "duration": 3,
    "start_time": "2021-11-11T16:45:21.945Z"
   },
   {
    "duration": 5,
    "start_time": "2021-11-11T16:53:53.772Z"
   },
   {
    "duration": 415,
    "start_time": "2021-11-11T16:53:54.858Z"
   },
   {
    "duration": 1554,
    "start_time": "2021-11-11T16:54:03.278Z"
   },
   {
    "duration": 7,
    "start_time": "2021-11-11T16:54:04.834Z"
   },
   {
    "duration": 17,
    "start_time": "2021-11-11T16:54:04.844Z"
   },
   {
    "duration": 10,
    "start_time": "2021-11-11T16:54:04.863Z"
   },
   {
    "duration": 8,
    "start_time": "2021-11-11T16:54:04.876Z"
   },
   {
    "duration": 192,
    "start_time": "2021-11-11T16:54:04.886Z"
   },
   {
    "duration": 95,
    "start_time": "2021-11-11T16:54:05.080Z"
   },
   {
    "duration": 3,
    "start_time": "2021-11-11T16:54:05.178Z"
   },
   {
    "duration": 3,
    "start_time": "2021-11-11T16:54:08.688Z"
   },
   {
    "duration": 16,
    "start_time": "2021-11-11T16:54:10.747Z"
   },
   {
    "duration": 13,
    "start_time": "2021-11-11T16:54:29.744Z"
   },
   {
    "duration": 5,
    "start_time": "2021-11-11T16:54:44.932Z"
   },
   {
    "duration": 4,
    "start_time": "2021-11-11T16:55:40.085Z"
   },
   {
    "duration": 4,
    "start_time": "2021-11-11T16:57:43.828Z"
   },
   {
    "duration": 21,
    "start_time": "2021-11-11T16:57:56.975Z"
   },
   {
    "duration": 9,
    "start_time": "2021-11-11T16:58:01.736Z"
   },
   {
    "duration": 12,
    "start_time": "2021-11-11T16:58:09.441Z"
   },
   {
    "duration": 13,
    "start_time": "2021-11-11T16:58:14.689Z"
   },
   {
    "duration": 491,
    "start_time": "2021-11-11T17:23:17.736Z"
   },
   {
    "duration": 3,
    "start_time": "2021-11-11T17:23:23.828Z"
   },
   {
    "duration": 37,
    "start_time": "2021-11-11T17:23:26.143Z"
   },
   {
    "duration": 9,
    "start_time": "2021-11-11T17:23:34.933Z"
   },
   {
    "duration": 8,
    "start_time": "2021-11-11T17:23:47.479Z"
   },
   {
    "duration": 10,
    "start_time": "2021-11-11T17:25:05.872Z"
   },
   {
    "duration": 7,
    "start_time": "2021-11-11T17:26:34.403Z"
   },
   {
    "duration": 9,
    "start_time": "2021-11-11T17:26:44.603Z"
   },
   {
    "duration": 10,
    "start_time": "2021-11-11T17:27:02.204Z"
   },
   {
    "duration": 10,
    "start_time": "2021-11-11T17:27:02.674Z"
   },
   {
    "duration": 13,
    "start_time": "2021-11-11T17:28:49.380Z"
   },
   {
    "duration": 11,
    "start_time": "2021-11-11T17:29:04.590Z"
   },
   {
    "duration": 127,
    "start_time": "2021-11-11T17:29:48.815Z"
   },
   {
    "duration": 11,
    "start_time": "2021-11-11T17:29:52.997Z"
   },
   {
    "duration": 524,
    "start_time": "2021-11-11T17:30:03.160Z"
   },
   {
    "duration": 10,
    "start_time": "2021-11-11T17:30:10.440Z"
   },
   {
    "duration": 5,
    "start_time": "2021-11-11T17:36:17.221Z"
   },
   {
    "duration": 44,
    "start_time": "2021-11-11T17:37:03.946Z"
   },
   {
    "duration": 10,
    "start_time": "2021-11-11T17:37:13.850Z"
   },
   {
    "duration": 21,
    "start_time": "2021-11-11T17:37:23.808Z"
   },
   {
    "duration": 125,
    "start_time": "2021-11-11T17:37:46.853Z"
   },
   {
    "duration": 9,
    "start_time": "2021-11-11T17:40:04.811Z"
   },
   {
    "duration": 6,
    "start_time": "2021-11-11T17:40:28.798Z"
   },
   {
    "duration": 4,
    "start_time": "2021-11-11T17:41:10.783Z"
   },
   {
    "duration": 57,
    "start_time": "2021-11-11T17:41:11.793Z"
   },
   {
    "duration": 13,
    "start_time": "2021-11-11T17:41:19.686Z"
   },
   {
    "duration": 22,
    "start_time": "2021-11-11T17:41:33.784Z"
   },
   {
    "duration": 7,
    "start_time": "2021-11-11T17:46:25.402Z"
   },
   {
    "duration": 15,
    "start_time": "2021-11-11T17:46:47.061Z"
   },
   {
    "duration": 14,
    "start_time": "2021-11-11T17:47:30.011Z"
   },
   {
    "duration": 16,
    "start_time": "2021-11-11T17:49:37.496Z"
   },
   {
    "duration": 14,
    "start_time": "2021-11-11T17:50:06.821Z"
   },
   {
    "duration": 4,
    "start_time": "2021-11-11T17:50:19.632Z"
   },
   {
    "duration": 46,
    "start_time": "2021-11-11T17:50:22.048Z"
   },
   {
    "duration": 9,
    "start_time": "2021-11-11T17:50:28.547Z"
   },
   {
    "duration": 21,
    "start_time": "2021-11-11T17:50:33.498Z"
   },
   {
    "duration": 44,
    "start_time": "2021-11-11T17:50:54.957Z"
   },
   {
    "duration": 14,
    "start_time": "2021-11-11T17:50:58.776Z"
   },
   {
    "duration": 21,
    "start_time": "2021-11-11T17:51:14.207Z"
   },
   {
    "duration": 16,
    "start_time": "2021-11-11T17:51:25.659Z"
   },
   {
    "duration": 53,
    "start_time": "2021-11-11T17:52:11.431Z"
   },
   {
    "duration": 14,
    "start_time": "2021-11-11T17:52:14.857Z"
   },
   {
    "duration": 14,
    "start_time": "2021-11-11T17:52:20.610Z"
   },
   {
    "duration": 4,
    "start_time": "2021-11-11T19:57:24.346Z"
   },
   {
    "duration": 550,
    "start_time": "2021-11-11T19:57:56.066Z"
   },
   {
    "duration": 4,
    "start_time": "2021-11-11T19:58:09.713Z"
   },
   {
    "duration": 434,
    "start_time": "2021-11-11T19:58:10.783Z"
   },
   {
    "duration": 3,
    "start_time": "2021-11-11T19:58:17.192Z"
   },
   {
    "duration": 425,
    "start_time": "2021-11-11T19:58:18.266Z"
   },
   {
    "duration": 4,
    "start_time": "2021-11-11T19:59:21.854Z"
   },
   {
    "duration": 438,
    "start_time": "2021-11-11T19:59:22.598Z"
   },
   {
    "duration": 4,
    "start_time": "2021-11-11T20:23:45.773Z"
   },
   {
    "duration": 4,
    "start_time": "2021-11-11T20:26:38.817Z"
   },
   {
    "duration": 56,
    "start_time": "2021-11-11T20:27:20.521Z"
   },
   {
    "duration": 8,
    "start_time": "2021-11-11T20:27:31.313Z"
   },
   {
    "duration": 4,
    "start_time": "2021-11-11T20:29:00.131Z"
   },
   {
    "duration": 69,
    "start_time": "2021-11-11T20:29:01.614Z"
   },
   {
    "duration": 9,
    "start_time": "2021-11-11T20:29:05.500Z"
   },
   {
    "duration": 4,
    "start_time": "2021-11-11T20:29:32.416Z"
   },
   {
    "duration": 67,
    "start_time": "2021-11-11T20:29:34.273Z"
   },
   {
    "duration": 9,
    "start_time": "2021-11-11T20:29:37.655Z"
   },
   {
    "duration": 10,
    "start_time": "2021-11-11T20:30:06.194Z"
   },
   {
    "duration": 117,
    "start_time": "2021-11-11T20:41:27.910Z"
   },
   {
    "duration": 5,
    "start_time": "2021-11-11T20:41:41.652Z"
   },
   {
    "duration": 90,
    "start_time": "2021-11-11T20:41:42.687Z"
   },
   {
    "duration": 9,
    "start_time": "2021-11-11T20:41:56.940Z"
   },
   {
    "duration": 4,
    "start_time": "2021-11-11T20:43:24.621Z"
   },
   {
    "duration": 77,
    "start_time": "2021-11-11T20:43:25.584Z"
   },
   {
    "duration": 10,
    "start_time": "2021-11-11T20:43:29.456Z"
   },
   {
    "duration": 7,
    "start_time": "2021-11-11T20:45:22.459Z"
   },
   {
    "duration": 14,
    "start_time": "2021-11-11T20:45:37.009Z"
   },
   {
    "duration": 21,
    "start_time": "2021-11-11T20:45:55.994Z"
   },
   {
    "duration": 20,
    "start_time": "2021-11-11T20:47:49.561Z"
   },
   {
    "duration": 20,
    "start_time": "2021-11-11T20:48:23.163Z"
   },
   {
    "duration": 4,
    "start_time": "2021-11-11T20:48:40.555Z"
   },
   {
    "duration": 75,
    "start_time": "2021-11-11T20:48:41.859Z"
   },
   {
    "duration": 21,
    "start_time": "2021-11-11T20:48:46.449Z"
   },
   {
    "duration": 350,
    "start_time": "2021-11-11T20:50:36.477Z"
   },
   {
    "duration": 19,
    "start_time": "2021-11-11T20:50:45.358Z"
   },
   {
    "duration": 12,
    "start_time": "2021-11-11T20:51:13.564Z"
   },
   {
    "duration": 12,
    "start_time": "2021-11-11T20:51:28.049Z"
   },
   {
    "duration": 7,
    "start_time": "2021-11-11T20:51:54.878Z"
   },
   {
    "duration": 123,
    "start_time": "2021-11-11T20:53:06.557Z"
   },
   {
    "duration": 6,
    "start_time": "2021-11-11T20:53:10.084Z"
   },
   {
    "duration": 15,
    "start_time": "2021-11-11T20:54:08.312Z"
   },
   {
    "duration": 10,
    "start_time": "2021-11-11T20:54:11.171Z"
   },
   {
    "duration": 1161,
    "start_time": "2021-11-16T15:48:45.515Z"
   },
   {
    "duration": 5,
    "start_time": "2021-11-16T15:48:46.678Z"
   },
   {
    "duration": 4,
    "start_time": "2021-11-16T15:48:46.692Z"
   },
   {
    "duration": 4,
    "start_time": "2021-11-16T15:48:46.698Z"
   },
   {
    "duration": 16,
    "start_time": "2021-11-16T15:48:46.704Z"
   },
   {
    "duration": 29,
    "start_time": "2021-11-16T15:48:46.721Z"
   },
   {
    "duration": 217,
    "start_time": "2021-11-16T15:48:46.752Z"
   },
   {
    "duration": 3,
    "start_time": "2021-11-16T15:48:46.971Z"
   },
   {
    "duration": 522,
    "start_time": "2021-11-16T15:48:46.976Z"
   },
   {
    "duration": 6,
    "start_time": "2021-11-16T15:48:47.499Z"
   },
   {
    "duration": 13,
    "start_time": "2021-11-16T15:48:47.507Z"
   },
   {
    "duration": 7,
    "start_time": "2021-11-16T15:48:47.522Z"
   },
   {
    "duration": 3,
    "start_time": "2021-11-16T15:48:47.530Z"
   },
   {
    "duration": 8,
    "start_time": "2021-11-16T15:48:47.534Z"
   },
   {
    "duration": 6,
    "start_time": "2021-11-16T15:48:47.544Z"
   },
   {
    "duration": 7,
    "start_time": "2021-11-16T15:48:47.551Z"
   },
   {
    "duration": 36,
    "start_time": "2021-11-16T15:48:47.559Z"
   },
   {
    "duration": 9,
    "start_time": "2021-11-16T15:48:47.597Z"
   },
   {
    "duration": 6,
    "start_time": "2021-11-16T15:48:47.608Z"
   },
   {
    "duration": 6,
    "start_time": "2021-11-16T15:48:47.615Z"
   },
   {
    "duration": 9,
    "start_time": "2021-11-16T15:48:47.622Z"
   },
   {
    "duration": 8,
    "start_time": "2021-11-16T15:48:47.632Z"
   },
   {
    "duration": 6,
    "start_time": "2021-11-16T15:48:47.642Z"
   },
   {
    "duration": 2505,
    "start_time": "2021-11-16T18:50:48.604Z"
   },
   {
    "duration": 18,
    "start_time": "2021-11-16T18:50:51.113Z"
   },
   {
    "duration": 9,
    "start_time": "2021-11-16T18:50:51.134Z"
   },
   {
    "duration": 11,
    "start_time": "2021-11-16T18:50:51.145Z"
   },
   {
    "duration": 29,
    "start_time": "2021-11-16T18:50:51.158Z"
   },
   {
    "duration": 4,
    "start_time": "2021-11-16T19:06:55.071Z"
   },
   {
    "duration": 477,
    "start_time": "2021-11-16T19:06:56.219Z"
   },
   {
    "duration": 53,
    "start_time": "2021-11-16T19:07:05.557Z"
   },
   {
    "duration": 172,
    "start_time": "2021-11-16T19:07:08.094Z"
   },
   {
    "duration": 7,
    "start_time": "2021-11-16T19:07:10.979Z"
   },
   {
    "duration": 805,
    "start_time": "2021-11-16T19:07:12.358Z"
   },
   {
    "duration": 1608,
    "start_time": "2021-11-17T17:41:47.420Z"
   },
   {
    "duration": 6,
    "start_time": "2021-11-17T17:41:49.031Z"
   },
   {
    "duration": 7,
    "start_time": "2021-11-17T17:41:49.040Z"
   },
   {
    "duration": 6,
    "start_time": "2021-11-17T17:41:49.049Z"
   },
   {
    "duration": 10,
    "start_time": "2021-11-17T17:41:49.057Z"
   },
   {
    "duration": 67,
    "start_time": "2021-11-17T17:41:49.069Z"
   },
   {
    "duration": 32,
    "start_time": "2021-11-17T17:41:49.138Z"
   },
   {
    "duration": 5,
    "start_time": "2021-11-17T17:41:53.573Z"
   },
   {
    "duration": 669,
    "start_time": "2021-11-17T17:41:54.411Z"
   },
   {
    "duration": 69,
    "start_time": "2021-11-17T17:42:02.400Z"
   },
   {
    "duration": 13,
    "start_time": "2021-11-17T17:42:07.315Z"
   },
   {
    "duration": 16,
    "start_time": "2021-11-17T17:42:07.991Z"
   },
   {
    "duration": 4,
    "start_time": "2021-11-17T17:48:56.546Z"
   },
   {
    "duration": 71,
    "start_time": "2021-11-17T17:48:59.207Z"
   },
   {
    "duration": 6,
    "start_time": "2021-11-17T17:49:16.704Z"
   },
   {
    "duration": 11,
    "start_time": "2021-11-17T17:49:28.294Z"
   },
   {
    "duration": 4,
    "start_time": "2021-11-17T17:53:50.810Z"
   },
   {
    "duration": 358,
    "start_time": "2021-11-17T17:53:52.751Z"
   },
   {
    "duration": 4,
    "start_time": "2021-11-17T17:54:15.580Z"
   },
   {
    "duration": 353,
    "start_time": "2021-11-17T17:54:16.683Z"
   },
   {
    "duration": 5,
    "start_time": "2021-11-17T17:56:00.857Z"
   },
   {
    "duration": 376,
    "start_time": "2021-11-17T17:56:01.630Z"
   },
   {
    "duration": 3,
    "start_time": "2021-11-17T17:56:18.934Z"
   },
   {
    "duration": 5,
    "start_time": "2021-11-17T17:56:21.697Z"
   },
   {
    "duration": 4,
    "start_time": "2021-11-17T17:56:22.212Z"
   },
   {
    "duration": 77,
    "start_time": "2021-11-17T17:56:22.632Z"
   },
   {
    "duration": 9,
    "start_time": "2021-11-17T17:56:27.270Z"
   },
   {
    "duration": 5,
    "start_time": "2021-11-17T17:57:20.294Z"
   },
   {
    "duration": 3,
    "start_time": "2021-11-17T17:57:21.448Z"
   },
   {
    "duration": 169,
    "start_time": "2021-11-17T17:57:22.084Z"
   },
   {
    "duration": 10,
    "start_time": "2021-11-17T17:57:27.034Z"
   },
   {
    "duration": 4,
    "start_time": "2021-11-17T18:00:39.402Z"
   },
   {
    "duration": 3,
    "start_time": "2021-11-17T18:00:41.932Z"
   },
   {
    "duration": 397,
    "start_time": "2021-11-17T18:00:42.441Z"
   },
   {
    "duration": 5,
    "start_time": "2021-11-17T18:02:47.813Z"
   },
   {
    "duration": 3,
    "start_time": "2021-11-17T18:02:48.965Z"
   },
   {
    "duration": 357,
    "start_time": "2021-11-17T18:02:49.985Z"
   },
   {
    "duration": 5,
    "start_time": "2021-11-17T18:03:34.630Z"
   },
   {
    "duration": 354,
    "start_time": "2021-11-17T18:03:37.593Z"
   },
   {
    "duration": 4,
    "start_time": "2021-11-17T18:03:56.427Z"
   },
   {
    "duration": 215,
    "start_time": "2021-11-17T18:03:58.788Z"
   },
   {
    "duration": 15,
    "start_time": "2021-11-17T18:04:02.942Z"
   },
   {
    "duration": 5,
    "start_time": "2021-11-17T18:05:16.118Z"
   },
   {
    "duration": 13,
    "start_time": "2021-11-17T18:05:18.926Z"
   },
   {
    "duration": 7,
    "start_time": "2021-11-17T18:06:08.785Z"
   },
   {
    "duration": 11,
    "start_time": "2021-11-17T18:06:11.286Z"
   },
   {
    "duration": 4,
    "start_time": "2021-11-17T18:06:53.950Z"
   },
   {
    "duration": 4,
    "start_time": "2021-11-17T18:06:56.302Z"
   },
   {
    "duration": 153,
    "start_time": "2021-11-17T18:06:56.980Z"
   },
   {
    "duration": 11,
    "start_time": "2021-11-17T18:07:03.020Z"
   },
   {
    "duration": 10,
    "start_time": "2021-11-17T18:07:06.102Z"
   },
   {
    "duration": 11,
    "start_time": "2021-11-17T18:07:09.052Z"
   },
   {
    "duration": 8,
    "start_time": "2021-11-17T18:07:39.892Z"
   },
   {
    "duration": 20,
    "start_time": "2021-11-17T18:13:11.605Z"
   },
   {
    "duration": 5,
    "start_time": "2021-11-17T18:15:59.004Z"
   },
   {
    "duration": 3,
    "start_time": "2021-11-17T18:16:00.217Z"
   },
   {
    "duration": 158,
    "start_time": "2021-11-17T18:16:00.579Z"
   },
   {
    "duration": 5,
    "start_time": "2021-11-17T18:16:05.913Z"
   },
   {
    "duration": 3,
    "start_time": "2021-11-17T18:16:06.841Z"
   },
   {
    "duration": 164,
    "start_time": "2021-11-17T18:16:07.319Z"
   },
   {
    "duration": 4,
    "start_time": "2021-11-17T18:16:11.624Z"
   },
   {
    "duration": 16,
    "start_time": "2021-11-17T18:16:14.769Z"
   },
   {
    "duration": 6,
    "start_time": "2021-11-17T18:16:23.970Z"
   },
   {
    "duration": 16,
    "start_time": "2021-11-17T18:16:29.352Z"
   },
   {
    "duration": 5,
    "start_time": "2021-11-17T18:21:25.494Z"
   },
   {
    "duration": 464,
    "start_time": "2021-11-17T18:21:28.184Z"
   },
   {
    "duration": 4,
    "start_time": "2021-11-17T18:22:00.161Z"
   },
   {
    "duration": 6,
    "start_time": "2021-11-17T18:22:03.211Z"
   },
   {
    "duration": 475,
    "start_time": "2021-11-17T18:22:06.632Z"
   },
   {
    "duration": 11,
    "start_time": "2021-11-17T18:22:50.410Z"
   },
   {
    "duration": 4,
    "start_time": "2021-11-17T18:22:51.698Z"
   },
   {
    "duration": 159,
    "start_time": "2021-11-17T18:22:52.170Z"
   },
   {
    "duration": 10,
    "start_time": "2021-11-17T18:23:06.284Z"
   },
   {
    "duration": 5,
    "start_time": "2021-11-17T18:34:47.278Z"
   },
   {
    "duration": 3,
    "start_time": "2021-11-17T18:34:47.995Z"
   },
   {
    "duration": 466,
    "start_time": "2021-11-17T18:34:48.415Z"
   },
   {
    "duration": 4,
    "start_time": "2021-11-17T18:35:28.595Z"
   },
   {
    "duration": 3,
    "start_time": "2021-11-17T18:35:29.168Z"
   },
   {
    "duration": 373,
    "start_time": "2021-11-17T18:35:29.614Z"
   },
   {
    "duration": 4,
    "start_time": "2021-11-17T18:35:51.565Z"
   },
   {
    "duration": 3,
    "start_time": "2021-11-17T18:35:52.247Z"
   },
   {
    "duration": 168,
    "start_time": "2021-11-17T18:35:53.015Z"
   },
   {
    "duration": 15,
    "start_time": "2021-11-17T18:35:58.050Z"
   },
   {
    "duration": 9,
    "start_time": "2021-11-17T18:36:23.783Z"
   },
   {
    "duration": 17,
    "start_time": "2021-11-17T18:36:28.349Z"
   },
   {
    "duration": 5,
    "start_time": "2021-11-17T18:38:59.656Z"
   },
   {
    "duration": 3,
    "start_time": "2021-11-17T18:39:00.486Z"
   },
   {
    "duration": 249,
    "start_time": "2021-11-17T18:39:01.179Z"
   },
   {
    "duration": 18,
    "start_time": "2021-11-17T18:39:06.020Z"
   },
   {
    "duration": 5,
    "start_time": "2021-11-17T18:39:48.917Z"
   },
   {
    "duration": 4,
    "start_time": "2021-11-17T18:39:49.657Z"
   },
   {
    "duration": 355,
    "start_time": "2021-11-17T18:39:50.166Z"
   },
   {
    "duration": 5,
    "start_time": "2021-11-17T18:39:58.422Z"
   },
   {
    "duration": 220,
    "start_time": "2021-11-17T18:40:01.758Z"
   },
   {
    "duration": 6,
    "start_time": "2021-11-17T18:42:49.197Z"
   },
   {
    "duration": 4,
    "start_time": "2021-11-17T18:42:49.887Z"
   },
   {
    "duration": 209,
    "start_time": "2021-11-17T18:42:50.331Z"
   },
   {
    "duration": 27,
    "start_time": "2021-11-17T18:43:03.662Z"
   },
   {
    "duration": 5,
    "start_time": "2021-11-17T18:43:27.848Z"
   },
   {
    "duration": 4,
    "start_time": "2021-11-17T18:43:28.779Z"
   },
   {
    "duration": 313,
    "start_time": "2021-11-17T18:43:29.517Z"
   },
   {
    "duration": 27,
    "start_time": "2021-11-17T18:43:33.888Z"
   },
   {
    "duration": 21,
    "start_time": "2021-11-17T18:44:07.012Z"
   },
   {
    "duration": 3,
    "start_time": "2021-11-17T18:44:49.773Z"
   },
   {
    "duration": 20,
    "start_time": "2021-11-17T18:45:08.855Z"
   },
   {
    "duration": 10,
    "start_time": "2021-11-17T18:45:15.266Z"
   },
   {
    "duration": 6,
    "start_time": "2021-11-17T18:50:30.019Z"
   },
   {
    "duration": 521,
    "start_time": "2021-11-17T18:50:31.744Z"
   },
   {
    "duration": 5,
    "start_time": "2021-11-17T18:51:45.457Z"
   },
   {
    "duration": 527,
    "start_time": "2021-11-17T18:51:46.605Z"
   },
   {
    "duration": 8,
    "start_time": "2021-11-17T18:52:10.319Z"
   },
   {
    "duration": 558,
    "start_time": "2021-11-17T18:52:11.118Z"
   },
   {
    "duration": 7,
    "start_time": "2021-11-17T18:52:25.899Z"
   },
   {
    "duration": 552,
    "start_time": "2021-11-17T18:52:27.059Z"
   },
   {
    "duration": 5,
    "start_time": "2021-11-17T18:53:34.497Z"
   },
   {
    "duration": 505,
    "start_time": "2021-11-17T18:53:35.485Z"
   },
   {
    "duration": 6,
    "start_time": "2021-11-17T18:54:17.780Z"
   },
   {
    "duration": 11511,
    "start_time": "2021-11-17T18:54:18.790Z"
   },
   {
    "duration": 7780,
    "start_time": "2021-11-17T18:54:49.424Z"
   },
   {
    "duration": -555,
    "start_time": "2021-11-17T18:55:14.647Z"
   },
   {
    "duration": 10,
    "start_time": "2021-11-17T18:55:17.457Z"
   },
   {
    "duration": 5,
    "start_time": "2021-11-17T18:58:07.250Z"
   },
   {
    "duration": 38988,
    "start_time": "2021-11-17T18:58:09.043Z"
   },
   {
    "duration": 5,
    "start_time": "2021-11-17T18:58:57.588Z"
   },
   {
    "duration": 11436,
    "start_time": "2021-11-17T18:58:59.096Z"
   },
   {
    "duration": 10,
    "start_time": "2021-11-17T18:59:20.372Z"
   },
   {
    "duration": 24,
    "start_time": "2021-11-17T19:00:05.479Z"
   },
   {
    "duration": 11,
    "start_time": "2021-11-17T19:00:08.352Z"
   },
   {
    "duration": 17,
    "start_time": "2021-11-17T19:00:25.644Z"
   },
   {
    "duration": 7,
    "start_time": "2021-11-17T19:00:35.098Z"
   },
   {
    "duration": 11592,
    "start_time": "2021-11-17T19:00:36.983Z"
   },
   {
    "duration": 16,
    "start_time": "2021-11-17T19:00:56.131Z"
   },
   {
    "duration": 106,
    "start_time": "2021-11-17T19:01:43.642Z"
   },
   {
    "duration": 15,
    "start_time": "2021-11-17T19:03:01.766Z"
   },
   {
    "duration": 6,
    "start_time": "2021-11-17T19:06:46.710Z"
   },
   {
    "duration": 12179,
    "start_time": "2021-11-17T19:06:47.752Z"
   },
   {
    "duration": 15,
    "start_time": "2021-11-17T19:07:04.199Z"
   },
   {
    "duration": 13,
    "start_time": "2021-11-17T19:08:34.931Z"
   },
   {
    "duration": 346,
    "start_time": "2021-11-17T19:08:51.841Z"
   },
   {
    "duration": 7,
    "start_time": "2021-11-17T19:08:56.971Z"
   },
   {
    "duration": 6,
    "start_time": "2021-11-17T19:09:02.171Z"
   },
   {
    "duration": 5,
    "start_time": "2021-11-17T19:09:46.262Z"
   },
   {
    "duration": 367,
    "start_time": "2021-11-17T19:09:49.304Z"
   },
   {
    "duration": 5,
    "start_time": "2021-11-17T19:12:24.090Z"
   },
   {
    "duration": 12534,
    "start_time": "2021-11-17T19:12:25.406Z"
   },
   {
    "duration": 14,
    "start_time": "2021-11-17T19:12:43.143Z"
   },
   {
    "duration": 5,
    "start_time": "2021-11-17T19:13:22.322Z"
   },
   {
    "duration": 12,
    "start_time": "2021-11-17T19:13:36.747Z"
   },
   {
    "duration": 8,
    "start_time": "2021-11-17T19:13:43.059Z"
   },
   {
    "duration": 13,
    "start_time": "2021-11-17T19:13:49.780Z"
   },
   {
    "duration": 5,
    "start_time": "2021-11-17T19:15:44.196Z"
   },
   {
    "duration": 14,
    "start_time": "2021-11-17T19:15:57.001Z"
   },
   {
    "duration": 7,
    "start_time": "2021-11-17T19:16:02.617Z"
   },
   {
    "duration": 12,
    "start_time": "2021-11-17T19:16:49.794Z"
   },
   {
    "duration": 10,
    "start_time": "2021-11-17T19:17:15.296Z"
   },
   {
    "duration": 5,
    "start_time": "2021-11-17T19:18:34.325Z"
   },
   {
    "duration": 445,
    "start_time": "2021-11-17T19:18:37.341Z"
   },
   {
    "duration": 8,
    "start_time": "2021-11-17T19:19:25.209Z"
   },
   {
    "duration": 387,
    "start_time": "2021-11-17T19:19:26.440Z"
   },
   {
    "duration": 5,
    "start_time": "2021-11-17T19:20:04.182Z"
   },
   {
    "duration": 976,
    "start_time": "2021-11-17T19:20:06.441Z"
   },
   {
    "duration": 16,
    "start_time": "2021-11-17T19:20:15.007Z"
   },
   {
    "duration": 14,
    "start_time": "2021-11-17T19:20:18.406Z"
   },
   {
    "duration": 10,
    "start_time": "2021-11-17T19:20:23.235Z"
   },
   {
    "duration": 6,
    "start_time": "2021-11-17T19:20:29.440Z"
   },
   {
    "duration": 5,
    "start_time": "2021-11-17T19:21:15.686Z"
   },
   {
    "duration": 2139,
    "start_time": "2021-11-17T19:21:17.174Z"
   },
   {
    "duration": 4,
    "start_time": "2021-11-17T19:22:44.720Z"
   },
   {
    "duration": 576,
    "start_time": "2021-11-17T19:22:46.543Z"
   },
   {
    "duration": 14,
    "start_time": "2021-11-17T19:22:54.981Z"
   },
   {
    "duration": 7,
    "start_time": "2021-11-17T19:23:05.713Z"
   },
   {
    "duration": 582,
    "start_time": "2021-11-17T19:23:06.882Z"
   },
   {
    "duration": 10,
    "start_time": "2021-11-17T19:23:12.824Z"
   },
   {
    "duration": 18,
    "start_time": "2021-11-17T19:24:04.262Z"
   },
   {
    "duration": 12,
    "start_time": "2021-11-17T19:24:09.856Z"
   },
   {
    "duration": 6,
    "start_time": "2021-11-17T19:25:19.166Z"
   },
   {
    "duration": 5,
    "start_time": "2021-11-17T19:26:10.155Z"
   },
   {
    "duration": 571,
    "start_time": "2021-11-17T19:26:11.253Z"
   },
   {
    "duration": 12,
    "start_time": "2021-11-17T19:26:17.681Z"
   },
   {
    "duration": 8,
    "start_time": "2021-11-17T19:30:00.278Z"
   },
   {
    "duration": 104,
    "start_time": "2021-11-17T19:30:01.786Z"
   },
   {
    "duration": 9,
    "start_time": "2021-11-17T19:30:08.053Z"
   },
   {
    "duration": 5,
    "start_time": "2021-11-17T19:31:49.621Z"
   },
   {
    "duration": 421,
    "start_time": "2021-11-17T19:31:51.160Z"
   },
   {
    "duration": 5,
    "start_time": "2021-11-17T19:32:28.849Z"
   },
   {
    "duration": 421,
    "start_time": "2021-11-17T19:32:30.009Z"
   },
   {
    "duration": 4,
    "start_time": "2021-11-17T19:33:00.049Z"
   },
   {
    "duration": 95,
    "start_time": "2021-11-17T19:33:01.341Z"
   },
   {
    "duration": 9,
    "start_time": "2021-11-17T19:33:07.669Z"
   },
   {
    "duration": 6,
    "start_time": "2021-11-17T19:33:09.218Z"
   },
   {
    "duration": 5,
    "start_time": "2021-11-17T19:34:14.563Z"
   },
   {
    "duration": 78,
    "start_time": "2021-11-17T19:34:15.485Z"
   },
   {
    "duration": 10,
    "start_time": "2021-11-17T19:34:23.735Z"
   },
   {
    "duration": 6,
    "start_time": "2021-11-17T19:34:24.962Z"
   },
   {
    "duration": 5,
    "start_time": "2021-11-17T19:50:58.343Z"
   },
   {
    "duration": 75,
    "start_time": "2021-11-17T19:50:59.128Z"
   },
   {
    "duration": 327,
    "start_time": "2021-11-17T19:51:06.563Z"
   },
   {
    "duration": 4,
    "start_time": "2021-11-17T19:54:54.968Z"
   },
   {
    "duration": 59,
    "start_time": "2021-11-17T19:54:55.697Z"
   },
   {
    "duration": 10,
    "start_time": "2021-11-17T19:55:14.419Z"
   },
   {
    "duration": 5,
    "start_time": "2021-11-17T19:55:55.372Z"
   },
   {
    "duration": 398,
    "start_time": "2021-11-17T19:55:56.376Z"
   },
   {
    "duration": 5,
    "start_time": "2021-11-17T19:56:37.187Z"
   },
   {
    "duration": 57,
    "start_time": "2021-11-17T19:56:38.419Z"
   },
   {
    "duration": 10,
    "start_time": "2021-11-17T19:56:46.037Z"
   },
   {
    "duration": 14,
    "start_time": "2021-11-17T19:57:03.753Z"
   },
   {
    "duration": 10,
    "start_time": "2021-11-17T19:57:32.930Z"
   },
   {
    "duration": 6,
    "start_time": "2021-11-17T19:57:58.961Z"
   },
   {
    "duration": 61,
    "start_time": "2021-11-17T19:58:00.690Z"
   },
   {
    "duration": 11,
    "start_time": "2021-11-17T19:58:06.797Z"
   },
   {
    "duration": 5,
    "start_time": "2021-11-17T20:00:38.474Z"
   },
   {
    "duration": 400,
    "start_time": "2021-11-17T20:00:39.281Z"
   },
   {
    "duration": 5,
    "start_time": "2021-11-17T20:00:59.972Z"
   },
   {
    "duration": 443,
    "start_time": "2021-11-17T20:01:01.311Z"
   },
   {
    "duration": 5,
    "start_time": "2021-11-17T20:01:10.246Z"
   },
   {
    "duration": 83,
    "start_time": "2021-11-17T20:01:10.907Z"
   },
   {
    "duration": 16,
    "start_time": "2021-11-17T20:01:17.054Z"
   },
   {
    "duration": 6,
    "start_time": "2021-11-17T20:07:21.023Z"
   },
   {
    "duration": 403,
    "start_time": "2021-11-17T20:07:22.007Z"
   },
   {
    "duration": 8,
    "start_time": "2021-11-17T20:10:53.309Z"
   },
   {
    "duration": 955798,
    "start_time": "2021-11-17T20:10:54.783Z"
   },
   {
    "duration": 5,
    "start_time": "2021-11-17T20:32:02.164Z"
   },
   {
    "duration": 111,
    "start_time": "2021-11-17T20:32:03.303Z"
   },
   {
    "duration": 5,
    "start_time": "2021-11-17T20:32:20.360Z"
   },
   {
    "duration": 80,
    "start_time": "2021-11-17T20:32:21.230Z"
   },
   {
    "duration": 10,
    "start_time": "2021-11-17T20:32:50.374Z"
   },
   {
    "duration": 4,
    "start_time": "2021-11-17T20:34:03.588Z"
   },
   {
    "duration": 393,
    "start_time": "2021-11-17T20:34:04.707Z"
   },
   {
    "duration": 5,
    "start_time": "2021-11-17T20:34:25.969Z"
   },
   {
    "duration": 91,
    "start_time": "2021-11-17T20:34:26.657Z"
   },
   {
    "duration": 11,
    "start_time": "2021-11-17T20:34:31.054Z"
   },
   {
    "duration": 15,
    "start_time": "2021-11-17T20:34:40.182Z"
   },
   {
    "duration": 4,
    "start_time": "2021-11-17T20:35:08.357Z"
   },
   {
    "duration": 93,
    "start_time": "2021-11-17T20:35:09.629Z"
   },
   {
    "duration": 16,
    "start_time": "2021-11-17T20:35:14.753Z"
   },
   {
    "duration": 131,
    "start_time": "2021-11-17T20:35:45.658Z"
   },
   {
    "duration": 11,
    "start_time": "2021-11-17T20:36:15.200Z"
   },
   {
    "duration": 3,
    "start_time": "2021-11-17T20:37:15.614Z"
   },
   {
    "duration": 1949,
    "start_time": "2021-11-18T10:08:40.174Z"
   },
   {
    "duration": 8,
    "start_time": "2021-11-18T10:08:42.127Z"
   },
   {
    "duration": 9,
    "start_time": "2021-11-18T10:08:42.139Z"
   },
   {
    "duration": 9,
    "start_time": "2021-11-18T10:08:42.152Z"
   },
   {
    "duration": 49,
    "start_time": "2021-11-18T10:08:42.164Z"
   },
   {
    "duration": 40,
    "start_time": "2021-11-18T10:08:42.216Z"
   },
   {
    "duration": 34,
    "start_time": "2021-11-18T10:08:42.258Z"
   },
   {
    "duration": 5,
    "start_time": "2021-11-18T10:08:42.296Z"
   },
   {
    "duration": 113,
    "start_time": "2021-11-18T10:08:42.304Z"
   },
   {
    "duration": 9,
    "start_time": "2021-11-18T10:08:42.420Z"
   },
   {
    "duration": 23,
    "start_time": "2021-11-18T10:08:42.432Z"
   },
   {
    "duration": 46,
    "start_time": "2021-11-18T10:08:42.458Z"
   },
   {
    "duration": 5,
    "start_time": "2021-11-18T10:08:42.510Z"
   },
   {
    "duration": 14,
    "start_time": "2021-11-18T10:08:42.518Z"
   },
   {
    "duration": 12,
    "start_time": "2021-11-18T10:08:42.535Z"
   },
   {
    "duration": 50,
    "start_time": "2021-11-18T10:08:42.550Z"
   },
   {
    "duration": 7,
    "start_time": "2021-11-18T10:08:42.602Z"
   },
   {
    "duration": 15,
    "start_time": "2021-11-18T10:08:42.611Z"
   },
   {
    "duration": 8,
    "start_time": "2021-11-18T10:08:42.629Z"
   },
   {
    "duration": 11,
    "start_time": "2021-11-18T10:08:42.640Z"
   },
   {
    "duration": 179,
    "start_time": "2021-11-18T10:08:42.654Z"
   },
   {
    "duration": 1766,
    "start_time": "2021-11-18T10:13:44.016Z"
   },
   {
    "duration": 15,
    "start_time": "2021-11-18T10:13:45.785Z"
   },
   {
    "duration": 7,
    "start_time": "2021-11-18T10:13:45.804Z"
   },
   {
    "duration": 13,
    "start_time": "2021-11-18T10:13:45.814Z"
   },
   {
    "duration": 8,
    "start_time": "2021-11-18T10:13:45.830Z"
   },
   {
    "duration": 70,
    "start_time": "2021-11-18T10:13:45.841Z"
   },
   {
    "duration": 33,
    "start_time": "2021-11-18T10:13:45.914Z"
   },
   {
    "duration": 5,
    "start_time": "2021-11-18T10:13:45.951Z"
   },
   {
    "duration": 132,
    "start_time": "2021-11-18T10:13:45.959Z"
   },
   {
    "duration": 15,
    "start_time": "2021-11-18T10:13:46.094Z"
   },
   {
    "duration": 18,
    "start_time": "2021-11-18T10:13:46.112Z"
   },
   {
    "duration": 12,
    "start_time": "2021-11-18T10:13:46.133Z"
   },
   {
    "duration": 4,
    "start_time": "2021-11-18T10:13:46.148Z"
   },
   {
    "duration": 54,
    "start_time": "2021-11-18T10:13:46.155Z"
   },
   {
    "duration": 12,
    "start_time": "2021-11-18T10:13:46.212Z"
   },
   {
    "duration": 9,
    "start_time": "2021-11-18T10:13:46.226Z"
   },
   {
    "duration": 8,
    "start_time": "2021-11-18T10:13:46.238Z"
   },
   {
    "duration": 9,
    "start_time": "2021-11-18T10:13:46.248Z"
   },
   {
    "duration": 50,
    "start_time": "2021-11-18T10:13:46.259Z"
   },
   {
    "duration": 13,
    "start_time": "2021-11-18T10:13:46.311Z"
   },
   {
    "duration": 150,
    "start_time": "2021-11-18T10:13:46.326Z"
   },
   {
    "duration": 1593,
    "start_time": "2021-11-18T17:08:23.916Z"
   },
   {
    "duration": 7,
    "start_time": "2021-11-18T17:08:25.513Z"
   },
   {
    "duration": 18,
    "start_time": "2021-11-18T17:08:25.525Z"
   },
   {
    "duration": 22,
    "start_time": "2021-11-18T17:08:25.547Z"
   },
   {
    "duration": 15,
    "start_time": "2021-11-18T17:08:25.573Z"
   },
   {
    "duration": 41,
    "start_time": "2021-11-18T17:08:25.601Z"
   },
   {
    "duration": 34,
    "start_time": "2021-11-18T17:08:25.645Z"
   },
   {
    "duration": 8,
    "start_time": "2021-11-18T17:08:36.847Z"
   },
   {
    "duration": 5,
    "start_time": "2021-11-18T17:08:39.403Z"
   },
   {
    "duration": 94,
    "start_time": "2021-11-18T17:08:41.357Z"
   },
   {
    "duration": 17,
    "start_time": "2021-11-18T17:08:49.682Z"
   },
   {
    "duration": 9,
    "start_time": "2021-11-18T17:09:16.021Z"
   },
   {
    "duration": 12,
    "start_time": "2021-11-18T17:09:17.161Z"
   },
   {
    "duration": 12,
    "start_time": "2021-11-18T17:09:20.510Z"
   },
   {
    "duration": 5,
    "start_time": "2021-11-18T17:09:23.952Z"
   },
   {
    "duration": 11,
    "start_time": "2021-11-18T17:09:25.252Z"
   },
   {
    "duration": 13,
    "start_time": "2021-11-18T17:09:27.912Z"
   },
   {
    "duration": 113,
    "start_time": "2021-11-18T17:14:31.628Z"
   },
   {
    "duration": 5,
    "start_time": "2021-11-18T17:16:29.941Z"
   },
   {
    "duration": 560,
    "start_time": "2021-11-18T17:16:31.094Z"
   },
   {
    "duration": 5,
    "start_time": "2021-11-18T17:17:20.816Z"
   },
   {
    "duration": 408,
    "start_time": "2021-11-18T17:17:21.586Z"
   },
   {
    "duration": 163,
    "start_time": "2021-11-18T17:19:09.742Z"
   },
   {
    "duration": 4,
    "start_time": "2021-11-18T17:19:18.422Z"
   },
   {
    "duration": 88,
    "start_time": "2021-11-18T17:19:19.484Z"
   },
   {
    "duration": 10,
    "start_time": "2021-11-18T17:19:31.904Z"
   },
   {
    "duration": 6,
    "start_time": "2021-11-18T17:19:35.324Z"
   },
   {
    "duration": 109,
    "start_time": "2021-11-18T17:22:44.726Z"
   },
   {
    "duration": 5,
    "start_time": "2021-11-18T17:24:59.284Z"
   },
   {
    "duration": 59,
    "start_time": "2021-11-18T17:25:01.274Z"
   },
   {
    "duration": 9,
    "start_time": "2021-11-18T17:25:12.561Z"
   },
   {
    "duration": 5,
    "start_time": "2021-11-18T17:25:16.741Z"
   }
  ],
  "kernelspec": {
   "display_name": "Python 3",
   "language": "python",
   "name": "python3"
  },
  "language_info": {
   "codemirror_mode": {
    "name": "ipython",
    "version": 3
   },
   "file_extension": ".py",
   "mimetype": "text/x-python",
   "name": "python",
   "nbconvert_exporter": "python",
   "pygments_lexer": "ipython3",
   "version": "3.8.8"
  },
  "toc": {
   "base_numbering": 1,
   "nav_menu": {},
   "number_sections": true,
   "sideBar": true,
   "skip_h1_title": true,
   "title_cell": "Table of Contents",
   "title_sidebar": "Contents",
   "toc_cell": false,
   "toc_position": {},
   "toc_section_display": true,
   "toc_window_display": false
  }
 },
 "nbformat": 4,
 "nbformat_minor": 2
}
