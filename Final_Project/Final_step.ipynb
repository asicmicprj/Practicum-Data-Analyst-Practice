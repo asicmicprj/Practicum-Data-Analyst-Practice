{
 "cells": [
  {
   "cell_type": "markdown",
   "metadata": {},
   "source": [
    "# Table of contents"
   ]
  },
  {
   "cell_type": "markdown",
   "metadata": {},
   "source": [
    "1. [Project Description](#ProjectDescription)\n",
    "2. [Decomposition Plan](#Decomposition)\n",
    "3. [General Info](#GeneralInfo)\n",
    "4. [Part 1: Data Preprocessing ](#Preprocessing)\n",
    "5. [Part 2: Exploratory Data Analysis](#EDA)\n",
    "6. [Part 3: Test Hypothesis](#Hypo)"
   ]
  },
  {
   "cell_type": "markdown",
   "metadata": {},
   "source": [
    "### Project Description. <a name=\"ProjectDescription\"></a>"
   ]
  },
  {
   "cell_type": "markdown",
   "metadata": {},
   "source": [
    "|  Name  |  Description  |\n",
    "| :----: |  :---- |\n",
    "|  **Initial conditions**  | Assess the performance of the chain's sales outlets.                  | \n",
    "|  **What we have**        | The dataset contains data on purchases made at the building-material retailer Home World. All of its customers have membership cards. Moreover, they can become members of the store's loyalty program for $20 per month. The program includes discounts, information on special offers, and gifts.                                    |\n",
    "|  **Main question of project**  |                                |\n",
    "| **Project Description**  | [Link to Project Description](https://www.notion.so/Retail-Assess-Sales-Outlets-Performance-cbef7601d1ab4e8b927953bb58ad4aee)    |\n",
    "| **Datasets**             | [/datasets/visits_log_us.csv](https://www.notion.so/917c9e5d334e4a148ed02a75b1b79b45?v=0bad2c8da42942c2b2fb781b523034d3&p=cbef7601d1ab4e8b927953bb58ad4aee)  |\n",
    "|                          | [/datasets/orders_log_us.csv]()  |\n",
    "|                          | [/datasets/costs_us.csv]()            |"
   ]
  },
  {
   "cell_type": "markdown",
   "metadata": {},
   "source": [
    "### Decomposition Plan. <a name=\"Decomposition\"></a>"
   ]
  },
  {
   "cell_type": "markdown",
   "metadata": {},
   "source": [
    "> * Data Preprocessing"
   ]
  },
  {
   "cell_type": "markdown",
   "metadata": {},
   "source": [
    " - Check missing values in dataset\n",
    " - Change data types: \n",
    "   - convert date to datetime.\n",
    "   - change type of ID from float to integer.\n",
    " - Looking for duplicates\n",
    " - Categorising data"
   ]
  },
  {
   "cell_type": "markdown",
   "metadata": {},
   "source": [
    "> * Carry out exploratory data analysis"
   ]
  },
  {
   "cell_type": "markdown",
   "metadata": {},
   "source": [
    " - Check the quality of the data.\n",
    " - Evaluate and modify the structure of data.\n",
    " - Analyze categorical data\n",
    " - Look for relationships and patterns.\n",
    " - Summarize the data."
   ]
  },
  {
   "cell_type": "markdown",
   "metadata": {},
   "source": [
    "> * Assess the performance of the sales outlets"
   ]
  },
  {
   "cell_type": "markdown",
   "metadata": {},
   "source": [
    "- Cohort Analysis\n",
    "- Calculate LTV\n",
    "- Calculate ROI\n"
   ]
  },
  {
   "cell_type": "markdown",
   "metadata": {},
   "source": [
    "> * Test statistical hypotheses"
   ]
  },
  {
   "cell_type": "markdown",
   "metadata": {},
   "source": [
    "### General Info <a name=\"GeneralInfo\"></a>"
   ]
  },
  {
   "cell_type": "code",
   "execution_count": 1,
   "metadata": {},
   "outputs": [],
   "source": [
    "# functions definitions:\n",
    "# function to determine if columns in file have null values:\n",
    "def get_percent_of_na(df, num):\n",
    "    '''Function count percentage of missing values'''\n",
    "    count = 0; # first reset counter.\n",
    "    df = df.copy() # copy dataframe in new structure.\n",
    "    amount = (df.isna().sum() / df.shape[0])\n",
    "    \n",
    "    for column, percent in zip(amount.index, amount.values):\n",
    "        num_of_nulls = df[column].isna().sum()\n",
    "        if num_of_nulls == 0:\n",
    "            continue\n",
    "        else:\n",
    "            count += 1\n",
    "        print('Column {} has {:.{}%} percent of Nulls, and {} of nulls'.format(column, percent, num, num_of_nulls))\n",
    "        \n",
    "    if count != 0:\n",
    "        print('\\033[1m' + 'There are {} columns with NA.'.format(count) + '\\033[0m')\n",
    "    else: \n",
    "        print()\n",
    "        print('\\033[1m' + 'There are no columns with NA.' + '\\033[0m')\n",
    "\n",
    "def get_percent_of_na_table(df, num):\n",
    "    '''Function convert value to percentage'''\n",
    "    df_nulls = pd.DataFrame(df.isna().sum(), columns=['Missing Values'])\n",
    "    df_nulls['Percent of Nulls'] = round(df_nulls['Missing Values'] / df.shape[0], num) * 100\n",
    "    return df_nulls\n",
    "\n",
    "def get_info(df):\n",
    "    '''Function to display helpfull information about each file.'''\n",
    "    print('Head:')\n",
    "    display(df.head())\n",
    "    print('-'*110)\n",
    "    \n",
    "    print('Info:')\n",
    "    display(df.info())\n",
    "    print('-'*110)\n",
    "    \n",
    "    print('Describe:')\n",
    "    display(df.describe())\n",
    "    display(df.describe(include=['category', 'object', 'float64']))\n",
    "    print('-'*110)\n",
    "    \n",
    "    print('Percent of columns with nulls:')\n",
    "    display(get_percent_of_na_table(df, 2))\n",
    "    print('-'*110)\n",
    "    \n",
    "    print('Shape:')\n",
    "    print(df.shape)\n",
    "    print('-'*110)\n",
    "    \n",
    "    print('Duplicated:')\n",
    "    print('\\033[1m' + 'We have {} duplicated rows. \\n'.format(df.duplicated().sum()) + '\\033[0m')\n",
    "    print('/'*110)\n",
    "\n",
    "def get_info_date(df, column):\n",
    "    df['date']  = df[column].dt.date\n",
    "    df['week']  = df[column].astype('datetime64[W]')\n",
    "    df['month'] = df[column].astype('datetime64[M]')\n",
    "    df['year']  = df[column].astype('datetime64[Y]')\n",
    "    return df\n",
    "\n",
    "def plot_monthly_weekly_user_activity(df, title, col_1):\n",
    "    mau_total = df.groupby(['year', col_1]).agg({'CustomerID':'nunique'}).reset_index()\n",
    "    plt.figure(figsize=(16,5))\n",
    "    plt.plot(mau_total[col_1], mau_total['CustomerID'])\n",
    "    plt.title(title)\n",
    "    plt.xlabel('Time')\n",
    "    plt.ylabel('Users')\n",
    "    plt.show()\n",
    "\n",
    "def plot_daily_user_activity(df, title):\n",
    "    dau_total = df.groupby('date').agg({'CustomerID':'nunique'}).reset_index()\n",
    "    plt.figure(figsize=(16,5))\n",
    "    plt.plot(dau_total['date'], dau_total['CustomerID'])\n",
    "    plt.title(title)\n",
    "    plt.xlabel('Time')\n",
    "    plt.ylabel('Users')\n",
    "    plt.show()\n",
    "\n",
    "# for calculate number of time active uses implement function:\n",
    "def total(df, time_1, time_2, uid, filtr):\n",
    "    total = (\n",
    "    df.groupby([time_1, time_2])\n",
    "    .agg({uid:filtr})\n",
    "    .mean()\n",
    "    .astype('int64')\n",
    "    .values\n",
    "    )\n",
    "    return total\n",
    "\n",
    "def draw_barplot(col1, col2, df, title, ylabel, xlabel, degree):\n",
    "    sns.set(style='dark')\n",
    "    sns.set_style(\"whitegrid\")\n",
    "    plt.figure(figsize=(16,8))\n",
    "    ax = sns.barplot(x=col1, y=col2, data=df)\n",
    "    plt.locs, labels = plt.xticks()\n",
    "    #plt.yticks(np.arange(160, 640, step=20))\n",
    "    plt.setp(labels, rotation=degree)\n",
    "    plt.title(title)\n",
    "    plt.ylabel(ylabel)\n",
    "    plt.xlabel(xlabel)\n",
    "    plt.show()\n",
    "\n",
    "def draw_2_plots(df, col_x, col_y_1, col_y_2, title, ylabel, xlabel):\n",
    "    df.plot(x=col_x, y=[col_y_1, col_y_2], kind=\"bar\",figsize=(16,8))\n",
    "    plt.title(title)\n",
    "    plt.ylabel(ylabel)\n",
    "    plt.xlabel(xlabel)\n",
    "    plt.show()\n",
    "\n",
    "def draw_plot(df, col_1, col_2, title, xlabel, ylabel):\n",
    "    plt.figure(figsize=(16,5))\n",
    "    plt.plot(df[col_1], df[col_2])\n",
    "    plt.title(title)\n",
    "    plt.xlabel(xlabel)\n",
    "    plt.ylabel(ylabel)\n",
    "    plt.show()\n",
    "\n",
    "def plot_dist(df, col, title, ylabel, xlabel):\n",
    "    sns.set(style='dark')\n",
    "    sns.set_style(\"whitegrid\")\n",
    "    sns.set(rc={\"figure.figsize\": (16, 8)})\n",
    "    ax = sns.distplot(df[col], bins=30, kde=True)\n",
    "    plt.title(title)\n",
    "    plt.ylabel(ylabel)\n",
    "    plt.xlabel(xlabel)\n",
    "    plt.xlim(-15000, 15000)\n",
    "    plt.ylim(0, 0.0005)\n",
    "    plt.show()\n",
    "\n",
    "def draw_outliers(df, col1, col2):\n",
    "    x_values = pd.Series(range(0,len(merged['revenue'])))\n",
    "    plt.figure(figsize=[16,8])\n",
    "    sns.scatterplot(data=df, x=x_values, y=df[col1], hue=col2)\n",
    "    plt.grid(True)\n",
    "    plt.title('Scatter chart of order prices')\n",
    "    plt.ylabel('Revenue, $')\n",
    "    plt.xlabel('Number of purchases')\n",
    "    #plt.yticks(np.arange(0, 21000, step=1000))\n",
    "    plt.show()    \n",
    "\n",
    "def draw_bar(col1, col2, df, title, ylabel, xlabel, degree):\n",
    "    sns.set(style='dark')\n",
    "    sns.set_style(\"whitegrid\")\n",
    "    plt.figure(figsize=(16,8))\n",
    "    ax = sns.barplot(x=col1, y=col2, data=df)\n",
    "    plt.locs, labels = plt.xticks()\n",
    "    #plt.yticks(np.arange(160, 640, step=20))\n",
    "    plt.setp(labels, rotation=degree)\n",
    "    plt.title(title)\n",
    "    plt.ylabel(ylabel)\n",
    "    plt.xlabel(xlabel)\n",
    "    plt.show()"
   ]
  },
  {
   "cell_type": "code",
   "execution_count": 2,
   "metadata": {},
   "outputs": [],
   "source": [
    "# import all packages\n",
    "import pandas as pd\n",
    "import numpy as np\n",
    "\n",
    "import scipy.stats as stats\n",
    "import matplotlib.pyplot as plt\n",
    "import matplotlib.patches as mpatches\n",
    "import seaborn as sns\n",
    "\n",
    "%matplotlib inline"
   ]
  },
  {
   "cell_type": "code",
   "execution_count": 3,
   "metadata": {},
   "outputs": [
    {
     "name": "stdout",
     "output_type": "stream",
     "text": [
      "Pandas version library: 0.25.1\n",
      "Numpy version library: 1.18.5\n",
      "Seaborn version library: 0.9.0\n"
     ]
    }
   ],
   "source": [
    "print('Pandas version library:',pd.__version__)\n",
    "print('Numpy version library:', np.__version__)\n",
    "print('Seaborn version library:', sns.__version__)\n",
    "# print('Anaconda version package:', sys.version)"
   ]
  },
  {
   "cell_type": "code",
   "execution_count": 4,
   "metadata": {},
   "outputs": [],
   "source": [
    "try:\n",
    "    df_retail = pd.read_csv('./datasets/retail_dataset_us.csv', parse_dates=['purchasedate'])\n",
    "    df_products = pd.read_csv('./datasets/product_codes_us.csv', sep=';')\n",
    "except:\n",
    "    df_retail = pd.read_csv('https://www.notion.so/917c9e5d334e4a148ed02a75b1b79b45?v=0bad2c8da42942c2b2fb781b523034d3&p=cbef7601d1ab4e8b927953bb58ad4aee', parse_dates=['purchasedate'])\n",
    "    df_products = pd.read_csv('https://www.notion.so/917c9e5d334e4a148ed02a75b1b79b45?v=0bad2c8da42942c2b2fb781b523034d3&p=cbef7601d1ab4e8b927953bb58ad4aee', sep=';')"
   ]
  },
  {
   "cell_type": "code",
   "execution_count": 5,
   "metadata": {},
   "outputs": [
    {
     "name": "stdout",
     "output_type": "stream",
     "text": [
      "Head:\n"
     ]
    },
    {
     "data": {
      "text/html": [
       "<div>\n",
       "<style scoped>\n",
       "    .dataframe tbody tr th:only-of-type {\n",
       "        vertical-align: middle;\n",
       "    }\n",
       "\n",
       "    .dataframe tbody tr th {\n",
       "        vertical-align: top;\n",
       "    }\n",
       "\n",
       "    .dataframe thead th {\n",
       "        text-align: right;\n",
       "    }\n",
       "</style>\n",
       "<table border=\"1\" class=\"dataframe\">\n",
       "  <thead>\n",
       "    <tr style=\"text-align: right;\">\n",
       "      <th></th>\n",
       "      <th>purchaseid</th>\n",
       "      <th>item_ID</th>\n",
       "      <th>Quantity</th>\n",
       "      <th>purchasedate</th>\n",
       "      <th>CustomerID</th>\n",
       "      <th>loyalty_program</th>\n",
       "      <th>ShopID</th>\n",
       "    </tr>\n",
       "  </thead>\n",
       "  <tbody>\n",
       "    <tr>\n",
       "      <td>0</td>\n",
       "      <td>538280</td>\n",
       "      <td>21873</td>\n",
       "      <td>11</td>\n",
       "      <td>2016-12-10 12:50:00</td>\n",
       "      <td>18427.0</td>\n",
       "      <td>0</td>\n",
       "      <td>Shop 3</td>\n",
       "    </tr>\n",
       "    <tr>\n",
       "      <td>1</td>\n",
       "      <td>538862</td>\n",
       "      <td>22195</td>\n",
       "      <td>0</td>\n",
       "      <td>2016-12-14 14:11:00</td>\n",
       "      <td>22389.0</td>\n",
       "      <td>1</td>\n",
       "      <td>Shop 2</td>\n",
       "    </tr>\n",
       "    <tr>\n",
       "      <td>2</td>\n",
       "      <td>538855</td>\n",
       "      <td>21239</td>\n",
       "      <td>7</td>\n",
       "      <td>2016-12-14 13:50:00</td>\n",
       "      <td>22182.0</td>\n",
       "      <td>1</td>\n",
       "      <td>Shop 3</td>\n",
       "    </tr>\n",
       "    <tr>\n",
       "      <td>3</td>\n",
       "      <td>543543</td>\n",
       "      <td>22271</td>\n",
       "      <td>0</td>\n",
       "      <td>2017-02-09 15:33:00</td>\n",
       "      <td>23522.0</td>\n",
       "      <td>1</td>\n",
       "      <td>Shop 28</td>\n",
       "    </tr>\n",
       "    <tr>\n",
       "      <td>4</td>\n",
       "      <td>543812</td>\n",
       "      <td>79321</td>\n",
       "      <td>0</td>\n",
       "      <td>2017-02-13 14:40:00</td>\n",
       "      <td>23151.0</td>\n",
       "      <td>1</td>\n",
       "      <td>Shop 28</td>\n",
       "    </tr>\n",
       "  </tbody>\n",
       "</table>\n",
       "</div>"
      ],
      "text/plain": [
       "  purchaseid item_ID  Quantity        purchasedate  CustomerID  \\\n",
       "0     538280   21873        11 2016-12-10 12:50:00     18427.0   \n",
       "1     538862   22195         0 2016-12-14 14:11:00     22389.0   \n",
       "2     538855   21239         7 2016-12-14 13:50:00     22182.0   \n",
       "3     543543   22271         0 2017-02-09 15:33:00     23522.0   \n",
       "4     543812   79321         0 2017-02-13 14:40:00     23151.0   \n",
       "\n",
       "   loyalty_program   ShopID  \n",
       "0                0   Shop 3  \n",
       "1                1   Shop 2  \n",
       "2                1   Shop 3  \n",
       "3                1  Shop 28  \n",
       "4                1  Shop 28  "
      ]
     },
     "metadata": {},
     "output_type": "display_data"
    },
    {
     "name": "stdout",
     "output_type": "stream",
     "text": [
      "--------------------------------------------------------------------------------------------------------------\n",
      "Info:\n",
      "<class 'pandas.core.frame.DataFrame'>\n",
      "RangeIndex: 105335 entries, 0 to 105334\n",
      "Data columns (total 7 columns):\n",
      "purchaseid         105335 non-null object\n",
      "item_ID            105335 non-null object\n",
      "Quantity           105335 non-null int64\n",
      "purchasedate       105335 non-null datetime64[ns]\n",
      "CustomerID         69125 non-null float64\n",
      "loyalty_program    105335 non-null int64\n",
      "ShopID             105335 non-null object\n",
      "dtypes: datetime64[ns](1), float64(1), int64(2), object(3)\n",
      "memory usage: 5.6+ MB\n"
     ]
    },
    {
     "data": {
      "text/plain": [
       "None"
      ]
     },
     "metadata": {},
     "output_type": "display_data"
    },
    {
     "name": "stdout",
     "output_type": "stream",
     "text": [
      "--------------------------------------------------------------------------------------------------------------\n",
      "Describe:\n"
     ]
    },
    {
     "data": {
      "text/html": [
       "<div>\n",
       "<style scoped>\n",
       "    .dataframe tbody tr th:only-of-type {\n",
       "        vertical-align: middle;\n",
       "    }\n",
       "\n",
       "    .dataframe tbody tr th {\n",
       "        vertical-align: top;\n",
       "    }\n",
       "\n",
       "    .dataframe thead th {\n",
       "        text-align: right;\n",
       "    }\n",
       "</style>\n",
       "<table border=\"1\" class=\"dataframe\">\n",
       "  <thead>\n",
       "    <tr style=\"text-align: right;\">\n",
       "      <th></th>\n",
       "      <th>Quantity</th>\n",
       "      <th>CustomerID</th>\n",
       "      <th>loyalty_program</th>\n",
       "    </tr>\n",
       "  </thead>\n",
       "  <tbody>\n",
       "    <tr>\n",
       "      <td>count</td>\n",
       "      <td>105335.000000</td>\n",
       "      <td>69125.000000</td>\n",
       "      <td>105335.000000</td>\n",
       "    </tr>\n",
       "    <tr>\n",
       "      <td>mean</td>\n",
       "      <td>7.821218</td>\n",
       "      <td>21019.302047</td>\n",
       "      <td>0.226345</td>\n",
       "    </tr>\n",
       "    <tr>\n",
       "      <td>std</td>\n",
       "      <td>327.946695</td>\n",
       "      <td>1765.444679</td>\n",
       "      <td>0.418467</td>\n",
       "    </tr>\n",
       "    <tr>\n",
       "      <td>min</td>\n",
       "      <td>-74216.000000</td>\n",
       "      <td>18025.000000</td>\n",
       "      <td>0.000000</td>\n",
       "    </tr>\n",
       "    <tr>\n",
       "      <td>25%</td>\n",
       "      <td>0.000000</td>\n",
       "      <td>19544.000000</td>\n",
       "      <td>0.000000</td>\n",
       "    </tr>\n",
       "    <tr>\n",
       "      <td>50%</td>\n",
       "      <td>2.000000</td>\n",
       "      <td>20990.000000</td>\n",
       "      <td>0.000000</td>\n",
       "    </tr>\n",
       "    <tr>\n",
       "      <td>75%</td>\n",
       "      <td>7.000000</td>\n",
       "      <td>22659.000000</td>\n",
       "      <td>0.000000</td>\n",
       "    </tr>\n",
       "    <tr>\n",
       "      <td>max</td>\n",
       "      <td>74214.000000</td>\n",
       "      <td>23962.000000</td>\n",
       "      <td>1.000000</td>\n",
       "    </tr>\n",
       "  </tbody>\n",
       "</table>\n",
       "</div>"
      ],
      "text/plain": [
       "            Quantity    CustomerID  loyalty_program\n",
       "count  105335.000000  69125.000000    105335.000000\n",
       "mean        7.821218  21019.302047         0.226345\n",
       "std       327.946695   1765.444679         0.418467\n",
       "min    -74216.000000  18025.000000         0.000000\n",
       "25%         0.000000  19544.000000         0.000000\n",
       "50%         2.000000  20990.000000         0.000000\n",
       "75%         7.000000  22659.000000         0.000000\n",
       "max     74214.000000  23962.000000         1.000000"
      ]
     },
     "metadata": {},
     "output_type": "display_data"
    },
    {
     "data": {
      "text/html": [
       "<div>\n",
       "<style scoped>\n",
       "    .dataframe tbody tr th:only-of-type {\n",
       "        vertical-align: middle;\n",
       "    }\n",
       "\n",
       "    .dataframe tbody tr th {\n",
       "        vertical-align: top;\n",
       "    }\n",
       "\n",
       "    .dataframe thead th {\n",
       "        text-align: right;\n",
       "    }\n",
       "</style>\n",
       "<table border=\"1\" class=\"dataframe\">\n",
       "  <thead>\n",
       "    <tr style=\"text-align: right;\">\n",
       "      <th></th>\n",
       "      <th>purchaseid</th>\n",
       "      <th>item_ID</th>\n",
       "      <th>CustomerID</th>\n",
       "      <th>ShopID</th>\n",
       "    </tr>\n",
       "  </thead>\n",
       "  <tbody>\n",
       "    <tr>\n",
       "      <td>count</td>\n",
       "      <td>105335</td>\n",
       "      <td>105335</td>\n",
       "      <td>69125.000000</td>\n",
       "      <td>105335</td>\n",
       "    </tr>\n",
       "    <tr>\n",
       "      <td>unique</td>\n",
       "      <td>4894</td>\n",
       "      <td>3159</td>\n",
       "      <td>NaN</td>\n",
       "      <td>31</td>\n",
       "    </tr>\n",
       "    <tr>\n",
       "      <td>top</td>\n",
       "      <td>537434</td>\n",
       "      <td>85123A</td>\n",
       "      <td>NaN</td>\n",
       "      <td>Shop 0</td>\n",
       "    </tr>\n",
       "    <tr>\n",
       "      <td>freq</td>\n",
       "      <td>675</td>\n",
       "      <td>565</td>\n",
       "      <td>NaN</td>\n",
       "      <td>38389</td>\n",
       "    </tr>\n",
       "    <tr>\n",
       "      <td>mean</td>\n",
       "      <td>NaN</td>\n",
       "      <td>NaN</td>\n",
       "      <td>21019.302047</td>\n",
       "      <td>NaN</td>\n",
       "    </tr>\n",
       "    <tr>\n",
       "      <td>std</td>\n",
       "      <td>NaN</td>\n",
       "      <td>NaN</td>\n",
       "      <td>1765.444679</td>\n",
       "      <td>NaN</td>\n",
       "    </tr>\n",
       "    <tr>\n",
       "      <td>min</td>\n",
       "      <td>NaN</td>\n",
       "      <td>NaN</td>\n",
       "      <td>18025.000000</td>\n",
       "      <td>NaN</td>\n",
       "    </tr>\n",
       "    <tr>\n",
       "      <td>25%</td>\n",
       "      <td>NaN</td>\n",
       "      <td>NaN</td>\n",
       "      <td>19544.000000</td>\n",
       "      <td>NaN</td>\n",
       "    </tr>\n",
       "    <tr>\n",
       "      <td>50%</td>\n",
       "      <td>NaN</td>\n",
       "      <td>NaN</td>\n",
       "      <td>20990.000000</td>\n",
       "      <td>NaN</td>\n",
       "    </tr>\n",
       "    <tr>\n",
       "      <td>75%</td>\n",
       "      <td>NaN</td>\n",
       "      <td>NaN</td>\n",
       "      <td>22659.000000</td>\n",
       "      <td>NaN</td>\n",
       "    </tr>\n",
       "    <tr>\n",
       "      <td>max</td>\n",
       "      <td>NaN</td>\n",
       "      <td>NaN</td>\n",
       "      <td>23962.000000</td>\n",
       "      <td>NaN</td>\n",
       "    </tr>\n",
       "  </tbody>\n",
       "</table>\n",
       "</div>"
      ],
      "text/plain": [
       "       purchaseid item_ID    CustomerID  ShopID\n",
       "count      105335  105335  69125.000000  105335\n",
       "unique       4894    3159           NaN      31\n",
       "top        537434  85123A           NaN  Shop 0\n",
       "freq          675     565           NaN   38389\n",
       "mean          NaN     NaN  21019.302047     NaN\n",
       "std           NaN     NaN   1765.444679     NaN\n",
       "min           NaN     NaN  18025.000000     NaN\n",
       "25%           NaN     NaN  19544.000000     NaN\n",
       "50%           NaN     NaN  20990.000000     NaN\n",
       "75%           NaN     NaN  22659.000000     NaN\n",
       "max           NaN     NaN  23962.000000     NaN"
      ]
     },
     "metadata": {},
     "output_type": "display_data"
    },
    {
     "name": "stdout",
     "output_type": "stream",
     "text": [
      "--------------------------------------------------------------------------------------------------------------\n",
      "Percent of columns with nulls:\n"
     ]
    },
    {
     "data": {
      "text/html": [
       "<div>\n",
       "<style scoped>\n",
       "    .dataframe tbody tr th:only-of-type {\n",
       "        vertical-align: middle;\n",
       "    }\n",
       "\n",
       "    .dataframe tbody tr th {\n",
       "        vertical-align: top;\n",
       "    }\n",
       "\n",
       "    .dataframe thead th {\n",
       "        text-align: right;\n",
       "    }\n",
       "</style>\n",
       "<table border=\"1\" class=\"dataframe\">\n",
       "  <thead>\n",
       "    <tr style=\"text-align: right;\">\n",
       "      <th></th>\n",
       "      <th>Missing Values</th>\n",
       "      <th>Percent of Nulls</th>\n",
       "    </tr>\n",
       "  </thead>\n",
       "  <tbody>\n",
       "    <tr>\n",
       "      <td>purchaseid</td>\n",
       "      <td>0</td>\n",
       "      <td>0.0</td>\n",
       "    </tr>\n",
       "    <tr>\n",
       "      <td>item_ID</td>\n",
       "      <td>0</td>\n",
       "      <td>0.0</td>\n",
       "    </tr>\n",
       "    <tr>\n",
       "      <td>Quantity</td>\n",
       "      <td>0</td>\n",
       "      <td>0.0</td>\n",
       "    </tr>\n",
       "    <tr>\n",
       "      <td>purchasedate</td>\n",
       "      <td>0</td>\n",
       "      <td>0.0</td>\n",
       "    </tr>\n",
       "    <tr>\n",
       "      <td>CustomerID</td>\n",
       "      <td>36210</td>\n",
       "      <td>34.0</td>\n",
       "    </tr>\n",
       "    <tr>\n",
       "      <td>loyalty_program</td>\n",
       "      <td>0</td>\n",
       "      <td>0.0</td>\n",
       "    </tr>\n",
       "    <tr>\n",
       "      <td>ShopID</td>\n",
       "      <td>0</td>\n",
       "      <td>0.0</td>\n",
       "    </tr>\n",
       "  </tbody>\n",
       "</table>\n",
       "</div>"
      ],
      "text/plain": [
       "                 Missing Values  Percent of Nulls\n",
       "purchaseid                    0               0.0\n",
       "item_ID                       0               0.0\n",
       "Quantity                      0               0.0\n",
       "purchasedate                  0               0.0\n",
       "CustomerID                36210              34.0\n",
       "loyalty_program               0               0.0\n",
       "ShopID                        0               0.0"
      ]
     },
     "metadata": {},
     "output_type": "display_data"
    },
    {
     "name": "stdout",
     "output_type": "stream",
     "text": [
      "--------------------------------------------------------------------------------------------------------------\n",
      "Shape:\n",
      "(105335, 7)\n",
      "--------------------------------------------------------------------------------------------------------------\n",
      "Duplicated:\n",
      "\u001b[1mWe have 1033 duplicated rows. \n",
      "\u001b[0m\n",
      "//////////////////////////////////////////////////////////////////////////////////////////////////////////////\n",
      "Head:\n"
     ]
    },
    {
     "data": {
      "text/html": [
       "<div>\n",
       "<style scoped>\n",
       "    .dataframe tbody tr th:only-of-type {\n",
       "        vertical-align: middle;\n",
       "    }\n",
       "\n",
       "    .dataframe tbody tr th {\n",
       "        vertical-align: top;\n",
       "    }\n",
       "\n",
       "    .dataframe thead th {\n",
       "        text-align: right;\n",
       "    }\n",
       "</style>\n",
       "<table border=\"1\" class=\"dataframe\">\n",
       "  <thead>\n",
       "    <tr style=\"text-align: right;\">\n",
       "      <th></th>\n",
       "      <th>productID</th>\n",
       "      <th>price_per_one</th>\n",
       "    </tr>\n",
       "  </thead>\n",
       "  <tbody>\n",
       "    <tr>\n",
       "      <td>0</td>\n",
       "      <td>10002</td>\n",
       "      <td>0.85</td>\n",
       "    </tr>\n",
       "    <tr>\n",
       "      <td>1</td>\n",
       "      <td>10080</td>\n",
       "      <td>0.85</td>\n",
       "    </tr>\n",
       "    <tr>\n",
       "      <td>2</td>\n",
       "      <td>10120</td>\n",
       "      <td>0.21</td>\n",
       "    </tr>\n",
       "    <tr>\n",
       "      <td>3</td>\n",
       "      <td>10123C</td>\n",
       "      <td>0.65</td>\n",
       "    </tr>\n",
       "    <tr>\n",
       "      <td>4</td>\n",
       "      <td>10124A</td>\n",
       "      <td>0.42</td>\n",
       "    </tr>\n",
       "  </tbody>\n",
       "</table>\n",
       "</div>"
      ],
      "text/plain": [
       "  productID  price_per_one\n",
       "0     10002           0.85\n",
       "1     10080           0.85\n",
       "2     10120           0.21\n",
       "3    10123C           0.65\n",
       "4    10124A           0.42"
      ]
     },
     "metadata": {},
     "output_type": "display_data"
    },
    {
     "name": "stdout",
     "output_type": "stream",
     "text": [
      "--------------------------------------------------------------------------------------------------------------\n",
      "Info:\n",
      "<class 'pandas.core.frame.DataFrame'>\n",
      "RangeIndex: 3159 entries, 0 to 3158\n",
      "Data columns (total 2 columns):\n",
      "productID        3159 non-null object\n",
      "price_per_one    3159 non-null float64\n",
      "dtypes: float64(1), object(1)\n",
      "memory usage: 49.5+ KB\n"
     ]
    },
    {
     "data": {
      "text/plain": [
       "None"
      ]
     },
     "metadata": {},
     "output_type": "display_data"
    },
    {
     "name": "stdout",
     "output_type": "stream",
     "text": [
      "--------------------------------------------------------------------------------------------------------------\n",
      "Describe:\n"
     ]
    },
    {
     "data": {
      "text/html": [
       "<div>\n",
       "<style scoped>\n",
       "    .dataframe tbody tr th:only-of-type {\n",
       "        vertical-align: middle;\n",
       "    }\n",
       "\n",
       "    .dataframe tbody tr th {\n",
       "        vertical-align: top;\n",
       "    }\n",
       "\n",
       "    .dataframe thead th {\n",
       "        text-align: right;\n",
       "    }\n",
       "</style>\n",
       "<table border=\"1\" class=\"dataframe\">\n",
       "  <thead>\n",
       "    <tr style=\"text-align: right;\">\n",
       "      <th></th>\n",
       "      <th>price_per_one</th>\n",
       "    </tr>\n",
       "  </thead>\n",
       "  <tbody>\n",
       "    <tr>\n",
       "      <td>count</td>\n",
       "      <td>3159.000000</td>\n",
       "    </tr>\n",
       "    <tr>\n",
       "      <td>mean</td>\n",
       "      <td>2.954495</td>\n",
       "    </tr>\n",
       "    <tr>\n",
       "      <td>std</td>\n",
       "      <td>7.213808</td>\n",
       "    </tr>\n",
       "    <tr>\n",
       "      <td>min</td>\n",
       "      <td>0.000000</td>\n",
       "    </tr>\n",
       "    <tr>\n",
       "      <td>25%</td>\n",
       "      <td>0.650000</td>\n",
       "    </tr>\n",
       "    <tr>\n",
       "      <td>50%</td>\n",
       "      <td>1.450000</td>\n",
       "    </tr>\n",
       "    <tr>\n",
       "      <td>75%</td>\n",
       "      <td>3.290000</td>\n",
       "    </tr>\n",
       "    <tr>\n",
       "      <td>max</td>\n",
       "      <td>175.000000</td>\n",
       "    </tr>\n",
       "  </tbody>\n",
       "</table>\n",
       "</div>"
      ],
      "text/plain": [
       "       price_per_one\n",
       "count    3159.000000\n",
       "mean        2.954495\n",
       "std         7.213808\n",
       "min         0.000000\n",
       "25%         0.650000\n",
       "50%         1.450000\n",
       "75%         3.290000\n",
       "max       175.000000"
      ]
     },
     "metadata": {},
     "output_type": "display_data"
    },
    {
     "data": {
      "text/html": [
       "<div>\n",
       "<style scoped>\n",
       "    .dataframe tbody tr th:only-of-type {\n",
       "        vertical-align: middle;\n",
       "    }\n",
       "\n",
       "    .dataframe tbody tr th {\n",
       "        vertical-align: top;\n",
       "    }\n",
       "\n",
       "    .dataframe thead th {\n",
       "        text-align: right;\n",
       "    }\n",
       "</style>\n",
       "<table border=\"1\" class=\"dataframe\">\n",
       "  <thead>\n",
       "    <tr style=\"text-align: right;\">\n",
       "      <th></th>\n",
       "      <th>productID</th>\n",
       "      <th>price_per_one</th>\n",
       "    </tr>\n",
       "  </thead>\n",
       "  <tbody>\n",
       "    <tr>\n",
       "      <td>count</td>\n",
       "      <td>3159</td>\n",
       "      <td>3159.000000</td>\n",
       "    </tr>\n",
       "    <tr>\n",
       "      <td>unique</td>\n",
       "      <td>3159</td>\n",
       "      <td>NaN</td>\n",
       "    </tr>\n",
       "    <tr>\n",
       "      <td>top</td>\n",
       "      <td>22418</td>\n",
       "      <td>NaN</td>\n",
       "    </tr>\n",
       "    <tr>\n",
       "      <td>freq</td>\n",
       "      <td>1</td>\n",
       "      <td>NaN</td>\n",
       "    </tr>\n",
       "    <tr>\n",
       "      <td>mean</td>\n",
       "      <td>NaN</td>\n",
       "      <td>2.954495</td>\n",
       "    </tr>\n",
       "    <tr>\n",
       "      <td>std</td>\n",
       "      <td>NaN</td>\n",
       "      <td>7.213808</td>\n",
       "    </tr>\n",
       "    <tr>\n",
       "      <td>min</td>\n",
       "      <td>NaN</td>\n",
       "      <td>0.000000</td>\n",
       "    </tr>\n",
       "    <tr>\n",
       "      <td>25%</td>\n",
       "      <td>NaN</td>\n",
       "      <td>0.650000</td>\n",
       "    </tr>\n",
       "    <tr>\n",
       "      <td>50%</td>\n",
       "      <td>NaN</td>\n",
       "      <td>1.450000</td>\n",
       "    </tr>\n",
       "    <tr>\n",
       "      <td>75%</td>\n",
       "      <td>NaN</td>\n",
       "      <td>3.290000</td>\n",
       "    </tr>\n",
       "    <tr>\n",
       "      <td>max</td>\n",
       "      <td>NaN</td>\n",
       "      <td>175.000000</td>\n",
       "    </tr>\n",
       "  </tbody>\n",
       "</table>\n",
       "</div>"
      ],
      "text/plain": [
       "       productID  price_per_one\n",
       "count       3159    3159.000000\n",
       "unique      3159            NaN\n",
       "top        22418            NaN\n",
       "freq           1            NaN\n",
       "mean         NaN       2.954495\n",
       "std          NaN       7.213808\n",
       "min          NaN       0.000000\n",
       "25%          NaN       0.650000\n",
       "50%          NaN       1.450000\n",
       "75%          NaN       3.290000\n",
       "max          NaN     175.000000"
      ]
     },
     "metadata": {},
     "output_type": "display_data"
    },
    {
     "name": "stdout",
     "output_type": "stream",
     "text": [
      "--------------------------------------------------------------------------------------------------------------\n",
      "Percent of columns with nulls:\n"
     ]
    },
    {
     "data": {
      "text/html": [
       "<div>\n",
       "<style scoped>\n",
       "    .dataframe tbody tr th:only-of-type {\n",
       "        vertical-align: middle;\n",
       "    }\n",
       "\n",
       "    .dataframe tbody tr th {\n",
       "        vertical-align: top;\n",
       "    }\n",
       "\n",
       "    .dataframe thead th {\n",
       "        text-align: right;\n",
       "    }\n",
       "</style>\n",
       "<table border=\"1\" class=\"dataframe\">\n",
       "  <thead>\n",
       "    <tr style=\"text-align: right;\">\n",
       "      <th></th>\n",
       "      <th>Missing Values</th>\n",
       "      <th>Percent of Nulls</th>\n",
       "    </tr>\n",
       "  </thead>\n",
       "  <tbody>\n",
       "    <tr>\n",
       "      <td>productID</td>\n",
       "      <td>0</td>\n",
       "      <td>0.0</td>\n",
       "    </tr>\n",
       "    <tr>\n",
       "      <td>price_per_one</td>\n",
       "      <td>0</td>\n",
       "      <td>0.0</td>\n",
       "    </tr>\n",
       "  </tbody>\n",
       "</table>\n",
       "</div>"
      ],
      "text/plain": [
       "               Missing Values  Percent of Nulls\n",
       "productID                   0               0.0\n",
       "price_per_one               0               0.0"
      ]
     },
     "metadata": {},
     "output_type": "display_data"
    },
    {
     "name": "stdout",
     "output_type": "stream",
     "text": [
      "--------------------------------------------------------------------------------------------------------------\n",
      "Shape:\n",
      "(3159, 2)\n",
      "--------------------------------------------------------------------------------------------------------------\n",
      "Duplicated:\n",
      "\u001b[1mWe have 0 duplicated rows. \n",
      "\u001b[0m\n",
      "//////////////////////////////////////////////////////////////////////////////////////////////////////////////\n"
     ]
    }
   ],
   "source": [
    "get_info(df_retail)\n",
    "get_info(df_products)"
   ]
  },
  {
   "cell_type": "code",
   "execution_count": 6,
   "metadata": {},
   "outputs": [
    {
     "name": "stdout",
     "output_type": "stream",
     "text": [
      "<class 'pandas.core.frame.DataFrame'>\n",
      "RangeIndex: 3159 entries, 0 to 3158\n",
      "Data columns (total 2 columns):\n",
      "productID        3159 non-null object\n",
      "price_per_one    3159 non-null float64\n",
      "dtypes: float64(1), object(1)\n",
      "memory usage: 49.5+ KB\n"
     ]
    }
   ],
   "source": [
    "df_products.info()"
   ]
  },
  {
   "cell_type": "markdown",
   "metadata": {},
   "source": [
    "### Part 1: Data Preprocessing <a name=\"Preprocessing\"></a>"
   ]
  },
  {
   "cell_type": "code",
   "execution_count": 7,
   "metadata": {},
   "outputs": [],
   "source": [
    "df_retail = df_retail.astype(object).replace(np.nan, 'None')\n",
    "df_retail = df_retail.drop_duplicates()"
   ]
  },
  {
   "cell_type": "code",
   "execution_count": 8,
   "metadata": {},
   "outputs": [
    {
     "name": "stdout",
     "output_type": "stream",
     "text": [
      "Head:\n"
     ]
    },
    {
     "data": {
      "text/html": [
       "<div>\n",
       "<style scoped>\n",
       "    .dataframe tbody tr th:only-of-type {\n",
       "        vertical-align: middle;\n",
       "    }\n",
       "\n",
       "    .dataframe tbody tr th {\n",
       "        vertical-align: top;\n",
       "    }\n",
       "\n",
       "    .dataframe thead th {\n",
       "        text-align: right;\n",
       "    }\n",
       "</style>\n",
       "<table border=\"1\" class=\"dataframe\">\n",
       "  <thead>\n",
       "    <tr style=\"text-align: right;\">\n",
       "      <th></th>\n",
       "      <th>purchaseid</th>\n",
       "      <th>item_ID</th>\n",
       "      <th>Quantity</th>\n",
       "      <th>purchasedate</th>\n",
       "      <th>CustomerID</th>\n",
       "      <th>loyalty_program</th>\n",
       "      <th>ShopID</th>\n",
       "    </tr>\n",
       "  </thead>\n",
       "  <tbody>\n",
       "    <tr>\n",
       "      <td>0</td>\n",
       "      <td>538280</td>\n",
       "      <td>21873</td>\n",
       "      <td>11</td>\n",
       "      <td>2016-12-10 12:50:00</td>\n",
       "      <td>18427</td>\n",
       "      <td>0</td>\n",
       "      <td>Shop 3</td>\n",
       "    </tr>\n",
       "    <tr>\n",
       "      <td>1</td>\n",
       "      <td>538862</td>\n",
       "      <td>22195</td>\n",
       "      <td>0</td>\n",
       "      <td>2016-12-14 14:11:00</td>\n",
       "      <td>22389</td>\n",
       "      <td>1</td>\n",
       "      <td>Shop 2</td>\n",
       "    </tr>\n",
       "    <tr>\n",
       "      <td>2</td>\n",
       "      <td>538855</td>\n",
       "      <td>21239</td>\n",
       "      <td>7</td>\n",
       "      <td>2016-12-14 13:50:00</td>\n",
       "      <td>22182</td>\n",
       "      <td>1</td>\n",
       "      <td>Shop 3</td>\n",
       "    </tr>\n",
       "    <tr>\n",
       "      <td>3</td>\n",
       "      <td>543543</td>\n",
       "      <td>22271</td>\n",
       "      <td>0</td>\n",
       "      <td>2017-02-09 15:33:00</td>\n",
       "      <td>23522</td>\n",
       "      <td>1</td>\n",
       "      <td>Shop 28</td>\n",
       "    </tr>\n",
       "    <tr>\n",
       "      <td>4</td>\n",
       "      <td>543812</td>\n",
       "      <td>79321</td>\n",
       "      <td>0</td>\n",
       "      <td>2017-02-13 14:40:00</td>\n",
       "      <td>23151</td>\n",
       "      <td>1</td>\n",
       "      <td>Shop 28</td>\n",
       "    </tr>\n",
       "  </tbody>\n",
       "</table>\n",
       "</div>"
      ],
      "text/plain": [
       "  purchaseid item_ID  Quantity        purchasedate CustomerID  \\\n",
       "0     538280   21873        11 2016-12-10 12:50:00      18427   \n",
       "1     538862   22195         0 2016-12-14 14:11:00      22389   \n",
       "2     538855   21239         7 2016-12-14 13:50:00      22182   \n",
       "3     543543   22271         0 2017-02-09 15:33:00      23522   \n",
       "4     543812   79321         0 2017-02-13 14:40:00      23151   \n",
       "\n",
       "   loyalty_program   ShopID  \n",
       "0                0   Shop 3  \n",
       "1                1   Shop 2  \n",
       "2                1   Shop 3  \n",
       "3                1  Shop 28  \n",
       "4                1  Shop 28  "
      ]
     },
     "metadata": {},
     "output_type": "display_data"
    },
    {
     "name": "stdout",
     "output_type": "stream",
     "text": [
      "--------------------------------------------------------------------------------------------------------------\n",
      "Info:\n",
      "<class 'pandas.core.frame.DataFrame'>\n",
      "Int64Index: 104302 entries, 0 to 105334\n",
      "Data columns (total 7 columns):\n",
      "purchaseid         104302 non-null object\n",
      "item_ID            104302 non-null object\n",
      "Quantity           104302 non-null int64\n",
      "purchasedate       104302 non-null datetime64[ns]\n",
      "CustomerID         104302 non-null object\n",
      "loyalty_program    104302 non-null int64\n",
      "ShopID             104302 non-null object\n",
      "dtypes: datetime64[ns](1), int64(2), object(4)\n",
      "memory usage: 6.4+ MB\n"
     ]
    },
    {
     "data": {
      "text/plain": [
       "None"
      ]
     },
     "metadata": {},
     "output_type": "display_data"
    },
    {
     "name": "stdout",
     "output_type": "stream",
     "text": [
      "--------------------------------------------------------------------------------------------------------------\n",
      "Describe:\n"
     ]
    },
    {
     "data": {
      "text/html": [
       "<div>\n",
       "<style scoped>\n",
       "    .dataframe tbody tr th:only-of-type {\n",
       "        vertical-align: middle;\n",
       "    }\n",
       "\n",
       "    .dataframe tbody tr th {\n",
       "        vertical-align: top;\n",
       "    }\n",
       "\n",
       "    .dataframe thead th {\n",
       "        text-align: right;\n",
       "    }\n",
       "</style>\n",
       "<table border=\"1\" class=\"dataframe\">\n",
       "  <thead>\n",
       "    <tr style=\"text-align: right;\">\n",
       "      <th></th>\n",
       "      <th>Quantity</th>\n",
       "      <th>loyalty_program</th>\n",
       "    </tr>\n",
       "  </thead>\n",
       "  <tbody>\n",
       "    <tr>\n",
       "      <td>count</td>\n",
       "      <td>104302.000000</td>\n",
       "      <td>104302.000000</td>\n",
       "    </tr>\n",
       "    <tr>\n",
       "      <td>mean</td>\n",
       "      <td>7.883003</td>\n",
       "      <td>0.224464</td>\n",
       "    </tr>\n",
       "    <tr>\n",
       "      <td>std</td>\n",
       "      <td>329.565540</td>\n",
       "      <td>0.417231</td>\n",
       "    </tr>\n",
       "    <tr>\n",
       "      <td>min</td>\n",
       "      <td>-74216.000000</td>\n",
       "      <td>0.000000</td>\n",
       "    </tr>\n",
       "    <tr>\n",
       "      <td>25%</td>\n",
       "      <td>0.000000</td>\n",
       "      <td>0.000000</td>\n",
       "    </tr>\n",
       "    <tr>\n",
       "      <td>50%</td>\n",
       "      <td>2.000000</td>\n",
       "      <td>0.000000</td>\n",
       "    </tr>\n",
       "    <tr>\n",
       "      <td>75%</td>\n",
       "      <td>7.000000</td>\n",
       "      <td>0.000000</td>\n",
       "    </tr>\n",
       "    <tr>\n",
       "      <td>max</td>\n",
       "      <td>74214.000000</td>\n",
       "      <td>1.000000</td>\n",
       "    </tr>\n",
       "  </tbody>\n",
       "</table>\n",
       "</div>"
      ],
      "text/plain": [
       "            Quantity  loyalty_program\n",
       "count  104302.000000    104302.000000\n",
       "mean        7.883003         0.224464\n",
       "std       329.565540         0.417231\n",
       "min    -74216.000000         0.000000\n",
       "25%         0.000000         0.000000\n",
       "50%         2.000000         0.000000\n",
       "75%         7.000000         0.000000\n",
       "max     74214.000000         1.000000"
      ]
     },
     "metadata": {},
     "output_type": "display_data"
    },
    {
     "data": {
      "text/html": [
       "<div>\n",
       "<style scoped>\n",
       "    .dataframe tbody tr th:only-of-type {\n",
       "        vertical-align: middle;\n",
       "    }\n",
       "\n",
       "    .dataframe tbody tr th {\n",
       "        vertical-align: top;\n",
       "    }\n",
       "\n",
       "    .dataframe thead th {\n",
       "        text-align: right;\n",
       "    }\n",
       "</style>\n",
       "<table border=\"1\" class=\"dataframe\">\n",
       "  <thead>\n",
       "    <tr style=\"text-align: right;\">\n",
       "      <th></th>\n",
       "      <th>purchaseid</th>\n",
       "      <th>item_ID</th>\n",
       "      <th>CustomerID</th>\n",
       "      <th>ShopID</th>\n",
       "    </tr>\n",
       "  </thead>\n",
       "  <tbody>\n",
       "    <tr>\n",
       "      <td>count</td>\n",
       "      <td>104302</td>\n",
       "      <td>104302</td>\n",
       "      <td>104302</td>\n",
       "      <td>104302</td>\n",
       "    </tr>\n",
       "    <tr>\n",
       "      <td>unique</td>\n",
       "      <td>4894</td>\n",
       "      <td>3159</td>\n",
       "      <td>1750</td>\n",
       "      <td>31</td>\n",
       "    </tr>\n",
       "    <tr>\n",
       "      <td>top</td>\n",
       "      <td>537434</td>\n",
       "      <td>85123A</td>\n",
       "      <td>None</td>\n",
       "      <td>Shop 0</td>\n",
       "    </tr>\n",
       "    <tr>\n",
       "      <td>freq</td>\n",
       "      <td>675</td>\n",
       "      <td>561</td>\n",
       "      <td>36148</td>\n",
       "      <td>38303</td>\n",
       "    </tr>\n",
       "  </tbody>\n",
       "</table>\n",
       "</div>"
      ],
      "text/plain": [
       "       purchaseid item_ID CustomerID  ShopID\n",
       "count      104302  104302     104302  104302\n",
       "unique       4894    3159       1750      31\n",
       "top        537434  85123A       None  Shop 0\n",
       "freq          675     561      36148   38303"
      ]
     },
     "metadata": {},
     "output_type": "display_data"
    },
    {
     "name": "stdout",
     "output_type": "stream",
     "text": [
      "--------------------------------------------------------------------------------------------------------------\n",
      "Percent of columns with nulls:\n"
     ]
    },
    {
     "data": {
      "text/html": [
       "<div>\n",
       "<style scoped>\n",
       "    .dataframe tbody tr th:only-of-type {\n",
       "        vertical-align: middle;\n",
       "    }\n",
       "\n",
       "    .dataframe tbody tr th {\n",
       "        vertical-align: top;\n",
       "    }\n",
       "\n",
       "    .dataframe thead th {\n",
       "        text-align: right;\n",
       "    }\n",
       "</style>\n",
       "<table border=\"1\" class=\"dataframe\">\n",
       "  <thead>\n",
       "    <tr style=\"text-align: right;\">\n",
       "      <th></th>\n",
       "      <th>Missing Values</th>\n",
       "      <th>Percent of Nulls</th>\n",
       "    </tr>\n",
       "  </thead>\n",
       "  <tbody>\n",
       "    <tr>\n",
       "      <td>purchaseid</td>\n",
       "      <td>0</td>\n",
       "      <td>0.0</td>\n",
       "    </tr>\n",
       "    <tr>\n",
       "      <td>item_ID</td>\n",
       "      <td>0</td>\n",
       "      <td>0.0</td>\n",
       "    </tr>\n",
       "    <tr>\n",
       "      <td>Quantity</td>\n",
       "      <td>0</td>\n",
       "      <td>0.0</td>\n",
       "    </tr>\n",
       "    <tr>\n",
       "      <td>purchasedate</td>\n",
       "      <td>0</td>\n",
       "      <td>0.0</td>\n",
       "    </tr>\n",
       "    <tr>\n",
       "      <td>CustomerID</td>\n",
       "      <td>0</td>\n",
       "      <td>0.0</td>\n",
       "    </tr>\n",
       "    <tr>\n",
       "      <td>loyalty_program</td>\n",
       "      <td>0</td>\n",
       "      <td>0.0</td>\n",
       "    </tr>\n",
       "    <tr>\n",
       "      <td>ShopID</td>\n",
       "      <td>0</td>\n",
       "      <td>0.0</td>\n",
       "    </tr>\n",
       "  </tbody>\n",
       "</table>\n",
       "</div>"
      ],
      "text/plain": [
       "                 Missing Values  Percent of Nulls\n",
       "purchaseid                    0               0.0\n",
       "item_ID                       0               0.0\n",
       "Quantity                      0               0.0\n",
       "purchasedate                  0               0.0\n",
       "CustomerID                    0               0.0\n",
       "loyalty_program               0               0.0\n",
       "ShopID                        0               0.0"
      ]
     },
     "metadata": {},
     "output_type": "display_data"
    },
    {
     "name": "stdout",
     "output_type": "stream",
     "text": [
      "--------------------------------------------------------------------------------------------------------------\n",
      "Shape:\n",
      "(104302, 7)\n",
      "--------------------------------------------------------------------------------------------------------------\n",
      "Duplicated:\n",
      "\u001b[1mWe have 0 duplicated rows. \n",
      "\u001b[0m\n",
      "//////////////////////////////////////////////////////////////////////////////////////////////////////////////\n"
     ]
    }
   ],
   "source": [
    "get_info(df_retail)"
   ]
  },
  {
   "cell_type": "code",
   "execution_count": 9,
   "metadata": {},
   "outputs": [],
   "source": [
    "df_products['price_per_one'] = df_products['price_per_one'].fillna(2.954495)\n",
    "df_products['productID'] = df_products['productID'].astype(object).replace(np.nan, 'None')\n",
    "df_products.columns = ['item_ID','price_per_one']"
   ]
  },
  {
   "cell_type": "code",
   "execution_count": 10,
   "metadata": {},
   "outputs": [],
   "source": [
    "df_retail = get_info_date(df_retail, 'purchasedate')"
   ]
  },
  {
   "cell_type": "code",
   "execution_count": 11,
   "metadata": {},
   "outputs": [
    {
     "data": {
      "text/html": [
       "<div>\n",
       "<style scoped>\n",
       "    .dataframe tbody tr th:only-of-type {\n",
       "        vertical-align: middle;\n",
       "    }\n",
       "\n",
       "    .dataframe tbody tr th {\n",
       "        vertical-align: top;\n",
       "    }\n",
       "\n",
       "    .dataframe thead th {\n",
       "        text-align: right;\n",
       "    }\n",
       "</style>\n",
       "<table border=\"1\" class=\"dataframe\">\n",
       "  <thead>\n",
       "    <tr style=\"text-align: right;\">\n",
       "      <th></th>\n",
       "      <th>purchaseid</th>\n",
       "      <th>item_ID</th>\n",
       "      <th>Quantity</th>\n",
       "      <th>purchasedate</th>\n",
       "      <th>CustomerID</th>\n",
       "      <th>loyalty_program</th>\n",
       "      <th>ShopID</th>\n",
       "      <th>date</th>\n",
       "      <th>week</th>\n",
       "      <th>month</th>\n",
       "      <th>year</th>\n",
       "    </tr>\n",
       "  </thead>\n",
       "  <tbody>\n",
       "    <tr>\n",
       "      <td>0</td>\n",
       "      <td>538280</td>\n",
       "      <td>21873</td>\n",
       "      <td>11</td>\n",
       "      <td>2016-12-10 12:50:00</td>\n",
       "      <td>18427</td>\n",
       "      <td>0</td>\n",
       "      <td>Shop 3</td>\n",
       "      <td>2016-12-10</td>\n",
       "      <td>2016-12-08</td>\n",
       "      <td>2016-12-01</td>\n",
       "      <td>2016-01-01</td>\n",
       "    </tr>\n",
       "    <tr>\n",
       "      <td>1</td>\n",
       "      <td>538862</td>\n",
       "      <td>22195</td>\n",
       "      <td>0</td>\n",
       "      <td>2016-12-14 14:11:00</td>\n",
       "      <td>22389</td>\n",
       "      <td>1</td>\n",
       "      <td>Shop 2</td>\n",
       "      <td>2016-12-14</td>\n",
       "      <td>2016-12-08</td>\n",
       "      <td>2016-12-01</td>\n",
       "      <td>2016-01-01</td>\n",
       "    </tr>\n",
       "    <tr>\n",
       "      <td>2</td>\n",
       "      <td>538855</td>\n",
       "      <td>21239</td>\n",
       "      <td>7</td>\n",
       "      <td>2016-12-14 13:50:00</td>\n",
       "      <td>22182</td>\n",
       "      <td>1</td>\n",
       "      <td>Shop 3</td>\n",
       "      <td>2016-12-14</td>\n",
       "      <td>2016-12-08</td>\n",
       "      <td>2016-12-01</td>\n",
       "      <td>2016-01-01</td>\n",
       "    </tr>\n",
       "    <tr>\n",
       "      <td>3</td>\n",
       "      <td>543543</td>\n",
       "      <td>22271</td>\n",
       "      <td>0</td>\n",
       "      <td>2017-02-09 15:33:00</td>\n",
       "      <td>23522</td>\n",
       "      <td>1</td>\n",
       "      <td>Shop 28</td>\n",
       "      <td>2017-02-09</td>\n",
       "      <td>2017-02-09</td>\n",
       "      <td>2017-02-01</td>\n",
       "      <td>2017-01-01</td>\n",
       "    </tr>\n",
       "    <tr>\n",
       "      <td>4</td>\n",
       "      <td>543812</td>\n",
       "      <td>79321</td>\n",
       "      <td>0</td>\n",
       "      <td>2017-02-13 14:40:00</td>\n",
       "      <td>23151</td>\n",
       "      <td>1</td>\n",
       "      <td>Shop 28</td>\n",
       "      <td>2017-02-13</td>\n",
       "      <td>2017-02-09</td>\n",
       "      <td>2017-02-01</td>\n",
       "      <td>2017-01-01</td>\n",
       "    </tr>\n",
       "  </tbody>\n",
       "</table>\n",
       "</div>"
      ],
      "text/plain": [
       "  purchaseid item_ID  Quantity        purchasedate CustomerID  \\\n",
       "0     538280   21873        11 2016-12-10 12:50:00      18427   \n",
       "1     538862   22195         0 2016-12-14 14:11:00      22389   \n",
       "2     538855   21239         7 2016-12-14 13:50:00      22182   \n",
       "3     543543   22271         0 2017-02-09 15:33:00      23522   \n",
       "4     543812   79321         0 2017-02-13 14:40:00      23151   \n",
       "\n",
       "   loyalty_program   ShopID        date       week      month       year  \n",
       "0                0   Shop 3  2016-12-10 2016-12-08 2016-12-01 2016-01-01  \n",
       "1                1   Shop 2  2016-12-14 2016-12-08 2016-12-01 2016-01-01  \n",
       "2                1   Shop 3  2016-12-14 2016-12-08 2016-12-01 2016-01-01  \n",
       "3                1  Shop 28  2017-02-09 2017-02-09 2017-02-01 2017-01-01  \n",
       "4                1  Shop 28  2017-02-13 2017-02-09 2017-02-01 2017-01-01  "
      ]
     },
     "execution_count": 11,
     "metadata": {},
     "output_type": "execute_result"
    }
   ],
   "source": [
    "df_retail.head()"
   ]
  },
  {
   "cell_type": "code",
   "execution_count": 12,
   "metadata": {},
   "outputs": [
    {
     "name": "stdout",
     "output_type": "stream",
     "text": [
      "Head:\n"
     ]
    },
    {
     "data": {
      "text/html": [
       "<div>\n",
       "<style scoped>\n",
       "    .dataframe tbody tr th:only-of-type {\n",
       "        vertical-align: middle;\n",
       "    }\n",
       "\n",
       "    .dataframe tbody tr th {\n",
       "        vertical-align: top;\n",
       "    }\n",
       "\n",
       "    .dataframe thead th {\n",
       "        text-align: right;\n",
       "    }\n",
       "</style>\n",
       "<table border=\"1\" class=\"dataframe\">\n",
       "  <thead>\n",
       "    <tr style=\"text-align: right;\">\n",
       "      <th></th>\n",
       "      <th>item_ID</th>\n",
       "      <th>price_per_one</th>\n",
       "    </tr>\n",
       "  </thead>\n",
       "  <tbody>\n",
       "    <tr>\n",
       "      <td>0</td>\n",
       "      <td>10002</td>\n",
       "      <td>0.85</td>\n",
       "    </tr>\n",
       "    <tr>\n",
       "      <td>1</td>\n",
       "      <td>10080</td>\n",
       "      <td>0.85</td>\n",
       "    </tr>\n",
       "    <tr>\n",
       "      <td>2</td>\n",
       "      <td>10120</td>\n",
       "      <td>0.21</td>\n",
       "    </tr>\n",
       "    <tr>\n",
       "      <td>3</td>\n",
       "      <td>10123C</td>\n",
       "      <td>0.65</td>\n",
       "    </tr>\n",
       "    <tr>\n",
       "      <td>4</td>\n",
       "      <td>10124A</td>\n",
       "      <td>0.42</td>\n",
       "    </tr>\n",
       "  </tbody>\n",
       "</table>\n",
       "</div>"
      ],
      "text/plain": [
       "  item_ID  price_per_one\n",
       "0   10002           0.85\n",
       "1   10080           0.85\n",
       "2   10120           0.21\n",
       "3  10123C           0.65\n",
       "4  10124A           0.42"
      ]
     },
     "metadata": {},
     "output_type": "display_data"
    },
    {
     "name": "stdout",
     "output_type": "stream",
     "text": [
      "--------------------------------------------------------------------------------------------------------------\n",
      "Info:\n",
      "<class 'pandas.core.frame.DataFrame'>\n",
      "RangeIndex: 3159 entries, 0 to 3158\n",
      "Data columns (total 2 columns):\n",
      "item_ID          3159 non-null object\n",
      "price_per_one    3159 non-null float64\n",
      "dtypes: float64(1), object(1)\n",
      "memory usage: 49.5+ KB\n"
     ]
    },
    {
     "data": {
      "text/plain": [
       "None"
      ]
     },
     "metadata": {},
     "output_type": "display_data"
    },
    {
     "name": "stdout",
     "output_type": "stream",
     "text": [
      "--------------------------------------------------------------------------------------------------------------\n",
      "Describe:\n"
     ]
    },
    {
     "data": {
      "text/html": [
       "<div>\n",
       "<style scoped>\n",
       "    .dataframe tbody tr th:only-of-type {\n",
       "        vertical-align: middle;\n",
       "    }\n",
       "\n",
       "    .dataframe tbody tr th {\n",
       "        vertical-align: top;\n",
       "    }\n",
       "\n",
       "    .dataframe thead th {\n",
       "        text-align: right;\n",
       "    }\n",
       "</style>\n",
       "<table border=\"1\" class=\"dataframe\">\n",
       "  <thead>\n",
       "    <tr style=\"text-align: right;\">\n",
       "      <th></th>\n",
       "      <th>price_per_one</th>\n",
       "    </tr>\n",
       "  </thead>\n",
       "  <tbody>\n",
       "    <tr>\n",
       "      <td>count</td>\n",
       "      <td>3159.000000</td>\n",
       "    </tr>\n",
       "    <tr>\n",
       "      <td>mean</td>\n",
       "      <td>2.954495</td>\n",
       "    </tr>\n",
       "    <tr>\n",
       "      <td>std</td>\n",
       "      <td>7.213808</td>\n",
       "    </tr>\n",
       "    <tr>\n",
       "      <td>min</td>\n",
       "      <td>0.000000</td>\n",
       "    </tr>\n",
       "    <tr>\n",
       "      <td>25%</td>\n",
       "      <td>0.650000</td>\n",
       "    </tr>\n",
       "    <tr>\n",
       "      <td>50%</td>\n",
       "      <td>1.450000</td>\n",
       "    </tr>\n",
       "    <tr>\n",
       "      <td>75%</td>\n",
       "      <td>3.290000</td>\n",
       "    </tr>\n",
       "    <tr>\n",
       "      <td>max</td>\n",
       "      <td>175.000000</td>\n",
       "    </tr>\n",
       "  </tbody>\n",
       "</table>\n",
       "</div>"
      ],
      "text/plain": [
       "       price_per_one\n",
       "count    3159.000000\n",
       "mean        2.954495\n",
       "std         7.213808\n",
       "min         0.000000\n",
       "25%         0.650000\n",
       "50%         1.450000\n",
       "75%         3.290000\n",
       "max       175.000000"
      ]
     },
     "metadata": {},
     "output_type": "display_data"
    },
    {
     "data": {
      "text/html": [
       "<div>\n",
       "<style scoped>\n",
       "    .dataframe tbody tr th:only-of-type {\n",
       "        vertical-align: middle;\n",
       "    }\n",
       "\n",
       "    .dataframe tbody tr th {\n",
       "        vertical-align: top;\n",
       "    }\n",
       "\n",
       "    .dataframe thead th {\n",
       "        text-align: right;\n",
       "    }\n",
       "</style>\n",
       "<table border=\"1\" class=\"dataframe\">\n",
       "  <thead>\n",
       "    <tr style=\"text-align: right;\">\n",
       "      <th></th>\n",
       "      <th>item_ID</th>\n",
       "      <th>price_per_one</th>\n",
       "    </tr>\n",
       "  </thead>\n",
       "  <tbody>\n",
       "    <tr>\n",
       "      <td>count</td>\n",
       "      <td>3159</td>\n",
       "      <td>3159.000000</td>\n",
       "    </tr>\n",
       "    <tr>\n",
       "      <td>unique</td>\n",
       "      <td>3159</td>\n",
       "      <td>NaN</td>\n",
       "    </tr>\n",
       "    <tr>\n",
       "      <td>top</td>\n",
       "      <td>22418</td>\n",
       "      <td>NaN</td>\n",
       "    </tr>\n",
       "    <tr>\n",
       "      <td>freq</td>\n",
       "      <td>1</td>\n",
       "      <td>NaN</td>\n",
       "    </tr>\n",
       "    <tr>\n",
       "      <td>mean</td>\n",
       "      <td>NaN</td>\n",
       "      <td>2.954495</td>\n",
       "    </tr>\n",
       "    <tr>\n",
       "      <td>std</td>\n",
       "      <td>NaN</td>\n",
       "      <td>7.213808</td>\n",
       "    </tr>\n",
       "    <tr>\n",
       "      <td>min</td>\n",
       "      <td>NaN</td>\n",
       "      <td>0.000000</td>\n",
       "    </tr>\n",
       "    <tr>\n",
       "      <td>25%</td>\n",
       "      <td>NaN</td>\n",
       "      <td>0.650000</td>\n",
       "    </tr>\n",
       "    <tr>\n",
       "      <td>50%</td>\n",
       "      <td>NaN</td>\n",
       "      <td>1.450000</td>\n",
       "    </tr>\n",
       "    <tr>\n",
       "      <td>75%</td>\n",
       "      <td>NaN</td>\n",
       "      <td>3.290000</td>\n",
       "    </tr>\n",
       "    <tr>\n",
       "      <td>max</td>\n",
       "      <td>NaN</td>\n",
       "      <td>175.000000</td>\n",
       "    </tr>\n",
       "  </tbody>\n",
       "</table>\n",
       "</div>"
      ],
      "text/plain": [
       "       item_ID  price_per_one\n",
       "count     3159    3159.000000\n",
       "unique    3159            NaN\n",
       "top      22418            NaN\n",
       "freq         1            NaN\n",
       "mean       NaN       2.954495\n",
       "std        NaN       7.213808\n",
       "min        NaN       0.000000\n",
       "25%        NaN       0.650000\n",
       "50%        NaN       1.450000\n",
       "75%        NaN       3.290000\n",
       "max        NaN     175.000000"
      ]
     },
     "metadata": {},
     "output_type": "display_data"
    },
    {
     "name": "stdout",
     "output_type": "stream",
     "text": [
      "--------------------------------------------------------------------------------------------------------------\n",
      "Percent of columns with nulls:\n"
     ]
    },
    {
     "data": {
      "text/html": [
       "<div>\n",
       "<style scoped>\n",
       "    .dataframe tbody tr th:only-of-type {\n",
       "        vertical-align: middle;\n",
       "    }\n",
       "\n",
       "    .dataframe tbody tr th {\n",
       "        vertical-align: top;\n",
       "    }\n",
       "\n",
       "    .dataframe thead th {\n",
       "        text-align: right;\n",
       "    }\n",
       "</style>\n",
       "<table border=\"1\" class=\"dataframe\">\n",
       "  <thead>\n",
       "    <tr style=\"text-align: right;\">\n",
       "      <th></th>\n",
       "      <th>Missing Values</th>\n",
       "      <th>Percent of Nulls</th>\n",
       "    </tr>\n",
       "  </thead>\n",
       "  <tbody>\n",
       "    <tr>\n",
       "      <td>item_ID</td>\n",
       "      <td>0</td>\n",
       "      <td>0.0</td>\n",
       "    </tr>\n",
       "    <tr>\n",
       "      <td>price_per_one</td>\n",
       "      <td>0</td>\n",
       "      <td>0.0</td>\n",
       "    </tr>\n",
       "  </tbody>\n",
       "</table>\n",
       "</div>"
      ],
      "text/plain": [
       "               Missing Values  Percent of Nulls\n",
       "item_ID                     0               0.0\n",
       "price_per_one               0               0.0"
      ]
     },
     "metadata": {},
     "output_type": "display_data"
    },
    {
     "name": "stdout",
     "output_type": "stream",
     "text": [
      "--------------------------------------------------------------------------------------------------------------\n",
      "Shape:\n",
      "(3159, 2)\n",
      "--------------------------------------------------------------------------------------------------------------\n",
      "Duplicated:\n",
      "\u001b[1mWe have 0 duplicated rows. \n",
      "\u001b[0m\n",
      "//////////////////////////////////////////////////////////////////////////////////////////////////////////////\n"
     ]
    }
   ],
   "source": [
    "get_info(df_products)"
   ]
  },
  {
   "cell_type": "markdown",
   "metadata": {},
   "source": [
    "- These datasets have missing values and duplicates: df_retail (column CustomerID) df_products (column price_per_one) \n",
    "- The missing values are related to the CustomerID - they cannot be deleted, as this will delete more than half of the other records. Substitution of a frequently occurring ID is also not allowed. The option was selected to replace the missing values with the None value.\n",
    "- Missing values for a column \"price_per_one\" have been replaced with the average \"price_per_one\".\n",
    "- Duplicated values in dataset df_products dropped. "
   ]
  },
  {
   "cell_type": "markdown",
   "metadata": {},
   "source": [
    "### Part 2: Exploratory Data Analysis"
   ]
  },
  {
   "cell_type": "code",
   "execution_count": 13,
   "metadata": {},
   "outputs": [
    {
     "data": {
      "text/html": [
       "<div>\n",
       "<style scoped>\n",
       "    .dataframe tbody tr th:only-of-type {\n",
       "        vertical-align: middle;\n",
       "    }\n",
       "\n",
       "    .dataframe tbody tr th {\n",
       "        vertical-align: top;\n",
       "    }\n",
       "\n",
       "    .dataframe thead th {\n",
       "        text-align: right;\n",
       "    }\n",
       "</style>\n",
       "<table border=\"1\" class=\"dataframe\">\n",
       "  <thead>\n",
       "    <tr style=\"text-align: right;\">\n",
       "      <th></th>\n",
       "      <th>purchaseid</th>\n",
       "      <th>item_ID</th>\n",
       "      <th>Quantity</th>\n",
       "      <th>purchasedate</th>\n",
       "      <th>CustomerID</th>\n",
       "      <th>loyalty_program</th>\n",
       "      <th>ShopID</th>\n",
       "      <th>date</th>\n",
       "      <th>week</th>\n",
       "      <th>month</th>\n",
       "      <th>year</th>\n",
       "    </tr>\n",
       "  </thead>\n",
       "  <tbody>\n",
       "    <tr>\n",
       "      <td>0</td>\n",
       "      <td>538280</td>\n",
       "      <td>21873</td>\n",
       "      <td>11</td>\n",
       "      <td>2016-12-10 12:50:00</td>\n",
       "      <td>18427</td>\n",
       "      <td>0</td>\n",
       "      <td>Shop 3</td>\n",
       "      <td>2016-12-10</td>\n",
       "      <td>2016-12-08</td>\n",
       "      <td>2016-12-01</td>\n",
       "      <td>2016-01-01</td>\n",
       "    </tr>\n",
       "    <tr>\n",
       "      <td>1</td>\n",
       "      <td>538862</td>\n",
       "      <td>22195</td>\n",
       "      <td>0</td>\n",
       "      <td>2016-12-14 14:11:00</td>\n",
       "      <td>22389</td>\n",
       "      <td>1</td>\n",
       "      <td>Shop 2</td>\n",
       "      <td>2016-12-14</td>\n",
       "      <td>2016-12-08</td>\n",
       "      <td>2016-12-01</td>\n",
       "      <td>2016-01-01</td>\n",
       "    </tr>\n",
       "    <tr>\n",
       "      <td>2</td>\n",
       "      <td>538855</td>\n",
       "      <td>21239</td>\n",
       "      <td>7</td>\n",
       "      <td>2016-12-14 13:50:00</td>\n",
       "      <td>22182</td>\n",
       "      <td>1</td>\n",
       "      <td>Shop 3</td>\n",
       "      <td>2016-12-14</td>\n",
       "      <td>2016-12-08</td>\n",
       "      <td>2016-12-01</td>\n",
       "      <td>2016-01-01</td>\n",
       "    </tr>\n",
       "    <tr>\n",
       "      <td>3</td>\n",
       "      <td>543543</td>\n",
       "      <td>22271</td>\n",
       "      <td>0</td>\n",
       "      <td>2017-02-09 15:33:00</td>\n",
       "      <td>23522</td>\n",
       "      <td>1</td>\n",
       "      <td>Shop 28</td>\n",
       "      <td>2017-02-09</td>\n",
       "      <td>2017-02-09</td>\n",
       "      <td>2017-02-01</td>\n",
       "      <td>2017-01-01</td>\n",
       "    </tr>\n",
       "    <tr>\n",
       "      <td>4</td>\n",
       "      <td>543812</td>\n",
       "      <td>79321</td>\n",
       "      <td>0</td>\n",
       "      <td>2017-02-13 14:40:00</td>\n",
       "      <td>23151</td>\n",
       "      <td>1</td>\n",
       "      <td>Shop 28</td>\n",
       "      <td>2017-02-13</td>\n",
       "      <td>2017-02-09</td>\n",
       "      <td>2017-02-01</td>\n",
       "      <td>2017-01-01</td>\n",
       "    </tr>\n",
       "  </tbody>\n",
       "</table>\n",
       "</div>"
      ],
      "text/plain": [
       "  purchaseid item_ID  Quantity        purchasedate CustomerID  \\\n",
       "0     538280   21873        11 2016-12-10 12:50:00      18427   \n",
       "1     538862   22195         0 2016-12-14 14:11:00      22389   \n",
       "2     538855   21239         7 2016-12-14 13:50:00      22182   \n",
       "3     543543   22271         0 2017-02-09 15:33:00      23522   \n",
       "4     543812   79321         0 2017-02-13 14:40:00      23151   \n",
       "\n",
       "   loyalty_program   ShopID        date       week      month       year  \n",
       "0                0   Shop 3  2016-12-10 2016-12-08 2016-12-01 2016-01-01  \n",
       "1                1   Shop 2  2016-12-14 2016-12-08 2016-12-01 2016-01-01  \n",
       "2                1   Shop 3  2016-12-14 2016-12-08 2016-12-01 2016-01-01  \n",
       "3                1  Shop 28  2017-02-09 2017-02-09 2017-02-01 2017-01-01  \n",
       "4                1  Shop 28  2017-02-13 2017-02-09 2017-02-01 2017-01-01  "
      ]
     },
     "execution_count": 13,
     "metadata": {},
     "output_type": "execute_result"
    }
   ],
   "source": [
    "df_retail.head()"
   ]
  },
  {
   "cell_type": "code",
   "execution_count": 14,
   "metadata": {},
   "outputs": [
    {
     "name": "stdout",
     "output_type": "stream",
     "text": [
      "The number of monthly active users: [844]\n",
      "The number of week active users [250]\n",
      "The number of daily active users [53]\n"
     ]
    }
   ],
   "source": [
    "mau_total = total(df_retail, 'year', 'month', 'CustomerID', 'nunique')\n",
    "wau_total = total(df_retail, 'year', 'week', 'CustomerID', 'nunique')\n",
    "dau_total = total(df_retail, 'date', 'date', 'CustomerID', 'nunique')\n",
    "print('The number of monthly active users:', mau_total)\n",
    "print('The number of week active users', wau_total)\n",
    "print('The number of daily active users', dau_total)"
   ]
  },
  {
   "cell_type": "code",
   "execution_count": 15,
   "metadata": {},
   "outputs": [
    {
     "name": "stderr",
     "output_type": "stream",
     "text": [
      "C:\\Users\\Kanafin\\Anaconda3\\envs\\pandas\\lib\\site-packages\\pandas\\plotting\\_matplotlib\\converter.py:103: FutureWarning: Using an implicitly registered datetime converter for a matplotlib plotting method. The converter was registered by pandas on import. Future versions of pandas will require you to explicitly register matplotlib converters.\n",
      "\n",
      "To register the converters:\n",
      "\t>>> from pandas.plotting import register_matplotlib_converters\n",
      "\t>>> register_matplotlib_converters()\n",
      "  warnings.warn(msg, FutureWarning)\n"
     ]
    },
    {
     "data": {
      "image/png": "[encoded data removed]",
      "text/plain": [
       "<Figure size 1152x360 with 1 Axes>"
      ]
     },
     "metadata": {
      "needs_background": "light"
     },
     "output_type": "display_data"
    }
   ],
   "source": [
    "plot_monthly_weekly_user_activity(df_retail, 'MAU total', 'month')"
   ]
  },
  {
   "cell_type": "markdown",
   "metadata": {},
   "source": [
    "* The graph shows that since the beginning of December there has been a decrease in the number of buyers and by January it reaches its minimum in this time period. \n",
    "* This is due to the fact that on holidays, people stop doing repairs and construction."
   ]
  },
  {
   "cell_type": "code",
   "execution_count": 16,
   "metadata": {},
   "outputs": [
    {
     "data": {
      "image/png": "[encoded data removed]",
      "text/plain": [
       "<Figure size 1152x360 with 1 Axes>"
      ]
     },
     "metadata": {
      "needs_background": "light"
     },
     "output_type": "display_data"
    }
   ],
   "source": [
    "plot_monthly_weekly_user_activity(df_retail, 'WAU total', 'week')"
   ]
  },
  {
   "cell_type": "code",
   "execution_count": 17,
   "metadata": {},
   "outputs": [
    {
     "data": {
      "image/png": "[encoded data removed]",
      "text/plain": [
       "<Figure size 1152x360 with 1 Axes>"
      ]
     },
     "metadata": {
      "needs_background": "light"
     },
     "output_type": "display_data"
    }
   ],
   "source": [
    "plot_daily_user_activity(df_retail, 'Daily total')"
   ]
  },
  {
   "cell_type": "markdown",
   "metadata": {},
   "source": [
    "## Analysis of store sales"
   ]
  },
  {
   "cell_type": "code",
   "execution_count": 18,
   "metadata": {},
   "outputs": [
    {
     "data": {
      "text/html": [
       "<div>\n",
       "<style scoped>\n",
       "    .dataframe tbody tr th:only-of-type {\n",
       "        vertical-align: middle;\n",
       "    }\n",
       "\n",
       "    .dataframe tbody tr th {\n",
       "        vertical-align: top;\n",
       "    }\n",
       "\n",
       "    .dataframe thead th {\n",
       "        text-align: right;\n",
       "    }\n",
       "</style>\n",
       "<table border=\"1\" class=\"dataframe\">\n",
       "  <thead>\n",
       "    <tr style=\"text-align: right;\">\n",
       "      <th></th>\n",
       "      <th>purchaseid</th>\n",
       "      <th>item_ID</th>\n",
       "      <th>Quantity</th>\n",
       "      <th>purchasedate</th>\n",
       "      <th>CustomerID</th>\n",
       "      <th>loyalty_program</th>\n",
       "      <th>ShopID</th>\n",
       "      <th>date</th>\n",
       "      <th>week</th>\n",
       "      <th>month</th>\n",
       "      <th>year</th>\n",
       "      <th>price_per_one</th>\n",
       "      <th>revenue</th>\n",
       "    </tr>\n",
       "  </thead>\n",
       "  <tbody>\n",
       "    <tr>\n",
       "      <td>0</td>\n",
       "      <td>538280</td>\n",
       "      <td>21873</td>\n",
       "      <td>11</td>\n",
       "      <td>2016-12-10 12:50:00</td>\n",
       "      <td>18427</td>\n",
       "      <td>0</td>\n",
       "      <td>Shop 3</td>\n",
       "      <td>2016-12-10</td>\n",
       "      <td>2016-12-08</td>\n",
       "      <td>2016-12-01</td>\n",
       "      <td>2016-01-01</td>\n",
       "      <td>0.42</td>\n",
       "      <td>4.62</td>\n",
       "    </tr>\n",
       "    <tr>\n",
       "      <td>1</td>\n",
       "      <td>541104</td>\n",
       "      <td>21873</td>\n",
       "      <td>0</td>\n",
       "      <td>2017-01-13 14:29:00</td>\n",
       "      <td>None</td>\n",
       "      <td>0</td>\n",
       "      <td>Shop 0</td>\n",
       "      <td>2017-01-13</td>\n",
       "      <td>2017-01-12</td>\n",
       "      <td>2017-01-01</td>\n",
       "      <td>2017-01-01</td>\n",
       "      <td>0.42</td>\n",
       "      <td>0.00</td>\n",
       "    </tr>\n",
       "    <tr>\n",
       "      <td>2</td>\n",
       "      <td>540418</td>\n",
       "      <td>21873</td>\n",
       "      <td>1</td>\n",
       "      <td>2017-01-07 11:04:00</td>\n",
       "      <td>None</td>\n",
       "      <td>0</td>\n",
       "      <td>Shop 0</td>\n",
       "      <td>2017-01-07</td>\n",
       "      <td>2017-01-05</td>\n",
       "      <td>2017-01-01</td>\n",
       "      <td>2017-01-01</td>\n",
       "      <td>0.42</td>\n",
       "      <td>0.42</td>\n",
       "    </tr>\n",
       "    <tr>\n",
       "      <td>3</td>\n",
       "      <td>541516</td>\n",
       "      <td>21873</td>\n",
       "      <td>2</td>\n",
       "      <td>2017-01-18 17:34:00</td>\n",
       "      <td>None</td>\n",
       "      <td>0</td>\n",
       "      <td>Shop 0</td>\n",
       "      <td>2017-01-18</td>\n",
       "      <td>2017-01-12</td>\n",
       "      <td>2017-01-01</td>\n",
       "      <td>2017-01-01</td>\n",
       "      <td>0.42</td>\n",
       "      <td>0.84</td>\n",
       "    </tr>\n",
       "    <tr>\n",
       "      <td>4</td>\n",
       "      <td>541566</td>\n",
       "      <td>21873</td>\n",
       "      <td>35</td>\n",
       "      <td>2017-01-19 11:50:00</td>\n",
       "      <td>23401</td>\n",
       "      <td>1</td>\n",
       "      <td>Shop 22</td>\n",
       "      <td>2017-01-19</td>\n",
       "      <td>2017-01-19</td>\n",
       "      <td>2017-01-01</td>\n",
       "      <td>2017-01-01</td>\n",
       "      <td>0.42</td>\n",
       "      <td>14.70</td>\n",
       "    </tr>\n",
       "  </tbody>\n",
       "</table>\n",
       "</div>"
      ],
      "text/plain": [
       "  purchaseid item_ID  Quantity        purchasedate CustomerID  \\\n",
       "0     538280   21873        11 2016-12-10 12:50:00      18427   \n",
       "1     541104   21873         0 2017-01-13 14:29:00       None   \n",
       "2     540418   21873         1 2017-01-07 11:04:00       None   \n",
       "3     541516   21873         2 2017-01-18 17:34:00       None   \n",
       "4     541566   21873        35 2017-01-19 11:50:00      23401   \n",
       "\n",
       "   loyalty_program   ShopID        date       week      month       year  \\\n",
       "0                0   Shop 3  2016-12-10 2016-12-08 2016-12-01 2016-01-01   \n",
       "1                0   Shop 0  2017-01-13 2017-01-12 2017-01-01 2017-01-01   \n",
       "2                0   Shop 0  2017-01-07 2017-01-05 2017-01-01 2017-01-01   \n",
       "3                0   Shop 0  2017-01-18 2017-01-12 2017-01-01 2017-01-01   \n",
       "4                1  Shop 22  2017-01-19 2017-01-19 2017-01-01 2017-01-01   \n",
       "\n",
       "   price_per_one  revenue  \n",
       "0           0.42     4.62  \n",
       "1           0.42     0.00  \n",
       "2           0.42     0.42  \n",
       "3           0.42     0.84  \n",
       "4           0.42    14.70  "
      ]
     },
     "execution_count": 18,
     "metadata": {},
     "output_type": "execute_result"
    }
   ],
   "source": [
    "merged = df_retail.merge(df_products, on='item_ID')\n",
    "merged['revenue'] = merged['Quantity'] * merged['price_per_one']\n",
    "merged.head()"
   ]
  },
  {
   "cell_type": "code",
   "execution_count": null,
   "metadata": {},
   "outputs": [],
   "source": [
    "merged.to_csv('dashboard_dataset.csv')"
   ]
  },
  {
   "cell_type": "code",
   "execution_count": 37,
   "metadata": {},
   "outputs": [
    {
     "data": {
      "text/html": [
       "<div>\n",
       "<style scoped>\n",
       "    .dataframe tbody tr th:only-of-type {\n",
       "        vertical-align: middle;\n",
       "    }\n",
       "\n",
       "    .dataframe tbody tr th {\n",
       "        vertical-align: top;\n",
       "    }\n",
       "\n",
       "    .dataframe thead th {\n",
       "        text-align: right;\n",
       "    }\n",
       "</style>\n",
       "<table border=\"1\" class=\"dataframe\">\n",
       "  <thead>\n",
       "    <tr style=\"text-align: right;\">\n",
       "      <th></th>\n",
       "      <th>ShopID</th>\n",
       "      <th>revenue</th>\n",
       "    </tr>\n",
       "  </thead>\n",
       "  <tbody>\n",
       "    <tr>\n",
       "      <td>0</td>\n",
       "      <td>Shop 0</td>\n",
       "      <td>6789.24</td>\n",
       "    </tr>\n",
       "    <tr>\n",
       "      <td>1</td>\n",
       "      <td>Shop 1</td>\n",
       "      <td>5754.82</td>\n",
       "    </tr>\n",
       "    <tr>\n",
       "      <td>2</td>\n",
       "      <td>Shop 10</td>\n",
       "      <td>4880.96</td>\n",
       "    </tr>\n",
       "    <tr>\n",
       "      <td>3</td>\n",
       "      <td>Shop 11</td>\n",
       "      <td>7534.73</td>\n",
       "    </tr>\n",
       "    <tr>\n",
       "      <td>4</td>\n",
       "      <td>Shop 12</td>\n",
       "      <td>8391.67</td>\n",
       "    </tr>\n",
       "  </tbody>\n",
       "</table>\n",
       "</div>"
      ],
      "text/plain": [
       "    ShopID  revenue\n",
       "0   Shop 0  6789.24\n",
       "1   Shop 1  5754.82\n",
       "2  Shop 10  4880.96\n",
       "3  Shop 11  7534.73\n",
       "4  Shop 12  8391.67"
      ]
     },
     "metadata": {},
     "output_type": "display_data"
    }
   ],
   "source": [
    "shops_with_loyalty = (\n",
    "    merged.query('loyalty_program == \"1\"')\n",
    "    .groupby('ShopID', as_index=False)\n",
    "    .agg({'revenue':'sum'})\n",
    ")\n",
    "display(users_with_loyalty.head())"
   ]
  },
  {
   "cell_type": "code",
   "execution_count": 38,
   "metadata": {},
   "outputs": [
    {
     "data": {
      "text/html": [
       "<div>\n",
       "<style scoped>\n",
       "    .dataframe tbody tr th:only-of-type {\n",
       "        vertical-align: middle;\n",
       "    }\n",
       "\n",
       "    .dataframe tbody tr th {\n",
       "        vertical-align: top;\n",
       "    }\n",
       "\n",
       "    .dataframe thead th {\n",
       "        text-align: right;\n",
       "    }\n",
       "</style>\n",
       "<table border=\"1\" class=\"dataframe\">\n",
       "  <thead>\n",
       "    <tr style=\"text-align: right;\">\n",
       "      <th></th>\n",
       "      <th>ShopID</th>\n",
       "      <th>purchaseid</th>\n",
       "      <th>revenue</th>\n",
       "    </tr>\n",
       "  </thead>\n",
       "  <tbody>\n",
       "    <tr>\n",
       "      <td>0</td>\n",
       "      <td>Shop 0</td>\n",
       "      <td>836</td>\n",
       "      <td>98382.34</td>\n",
       "    </tr>\n",
       "    <tr>\n",
       "      <td>1</td>\n",
       "      <td>Shop 1</td>\n",
       "      <td>102</td>\n",
       "      <td>18289.01</td>\n",
       "    </tr>\n",
       "    <tr>\n",
       "      <td>2</td>\n",
       "      <td>Shop 10</td>\n",
       "      <td>89</td>\n",
       "      <td>25121.08</td>\n",
       "    </tr>\n",
       "    <tr>\n",
       "      <td>3</td>\n",
       "      <td>Shop 11</td>\n",
       "      <td>99</td>\n",
       "      <td>15729.61</td>\n",
       "    </tr>\n",
       "    <tr>\n",
       "      <td>4</td>\n",
       "      <td>Shop 12</td>\n",
       "      <td>83</td>\n",
       "      <td>12335.64</td>\n",
       "    </tr>\n",
       "  </tbody>\n",
       "</table>\n",
       "</div>"
      ],
      "text/plain": [
       "    ShopID  purchaseid   revenue\n",
       "0   Shop 0         836  98382.34\n",
       "1   Shop 1         102  18289.01\n",
       "2  Shop 10          89  25121.08\n",
       "3  Shop 11          99  15729.61\n",
       "4  Shop 12          83  12335.64"
      ]
     },
     "metadata": {},
     "output_type": "display_data"
    }
   ],
   "source": [
    "shops_without_loyalty = (\n",
    "    merged.query('loyalty_program == \"0\"')\n",
    "    .groupby('ShopID', as_index=False)\n",
    "    .agg({'purchaseid' : pd.Series.nunique, 'revenue':'sum'})\n",
    ")\n",
    "display(users_without_loyalty.head())"
   ]
  },
  {
   "cell_type": "code",
   "execution_count": 39,
   "metadata": {},
   "outputs": [
    {
     "data": {
      "image/png": "[encoded data removed]",
      "text/plain": [
       "<Figure size 1152x576 with 1 Axes>"
      ]
     },
     "metadata": {},
     "output_type": "display_data"
    }
   ],
   "source": [
    "draw_bar('ShopID','revenue', shops_without_loyalty, 'Revenue for shops without loyalty cards in users', 'Revenue', 'Shops', 45)"
   ]
  },
  {
   "cell_type": "markdown",
   "metadata": {},
   "source": [
    "* The maximum values are given by shop 0 and shop 14.\n",
    "* Strange value for the shop 21. The total indicator is negative. Possible data error.\n",
    "* Maximum value for revenue - 100000. "
   ]
  },
  {
   "cell_type": "code",
   "execution_count": 40,
   "metadata": {},
   "outputs": [
    {
     "data": {
      "image/png": "[encoded data removed]",
      "text/plain": [
       "<Figure size 1152x576 with 1 Axes>"
      ]
     },
     "metadata": {},
     "output_type": "display_data"
    }
   ],
   "source": [
    "draw_bar('ShopID','revenue', shops_with_loyalty, 'Revenue for shops with loyalty cards in users', 'Revenue', 'Shops', 45)"
   ]
  },
  {
   "cell_type": "markdown",
   "metadata": {},
   "source": [
    "* The maximum values are given by shop 29, shop 5 and shop 26.\n",
    "* Maximum value for revenue - 17500. \n",
    "* Compared to the prev. plot revenue for shops without a customer loyalty card, the values are lower."
   ]
  },
  {
   "cell_type": "code",
   "execution_count": 78,
   "metadata": {},
   "outputs": [
    {
     "data": {
      "text/html": [
       "<div>\n",
       "<style scoped>\n",
       "    .dataframe tbody tr th:only-of-type {\n",
       "        vertical-align: middle;\n",
       "    }\n",
       "\n",
       "    .dataframe tbody tr th {\n",
       "        vertical-align: top;\n",
       "    }\n",
       "\n",
       "    .dataframe thead th {\n",
       "        text-align: right;\n",
       "    }\n",
       "</style>\n",
       "<table border=\"1\" class=\"dataframe\">\n",
       "  <thead>\n",
       "    <tr style=\"text-align: right;\">\n",
       "      <th></th>\n",
       "      <th></th>\n",
       "      <th>revenue</th>\n",
       "    </tr>\n",
       "    <tr>\n",
       "      <th>month</th>\n",
       "      <th>ShopID</th>\n",
       "      <th></th>\n",
       "    </tr>\n",
       "  </thead>\n",
       "  <tbody>\n",
       "    <tr>\n",
       "      <td rowspan=\"5\" valign=\"top\">2016-12-01</td>\n",
       "      <td>Shop 0</td>\n",
       "      <td>52321.20</td>\n",
       "    </tr>\n",
       "    <tr>\n",
       "      <td>Shop 1</td>\n",
       "      <td>5447.02</td>\n",
       "    </tr>\n",
       "    <tr>\n",
       "      <td>Shop 10</td>\n",
       "      <td>11667.90</td>\n",
       "    </tr>\n",
       "    <tr>\n",
       "      <td>Shop 11</td>\n",
       "      <td>8172.56</td>\n",
       "    </tr>\n",
       "    <tr>\n",
       "      <td>Shop 12</td>\n",
       "      <td>11131.43</td>\n",
       "    </tr>\n",
       "  </tbody>\n",
       "</table>\n",
       "</div>"
      ],
      "text/plain": [
       "                     revenue\n",
       "month      ShopID           \n",
       "2016-12-01 Shop 0   52321.20\n",
       "           Shop 1    5447.02\n",
       "           Shop 10  11667.90\n",
       "           Shop 11   8172.56\n",
       "           Shop 12  11131.43"
      ]
     },
     "execution_count": 78,
     "metadata": {},
     "output_type": "execute_result"
    }
   ],
   "source": [
    "months_shops_revenue = (\n",
    "    merged.groupby(['month','ShopID'])\n",
    "    .agg({'revenue':'sum'})\n",
    ")\n",
    "months_shops_revenue.head()"
   ]
  },
  {
   "cell_type": "code",
   "execution_count": 79,
   "metadata": {},
   "outputs": [
    {
     "name": "stderr",
     "output_type": "stream",
     "text": [
      "C:\\Users\\Kanafin\\Anaconda3\\envs\\pandas\\lib\\site-packages\\pandas\\plotting\\_matplotlib\\core.py:1182: UserWarning: FixedFormatter should only be used together with FixedLocator\n",
      "  ax.set_xticklabels(xticklabels)\n"
     ]
    },
    {
     "data": {
      "image/png": "[encoded data removed]",
      "text/plain": [
       "<Figure size 1152x576 with 1 Axes>"
      ]
     },
     "metadata": {},
     "output_type": "display_data"
    }
   ],
   "source": [
    "months_shops_revenue.plot(figsize=(16,8))\n",
    "plt.title('Months:Shops - Revenue')\n",
    "plt.ylabel('Revenue')\n",
    "plt.xlabel('Months:Shops')\n",
    "plt.show()"
   ]
  },
  {
   "cell_type": "markdown",
   "metadata": {},
   "source": [
    "* Positive peak values were observed in December. \n",
    "* Negative peak was in January. "
   ]
  },
  {
   "cell_type": "code",
   "execution_count": 125,
   "metadata": {},
   "outputs": [
    {
     "name": "stdout",
     "output_type": "stream",
     "text": [
      "<class 'pandas.core.frame.DataFrame'>\n",
      "Int64Index: 104302 entries, 0 to 104301\n",
      "Data columns (total 12 columns):\n",
      "purchaseid         104302 non-null object\n",
      "item_ID            104302 non-null object\n",
      "Quantity           104302 non-null int64\n",
      "purchasedate       104302 non-null datetime64[ns]\n",
      "CustomerID         104302 non-null object\n",
      "loyalty_program    104302 non-null int64\n",
      "ShopID             104302 non-null object\n",
      "date               104302 non-null object\n",
      "week               104302 non-null datetime64[ns]\n",
      "month              104302 non-null datetime64[ns]\n",
      "year               104302 non-null datetime64[ns]\n",
      "price_per_one      104302 non-null float64\n",
      "dtypes: datetime64[ns](4), float64(1), int64(2), object(5)\n",
      "memory usage: 10.3+ MB\n"
     ]
    }
   ],
   "source": [
    "merged.info()"
   ]
  },
  {
   "cell_type": "code",
   "execution_count": 50,
   "metadata": {},
   "outputs": [],
   "source": [
    "first_orders = merged.groupby('item_ID')['purchasedate'].min().reset_index()\n",
    "first_orders.columns = ['item_ID','First Order Date']\n",
    "first_orders['First Order Month'] = first_orders['First Order Date'].astype('datetime64[M]')"
   ]
  },
  {
   "cell_type": "code",
   "execution_count": 51,
   "metadata": {},
   "outputs": [
    {
     "data": {
      "text/html": [
       "<div>\n",
       "<style scoped>\n",
       "    .dataframe tbody tr th:only-of-type {\n",
       "        vertical-align: middle;\n",
       "    }\n",
       "\n",
       "    .dataframe tbody tr th {\n",
       "        vertical-align: top;\n",
       "    }\n",
       "\n",
       "    .dataframe thead th {\n",
       "        text-align: right;\n",
       "    }\n",
       "</style>\n",
       "<table border=\"1\" class=\"dataframe\">\n",
       "  <thead>\n",
       "    <tr style=\"text-align: right;\">\n",
       "      <th></th>\n",
       "      <th>item_ID</th>\n",
       "      <th>First Order Date</th>\n",
       "      <th>First Order Month</th>\n",
       "    </tr>\n",
       "  </thead>\n",
       "  <tbody>\n",
       "    <tr>\n",
       "      <td>0</td>\n",
       "      <td>10002</td>\n",
       "      <td>2016-12-01 08:45:00</td>\n",
       "      <td>2016-12-01</td>\n",
       "    </tr>\n",
       "    <tr>\n",
       "      <td>1</td>\n",
       "      <td>10080</td>\n",
       "      <td>2017-02-27 13:47:00</td>\n",
       "      <td>2017-02-01</td>\n",
       "    </tr>\n",
       "    <tr>\n",
       "      <td>2</td>\n",
       "      <td>10120</td>\n",
       "      <td>2016-12-03 11:19:00</td>\n",
       "      <td>2016-12-01</td>\n",
       "    </tr>\n",
       "    <tr>\n",
       "      <td>3</td>\n",
       "      <td>10123C</td>\n",
       "      <td>2016-12-03 11:19:00</td>\n",
       "      <td>2016-12-01</td>\n",
       "    </tr>\n",
       "    <tr>\n",
       "      <td>4</td>\n",
       "      <td>10124A</td>\n",
       "      <td>2016-12-06 13:13:00</td>\n",
       "      <td>2016-12-01</td>\n",
       "    </tr>\n",
       "  </tbody>\n",
       "</table>\n",
       "</div>"
      ],
      "text/plain": [
       "  item_ID    First Order Date First Order Month\n",
       "0   10002 2016-12-01 08:45:00        2016-12-01\n",
       "1   10080 2017-02-27 13:47:00        2017-02-01\n",
       "2   10120 2016-12-03 11:19:00        2016-12-01\n",
       "3  10123C 2016-12-03 11:19:00        2016-12-01\n",
       "4  10124A 2016-12-06 13:13:00        2016-12-01"
      ]
     },
     "metadata": {},
     "output_type": "display_data"
    }
   ],
   "source": [
    "display(first_orders.head())"
   ]
  },
  {
   "cell_type": "code",
   "execution_count": 52,
   "metadata": {},
   "outputs": [
    {
     "data": {
      "text/html": [
       "<div>\n",
       "<style scoped>\n",
       "    .dataframe tbody tr th:only-of-type {\n",
       "        vertical-align: middle;\n",
       "    }\n",
       "\n",
       "    .dataframe tbody tr th {\n",
       "        vertical-align: top;\n",
       "    }\n",
       "\n",
       "    .dataframe thead th {\n",
       "        text-align: right;\n",
       "    }\n",
       "</style>\n",
       "<table border=\"1\" class=\"dataframe\">\n",
       "  <thead>\n",
       "    <tr style=\"text-align: right;\">\n",
       "      <th></th>\n",
       "      <th>first_order_month</th>\n",
       "      <th>n_buyers</th>\n",
       "    </tr>\n",
       "  </thead>\n",
       "  <tbody>\n",
       "    <tr>\n",
       "      <td>0</td>\n",
       "      <td>2016-12-01</td>\n",
       "      <td>2822</td>\n",
       "    </tr>\n",
       "    <tr>\n",
       "      <td>1</td>\n",
       "      <td>2017-01-01</td>\n",
       "      <td>229</td>\n",
       "    </tr>\n",
       "    <tr>\n",
       "      <td>2</td>\n",
       "      <td>2017-02-01</td>\n",
       "      <td>108</td>\n",
       "    </tr>\n",
       "  </tbody>\n",
       "</table>\n",
       "</div>"
      ],
      "text/plain": [
       "  first_order_month  n_buyers\n",
       "0        2016-12-01      2822\n",
       "1        2017-01-01       229\n",
       "2        2017-02-01       108"
      ]
     },
     "execution_count": 52,
     "metadata": {},
     "output_type": "execute_result"
    }
   ],
   "source": [
    "cohort_size = first_orders.groupby('First Order Month').agg({'item_ID':'nunique'}).reset_index()\n",
    "cohort_size.columns = ['first_order_month', 'n_buyers']\n",
    "cohort_size.head()"
   ]
  },
  {
   "cell_type": "code",
   "execution_count": 55,
   "metadata": {},
   "outputs": [
    {
     "data": {
      "image/png": "[encoded data removed]",
      "text/plain": [
       "<Figure size 1152x576 with 1 Axes>"
      ]
     },
     "metadata": {},
     "output_type": "display_data"
    }
   ],
   "source": [
    "draw_bar('first_order_month','n_buyers', cohort_size, 'Amount of users in months', 'Users', 'Months', 0)"
   ]
  },
  {
   "cell_type": "code",
   "execution_count": 129,
   "metadata": {},
   "outputs": [
    {
     "data": {
      "text/html": [
       "<div>\n",
       "<style scoped>\n",
       "    .dataframe tbody tr th:only-of-type {\n",
       "        vertical-align: middle;\n",
       "    }\n",
       "\n",
       "    .dataframe tbody tr th {\n",
       "        vertical-align: top;\n",
       "    }\n",
       "\n",
       "    .dataframe thead th {\n",
       "        text-align: right;\n",
       "    }\n",
       "</style>\n",
       "<table border=\"1\" class=\"dataframe\">\n",
       "  <thead>\n",
       "    <tr style=\"text-align: right;\">\n",
       "      <th></th>\n",
       "      <th>purchaseid</th>\n",
       "      <th>item_ID</th>\n",
       "      <th>Quantity</th>\n",
       "      <th>purchasedate</th>\n",
       "      <th>CustomerID</th>\n",
       "      <th>loyalty_program</th>\n",
       "      <th>ShopID</th>\n",
       "      <th>date</th>\n",
       "      <th>week</th>\n",
       "      <th>month</th>\n",
       "      <th>year</th>\n",
       "      <th>price_per_one</th>\n",
       "    </tr>\n",
       "  </thead>\n",
       "  <tbody>\n",
       "    <tr>\n",
       "      <td>0</td>\n",
       "      <td>538280</td>\n",
       "      <td>21873</td>\n",
       "      <td>11</td>\n",
       "      <td>2016-12-10 12:50:00</td>\n",
       "      <td>18427</td>\n",
       "      <td>0</td>\n",
       "      <td>Shop 3</td>\n",
       "      <td>2016-12-10</td>\n",
       "      <td>2016-12-08</td>\n",
       "      <td>2016-12-01</td>\n",
       "      <td>2016-01-01</td>\n",
       "      <td>0.42</td>\n",
       "    </tr>\n",
       "    <tr>\n",
       "      <td>1</td>\n",
       "      <td>541104</td>\n",
       "      <td>21873</td>\n",
       "      <td>0</td>\n",
       "      <td>2017-01-13 14:29:00</td>\n",
       "      <td>None</td>\n",
       "      <td>0</td>\n",
       "      <td>Shop 0</td>\n",
       "      <td>2017-01-13</td>\n",
       "      <td>2017-01-12</td>\n",
       "      <td>2017-01-01</td>\n",
       "      <td>2017-01-01</td>\n",
       "      <td>0.42</td>\n",
       "    </tr>\n",
       "    <tr>\n",
       "      <td>2</td>\n",
       "      <td>540418</td>\n",
       "      <td>21873</td>\n",
       "      <td>1</td>\n",
       "      <td>2017-01-07 11:04:00</td>\n",
       "      <td>None</td>\n",
       "      <td>0</td>\n",
       "      <td>Shop 0</td>\n",
       "      <td>2017-01-07</td>\n",
       "      <td>2017-01-05</td>\n",
       "      <td>2017-01-01</td>\n",
       "      <td>2017-01-01</td>\n",
       "      <td>0.42</td>\n",
       "    </tr>\n",
       "    <tr>\n",
       "      <td>3</td>\n",
       "      <td>541516</td>\n",
       "      <td>21873</td>\n",
       "      <td>2</td>\n",
       "      <td>2017-01-18 17:34:00</td>\n",
       "      <td>None</td>\n",
       "      <td>0</td>\n",
       "      <td>Shop 0</td>\n",
       "      <td>2017-01-18</td>\n",
       "      <td>2017-01-12</td>\n",
       "      <td>2017-01-01</td>\n",
       "      <td>2017-01-01</td>\n",
       "      <td>0.42</td>\n",
       "    </tr>\n",
       "    <tr>\n",
       "      <td>4</td>\n",
       "      <td>541566</td>\n",
       "      <td>21873</td>\n",
       "      <td>35</td>\n",
       "      <td>2017-01-19 11:50:00</td>\n",
       "      <td>23401</td>\n",
       "      <td>1</td>\n",
       "      <td>Shop 22</td>\n",
       "      <td>2017-01-19</td>\n",
       "      <td>2017-01-19</td>\n",
       "      <td>2017-01-01</td>\n",
       "      <td>2017-01-01</td>\n",
       "      <td>0.42</td>\n",
       "    </tr>\n",
       "  </tbody>\n",
       "</table>\n",
       "</div>"
      ],
      "text/plain": [
       "  purchaseid item_ID  Quantity        purchasedate CustomerID  \\\n",
       "0     538280   21873        11 2016-12-10 12:50:00      18427   \n",
       "1     541104   21873         0 2017-01-13 14:29:00       None   \n",
       "2     540418   21873         1 2017-01-07 11:04:00       None   \n",
       "3     541516   21873         2 2017-01-18 17:34:00       None   \n",
       "4     541566   21873        35 2017-01-19 11:50:00      23401   \n",
       "\n",
       "   loyalty_program   ShopID        date       week      month       year  \\\n",
       "0                0   Shop 3  2016-12-10 2016-12-08 2016-12-01 2016-01-01   \n",
       "1                0   Shop 0  2017-01-13 2017-01-12 2017-01-01 2017-01-01   \n",
       "2                0   Shop 0  2017-01-07 2017-01-05 2017-01-01 2017-01-01   \n",
       "3                0   Shop 0  2017-01-18 2017-01-12 2017-01-01 2017-01-01   \n",
       "4                1  Shop 22  2017-01-19 2017-01-19 2017-01-01 2017-01-01   \n",
       "\n",
       "   price_per_one  \n",
       "0           0.42  \n",
       "1           0.42  \n",
       "2           0.42  \n",
       "3           0.42  \n",
       "4           0.42  "
      ]
     },
     "execution_count": 129,
     "metadata": {},
     "output_type": "execute_result"
    }
   ],
   "source": [
    "merged.head()"
   ]
  },
  {
   "cell_type": "code",
   "execution_count": 130,
   "metadata": {},
   "outputs": [
    {
     "data": {
      "text/html": [
       "<div>\n",
       "<style scoped>\n",
       "    .dataframe tbody tr th:only-of-type {\n",
       "        vertical-align: middle;\n",
       "    }\n",
       "\n",
       "    .dataframe tbody tr th {\n",
       "        vertical-align: top;\n",
       "    }\n",
       "\n",
       "    .dataframe thead th {\n",
       "        text-align: right;\n",
       "    }\n",
       "</style>\n",
       "<table border=\"1\" class=\"dataframe\">\n",
       "  <thead>\n",
       "    <tr style=\"text-align: right;\">\n",
       "      <th></th>\n",
       "      <th>purchaseid</th>\n",
       "      <th>item_ID</th>\n",
       "      <th>Quantity</th>\n",
       "      <th>purchasedate</th>\n",
       "      <th>CustomerID</th>\n",
       "      <th>loyalty_program</th>\n",
       "      <th>ShopID</th>\n",
       "      <th>date</th>\n",
       "      <th>week</th>\n",
       "      <th>month</th>\n",
       "      <th>year</th>\n",
       "      <th>price_per_one</th>\n",
       "      <th>revenue</th>\n",
       "    </tr>\n",
       "  </thead>\n",
       "  <tbody>\n",
       "    <tr>\n",
       "      <td>0</td>\n",
       "      <td>538280</td>\n",
       "      <td>21873</td>\n",
       "      <td>11</td>\n",
       "      <td>2016-12-10 12:50:00</td>\n",
       "      <td>18427</td>\n",
       "      <td>0</td>\n",
       "      <td>Shop 3</td>\n",
       "      <td>2016-12-10</td>\n",
       "      <td>2016-12-08</td>\n",
       "      <td>2016-12-01</td>\n",
       "      <td>2016-01-01</td>\n",
       "      <td>0.42</td>\n",
       "      <td>4.62</td>\n",
       "    </tr>\n",
       "    <tr>\n",
       "      <td>1</td>\n",
       "      <td>541104</td>\n",
       "      <td>21873</td>\n",
       "      <td>0</td>\n",
       "      <td>2017-01-13 14:29:00</td>\n",
       "      <td>None</td>\n",
       "      <td>0</td>\n",
       "      <td>Shop 0</td>\n",
       "      <td>2017-01-13</td>\n",
       "      <td>2017-01-12</td>\n",
       "      <td>2017-01-01</td>\n",
       "      <td>2017-01-01</td>\n",
       "      <td>0.42</td>\n",
       "      <td>0.00</td>\n",
       "    </tr>\n",
       "    <tr>\n",
       "      <td>2</td>\n",
       "      <td>540418</td>\n",
       "      <td>21873</td>\n",
       "      <td>1</td>\n",
       "      <td>2017-01-07 11:04:00</td>\n",
       "      <td>None</td>\n",
       "      <td>0</td>\n",
       "      <td>Shop 0</td>\n",
       "      <td>2017-01-07</td>\n",
       "      <td>2017-01-05</td>\n",
       "      <td>2017-01-01</td>\n",
       "      <td>2017-01-01</td>\n",
       "      <td>0.42</td>\n",
       "      <td>0.42</td>\n",
       "    </tr>\n",
       "    <tr>\n",
       "      <td>3</td>\n",
       "      <td>541516</td>\n",
       "      <td>21873</td>\n",
       "      <td>2</td>\n",
       "      <td>2017-01-18 17:34:00</td>\n",
       "      <td>None</td>\n",
       "      <td>0</td>\n",
       "      <td>Shop 0</td>\n",
       "      <td>2017-01-18</td>\n",
       "      <td>2017-01-12</td>\n",
       "      <td>2017-01-01</td>\n",
       "      <td>2017-01-01</td>\n",
       "      <td>0.42</td>\n",
       "      <td>0.84</td>\n",
       "    </tr>\n",
       "    <tr>\n",
       "      <td>4</td>\n",
       "      <td>541566</td>\n",
       "      <td>21873</td>\n",
       "      <td>35</td>\n",
       "      <td>2017-01-19 11:50:00</td>\n",
       "      <td>23401</td>\n",
       "      <td>1</td>\n",
       "      <td>Shop 22</td>\n",
       "      <td>2017-01-19</td>\n",
       "      <td>2017-01-19</td>\n",
       "      <td>2017-01-01</td>\n",
       "      <td>2017-01-01</td>\n",
       "      <td>0.42</td>\n",
       "      <td>14.70</td>\n",
       "    </tr>\n",
       "  </tbody>\n",
       "</table>\n",
       "</div>"
      ],
      "text/plain": [
       "  purchaseid item_ID  Quantity        purchasedate CustomerID  \\\n",
       "0     538280   21873        11 2016-12-10 12:50:00      18427   \n",
       "1     541104   21873         0 2017-01-13 14:29:00       None   \n",
       "2     540418   21873         1 2017-01-07 11:04:00       None   \n",
       "3     541516   21873         2 2017-01-18 17:34:00       None   \n",
       "4     541566   21873        35 2017-01-19 11:50:00      23401   \n",
       "\n",
       "   loyalty_program   ShopID        date       week      month       year  \\\n",
       "0                0   Shop 3  2016-12-10 2016-12-08 2016-12-01 2016-01-01   \n",
       "1                0   Shop 0  2017-01-13 2017-01-12 2017-01-01 2017-01-01   \n",
       "2                0   Shop 0  2017-01-07 2017-01-05 2017-01-01 2017-01-01   \n",
       "3                0   Shop 0  2017-01-18 2017-01-12 2017-01-01 2017-01-01   \n",
       "4                1  Shop 22  2017-01-19 2017-01-19 2017-01-01 2017-01-01   \n",
       "\n",
       "   price_per_one  revenue  \n",
       "0           0.42     4.62  \n",
       "1           0.42     0.00  \n",
       "2           0.42     0.42  \n",
       "3           0.42     0.84  \n",
       "4           0.42    14.70  "
      ]
     },
     "execution_count": 130,
     "metadata": {},
     "output_type": "execute_result"
    }
   ],
   "source": [
    "\n",
    "merged.head()"
   ]
  },
  {
   "cell_type": "code",
   "execution_count": 131,
   "metadata": {},
   "outputs": [
    {
     "data": {
      "text/html": [
       "<div>\n",
       "<style scoped>\n",
       "    .dataframe tbody tr th:only-of-type {\n",
       "        vertical-align: middle;\n",
       "    }\n",
       "\n",
       "    .dataframe tbody tr th {\n",
       "        vertical-align: top;\n",
       "    }\n",
       "\n",
       "    .dataframe thead th {\n",
       "        text-align: right;\n",
       "    }\n",
       "</style>\n",
       "<table border=\"1\" class=\"dataframe\">\n",
       "  <thead>\n",
       "    <tr style=\"text-align: right;\">\n",
       "      <th></th>\n",
       "      <th>month</th>\n",
       "      <th>revenue</th>\n",
       "    </tr>\n",
       "  </thead>\n",
       "  <tbody>\n",
       "    <tr>\n",
       "      <td>0</td>\n",
       "      <td>2016-12-01</td>\n",
       "      <td>361327.71</td>\n",
       "    </tr>\n",
       "    <tr>\n",
       "      <td>1</td>\n",
       "      <td>2017-01-01</td>\n",
       "      <td>321553.46</td>\n",
       "    </tr>\n",
       "    <tr>\n",
       "      <td>2</td>\n",
       "      <td>2017-02-01</td>\n",
       "      <td>292564.89</td>\n",
       "    </tr>\n",
       "  </tbody>\n",
       "</table>\n",
       "</div>"
      ],
      "text/plain": [
       "       month    revenue\n",
       "0 2016-12-01  361327.71\n",
       "1 2017-01-01  321553.46\n",
       "2 2017-02-01  292564.89"
      ]
     },
     "execution_count": 131,
     "metadata": {},
     "output_type": "execute_result"
    }
   ],
   "source": [
    "cohorts = merged.groupby(['month']).agg({'revenue': 'sum'}).reset_index()\n",
    "cohorts.head() "
   ]
  },
  {
   "cell_type": "code",
   "execution_count": 132,
   "metadata": {},
   "outputs": [
    {
     "data": {
      "image/png": "[encoded data removed]",
      "text/plain": [
       "<Figure size 1152x576 with 1 Axes>"
      ]
     },
     "metadata": {},
     "output_type": "display_data"
    }
   ],
   "source": [
    "draw_barplot('month', 'revenue', cohorts, 'Ratio month/revenue for whole shops', 'Revenue', 'Months', 0)"
   ]
  },
  {
   "cell_type": "markdown",
   "metadata": {},
   "source": [
    "* The graph shows that the maximum income was brought by the month of December, and then income snowballing occurs."
   ]
  },
  {
   "cell_type": "code",
   "execution_count": 133,
   "metadata": {},
   "outputs": [
    {
     "data": {
      "text/html": [
       "<div>\n",
       "<style scoped>\n",
       "    .dataframe tbody tr th:only-of-type {\n",
       "        vertical-align: middle;\n",
       "    }\n",
       "\n",
       "    .dataframe tbody tr th {\n",
       "        vertical-align: top;\n",
       "    }\n",
       "\n",
       "    .dataframe thead th {\n",
       "        text-align: right;\n",
       "    }\n",
       "</style>\n",
       "<table border=\"1\" class=\"dataframe\">\n",
       "  <thead>\n",
       "    <tr style=\"text-align: right;\">\n",
       "      <th></th>\n",
       "      <th>date</th>\n",
       "      <th>revenue</th>\n",
       "      <th>Quantity</th>\n",
       "      <th>ratio</th>\n",
       "    </tr>\n",
       "  </thead>\n",
       "  <tbody>\n",
       "    <tr>\n",
       "      <td>0</td>\n",
       "      <td>2016-12-01</td>\n",
       "      <td>26913.22</td>\n",
       "      <td>23649</td>\n",
       "      <td>0.878713</td>\n",
       "    </tr>\n",
       "    <tr>\n",
       "      <td>1</td>\n",
       "      <td>2016-12-02</td>\n",
       "      <td>26914.11</td>\n",
       "      <td>18890</td>\n",
       "      <td>0.701862</td>\n",
       "    </tr>\n",
       "    <tr>\n",
       "      <td>2</td>\n",
       "      <td>2016-12-03</td>\n",
       "      <td>14341.68</td>\n",
       "      <td>12597</td>\n",
       "      <td>0.878349</td>\n",
       "    </tr>\n",
       "    <tr>\n",
       "      <td>3</td>\n",
       "      <td>2016-12-05</td>\n",
       "      <td>14747.20</td>\n",
       "      <td>13567</td>\n",
       "      <td>0.919971</td>\n",
       "    </tr>\n",
       "    <tr>\n",
       "      <td>4</td>\n",
       "      <td>2016-12-06</td>\n",
       "      <td>20183.17</td>\n",
       "      <td>17413</td>\n",
       "      <td>0.862749</td>\n",
       "    </tr>\n",
       "  </tbody>\n",
       "</table>\n",
       "</div>"
      ],
      "text/plain": [
       "         date   revenue  Quantity     ratio\n",
       "0  2016-12-01  26913.22     23649  0.878713\n",
       "1  2016-12-02  26914.11     18890  0.701862\n",
       "2  2016-12-03  14341.68     12597  0.878349\n",
       "3  2016-12-05  14747.20     13567  0.919971\n",
       "4  2016-12-06  20183.17     17413  0.862749"
      ]
     },
     "execution_count": 133,
     "metadata": {},
     "output_type": "execute_result"
    }
   ],
   "source": [
    "daily_revenue_quantity = merged.groupby(['date']).agg({'revenue': 'sum', 'Quantity':'sum'}).reset_index()\n",
    "daily_revenue_quantity['ratio'] = daily_revenue_quantity['Quantity'] / daily_revenue_quantity['revenue']\n",
    "daily_revenue_quantity.head()"
   ]
  },
  {
   "cell_type": "code",
   "execution_count": 134,
   "metadata": {},
   "outputs": [
    {
     "data": {
      "image/png": "[encoded data removed]",
      "text/plain": [
       "<Figure size 1152x576 with 1 Axes>"
      ]
     },
     "metadata": {},
     "output_type": "display_data"
    }
   ],
   "source": [
    "draw_2_plots(daily_revenue_quantity, 'date', 'revenue', 'Quantity', 'Amount of revenue and purchases depending on the day.', 'Revenue/Purchases', 'Dates')"
   ]
  },
  {
   "cell_type": "code",
   "execution_count": 135,
   "metadata": {
    "scrolled": true
   },
   "outputs": [
    {
     "data": {
      "image/png": "[encoded data removed]",
      "text/plain": [
       "<Figure size 1152x360 with 1 Axes>"
      ]
     },
     "metadata": {},
     "output_type": "display_data"
    }
   ],
   "source": [
    "draw_plot(daily_revenue_quantity, 'date', 'ratio', 'The ratio of the number of purchases to the revenue from them.', 'Dates', 'Score')"
   ]
  },
  {
   "cell_type": "code",
   "execution_count": 136,
   "metadata": {},
   "outputs": [
    {
     "data": {
      "text/html": [
       "<div>\n",
       "<style scoped>\n",
       "    .dataframe tbody tr th:only-of-type {\n",
       "        vertical-align: middle;\n",
       "    }\n",
       "\n",
       "    .dataframe tbody tr th {\n",
       "        vertical-align: top;\n",
       "    }\n",
       "\n",
       "    .dataframe thead th {\n",
       "        text-align: right;\n",
       "    }\n",
       "</style>\n",
       "<table border=\"1\" class=\"dataframe\">\n",
       "  <thead>\n",
       "    <tr style=\"text-align: right;\">\n",
       "      <th></th>\n",
       "      <th>first_order_month</th>\n",
       "      <th>revenue</th>\n",
       "    </tr>\n",
       "  </thead>\n",
       "  <tbody>\n",
       "    <tr>\n",
       "      <td>0</td>\n",
       "      <td>2016-12-01</td>\n",
       "      <td>361327.71</td>\n",
       "    </tr>\n",
       "    <tr>\n",
       "      <td>1</td>\n",
       "      <td>2017-01-01</td>\n",
       "      <td>321553.46</td>\n",
       "    </tr>\n",
       "    <tr>\n",
       "      <td>2</td>\n",
       "      <td>2017-02-01</td>\n",
       "      <td>292564.89</td>\n",
       "    </tr>\n",
       "  </tbody>\n",
       "</table>\n",
       "</div>"
      ],
      "text/plain": [
       "  first_order_month    revenue\n",
       "0        2016-12-01  361327.71\n",
       "1        2017-01-01  321553.46\n",
       "2        2017-02-01  292564.89"
      ]
     },
     "execution_count": 136,
     "metadata": {},
     "output_type": "execute_result"
    }
   ],
   "source": [
    "cohorts.columns = ['first_order_month', 'revenue']\n",
    "cohorts.head(30)"
   ]
  },
  {
   "cell_type": "code",
   "execution_count": 137,
   "metadata": {},
   "outputs": [
    {
     "data": {
      "text/html": [
       "<div>\n",
       "<style scoped>\n",
       "    .dataframe tbody tr th:only-of-type {\n",
       "        vertical-align: middle;\n",
       "    }\n",
       "\n",
       "    .dataframe tbody tr th {\n",
       "        vertical-align: top;\n",
       "    }\n",
       "\n",
       "    .dataframe thead th {\n",
       "        text-align: right;\n",
       "    }\n",
       "</style>\n",
       "<table border=\"1\" class=\"dataframe\">\n",
       "  <thead>\n",
       "    <tr style=\"text-align: right;\">\n",
       "      <th></th>\n",
       "      <th>first_order_month</th>\n",
       "      <th>n_buyers</th>\n",
       "      <th>revenue</th>\n",
       "    </tr>\n",
       "  </thead>\n",
       "  <tbody>\n",
       "    <tr>\n",
       "      <td>0</td>\n",
       "      <td>2016-12-01</td>\n",
       "      <td>2822</td>\n",
       "      <td>361327.71</td>\n",
       "    </tr>\n",
       "    <tr>\n",
       "      <td>1</td>\n",
       "      <td>2017-01-01</td>\n",
       "      <td>229</td>\n",
       "      <td>321553.46</td>\n",
       "    </tr>\n",
       "    <tr>\n",
       "      <td>2</td>\n",
       "      <td>2017-02-01</td>\n",
       "      <td>108</td>\n",
       "      <td>292564.89</td>\n",
       "    </tr>\n",
       "  </tbody>\n",
       "</table>\n",
       "</div>"
      ],
      "text/plain": [
       "  first_order_month  n_buyers    revenue\n",
       "0        2016-12-01      2822  361327.71\n",
       "1        2017-01-01       229  321553.46\n",
       "2        2017-02-01       108  292564.89"
      ]
     },
     "execution_count": 137,
     "metadata": {},
     "output_type": "execute_result"
    }
   ],
   "source": [
    "report = pd.merge(cohort_size, cohorts, on='first_order_month')\n",
    "report.head()"
   ]
  },
  {
   "cell_type": "code",
   "execution_count": 138,
   "metadata": {},
   "outputs": [
    {
     "data": {
      "text/html": [
       "<div>\n",
       "<style scoped>\n",
       "    .dataframe tbody tr th:only-of-type {\n",
       "        vertical-align: middle;\n",
       "    }\n",
       "\n",
       "    .dataframe tbody tr th {\n",
       "        vertical-align: top;\n",
       "    }\n",
       "\n",
       "    .dataframe thead th {\n",
       "        text-align: right;\n",
       "    }\n",
       "</style>\n",
       "<table border=\"1\" class=\"dataframe\">\n",
       "  <thead>\n",
       "    <tr style=\"text-align: right;\">\n",
       "      <th></th>\n",
       "      <th>first_order_month</th>\n",
       "      <th>n_buyers</th>\n",
       "      <th>revenue</th>\n",
       "      <th>global profit</th>\n",
       "      <th>LTV</th>\n",
       "    </tr>\n",
       "  </thead>\n",
       "  <tbody>\n",
       "    <tr>\n",
       "      <td>0</td>\n",
       "      <td>2016-12-01</td>\n",
       "      <td>2822</td>\n",
       "      <td>361327.71</td>\n",
       "      <td>180663.855</td>\n",
       "      <td>64.019793</td>\n",
       "    </tr>\n",
       "    <tr>\n",
       "      <td>1</td>\n",
       "      <td>2017-01-01</td>\n",
       "      <td>229</td>\n",
       "      <td>321553.46</td>\n",
       "      <td>160776.730</td>\n",
       "      <td>702.081790</td>\n",
       "    </tr>\n",
       "    <tr>\n",
       "      <td>2</td>\n",
       "      <td>2017-02-01</td>\n",
       "      <td>108</td>\n",
       "      <td>292564.89</td>\n",
       "      <td>146282.445</td>\n",
       "      <td>1354.467083</td>\n",
       "    </tr>\n",
       "  </tbody>\n",
       "</table>\n",
       "</div>"
      ],
      "text/plain": [
       "  first_order_month  n_buyers    revenue  global profit          LTV\n",
       "0        2016-12-01      2822  361327.71     180663.855    64.019793\n",
       "1        2017-01-01       229  321553.46     160776.730   702.081790\n",
       "2        2017-02-01       108  292564.89     146282.445  1354.467083"
      ]
     },
     "execution_count": 138,
     "metadata": {},
     "output_type": "execute_result"
    }
   ],
   "source": [
    "margine_rate = .5\n",
    "report['global profit'] = report['revenue'] * margine_rate\n",
    "report['LTV'] =  report['global profit'] / report['n_buyers']\n",
    "report.head()"
   ]
  },
  {
   "cell_type": "code",
   "execution_count": 139,
   "metadata": {},
   "outputs": [
    {
     "data": {
      "text/html": [
       "<div>\n",
       "<style scoped>\n",
       "    .dataframe tbody tr th:only-of-type {\n",
       "        vertical-align: middle;\n",
       "    }\n",
       "\n",
       "    .dataframe tbody tr th {\n",
       "        vertical-align: top;\n",
       "    }\n",
       "\n",
       "    .dataframe thead th {\n",
       "        text-align: right;\n",
       "    }\n",
       "</style>\n",
       "<table border=\"1\" class=\"dataframe\">\n",
       "  <thead>\n",
       "    <tr style=\"text-align: right;\">\n",
       "      <th></th>\n",
       "      <th>ShopID</th>\n",
       "      <th>revenue</th>\n",
       "    </tr>\n",
       "  </thead>\n",
       "  <tbody>\n",
       "    <tr>\n",
       "      <td>0</td>\n",
       "      <td>Shop 15</td>\n",
       "      <td>111537.83</td>\n",
       "    </tr>\n",
       "    <tr>\n",
       "      <td>1</td>\n",
       "      <td>Shop 0</td>\n",
       "      <td>105171.58</td>\n",
       "    </tr>\n",
       "    <tr>\n",
       "      <td>2</td>\n",
       "      <td>Shop 5</td>\n",
       "      <td>63046.14</td>\n",
       "    </tr>\n",
       "    <tr>\n",
       "      <td>3</td>\n",
       "      <td>Shop 4</td>\n",
       "      <td>39778.52</td>\n",
       "    </tr>\n",
       "    <tr>\n",
       "      <td>4</td>\n",
       "      <td>Shop 20</td>\n",
       "      <td>39468.26</td>\n",
       "    </tr>\n",
       "  </tbody>\n",
       "</table>\n",
       "</div>"
      ],
      "text/plain": [
       "    ShopID    revenue\n",
       "0  Shop 15  111537.83\n",
       "1   Shop 0  105171.58\n",
       "2   Shop 5   63046.14\n",
       "3   Shop 4   39778.52\n",
       "4  Shop 20   39468.26"
      ]
     },
     "execution_count": 139,
     "metadata": {},
     "output_type": "execute_result"
    }
   ],
   "source": [
    "shops_dist_revenue = merged.groupby('ShopID').agg({'revenue':'sum'}).sort_values(by='revenue', ascending=False).reset_index()\n",
    "shops_dist_revenue.head()"
   ]
  },
  {
   "cell_type": "code",
   "execution_count": 140,
   "metadata": {},
   "outputs": [
    {
     "data": {
      "text/html": [
       "<div>\n",
       "<style scoped>\n",
       "    .dataframe tbody tr th:only-of-type {\n",
       "        vertical-align: middle;\n",
       "    }\n",
       "\n",
       "    .dataframe tbody tr th {\n",
       "        vertical-align: top;\n",
       "    }\n",
       "\n",
       "    .dataframe thead th {\n",
       "        text-align: right;\n",
       "    }\n",
       "</style>\n",
       "<table border=\"1\" class=\"dataframe\">\n",
       "  <thead>\n",
       "    <tr style=\"text-align: right;\">\n",
       "      <th></th>\n",
       "      <th>purchaseid</th>\n",
       "      <th>item_ID</th>\n",
       "      <th>Quantity</th>\n",
       "      <th>purchasedate</th>\n",
       "      <th>CustomerID</th>\n",
       "      <th>loyalty_program</th>\n",
       "      <th>ShopID</th>\n",
       "      <th>date</th>\n",
       "      <th>week</th>\n",
       "      <th>month</th>\n",
       "      <th>year</th>\n",
       "      <th>price_per_one</th>\n",
       "      <th>revenue</th>\n",
       "    </tr>\n",
       "  </thead>\n",
       "  <tbody>\n",
       "    <tr>\n",
       "      <td>0</td>\n",
       "      <td>538280</td>\n",
       "      <td>21873</td>\n",
       "      <td>11</td>\n",
       "      <td>2016-12-10 12:50:00</td>\n",
       "      <td>18427</td>\n",
       "      <td>0</td>\n",
       "      <td>Shop 3</td>\n",
       "      <td>2016-12-10</td>\n",
       "      <td>2016-12-08</td>\n",
       "      <td>2016-12-01</td>\n",
       "      <td>2016-01-01</td>\n",
       "      <td>0.42</td>\n",
       "      <td>4.62</td>\n",
       "    </tr>\n",
       "    <tr>\n",
       "      <td>1</td>\n",
       "      <td>541104</td>\n",
       "      <td>21873</td>\n",
       "      <td>0</td>\n",
       "      <td>2017-01-13 14:29:00</td>\n",
       "      <td>None</td>\n",
       "      <td>0</td>\n",
       "      <td>Shop 0</td>\n",
       "      <td>2017-01-13</td>\n",
       "      <td>2017-01-12</td>\n",
       "      <td>2017-01-01</td>\n",
       "      <td>2017-01-01</td>\n",
       "      <td>0.42</td>\n",
       "      <td>0.00</td>\n",
       "    </tr>\n",
       "    <tr>\n",
       "      <td>2</td>\n",
       "      <td>540418</td>\n",
       "      <td>21873</td>\n",
       "      <td>1</td>\n",
       "      <td>2017-01-07 11:04:00</td>\n",
       "      <td>None</td>\n",
       "      <td>0</td>\n",
       "      <td>Shop 0</td>\n",
       "      <td>2017-01-07</td>\n",
       "      <td>2017-01-05</td>\n",
       "      <td>2017-01-01</td>\n",
       "      <td>2017-01-01</td>\n",
       "      <td>0.42</td>\n",
       "      <td>0.42</td>\n",
       "    </tr>\n",
       "    <tr>\n",
       "      <td>3</td>\n",
       "      <td>541516</td>\n",
       "      <td>21873</td>\n",
       "      <td>2</td>\n",
       "      <td>2017-01-18 17:34:00</td>\n",
       "      <td>None</td>\n",
       "      <td>0</td>\n",
       "      <td>Shop 0</td>\n",
       "      <td>2017-01-18</td>\n",
       "      <td>2017-01-12</td>\n",
       "      <td>2017-01-01</td>\n",
       "      <td>2017-01-01</td>\n",
       "      <td>0.42</td>\n",
       "      <td>0.84</td>\n",
       "    </tr>\n",
       "    <tr>\n",
       "      <td>4</td>\n",
       "      <td>541566</td>\n",
       "      <td>21873</td>\n",
       "      <td>35</td>\n",
       "      <td>2017-01-19 11:50:00</td>\n",
       "      <td>23401</td>\n",
       "      <td>1</td>\n",
       "      <td>Shop 22</td>\n",
       "      <td>2017-01-19</td>\n",
       "      <td>2017-01-19</td>\n",
       "      <td>2017-01-01</td>\n",
       "      <td>2017-01-01</td>\n",
       "      <td>0.42</td>\n",
       "      <td>14.70</td>\n",
       "    </tr>\n",
       "  </tbody>\n",
       "</table>\n",
       "</div>"
      ],
      "text/plain": [
       "  purchaseid item_ID  Quantity        purchasedate CustomerID  \\\n",
       "0     538280   21873        11 2016-12-10 12:50:00      18427   \n",
       "1     541104   21873         0 2017-01-13 14:29:00       None   \n",
       "2     540418   21873         1 2017-01-07 11:04:00       None   \n",
       "3     541516   21873         2 2017-01-18 17:34:00       None   \n",
       "4     541566   21873        35 2017-01-19 11:50:00      23401   \n",
       "\n",
       "   loyalty_program   ShopID        date       week      month       year  \\\n",
       "0                0   Shop 3  2016-12-10 2016-12-08 2016-12-01 2016-01-01   \n",
       "1                0   Shop 0  2017-01-13 2017-01-12 2017-01-01 2017-01-01   \n",
       "2                0   Shop 0  2017-01-07 2017-01-05 2017-01-01 2017-01-01   \n",
       "3                0   Shop 0  2017-01-18 2017-01-12 2017-01-01 2017-01-01   \n",
       "4                1  Shop 22  2017-01-19 2017-01-19 2017-01-01 2017-01-01   \n",
       "\n",
       "   price_per_one  revenue  \n",
       "0           0.42     4.62  \n",
       "1           0.42     0.00  \n",
       "2           0.42     0.42  \n",
       "3           0.42     0.84  \n",
       "4           0.42    14.70  "
      ]
     },
     "execution_count": 140,
     "metadata": {},
     "output_type": "execute_result"
    }
   ],
   "source": [
    "merged.head()"
   ]
  },
  {
   "cell_type": "markdown",
   "metadata": {},
   "source": [
    "### Test Hypothesis"
   ]
  },
  {
   "cell_type": "markdown",
   "metadata": {},
   "source": [
    "Let us formulate hypotheses:\n",
    " - H_0 (the null hypothesis): there's not a statistically significant difference in conversion between without loyalty program and with loyalty program;\n",
    " - H_a (the alternative hypothesis): there is a statistically significant difference in conversion between without loyalty program and with loyalty program;"
   ]
  },
  {
   "cell_type": "markdown",
   "metadata": {},
   "source": [
    "- [X] Check outliers."
   ]
  },
  {
   "cell_type": "markdown",
   "metadata": {},
   "source": [
    "- Revenue"
   ]
  },
  {
   "cell_type": "code",
   "execution_count": 141,
   "metadata": {},
   "outputs": [
    {
     "data": {
      "image/png": "[encoded data removed]",
      "text/plain": [
       "<Figure size 1152x576 with 1 Axes>"
      ]
     },
     "metadata": {},
     "output_type": "display_data"
    }
   ],
   "source": [
    "plot_dist(merged, 'revenue', 'Revenue distribution', 'Score', 'Revenue')"
   ]
  },
  {
   "cell_type": "code",
   "execution_count": 142,
   "metadata": {},
   "outputs": [
    {
     "name": "stdout",
     "output_type": "stream",
     "text": [
      "[ 18.15  32.45 119.99]\n"
     ]
    }
   ],
   "source": [
    "print(np.percentile(merged['revenue'], [90, 95, 99])) "
   ]
  },
  {
   "cell_type": "code",
   "execution_count": 143,
   "metadata": {},
   "outputs": [
    {
     "data": {
      "image/png": "[encoded data removed]",
      "text/plain": [
       "<Figure size 1152x576 with 1 Axes>"
      ]
     },
     "metadata": {},
     "output_type": "display_data"
    }
   ],
   "source": [
    "draw_outliers(merged, 'revenue', 'loyalty_program')"
   ]
  },
  {
   "cell_type": "code",
   "execution_count": 144,
   "metadata": {},
   "outputs": [
    {
     "name": "stdout",
     "output_type": "stream",
     "text": [
      "     CustomerID  Purchases\n",
      "1749       None        748\n",
      "142       18427         46\n",
      "689       20285         38\n",
      "1618      23529         35\n",
      "884       20990         33\n",
      "1614      23520         30\n",
      "243       18768         29\n",
      "779       20590         28\n",
      "813       20740         21\n",
      "664       20206         20\n"
     ]
    }
   ],
   "source": [
    "purchasesByCustomers = (\n",
    "    merged.groupby('CustomerID', as_index=False)\n",
    "    .agg({'purchaseid':pd.Series.nunique})\n",
    ")\n",
    "purchasesByCustomers.columns = ['CustomerID','Purchases']\n",
    "print(purchasesByCustomers.sort_values(by='Purchases', ascending=False).head(10))"
   ]
  },
  {
   "cell_type": "code",
   "execution_count": 146,
   "metadata": {},
   "outputs": [
    {
     "data": {
      "text/plain": [
       "<matplotlib.collections.PathCollection at 0x173a03bdd48>"
      ]
     },
     "execution_count": 146,
     "metadata": {},
     "output_type": "execute_result"
    },
    {
     "data": {
      "image/png": "[encoded data removed]",
      "text/plain": [
       "<Figure size 1152x576 with 1 Axes>"
      ]
     },
     "metadata": {},
     "output_type": "display_data"
    }
   ],
   "source": [
    "x_values = pd.Series(range(0,len(purchasesByCustomers)))\n",
    "plt.scatter(x_values, purchasesByCustomers['Purchases'])"
   ]
  },
  {
   "cell_type": "code",
   "execution_count": 147,
   "metadata": {},
   "outputs": [
    {
     "name": "stdout",
     "output_type": "stream",
     "text": [
      "[ 5.  7. 14.]\n"
     ]
    }
   ],
   "source": [
    "print(np.percentile(purchasesByCustomers['Purchases'], [90, 95, 99])) "
   ]
  },
  {
   "cell_type": "markdown",
   "metadata": {},
   "source": [
    "Let's calculate the statistical significance of the difference in conversion between the groups."
   ]
  },
  {
   "cell_type": "code",
   "execution_count": 148,
   "metadata": {},
   "outputs": [
    {
     "data": {
      "text/html": [
       "<div>\n",
       "<style scoped>\n",
       "    .dataframe tbody tr th:only-of-type {\n",
       "        vertical-align: middle;\n",
       "    }\n",
       "\n",
       "    .dataframe tbody tr th {\n",
       "        vertical-align: top;\n",
       "    }\n",
       "\n",
       "    .dataframe thead th {\n",
       "        text-align: right;\n",
       "    }\n",
       "</style>\n",
       "<table border=\"1\" class=\"dataframe\">\n",
       "  <thead>\n",
       "    <tr style=\"text-align: right;\">\n",
       "      <th></th>\n",
       "      <th>customerID</th>\n",
       "      <th>purchases</th>\n",
       "    </tr>\n",
       "  </thead>\n",
       "  <tbody>\n",
       "    <tr>\n",
       "      <td>0</td>\n",
       "      <td>22005.0</td>\n",
       "      <td>2</td>\n",
       "    </tr>\n",
       "    <tr>\n",
       "      <td>1</td>\n",
       "      <td>22006.0</td>\n",
       "      <td>2</td>\n",
       "    </tr>\n",
       "    <tr>\n",
       "      <td>2</td>\n",
       "      <td>22011.0</td>\n",
       "      <td>1</td>\n",
       "    </tr>\n",
       "    <tr>\n",
       "      <td>3</td>\n",
       "      <td>22012.0</td>\n",
       "      <td>3</td>\n",
       "    </tr>\n",
       "    <tr>\n",
       "      <td>4</td>\n",
       "      <td>22018.0</td>\n",
       "      <td>1</td>\n",
       "    </tr>\n",
       "  </tbody>\n",
       "</table>\n",
       "</div>"
      ],
      "text/plain": [
       "   customerID  purchases\n",
       "0     22005.0          2\n",
       "1     22006.0          2\n",
       "2     22011.0          1\n",
       "3     22012.0          3\n",
       "4     22018.0          1"
      ]
     },
     "metadata": {},
     "output_type": "display_data"
    }
   ],
   "source": [
    "purchasesByCustomersWithLoyalty = (\n",
    "    merged.query('loyalty_program == \"1\"')\n",
    "    .groupby('CustomerID', as_index=False)\n",
    "    .agg({'purchaseid':pd.Series.nunique})\n",
    ")\n",
    "purchasesByCustomersWithLoyalty.columns = ['customerID', 'purchases'] \n",
    "display(purchasesByCustomersWithLoyalty.head())"
   ]
  },
  {
   "cell_type": "code",
   "execution_count": 149,
   "metadata": {},
   "outputs": [
    {
     "data": {
      "text/html": [
       "<div>\n",
       "<style scoped>\n",
       "    .dataframe tbody tr th:only-of-type {\n",
       "        vertical-align: middle;\n",
       "    }\n",
       "\n",
       "    .dataframe tbody tr th {\n",
       "        vertical-align: top;\n",
       "    }\n",
       "\n",
       "    .dataframe thead th {\n",
       "        text-align: right;\n",
       "    }\n",
       "</style>\n",
       "<table border=\"1\" class=\"dataframe\">\n",
       "  <thead>\n",
       "    <tr style=\"text-align: right;\">\n",
       "      <th></th>\n",
       "      <th>customerID</th>\n",
       "      <th>purchases</th>\n",
       "    </tr>\n",
       "  </thead>\n",
       "  <tbody>\n",
       "    <tr>\n",
       "      <td>0</td>\n",
       "      <td>18025</td>\n",
       "      <td>2</td>\n",
       "    </tr>\n",
       "    <tr>\n",
       "      <td>1</td>\n",
       "      <td>18026</td>\n",
       "      <td>2</td>\n",
       "    </tr>\n",
       "    <tr>\n",
       "      <td>2</td>\n",
       "      <td>18027</td>\n",
       "      <td>2</td>\n",
       "    </tr>\n",
       "    <tr>\n",
       "      <td>3</td>\n",
       "      <td>18029</td>\n",
       "      <td>1</td>\n",
       "    </tr>\n",
       "    <tr>\n",
       "      <td>4</td>\n",
       "      <td>18031</td>\n",
       "      <td>1</td>\n",
       "    </tr>\n",
       "  </tbody>\n",
       "</table>\n",
       "</div>"
      ],
      "text/plain": [
       "  customerID  purchases\n",
       "0      18025          2\n",
       "1      18026          2\n",
       "2      18027          2\n",
       "3      18029          1\n",
       "4      18031          1"
      ]
     },
     "metadata": {},
     "output_type": "display_data"
    }
   ],
   "source": [
    "purchasesByCustomersWithoutLoyalty = (\n",
    "    merged.query('loyalty_program == \"0\"')\n",
    "    .groupby('CustomerID', as_index=False)\n",
    "    .agg({'purchaseid':pd.Series.nunique})\n",
    ")\n",
    "purchasesByCustomersWithoutLoyalty.columns = ['customerID', 'purchases'] \n",
    "display(purchasesByCustomersWithoutLoyalty.head())"
   ]
  },
  {
   "cell_type": "code",
   "execution_count": 150,
   "metadata": {},
   "outputs": [
    {
     "data": {
      "text/html": [
       "<div>\n",
       "<style scoped>\n",
       "    .dataframe tbody tr th:only-of-type {\n",
       "        vertical-align: middle;\n",
       "    }\n",
       "\n",
       "    .dataframe tbody tr th {\n",
       "        vertical-align: top;\n",
       "    }\n",
       "\n",
       "    .dataframe thead th {\n",
       "        text-align: right;\n",
       "    }\n",
       "</style>\n",
       "<table border=\"1\" class=\"dataframe\">\n",
       "  <thead>\n",
       "    <tr style=\"text-align: right;\">\n",
       "      <th></th>\n",
       "      <th>purchaseid</th>\n",
       "      <th>item_ID</th>\n",
       "      <th>Quantity</th>\n",
       "      <th>purchasedate</th>\n",
       "      <th>CustomerID</th>\n",
       "      <th>loyalty_program</th>\n",
       "      <th>ShopID</th>\n",
       "      <th>date</th>\n",
       "      <th>week</th>\n",
       "      <th>month</th>\n",
       "      <th>year</th>\n",
       "      <th>price_per_one</th>\n",
       "      <th>revenue</th>\n",
       "    </tr>\n",
       "  </thead>\n",
       "  <tbody>\n",
       "    <tr>\n",
       "      <td>0</td>\n",
       "      <td>538280</td>\n",
       "      <td>21873</td>\n",
       "      <td>11</td>\n",
       "      <td>2016-12-10 12:50:00</td>\n",
       "      <td>18427</td>\n",
       "      <td>0</td>\n",
       "      <td>Shop 3</td>\n",
       "      <td>2016-12-10</td>\n",
       "      <td>2016-12-08</td>\n",
       "      <td>2016-12-01</td>\n",
       "      <td>2016-01-01</td>\n",
       "      <td>0.42</td>\n",
       "      <td>4.62</td>\n",
       "    </tr>\n",
       "    <tr>\n",
       "      <td>1</td>\n",
       "      <td>541104</td>\n",
       "      <td>21873</td>\n",
       "      <td>0</td>\n",
       "      <td>2017-01-13 14:29:00</td>\n",
       "      <td>None</td>\n",
       "      <td>0</td>\n",
       "      <td>Shop 0</td>\n",
       "      <td>2017-01-13</td>\n",
       "      <td>2017-01-12</td>\n",
       "      <td>2017-01-01</td>\n",
       "      <td>2017-01-01</td>\n",
       "      <td>0.42</td>\n",
       "      <td>0.00</td>\n",
       "    </tr>\n",
       "    <tr>\n",
       "      <td>2</td>\n",
       "      <td>540418</td>\n",
       "      <td>21873</td>\n",
       "      <td>1</td>\n",
       "      <td>2017-01-07 11:04:00</td>\n",
       "      <td>None</td>\n",
       "      <td>0</td>\n",
       "      <td>Shop 0</td>\n",
       "      <td>2017-01-07</td>\n",
       "      <td>2017-01-05</td>\n",
       "      <td>2017-01-01</td>\n",
       "      <td>2017-01-01</td>\n",
       "      <td>0.42</td>\n",
       "      <td>0.42</td>\n",
       "    </tr>\n",
       "    <tr>\n",
       "      <td>3</td>\n",
       "      <td>541516</td>\n",
       "      <td>21873</td>\n",
       "      <td>2</td>\n",
       "      <td>2017-01-18 17:34:00</td>\n",
       "      <td>None</td>\n",
       "      <td>0</td>\n",
       "      <td>Shop 0</td>\n",
       "      <td>2017-01-18</td>\n",
       "      <td>2017-01-12</td>\n",
       "      <td>2017-01-01</td>\n",
       "      <td>2017-01-01</td>\n",
       "      <td>0.42</td>\n",
       "      <td>0.84</td>\n",
       "    </tr>\n",
       "    <tr>\n",
       "      <td>4</td>\n",
       "      <td>541566</td>\n",
       "      <td>21873</td>\n",
       "      <td>35</td>\n",
       "      <td>2017-01-19 11:50:00</td>\n",
       "      <td>23401</td>\n",
       "      <td>1</td>\n",
       "      <td>Shop 22</td>\n",
       "      <td>2017-01-19</td>\n",
       "      <td>2017-01-19</td>\n",
       "      <td>2017-01-01</td>\n",
       "      <td>2017-01-01</td>\n",
       "      <td>0.42</td>\n",
       "      <td>14.70</td>\n",
       "    </tr>\n",
       "  </tbody>\n",
       "</table>\n",
       "</div>"
      ],
      "text/plain": [
       "  purchaseid item_ID  Quantity        purchasedate CustomerID  \\\n",
       "0     538280   21873        11 2016-12-10 12:50:00      18427   \n",
       "1     541104   21873         0 2017-01-13 14:29:00       None   \n",
       "2     540418   21873         1 2017-01-07 11:04:00       None   \n",
       "3     541516   21873         2 2017-01-18 17:34:00       None   \n",
       "4     541566   21873        35 2017-01-19 11:50:00      23401   \n",
       "\n",
       "   loyalty_program   ShopID        date       week      month       year  \\\n",
       "0                0   Shop 3  2016-12-10 2016-12-08 2016-12-01 2016-01-01   \n",
       "1                0   Shop 0  2017-01-13 2017-01-12 2017-01-01 2017-01-01   \n",
       "2                0   Shop 0  2017-01-07 2017-01-05 2017-01-01 2017-01-01   \n",
       "3                0   Shop 0  2017-01-18 2017-01-12 2017-01-01 2017-01-01   \n",
       "4                1  Shop 22  2017-01-19 2017-01-19 2017-01-01 2017-01-01   \n",
       "\n",
       "   price_per_one  revenue  \n",
       "0           0.42     4.62  \n",
       "1           0.42     0.00  \n",
       "2           0.42     0.42  \n",
       "3           0.42     0.84  \n",
       "4           0.42    14.70  "
      ]
     },
     "execution_count": 150,
     "metadata": {},
     "output_type": "execute_result"
    }
   ],
   "source": [
    "merged.head()"
   ]
  },
  {
   "cell_type": "code",
   "execution_count": 153,
   "metadata": {},
   "outputs": [
    {
     "name": "stderr",
     "output_type": "stream",
     "text": [
      "C:\\Users\\Kanafin\\Anaconda3\\envs\\pandas\\lib\\site-packages\\pandas\\core\\ops\\__init__.py:1115: FutureWarning: elementwise comparison failed; returning scalar instead, but in the future will perform elementwise comparison\n",
      "  result = method(y)\n"
     ]
    }
   ],
   "source": [
    "sample_a = pd.concat([purchasesByCustomersWithLoyalty['purchases'],pd.Series(0, \\\n",
    "                    index=np.arange(merged[merged['loyalty_program']=='0']['purchaseid'].sum() - len(purchasesByCustomersWithLoyalty['purchases'])), name='orders')],axis=0)\n",
    "sample_b = pd.concat([purchasesByCustomersWithLoyalty['purchases'],pd.Series(0, \\\n",
    "                    index=np.arange(merged[merged['loyalty_program']=='1']['purchaseid'].sum() - len(purchasesByCustomersWithLoyalty['purchases'])), name='orders')],axis=0)"
   ]
  },
  {
   "cell_type": "code",
   "execution_count": 159,
   "metadata": {},
   "outputs": [
    {
     "name": "stdout",
     "output_type": "stream",
     "text": [
      "p-value:  0.4999628473971112\n",
      "Failed to reject the null hypothesis: we can't make conclusions about the difference\n"
     ]
    }
   ],
   "source": [
    "alpha = 0.05\n",
    "pvalue = stats.mannwhitneyu(sample_a, sample_b)[1]\n",
    "print('p-value: ', pvalue)\n",
    "if (pvalue < alpha):\n",
    "    print(\"Null hypothesis rejected: the difference is statistically significant\")\n",
    "else:\n",
    "    print(\"Failed to reject the null hypothesis: we can't make conclusions about the difference\") "
   ]
  },
  {
   "cell_type": "markdown",
   "metadata": {},
   "source": [
    "There is no significant difference between having and not having a customer loyalty card."
   ]
  },
  {
   "cell_type": "code",
   "execution_count": 157,
   "metadata": {},
   "outputs": [
    {
     "name": "stdout",
     "output_type": "stream",
     "text": [
      "0.500\n",
      "0.000\n"
     ]
    }
   ],
   "source": [
    "print(\"{0:.3f}\".format(stats.mannwhitneyu(sample_a, sample_b)[1]))\n",
    "print(\"{0:.3f}\".format(sample_b.mean()/sample_a.mean()-1)) "
   ]
  },
  {
   "cell_type": "markdown",
   "metadata": {},
   "source": [
    "### Conclusion"
   ]
  },
  {
   "cell_type": "markdown",
   "metadata": {},
   "source": [
    "* In general, the trading network has certain patterns: an increase in sales before the New Year holidays. Decrease in revenue during the holidays.\n",
    "* Individual stores show different values in the presence / absence of loyalty cards. \n",
    "* The general conclusion is that the presence of loyalty cards does not matter, since the revenue without loyalty cards for stores is greater than with loyalty cards. People buy more, but the total revenue is less."
   ]
  }
 ],
 "metadata": {
  "ExecuteTimeLog": [
   {
    "duration": 61,
    "start_time": "2021-10-27T07:25:02.975Z"
   },
   {
    "duration": 61,
    "start_time": "2021-10-27T07:38:55.888Z"
   },
   {
    "duration": 455,
    "start_time": "2021-11-26T13:27:36.372Z"
   },
   {
    "duration": 1859,
    "start_time": "2021-11-26T13:27:41.768Z"
   },
   {
    "duration": 1151,
    "start_time": "2021-11-26T13:27:42.479Z"
   },
   {
    "duration": 340,
    "start_time": "2021-11-26T13:27:58.374Z"
   },
   {
    "duration": 13,
    "start_time": "2021-11-26T13:28:04.722Z"
   },
   {
    "duration": 319,
    "start_time": "2021-11-26T13:28:06.234Z"
   },
   {
    "duration": 5,
    "start_time": "2021-11-26T13:28:16.939Z"
   },
   {
    "duration": 2158,
    "start_time": "2021-11-26T13:28:19.008Z"
   },
   {
    "duration": 1136,
    "start_time": "2021-11-26T13:28:20.033Z"
   },
   {
    "duration": 3,
    "start_time": "2021-11-26T13:31:35.858Z"
   },
   {
    "duration": 29,
    "start_time": "2021-11-26T13:31:51.711Z"
   },
   {
    "duration": 6,
    "start_time": "2021-11-26T13:31:58.126Z"
   },
   {
    "duration": 7,
    "start_time": "2021-11-26T13:31:58.893Z"
   },
   {
    "duration": 2261,
    "start_time": "2021-11-26T13:31:59.694Z"
   },
   {
    "duration": 2510,
    "start_time": "2021-11-26T13:33:17.926Z"
   },
   {
    "duration": 3446,
    "start_time": "2021-11-26T13:36:20.460Z"
   },
   {
    "duration": 24,
    "start_time": "2021-11-28T17:50:05.108Z"
   },
   {
    "duration": 1217,
    "start_time": "2021-11-28T17:50:05.134Z"
   },
   {
    "duration": 4,
    "start_time": "2021-11-28T17:50:06.353Z"
   },
   {
    "duration": 2594,
    "start_time": "2021-11-28T17:50:06.358Z"
   },
   {
    "duration": 397,
    "start_time": "2021-11-28T17:50:08.557Z"
   },
   {
    "duration": 367,
    "start_time": "2021-11-28T17:50:08.589Z"
   },
   {
    "duration": 364,
    "start_time": "2021-11-28T17:50:08.593Z"
   },
   {
    "duration": 363,
    "start_time": "2021-11-28T17:50:08.595Z"
   },
   {
    "duration": 362,
    "start_time": "2021-11-28T17:50:08.597Z"
   },
   {
    "duration": 361,
    "start_time": "2021-11-28T17:50:08.599Z"
   },
   {
    "duration": 363,
    "start_time": "2021-11-28T17:50:08.600Z"
   },
   {
    "duration": 360,
    "start_time": "2021-11-28T17:50:08.603Z"
   },
   {
    "duration": 359,
    "start_time": "2021-11-28T17:50:08.605Z"
   },
   {
    "duration": 358,
    "start_time": "2021-11-28T17:50:08.607Z"
   },
   {
    "duration": 357,
    "start_time": "2021-11-28T17:50:08.609Z"
   },
   {
    "duration": 355,
    "start_time": "2021-11-28T17:50:08.612Z"
   },
   {
    "duration": 354,
    "start_time": "2021-11-28T17:50:08.614Z"
   }
  ],
  "interpreter": {
   "hash": "eecb6f739249f333e6eb6f28930ccb37aedec3f38785c7ff769d6e5598bab9c0"
  },
  "kernelspec": {
   "display_name": "Python 3",
   "language": "python",
   "name": "python3"
  },
  "language_info": {
   "codemirror_mode": {
    "name": "ipython",
    "version": 3
   },
   "file_extension": ".py",
   "mimetype": "text/x-python",
   "name": "python",
   "nbconvert_exporter": "python",
   "pygments_lexer": "ipython3",
   "version": "3.8.8"
  },
  "toc": {
   "base_numbering": 1,
   "nav_menu": {},
   "number_sections": true,
   "sideBar": true,
   "skip_h1_title": true,
   "title_cell": "Table of Contents",
   "title_sidebar": "Contents",
   "toc_cell": false,
   "toc_position": {},
   "toc_section_display": true,
   "toc_window_display": false
  }
 },
 "nbformat": 4,
 "nbformat_minor": 2
}
