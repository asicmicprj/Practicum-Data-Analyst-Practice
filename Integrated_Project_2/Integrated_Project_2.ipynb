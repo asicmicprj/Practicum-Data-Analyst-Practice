{
 "cells": [
  {
   "cell_type": "markdown",
   "metadata": {},
   "source": [
    "# Food Sales Application"
   ]
  },
  {
   "cell_type": "markdown",
   "metadata": {},
   "source": [
    "# Table of contents"
   ]
  },
  {
   "cell_type": "markdown",
   "metadata": {},
   "source": [
    "1. [Project Description](#ProjectDescription)\n",
    "2. [Step 1. Open the data file and study the general information.](#OpenData&GeneralInfo)\n",
    "3. [Step 2. Prepare the data for analysis](#PrepareData)\n",
    "4. [Step 3. Study and check the data](#StudyCheck)\n",
    "6. [Step 4. Study the event funnel](#EventFunnel)\n",
    "7. [Step 5. ](#)\n",
    "8. [General Conclusion](#Conclusion)"
   ]
  },
  {
   "cell_type": "markdown",
   "metadata": {},
   "source": [
    "### Project Description. <a name=\"ProjectDescription\"></a>"
   ]
  },
  {
   "cell_type": "markdown",
   "metadata": {},
   "source": [
    "|  Name  |  Description  |\n",
    "| :----: |  :---- |\n",
    "|  **Initial conditions**  | You work at a startup that sells food products. You need to investigate user behavior for the company's app.                                            | \n",
    "|  **What we have**        | Then look at the results of an A/A/B test. (Read on for more information about A/A/B testing.) The designers would like to change the fonts for the entire app, but the managers are afraid the users might find the new design intimidating. They decide to make a decision based on the results of an A/A/B test.                    |\n",
    "|  **Main question of project**  |  Will changes by application-wide font designers affect user behavior?                                                                            |\n",
    "| **Project Description**  | [Link to Project Description](https://practicum.yandex.com/learn/data-analyst/courses/aaa92c32-5b7b-4eec-8a13-d1e099ee0be2/sprints/5646/topics/f9207047-1e54-4a62-ba08-0390dda7e4d5/lessons/6d5ba27b-3801-455b-94c7-96dca20f7495/)                                                                                                                                               |\n",
    "| **Datasets**             | [/datasets/logs_exp_us.csv](https://code.s3.yandex.net/datasets/logs_exp_us.csv)                                                                       |"
   ]
  },
  {
   "cell_type": "markdown",
   "metadata": {},
   "source": [
    "### Step 1. Open the data file and study the general information. <a name=\"OpenData&GeneralInfo\"></a>"
   ]
  },
  {
   "cell_type": "code",
   "execution_count": 472,
   "metadata": {},
   "outputs": [],
   "source": [
    "#import libraries\n",
    "\n",
    "import pandas as pd\n",
    "import matplotlib.pyplot as plt\n",
    "import numpy as np\n",
    "from scipy import stats as st\n",
    "import seaborn as sns\n",
    "import datetime as dt\n",
    "import plotly\n",
    "import plotly.express as px\n",
    "from plotly import graph_objects as go\n",
    "import math\n",
    "import sys\n",
    "\n",
    "pd.set_option('max_colwidth', 400)\n",
    "\n",
    "sns.set()"
   ]
  },
  {
   "cell_type": "code",
   "execution_count": 473,
   "metadata": {},
   "outputs": [
    {
     "name": "stdout",
     "output_type": "stream",
     "text": [
      "Pandas version library: 0.25.1\n",
      "Numpy version library: 1.19.5\n",
      "Seaborn version library: 0.9.0\n",
      "Anaconda version package: 3.7.8 | packaged by conda-forge | (default, Nov 17 2020, 23:45:15) \n",
      "[GCC 7.5.0]\n",
      "Plotly version package: 4.1.0\n"
     ]
    }
   ],
   "source": [
    "print('Pandas version library:',pd.__version__)\n",
    "print('Numpy version library:', np.__version__)\n",
    "print('Seaborn version library:', sns.__version__)\n",
    "print('Anaconda version package:', sys.version)\n",
    "print('Plotly version package:', plotly.__version__)"
   ]
  },
  {
   "cell_type": "code",
   "execution_count": 474,
   "metadata": {},
   "outputs": [],
   "source": [
    "df_data = pd.read_csv('https://code.s3.yandex.net/datasets/logs_exp_us.csv', sep=\"\\t\")"
   ]
  },
  {
   "cell_type": "code",
   "execution_count": 475,
   "metadata": {
    "scrolled": true
   },
   "outputs": [],
   "source": [
    "# function to determine if columns in file have null values:\n",
    "def get_percent_of_na(df, num):\n",
    "    count = 0; # first reset counter.\n",
    "    df = df.copy() # copy dataframe in new structure.\n",
    "    amount = (df.isna().sum() / df.shape[0])\n",
    "    \n",
    "    for column, percent in zip(amount.index, amount.values):\n",
    "        num_of_nulls = df[column].isna().sum()\n",
    "        if num_of_nulls == 0:\n",
    "            continue\n",
    "        else:\n",
    "            count += 1\n",
    "        print('Column {} has {:.{}%} percent of Nulls, and {} of nulls'.format(column, percent, num, num_of_nulls))\n",
    "        \n",
    "    if count != 0:\n",
    "        print('\\033[1m' + 'There are {} columns with NA.'.format(count) + '\\033[0m')\n",
    "    else: \n",
    "        print()\n",
    "        print('\\033[1m' + 'There are no columns with NA.' + '\\033[0m')"
   ]
  },
  {
   "cell_type": "code",
   "execution_count": 476,
   "metadata": {},
   "outputs": [],
   "source": [
    "def get_percent_of_na_table(df, num):\n",
    "    df_nulls = pd.DataFrame(df.isna().sum(), columns=['Missing Values'])\n",
    "    df_nulls['Percent of Nulls'] = round(df_nulls['Missing Values'] / df.shape[0], num) * 100\n",
    "    return df_nulls"
   ]
  },
  {
   "cell_type": "code",
   "execution_count": 477,
   "metadata": {},
   "outputs": [],
   "source": [
    "# function to display helpfull information about each file.\n",
    "def get_info(df):\n",
    "    print('Head:')\n",
    "    display(df.head())\n",
    "    print('-'*110)\n",
    "    \n",
    "    print('Info:')\n",
    "    display(df.info())\n",
    "    print('-'*110)\n",
    "    \n",
    "    print('Describe:')\n",
    "    display(df.describe())\n",
    "    display(df.describe(include=['category', 'object', 'float64']))\n",
    "    print('-'*110)\n",
    "    \n",
    "    print('Percent of columns with nulls:')\n",
    "    display(get_percent_of_na_table(df, 2))\n",
    "    print('-'*110)\n",
    "    \n",
    "    print('Shape:')\n",
    "    print(df.shape)\n",
    "    print('-'*110)\n",
    "    \n",
    "    print('Duplicated:')\n",
    "    print('\\033[1m' + 'We have {} duplicated rows. \\n'.format(df.duplicated().sum()) + '\\033[0m')\n",
    "    print('/'*110)"
   ]
  },
  {
   "cell_type": "code",
   "execution_count": 478,
   "metadata": {},
   "outputs": [
    {
     "name": "stdout",
     "output_type": "stream",
     "text": [
      "Head:\n"
     ]
    },
    {
     "data": {
      "text/html": [
       "<div>\n",
       "<style scoped>\n",
       "    .dataframe tbody tr th:only-of-type {\n",
       "        vertical-align: middle;\n",
       "    }\n",
       "\n",
       "    .dataframe tbody tr th {\n",
       "        vertical-align: top;\n",
       "    }\n",
       "\n",
       "    .dataframe thead th {\n",
       "        text-align: right;\n",
       "    }\n",
       "</style>\n",
       "<table border=\"1\" class=\"dataframe\">\n",
       "  <thead>\n",
       "    <tr style=\"text-align: right;\">\n",
       "      <th></th>\n",
       "      <th>EventName</th>\n",
       "      <th>DeviceIDHash</th>\n",
       "      <th>EventTimestamp</th>\n",
       "      <th>ExpId</th>\n",
       "    </tr>\n",
       "  </thead>\n",
       "  <tbody>\n",
       "    <tr>\n",
       "      <td>0</td>\n",
       "      <td>MainScreenAppear</td>\n",
       "      <td>4575588528974610257</td>\n",
       "      <td>1564029816</td>\n",
       "      <td>246</td>\n",
       "    </tr>\n",
       "    <tr>\n",
       "      <td>1</td>\n",
       "      <td>MainScreenAppear</td>\n",
       "      <td>7416695313311560658</td>\n",
       "      <td>1564053102</td>\n",
       "      <td>246</td>\n",
       "    </tr>\n",
       "    <tr>\n",
       "      <td>2</td>\n",
       "      <td>PaymentScreenSuccessful</td>\n",
       "      <td>3518123091307005509</td>\n",
       "      <td>1564054127</td>\n",
       "      <td>248</td>\n",
       "    </tr>\n",
       "    <tr>\n",
       "      <td>3</td>\n",
       "      <td>CartScreenAppear</td>\n",
       "      <td>3518123091307005509</td>\n",
       "      <td>1564054127</td>\n",
       "      <td>248</td>\n",
       "    </tr>\n",
       "    <tr>\n",
       "      <td>4</td>\n",
       "      <td>PaymentScreenSuccessful</td>\n",
       "      <td>6217807653094995999</td>\n",
       "      <td>1564055322</td>\n",
       "      <td>248</td>\n",
       "    </tr>\n",
       "  </tbody>\n",
       "</table>\n",
       "</div>"
      ],
      "text/plain": [
       "                 EventName         DeviceIDHash  EventTimestamp  ExpId\n",
       "0         MainScreenAppear  4575588528974610257      1564029816    246\n",
       "1         MainScreenAppear  7416695313311560658      1564053102    246\n",
       "2  PaymentScreenSuccessful  3518123091307005509      1564054127    248\n",
       "3         CartScreenAppear  3518123091307005509      1564054127    248\n",
       "4  PaymentScreenSuccessful  6217807653094995999      1564055322    248"
      ]
     },
     "metadata": {},
     "output_type": "display_data"
    },
    {
     "name": "stdout",
     "output_type": "stream",
     "text": [
      "--------------------------------------------------------------------------------------------------------------\n",
      "Info:\n",
      "<class 'pandas.core.frame.DataFrame'>\n",
      "RangeIndex: 244126 entries, 0 to 244125\n",
      "Data columns (total 4 columns):\n",
      "EventName         244126 non-null object\n",
      "DeviceIDHash      244126 non-null int64\n",
      "EventTimestamp    244126 non-null int64\n",
      "ExpId             244126 non-null int64\n",
      "dtypes: int64(3), object(1)\n",
      "memory usage: 7.5+ MB\n"
     ]
    },
    {
     "data": {
      "text/plain": [
       "None"
      ]
     },
     "metadata": {},
     "output_type": "display_data"
    },
    {
     "name": "stdout",
     "output_type": "stream",
     "text": [
      "--------------------------------------------------------------------------------------------------------------\n",
      "Describe:\n"
     ]
    },
    {
     "data": {
      "text/html": [
       "<div>\n",
       "<style scoped>\n",
       "    .dataframe tbody tr th:only-of-type {\n",
       "        vertical-align: middle;\n",
       "    }\n",
       "\n",
       "    .dataframe tbody tr th {\n",
       "        vertical-align: top;\n",
       "    }\n",
       "\n",
       "    .dataframe thead th {\n",
       "        text-align: right;\n",
       "    }\n",
       "</style>\n",
       "<table border=\"1\" class=\"dataframe\">\n",
       "  <thead>\n",
       "    <tr style=\"text-align: right;\">\n",
       "      <th></th>\n",
       "      <th>DeviceIDHash</th>\n",
       "      <th>EventTimestamp</th>\n",
       "      <th>ExpId</th>\n",
       "    </tr>\n",
       "  </thead>\n",
       "  <tbody>\n",
       "    <tr>\n",
       "      <td>count</td>\n",
       "      <td>2.441260e+05</td>\n",
       "      <td>2.441260e+05</td>\n",
       "      <td>244126.000000</td>\n",
       "    </tr>\n",
       "    <tr>\n",
       "      <td>mean</td>\n",
       "      <td>4.627568e+18</td>\n",
       "      <td>1.564914e+09</td>\n",
       "      <td>247.022296</td>\n",
       "    </tr>\n",
       "    <tr>\n",
       "      <td>std</td>\n",
       "      <td>2.642425e+18</td>\n",
       "      <td>1.771343e+05</td>\n",
       "      <td>0.824434</td>\n",
       "    </tr>\n",
       "    <tr>\n",
       "      <td>min</td>\n",
       "      <td>6.888747e+15</td>\n",
       "      <td>1.564030e+09</td>\n",
       "      <td>246.000000</td>\n",
       "    </tr>\n",
       "    <tr>\n",
       "      <td>25%</td>\n",
       "      <td>2.372212e+18</td>\n",
       "      <td>1.564757e+09</td>\n",
       "      <td>246.000000</td>\n",
       "    </tr>\n",
       "    <tr>\n",
       "      <td>50%</td>\n",
       "      <td>4.623192e+18</td>\n",
       "      <td>1.564919e+09</td>\n",
       "      <td>247.000000</td>\n",
       "    </tr>\n",
       "    <tr>\n",
       "      <td>75%</td>\n",
       "      <td>6.932517e+18</td>\n",
       "      <td>1.565075e+09</td>\n",
       "      <td>248.000000</td>\n",
       "    </tr>\n",
       "    <tr>\n",
       "      <td>max</td>\n",
       "      <td>9.222603e+18</td>\n",
       "      <td>1.565213e+09</td>\n",
       "      <td>248.000000</td>\n",
       "    </tr>\n",
       "  </tbody>\n",
       "</table>\n",
       "</div>"
      ],
      "text/plain": [
       "       DeviceIDHash  EventTimestamp          ExpId\n",
       "count  2.441260e+05    2.441260e+05  244126.000000\n",
       "mean   4.627568e+18    1.564914e+09     247.022296\n",
       "std    2.642425e+18    1.771343e+05       0.824434\n",
       "min    6.888747e+15    1.564030e+09     246.000000\n",
       "25%    2.372212e+18    1.564757e+09     246.000000\n",
       "50%    4.623192e+18    1.564919e+09     247.000000\n",
       "75%    6.932517e+18    1.565075e+09     248.000000\n",
       "max    9.222603e+18    1.565213e+09     248.000000"
      ]
     },
     "metadata": {},
     "output_type": "display_data"
    },
    {
     "data": {
      "text/html": [
       "<div>\n",
       "<style scoped>\n",
       "    .dataframe tbody tr th:only-of-type {\n",
       "        vertical-align: middle;\n",
       "    }\n",
       "\n",
       "    .dataframe tbody tr th {\n",
       "        vertical-align: top;\n",
       "    }\n",
       "\n",
       "    .dataframe thead th {\n",
       "        text-align: right;\n",
       "    }\n",
       "</style>\n",
       "<table border=\"1\" class=\"dataframe\">\n",
       "  <thead>\n",
       "    <tr style=\"text-align: right;\">\n",
       "      <th></th>\n",
       "      <th>EventName</th>\n",
       "    </tr>\n",
       "  </thead>\n",
       "  <tbody>\n",
       "    <tr>\n",
       "      <td>count</td>\n",
       "      <td>244126</td>\n",
       "    </tr>\n",
       "    <tr>\n",
       "      <td>unique</td>\n",
       "      <td>5</td>\n",
       "    </tr>\n",
       "    <tr>\n",
       "      <td>top</td>\n",
       "      <td>MainScreenAppear</td>\n",
       "    </tr>\n",
       "    <tr>\n",
       "      <td>freq</td>\n",
       "      <td>119205</td>\n",
       "    </tr>\n",
       "  </tbody>\n",
       "</table>\n",
       "</div>"
      ],
      "text/plain": [
       "               EventName\n",
       "count             244126\n",
       "unique                 5\n",
       "top     MainScreenAppear\n",
       "freq              119205"
      ]
     },
     "metadata": {},
     "output_type": "display_data"
    },
    {
     "name": "stdout",
     "output_type": "stream",
     "text": [
      "--------------------------------------------------------------------------------------------------------------\n",
      "Percent of columns with nulls:\n"
     ]
    },
    {
     "data": {
      "text/html": [
       "<div>\n",
       "<style scoped>\n",
       "    .dataframe tbody tr th:only-of-type {\n",
       "        vertical-align: middle;\n",
       "    }\n",
       "\n",
       "    .dataframe tbody tr th {\n",
       "        vertical-align: top;\n",
       "    }\n",
       "\n",
       "    .dataframe thead th {\n",
       "        text-align: right;\n",
       "    }\n",
       "</style>\n",
       "<table border=\"1\" class=\"dataframe\">\n",
       "  <thead>\n",
       "    <tr style=\"text-align: right;\">\n",
       "      <th></th>\n",
       "      <th>Missing Values</th>\n",
       "      <th>Percent of Nulls</th>\n",
       "    </tr>\n",
       "  </thead>\n",
       "  <tbody>\n",
       "    <tr>\n",
       "      <td>EventName</td>\n",
       "      <td>0</td>\n",
       "      <td>0.0</td>\n",
       "    </tr>\n",
       "    <tr>\n",
       "      <td>DeviceIDHash</td>\n",
       "      <td>0</td>\n",
       "      <td>0.0</td>\n",
       "    </tr>\n",
       "    <tr>\n",
       "      <td>EventTimestamp</td>\n",
       "      <td>0</td>\n",
       "      <td>0.0</td>\n",
       "    </tr>\n",
       "    <tr>\n",
       "      <td>ExpId</td>\n",
       "      <td>0</td>\n",
       "      <td>0.0</td>\n",
       "    </tr>\n",
       "  </tbody>\n",
       "</table>\n",
       "</div>"
      ],
      "text/plain": [
       "                Missing Values  Percent of Nulls\n",
       "EventName                    0               0.0\n",
       "DeviceIDHash                 0               0.0\n",
       "EventTimestamp               0               0.0\n",
       "ExpId                        0               0.0"
      ]
     },
     "metadata": {},
     "output_type": "display_data"
    },
    {
     "name": "stdout",
     "output_type": "stream",
     "text": [
      "--------------------------------------------------------------------------------------------------------------\n",
      "Shape:\n",
      "(244126, 4)\n",
      "--------------------------------------------------------------------------------------------------------------\n",
      "Duplicated:\n",
      "\u001b[1mWe have 413 duplicated rows. \n",
      "\u001b[0m\n",
      "//////////////////////////////////////////////////////////////////////////////////////////////////////////////\n"
     ]
    }
   ],
   "source": [
    "get_info(df_data)"
   ]
  },
  {
   "cell_type": "markdown",
   "metadata": {},
   "source": [
    "> * In dataset no missing values, but exist 413 duplicated rows."
   ]
  },
  {
   "cell_type": "markdown",
   "metadata": {},
   "source": [
    "#### Step 2. Prepare the data for analysis <a name=\"PrepareData\"></a>"
   ]
  },
  {
   "cell_type": "markdown",
   "metadata": {},
   "source": [
    "> * Since the number of lines in which there is duplicate data is a small amount (413 rows) of the total number of lines (244126 rows), I decide to delete these duplicated lines."
   ]
  },
  {
   "cell_type": "code",
   "execution_count": 479,
   "metadata": {},
   "outputs": [
    {
     "name": "stdout",
     "output_type": "stream",
     "text": [
      "Percentage of duplicated values: 0.17%\n"
     ]
    }
   ],
   "source": [
    "print(\"Percentage of duplicated values: {:.2%}\".format(df_data.duplicated().sum() / df_data.shape[0]))"
   ]
  },
  {
   "cell_type": "code",
   "execution_count": 480,
   "metadata": {},
   "outputs": [],
   "source": [
    "df_data.drop_duplicates(inplace=True)"
   ]
  },
  {
   "cell_type": "code",
   "execution_count": 481,
   "metadata": {},
   "outputs": [
    {
     "name": "stdout",
     "output_type": "stream",
     "text": [
      "Head:\n"
     ]
    },
    {
     "data": {
      "text/html": [
       "<div>\n",
       "<style scoped>\n",
       "    .dataframe tbody tr th:only-of-type {\n",
       "        vertical-align: middle;\n",
       "    }\n",
       "\n",
       "    .dataframe tbody tr th {\n",
       "        vertical-align: top;\n",
       "    }\n",
       "\n",
       "    .dataframe thead th {\n",
       "        text-align: right;\n",
       "    }\n",
       "</style>\n",
       "<table border=\"1\" class=\"dataframe\">\n",
       "  <thead>\n",
       "    <tr style=\"text-align: right;\">\n",
       "      <th></th>\n",
       "      <th>EventName</th>\n",
       "      <th>DeviceIDHash</th>\n",
       "      <th>EventTimestamp</th>\n",
       "      <th>ExpId</th>\n",
       "    </tr>\n",
       "  </thead>\n",
       "  <tbody>\n",
       "    <tr>\n",
       "      <td>0</td>\n",
       "      <td>MainScreenAppear</td>\n",
       "      <td>4575588528974610257</td>\n",
       "      <td>1564029816</td>\n",
       "      <td>246</td>\n",
       "    </tr>\n",
       "    <tr>\n",
       "      <td>1</td>\n",
       "      <td>MainScreenAppear</td>\n",
       "      <td>7416695313311560658</td>\n",
       "      <td>1564053102</td>\n",
       "      <td>246</td>\n",
       "    </tr>\n",
       "    <tr>\n",
       "      <td>2</td>\n",
       "      <td>PaymentScreenSuccessful</td>\n",
       "      <td>3518123091307005509</td>\n",
       "      <td>1564054127</td>\n",
       "      <td>248</td>\n",
       "    </tr>\n",
       "    <tr>\n",
       "      <td>3</td>\n",
       "      <td>CartScreenAppear</td>\n",
       "      <td>3518123091307005509</td>\n",
       "      <td>1564054127</td>\n",
       "      <td>248</td>\n",
       "    </tr>\n",
       "    <tr>\n",
       "      <td>4</td>\n",
       "      <td>PaymentScreenSuccessful</td>\n",
       "      <td>6217807653094995999</td>\n",
       "      <td>1564055322</td>\n",
       "      <td>248</td>\n",
       "    </tr>\n",
       "  </tbody>\n",
       "</table>\n",
       "</div>"
      ],
      "text/plain": [
       "                 EventName         DeviceIDHash  EventTimestamp  ExpId\n",
       "0         MainScreenAppear  4575588528974610257      1564029816    246\n",
       "1         MainScreenAppear  7416695313311560658      1564053102    246\n",
       "2  PaymentScreenSuccessful  3518123091307005509      1564054127    248\n",
       "3         CartScreenAppear  3518123091307005509      1564054127    248\n",
       "4  PaymentScreenSuccessful  6217807653094995999      1564055322    248"
      ]
     },
     "metadata": {},
     "output_type": "display_data"
    },
    {
     "name": "stdout",
     "output_type": "stream",
     "text": [
      "--------------------------------------------------------------------------------------------------------------\n",
      "Info:\n",
      "<class 'pandas.core.frame.DataFrame'>\n",
      "Int64Index: 243713 entries, 0 to 244125\n",
      "Data columns (total 4 columns):\n",
      "EventName         243713 non-null object\n",
      "DeviceIDHash      243713 non-null int64\n",
      "EventTimestamp    243713 non-null int64\n",
      "ExpId             243713 non-null int64\n",
      "dtypes: int64(3), object(1)\n",
      "memory usage: 9.3+ MB\n"
     ]
    },
    {
     "data": {
      "text/plain": [
       "None"
      ]
     },
     "metadata": {},
     "output_type": "display_data"
    },
    {
     "name": "stdout",
     "output_type": "stream",
     "text": [
      "--------------------------------------------------------------------------------------------------------------\n",
      "Describe:\n"
     ]
    },
    {
     "data": {
      "text/html": [
       "<div>\n",
       "<style scoped>\n",
       "    .dataframe tbody tr th:only-of-type {\n",
       "        vertical-align: middle;\n",
       "    }\n",
       "\n",
       "    .dataframe tbody tr th {\n",
       "        vertical-align: top;\n",
       "    }\n",
       "\n",
       "    .dataframe thead th {\n",
       "        text-align: right;\n",
       "    }\n",
       "</style>\n",
       "<table border=\"1\" class=\"dataframe\">\n",
       "  <thead>\n",
       "    <tr style=\"text-align: right;\">\n",
       "      <th></th>\n",
       "      <th>DeviceIDHash</th>\n",
       "      <th>EventTimestamp</th>\n",
       "      <th>ExpId</th>\n",
       "    </tr>\n",
       "  </thead>\n",
       "  <tbody>\n",
       "    <tr>\n",
       "      <td>count</td>\n",
       "      <td>2.437130e+05</td>\n",
       "      <td>2.437130e+05</td>\n",
       "      <td>243713.000000</td>\n",
       "    </tr>\n",
       "    <tr>\n",
       "      <td>mean</td>\n",
       "      <td>4.627963e+18</td>\n",
       "      <td>1.564914e+09</td>\n",
       "      <td>247.022161</td>\n",
       "    </tr>\n",
       "    <tr>\n",
       "      <td>std</td>\n",
       "      <td>2.642723e+18</td>\n",
       "      <td>1.771388e+05</td>\n",
       "      <td>0.824420</td>\n",
       "    </tr>\n",
       "    <tr>\n",
       "      <td>min</td>\n",
       "      <td>6.888747e+15</td>\n",
       "      <td>1.564030e+09</td>\n",
       "      <td>246.000000</td>\n",
       "    </tr>\n",
       "    <tr>\n",
       "      <td>25%</td>\n",
       "      <td>2.372212e+18</td>\n",
       "      <td>1.564757e+09</td>\n",
       "      <td>246.000000</td>\n",
       "    </tr>\n",
       "    <tr>\n",
       "      <td>50%</td>\n",
       "      <td>4.623192e+18</td>\n",
       "      <td>1.564919e+09</td>\n",
       "      <td>247.000000</td>\n",
       "    </tr>\n",
       "    <tr>\n",
       "      <td>75%</td>\n",
       "      <td>6.932517e+18</td>\n",
       "      <td>1.565075e+09</td>\n",
       "      <td>248.000000</td>\n",
       "    </tr>\n",
       "    <tr>\n",
       "      <td>max</td>\n",
       "      <td>9.222603e+18</td>\n",
       "      <td>1.565213e+09</td>\n",
       "      <td>248.000000</td>\n",
       "    </tr>\n",
       "  </tbody>\n",
       "</table>\n",
       "</div>"
      ],
      "text/plain": [
       "       DeviceIDHash  EventTimestamp          ExpId\n",
       "count  2.437130e+05    2.437130e+05  243713.000000\n",
       "mean   4.627963e+18    1.564914e+09     247.022161\n",
       "std    2.642723e+18    1.771388e+05       0.824420\n",
       "min    6.888747e+15    1.564030e+09     246.000000\n",
       "25%    2.372212e+18    1.564757e+09     246.000000\n",
       "50%    4.623192e+18    1.564919e+09     247.000000\n",
       "75%    6.932517e+18    1.565075e+09     248.000000\n",
       "max    9.222603e+18    1.565213e+09     248.000000"
      ]
     },
     "metadata": {},
     "output_type": "display_data"
    },
    {
     "data": {
      "text/html": [
       "<div>\n",
       "<style scoped>\n",
       "    .dataframe tbody tr th:only-of-type {\n",
       "        vertical-align: middle;\n",
       "    }\n",
       "\n",
       "    .dataframe tbody tr th {\n",
       "        vertical-align: top;\n",
       "    }\n",
       "\n",
       "    .dataframe thead th {\n",
       "        text-align: right;\n",
       "    }\n",
       "</style>\n",
       "<table border=\"1\" class=\"dataframe\">\n",
       "  <thead>\n",
       "    <tr style=\"text-align: right;\">\n",
       "      <th></th>\n",
       "      <th>EventName</th>\n",
       "    </tr>\n",
       "  </thead>\n",
       "  <tbody>\n",
       "    <tr>\n",
       "      <td>count</td>\n",
       "      <td>243713</td>\n",
       "    </tr>\n",
       "    <tr>\n",
       "      <td>unique</td>\n",
       "      <td>5</td>\n",
       "    </tr>\n",
       "    <tr>\n",
       "      <td>top</td>\n",
       "      <td>MainScreenAppear</td>\n",
       "    </tr>\n",
       "    <tr>\n",
       "      <td>freq</td>\n",
       "      <td>119101</td>\n",
       "    </tr>\n",
       "  </tbody>\n",
       "</table>\n",
       "</div>"
      ],
      "text/plain": [
       "               EventName\n",
       "count             243713\n",
       "unique                 5\n",
       "top     MainScreenAppear\n",
       "freq              119101"
      ]
     },
     "metadata": {},
     "output_type": "display_data"
    },
    {
     "name": "stdout",
     "output_type": "stream",
     "text": [
      "--------------------------------------------------------------------------------------------------------------\n",
      "Percent of columns with nulls:\n"
     ]
    },
    {
     "data": {
      "text/html": [
       "<div>\n",
       "<style scoped>\n",
       "    .dataframe tbody tr th:only-of-type {\n",
       "        vertical-align: middle;\n",
       "    }\n",
       "\n",
       "    .dataframe tbody tr th {\n",
       "        vertical-align: top;\n",
       "    }\n",
       "\n",
       "    .dataframe thead th {\n",
       "        text-align: right;\n",
       "    }\n",
       "</style>\n",
       "<table border=\"1\" class=\"dataframe\">\n",
       "  <thead>\n",
       "    <tr style=\"text-align: right;\">\n",
       "      <th></th>\n",
       "      <th>Missing Values</th>\n",
       "      <th>Percent of Nulls</th>\n",
       "    </tr>\n",
       "  </thead>\n",
       "  <tbody>\n",
       "    <tr>\n",
       "      <td>EventName</td>\n",
       "      <td>0</td>\n",
       "      <td>0.0</td>\n",
       "    </tr>\n",
       "    <tr>\n",
       "      <td>DeviceIDHash</td>\n",
       "      <td>0</td>\n",
       "      <td>0.0</td>\n",
       "    </tr>\n",
       "    <tr>\n",
       "      <td>EventTimestamp</td>\n",
       "      <td>0</td>\n",
       "      <td>0.0</td>\n",
       "    </tr>\n",
       "    <tr>\n",
       "      <td>ExpId</td>\n",
       "      <td>0</td>\n",
       "      <td>0.0</td>\n",
       "    </tr>\n",
       "  </tbody>\n",
       "</table>\n",
       "</div>"
      ],
      "text/plain": [
       "                Missing Values  Percent of Nulls\n",
       "EventName                    0               0.0\n",
       "DeviceIDHash                 0               0.0\n",
       "EventTimestamp               0               0.0\n",
       "ExpId                        0               0.0"
      ]
     },
     "metadata": {},
     "output_type": "display_data"
    },
    {
     "name": "stdout",
     "output_type": "stream",
     "text": [
      "--------------------------------------------------------------------------------------------------------------\n",
      "Shape:\n",
      "(243713, 4)\n",
      "--------------------------------------------------------------------------------------------------------------\n",
      "Duplicated:\n",
      "\u001b[1mWe have 0 duplicated rows. \n",
      "\u001b[0m\n",
      "//////////////////////////////////////////////////////////////////////////////////////////////////////////////\n"
     ]
    }
   ],
   "source": [
    "get_info(df_data)"
   ]
  },
  {
   "cell_type": "code",
   "execution_count": 482,
   "metadata": {},
   "outputs": [
    {
     "data": {
      "text/html": [
       "<div>\n",
       "<style scoped>\n",
       "    .dataframe tbody tr th:only-of-type {\n",
       "        vertical-align: middle;\n",
       "    }\n",
       "\n",
       "    .dataframe tbody tr th {\n",
       "        vertical-align: top;\n",
       "    }\n",
       "\n",
       "    .dataframe thead th {\n",
       "        text-align: right;\n",
       "    }\n",
       "</style>\n",
       "<table border=\"1\" class=\"dataframe\">\n",
       "  <thead>\n",
       "    <tr style=\"text-align: right;\">\n",
       "      <th></th>\n",
       "      <th>EventName</th>\n",
       "      <th>DeviceIDHash</th>\n",
       "      <th>EventTimestamp</th>\n",
       "      <th>ExpId</th>\n",
       "      <th>DateTime</th>\n",
       "    </tr>\n",
       "  </thead>\n",
       "  <tbody>\n",
       "    <tr>\n",
       "      <td>0</td>\n",
       "      <td>MainScreenAppear</td>\n",
       "      <td>4575588528974610257</td>\n",
       "      <td>1564029816</td>\n",
       "      <td>246</td>\n",
       "      <td>2019-07-25 04:43:36</td>\n",
       "    </tr>\n",
       "    <tr>\n",
       "      <td>1</td>\n",
       "      <td>MainScreenAppear</td>\n",
       "      <td>7416695313311560658</td>\n",
       "      <td>1564053102</td>\n",
       "      <td>246</td>\n",
       "      <td>2019-07-25 11:11:42</td>\n",
       "    </tr>\n",
       "    <tr>\n",
       "      <td>2</td>\n",
       "      <td>PaymentScreenSuccessful</td>\n",
       "      <td>3518123091307005509</td>\n",
       "      <td>1564054127</td>\n",
       "      <td>248</td>\n",
       "      <td>2019-07-25 11:28:47</td>\n",
       "    </tr>\n",
       "    <tr>\n",
       "      <td>3</td>\n",
       "      <td>CartScreenAppear</td>\n",
       "      <td>3518123091307005509</td>\n",
       "      <td>1564054127</td>\n",
       "      <td>248</td>\n",
       "      <td>2019-07-25 11:28:47</td>\n",
       "    </tr>\n",
       "    <tr>\n",
       "      <td>4</td>\n",
       "      <td>PaymentScreenSuccessful</td>\n",
       "      <td>6217807653094995999</td>\n",
       "      <td>1564055322</td>\n",
       "      <td>248</td>\n",
       "      <td>2019-07-25 11:48:42</td>\n",
       "    </tr>\n",
       "  </tbody>\n",
       "</table>\n",
       "</div>"
      ],
      "text/plain": [
       "                 EventName         DeviceIDHash  EventTimestamp  ExpId  \\\n",
       "0         MainScreenAppear  4575588528974610257      1564029816    246   \n",
       "1         MainScreenAppear  7416695313311560658      1564053102    246   \n",
       "2  PaymentScreenSuccessful  3518123091307005509      1564054127    248   \n",
       "3         CartScreenAppear  3518123091307005509      1564054127    248   \n",
       "4  PaymentScreenSuccessful  6217807653094995999      1564055322    248   \n",
       "\n",
       "             DateTime  \n",
       "0 2019-07-25 04:43:36  \n",
       "1 2019-07-25 11:11:42  \n",
       "2 2019-07-25 11:28:47  \n",
       "3 2019-07-25 11:28:47  \n",
       "4 2019-07-25 11:48:42  "
      ]
     },
     "execution_count": 482,
     "metadata": {},
     "output_type": "execute_result"
    }
   ],
   "source": [
    "#converting timestamps\n",
    "df_data['DateTime'] = df_data['EventTimestamp'].apply(lambda x: pd.datetime.fromtimestamp(x))\n",
    "df_data.head()"
   ]
  },
  {
   "cell_type": "code",
   "execution_count": 483,
   "metadata": {},
   "outputs": [
    {
     "data": {
      "text/html": [
       "<div>\n",
       "<style scoped>\n",
       "    .dataframe tbody tr th:only-of-type {\n",
       "        vertical-align: middle;\n",
       "    }\n",
       "\n",
       "    .dataframe tbody tr th {\n",
       "        vertical-align: top;\n",
       "    }\n",
       "\n",
       "    .dataframe thead th {\n",
       "        text-align: right;\n",
       "    }\n",
       "</style>\n",
       "<table border=\"1\" class=\"dataframe\">\n",
       "  <thead>\n",
       "    <tr style=\"text-align: right;\">\n",
       "      <th></th>\n",
       "      <th>EventName</th>\n",
       "      <th>DeviceIDHash</th>\n",
       "      <th>EventTimestamp</th>\n",
       "      <th>ExpId</th>\n",
       "      <th>DateTime</th>\n",
       "      <th>Date</th>\n",
       "      <th>Time</th>\n",
       "    </tr>\n",
       "  </thead>\n",
       "  <tbody>\n",
       "    <tr>\n",
       "      <td>0</td>\n",
       "      <td>MainScreenAppear</td>\n",
       "      <td>4575588528974610257</td>\n",
       "      <td>1564029816</td>\n",
       "      <td>246</td>\n",
       "      <td>2019-07-25 04:43:36</td>\n",
       "      <td>2019-07-25</td>\n",
       "      <td>04:43:36</td>\n",
       "    </tr>\n",
       "    <tr>\n",
       "      <td>1</td>\n",
       "      <td>MainScreenAppear</td>\n",
       "      <td>7416695313311560658</td>\n",
       "      <td>1564053102</td>\n",
       "      <td>246</td>\n",
       "      <td>2019-07-25 11:11:42</td>\n",
       "      <td>2019-07-25</td>\n",
       "      <td>11:11:42</td>\n",
       "    </tr>\n",
       "    <tr>\n",
       "      <td>2</td>\n",
       "      <td>PaymentScreenSuccessful</td>\n",
       "      <td>3518123091307005509</td>\n",
       "      <td>1564054127</td>\n",
       "      <td>248</td>\n",
       "      <td>2019-07-25 11:28:47</td>\n",
       "      <td>2019-07-25</td>\n",
       "      <td>11:28:47</td>\n",
       "    </tr>\n",
       "    <tr>\n",
       "      <td>3</td>\n",
       "      <td>CartScreenAppear</td>\n",
       "      <td>3518123091307005509</td>\n",
       "      <td>1564054127</td>\n",
       "      <td>248</td>\n",
       "      <td>2019-07-25 11:28:47</td>\n",
       "      <td>2019-07-25</td>\n",
       "      <td>11:28:47</td>\n",
       "    </tr>\n",
       "    <tr>\n",
       "      <td>4</td>\n",
       "      <td>PaymentScreenSuccessful</td>\n",
       "      <td>6217807653094995999</td>\n",
       "      <td>1564055322</td>\n",
       "      <td>248</td>\n",
       "      <td>2019-07-25 11:48:42</td>\n",
       "      <td>2019-07-25</td>\n",
       "      <td>11:48:42</td>\n",
       "    </tr>\n",
       "  </tbody>\n",
       "</table>\n",
       "</div>"
      ],
      "text/plain": [
       "                 EventName         DeviceIDHash  EventTimestamp  ExpId  \\\n",
       "0         MainScreenAppear  4575588528974610257      1564029816    246   \n",
       "1         MainScreenAppear  7416695313311560658      1564053102    246   \n",
       "2  PaymentScreenSuccessful  3518123091307005509      1564054127    248   \n",
       "3         CartScreenAppear  3518123091307005509      1564054127    248   \n",
       "4  PaymentScreenSuccessful  6217807653094995999      1564055322    248   \n",
       "\n",
       "             DateTime        Date      Time  \n",
       "0 2019-07-25 04:43:36  2019-07-25  04:43:36  \n",
       "1 2019-07-25 11:11:42  2019-07-25  11:11:42  \n",
       "2 2019-07-25 11:28:47  2019-07-25  11:28:47  \n",
       "3 2019-07-25 11:28:47  2019-07-25  11:28:47  \n",
       "4 2019-07-25 11:48:42  2019-07-25  11:48:42  "
      ]
     },
     "execution_count": 483,
     "metadata": {},
     "output_type": "execute_result"
    }
   ],
   "source": [
    "df_data['Date'] = df_data['DateTime'].dt.date\n",
    "df_data['Time'] = df_data['DateTime'].dt.time\n",
    "df_data.head()"
   ]
  },
  {
   "cell_type": "markdown",
   "metadata": {},
   "source": [
    "> * Duplicate data in this dataset is 0.17%.\n",
    "> * Duplicate data in the dataset has been removed as it does not have much impact on the statistics.\n",
    "> * I converted and made 2 new Date and Time columns."
   ]
  },
  {
   "cell_type": "markdown",
   "metadata": {},
   "source": [
    "#### Step 3. Study and check the data <a name=\"StudyCheck\"></a>"
   ]
  },
  {
   "cell_type": "code",
   "execution_count": 484,
   "metadata": {
    "scrolled": true
   },
   "outputs": [
    {
     "data": {
      "text/html": [
       "<div>\n",
       "<style scoped>\n",
       "    .dataframe tbody tr th:only-of-type {\n",
       "        vertical-align: middle;\n",
       "    }\n",
       "\n",
       "    .dataframe tbody tr th {\n",
       "        vertical-align: top;\n",
       "    }\n",
       "\n",
       "    .dataframe thead th {\n",
       "        text-align: right;\n",
       "    }\n",
       "</style>\n",
       "<table border=\"1\" class=\"dataframe\">\n",
       "  <thead>\n",
       "    <tr style=\"text-align: right;\">\n",
       "      <th></th>\n",
       "      <th>EventName</th>\n",
       "      <th>nEvents</th>\n",
       "    </tr>\n",
       "  </thead>\n",
       "  <tbody>\n",
       "    <tr>\n",
       "      <td>0</td>\n",
       "      <td>EventName</td>\n",
       "      <td>5</td>\n",
       "    </tr>\n",
       "  </tbody>\n",
       "</table>\n",
       "</div>"
      ],
      "text/plain": [
       "   EventName  nEvents\n",
       "0  EventName        5"
      ]
     },
     "metadata": {},
     "output_type": "display_data"
    }
   ],
   "source": [
    "n_events = df_data.groupby('EventName').agg({'EventName':'nunique'}).sum().reset_index()\n",
    "n_events.columns = ['EventName', 'nEvents']\n",
    "display(n_events)"
   ]
  },
  {
   "cell_type": "code",
   "execution_count": 485,
   "metadata": {},
   "outputs": [
    {
     "data": {
      "text/plain": [
       "MainScreenAppear           119101\n",
       "OffersScreenAppear          46808\n",
       "CartScreenAppear            42668\n",
       "PaymentScreenSuccessful     34118\n",
       "Tutorial                     1018\n",
       "Name: EventName, dtype: int64"
      ]
     },
     "execution_count": 485,
     "metadata": {},
     "output_type": "execute_result"
    }
   ],
   "source": [
    "df_data['EventName'].value_counts()"
   ]
  },
  {
   "cell_type": "code",
   "execution_count": 486,
   "metadata": {},
   "outputs": [
    {
     "data": {
      "text/html": [
       "<div>\n",
       "<style scoped>\n",
       "    .dataframe tbody tr th:only-of-type {\n",
       "        vertical-align: middle;\n",
       "    }\n",
       "\n",
       "    .dataframe tbody tr th {\n",
       "        vertical-align: top;\n",
       "    }\n",
       "\n",
       "    .dataframe thead th {\n",
       "        text-align: right;\n",
       "    }\n",
       "</style>\n",
       "<table border=\"1\" class=\"dataframe\">\n",
       "  <thead>\n",
       "    <tr style=\"text-align: right;\">\n",
       "      <th></th>\n",
       "      <th>DeviceId</th>\n",
       "      <th>nUsers</th>\n",
       "    </tr>\n",
       "  </thead>\n",
       "  <tbody>\n",
       "    <tr>\n",
       "      <td>0</td>\n",
       "      <td>DeviceIDHash</td>\n",
       "      <td>7551</td>\n",
       "    </tr>\n",
       "  </tbody>\n",
       "</table>\n",
       "</div>"
      ],
      "text/plain": [
       "       DeviceId  nUsers\n",
       "0  DeviceIDHash    7551"
      ]
     },
     "metadata": {},
     "output_type": "display_data"
    }
   ],
   "source": [
    "n_users = df_data.groupby(['DeviceIDHash']).agg({'DeviceIDHash':'nunique'}).sum().reset_index()\n",
    "n_users.columns = ['DeviceId', 'nUsers']\n",
    "display(n_users)"
   ]
  },
  {
   "cell_type": "code",
   "execution_count": 487,
   "metadata": {},
   "outputs": [
    {
     "data": {
      "text/plain": [
       "243713"
      ]
     },
     "metadata": {},
     "output_type": "display_data"
    }
   ],
   "source": [
    "totalNumberEvents = df_data['EventName'].value_counts().sum()\n",
    "display(totalNumberEvents)"
   ]
  },
  {
   "cell_type": "code",
   "execution_count": 488,
   "metadata": {},
   "outputs": [
    {
     "name": "stdout",
     "output_type": "stream",
     "text": [
      "Average number of events per user: 0    32.0\n",
      "Name: nUsers, dtype: float64\n"
     ]
    }
   ],
   "source": [
    "AveNumPerUser = (totalNumberEvents / n_users['nUsers']).round()\n",
    "print('Average number of events per user:', AveNumPerUser)"
   ]
  },
  {
   "cell_type": "code",
   "execution_count": 489,
   "metadata": {},
   "outputs": [
    {
     "data": {
      "text/html": [
       "<div>\n",
       "<style scoped>\n",
       "    .dataframe tbody tr th:only-of-type {\n",
       "        vertical-align: middle;\n",
       "    }\n",
       "\n",
       "    .dataframe tbody tr th {\n",
       "        vertical-align: top;\n",
       "    }\n",
       "\n",
       "    .dataframe thead th {\n",
       "        text-align: right;\n",
       "    }\n",
       "</style>\n",
       "<table border=\"1\" class=\"dataframe\">\n",
       "  <thead>\n",
       "    <tr style=\"text-align: right;\">\n",
       "      <th></th>\n",
       "      <th>EventName</th>\n",
       "      <th>DeviceIDHash</th>\n",
       "      <th>EventTimestamp</th>\n",
       "      <th>ExpId</th>\n",
       "      <th>DateTime</th>\n",
       "      <th>Date</th>\n",
       "      <th>Time</th>\n",
       "    </tr>\n",
       "  </thead>\n",
       "  <tbody>\n",
       "    <tr>\n",
       "      <td>0</td>\n",
       "      <td>MainScreenAppear</td>\n",
       "      <td>4575588528974610257</td>\n",
       "      <td>1564029816</td>\n",
       "      <td>246</td>\n",
       "      <td>2019-07-25 04:43:36</td>\n",
       "      <td>2019-07-25</td>\n",
       "      <td>04:43:36</td>\n",
       "    </tr>\n",
       "    <tr>\n",
       "      <td>1</td>\n",
       "      <td>MainScreenAppear</td>\n",
       "      <td>7416695313311560658</td>\n",
       "      <td>1564053102</td>\n",
       "      <td>246</td>\n",
       "      <td>2019-07-25 11:11:42</td>\n",
       "      <td>2019-07-25</td>\n",
       "      <td>11:11:42</td>\n",
       "    </tr>\n",
       "    <tr>\n",
       "      <td>2</td>\n",
       "      <td>PaymentScreenSuccessful</td>\n",
       "      <td>3518123091307005509</td>\n",
       "      <td>1564054127</td>\n",
       "      <td>248</td>\n",
       "      <td>2019-07-25 11:28:47</td>\n",
       "      <td>2019-07-25</td>\n",
       "      <td>11:28:47</td>\n",
       "    </tr>\n",
       "    <tr>\n",
       "      <td>3</td>\n",
       "      <td>CartScreenAppear</td>\n",
       "      <td>3518123091307005509</td>\n",
       "      <td>1564054127</td>\n",
       "      <td>248</td>\n",
       "      <td>2019-07-25 11:28:47</td>\n",
       "      <td>2019-07-25</td>\n",
       "      <td>11:28:47</td>\n",
       "    </tr>\n",
       "    <tr>\n",
       "      <td>4</td>\n",
       "      <td>PaymentScreenSuccessful</td>\n",
       "      <td>6217807653094995999</td>\n",
       "      <td>1564055322</td>\n",
       "      <td>248</td>\n",
       "      <td>2019-07-25 11:48:42</td>\n",
       "      <td>2019-07-25</td>\n",
       "      <td>11:48:42</td>\n",
       "    </tr>\n",
       "  </tbody>\n",
       "</table>\n",
       "</div>"
      ],
      "text/plain": [
       "                 EventName         DeviceIDHash  EventTimestamp  ExpId  \\\n",
       "0         MainScreenAppear  4575588528974610257      1564029816    246   \n",
       "1         MainScreenAppear  7416695313311560658      1564053102    246   \n",
       "2  PaymentScreenSuccessful  3518123091307005509      1564054127    248   \n",
       "3         CartScreenAppear  3518123091307005509      1564054127    248   \n",
       "4  PaymentScreenSuccessful  6217807653094995999      1564055322    248   \n",
       "\n",
       "             DateTime        Date      Time  \n",
       "0 2019-07-25 04:43:36  2019-07-25  04:43:36  \n",
       "1 2019-07-25 11:11:42  2019-07-25  11:11:42  \n",
       "2 2019-07-25 11:28:47  2019-07-25  11:28:47  \n",
       "3 2019-07-25 11:28:47  2019-07-25  11:28:47  \n",
       "4 2019-07-25 11:48:42  2019-07-25  11:48:42  "
      ]
     },
     "execution_count": 489,
     "metadata": {},
     "output_type": "execute_result"
    }
   ],
   "source": [
    "df_data.head()"
   ]
  },
  {
   "cell_type": "code",
   "execution_count": 490,
   "metadata": {
    "scrolled": true
   },
   "outputs": [
    {
     "name": "stdout",
     "output_type": "stream",
     "text": [
      "Maximum date: 2019-08-07\n"
     ]
    }
   ],
   "source": [
    "DateMax = df_data['Date'].max()\n",
    "print('Maximum date:', DateMax)"
   ]
  },
  {
   "cell_type": "code",
   "execution_count": 491,
   "metadata": {},
   "outputs": [
    {
     "name": "stdout",
     "output_type": "stream",
     "text": [
      "Minimum date: 2019-07-25\n"
     ]
    }
   ],
   "source": [
    "DateMin = df_data['Date'].min()\n",
    "print('Minimum date:', DateMin)"
   ]
  },
  {
   "cell_type": "code",
   "execution_count": 492,
   "metadata": {},
   "outputs": [],
   "source": [
    "def draw_hist(df, x, y, title, ylabel, xlabel):\n",
    "    sns.set(style='dark')\n",
    "    sns.set_style(\"whitegrid\")\n",
    "    plt.figure(figsize=(16,5))\n",
    "    ax = sns.barplot(x=x, y=y, data=df)\n",
    "    plt.locs, labels = plt.xticks()\n",
    "    #plt.yticks(np.arange(160, 640, step=20))\n",
    "    #plt.setp(labels, rotation=rotation)\n",
    "    plt.title(title)\n",
    "    plt.ylabel(ylabel)\n",
    "    plt.xlabel(xlabel)\n",
    "    plt.show()    "
   ]
  },
  {
   "cell_type": "code",
   "execution_count": 493,
   "metadata": {},
   "outputs": [],
   "source": [
    "import sys\n",
    "import warnings\n",
    "if not sys.warnoptions:\n",
    "       warnings.simplefilter(\"ignore\")"
   ]
  },
  {
   "cell_type": "code",
   "execution_count": 494,
   "metadata": {
    "scrolled": false
   },
   "outputs": [
    {
     "data": {
      "image/png": "[encoded data removed]",
      "text/plain": [
       "<Figure size 1152x360 with 1 Axes>"
      ]
     },
     "metadata": {},
     "output_type": "display_data"
    }
   ],
   "source": [
    "plt.figure(figsize=(16,5))\n",
    "plt.locs, labels = plt.xticks()\n",
    "#plt.yticks(np.arange(160, 640, step=20))\n",
    "plt.setp(labels, rotation=45)\n",
    "df_data['DateTime'].hist(bins=50)\n",
    "plt.title('Histogram showing Date')\n",
    "plt.ylabel('Amount of Events')\n",
    "plt.xlabel('Date')\n",
    "plt.show() "
   ]
  },
  {
   "cell_type": "markdown",
   "metadata": {},
   "source": [
    "> * This graph shows the distribution of the number of events in applications by date.\n",
    "> * According to the histogram, there was not any big activity on the app until August 1st. I can assume that prior to this date, the advertising campaign had not been launched and the users were not aware of this application.\n",
    "> * Unfortunately no more information on the details."
   ]
  },
  {
   "cell_type": "code",
   "execution_count": 495,
   "metadata": {},
   "outputs": [],
   "source": [
    "df_data['Date'] = pd.to_datetime(df_data['Date'])\n",
    "new_df_data = df_data.loc[df_data['Date'] > '2019-07-31']"
   ]
  },
  {
   "cell_type": "code",
   "execution_count": 496,
   "metadata": {
    "scrolled": true
   },
   "outputs": [
    {
     "data": {
      "text/html": [
       "<div>\n",
       "<style scoped>\n",
       "    .dataframe tbody tr th:only-of-type {\n",
       "        vertical-align: middle;\n",
       "    }\n",
       "\n",
       "    .dataframe tbody tr th {\n",
       "        vertical-align: top;\n",
       "    }\n",
       "\n",
       "    .dataframe thead th {\n",
       "        text-align: right;\n",
       "    }\n",
       "</style>\n",
       "<table border=\"1\" class=\"dataframe\">\n",
       "  <thead>\n",
       "    <tr style=\"text-align: right;\">\n",
       "      <th></th>\n",
       "      <th>EventName</th>\n",
       "      <th>DeviceIDHash</th>\n",
       "      <th>EventTimestamp</th>\n",
       "      <th>ExpId</th>\n",
       "      <th>DateTime</th>\n",
       "      <th>Date</th>\n",
       "      <th>Time</th>\n",
       "    </tr>\n",
       "  </thead>\n",
       "  <tbody>\n",
       "    <tr>\n",
       "      <td>2828</td>\n",
       "      <td>Tutorial</td>\n",
       "      <td>3737462046622621720</td>\n",
       "      <td>1564618048</td>\n",
       "      <td>246</td>\n",
       "      <td>2019-08-01 00:07:28</td>\n",
       "      <td>2019-08-01</td>\n",
       "      <td>00:07:28</td>\n",
       "    </tr>\n",
       "    <tr>\n",
       "      <td>2829</td>\n",
       "      <td>MainScreenAppear</td>\n",
       "      <td>3737462046622621720</td>\n",
       "      <td>1564618080</td>\n",
       "      <td>246</td>\n",
       "      <td>2019-08-01 00:08:00</td>\n",
       "      <td>2019-08-01</td>\n",
       "      <td>00:08:00</td>\n",
       "    </tr>\n",
       "    <tr>\n",
       "      <td>2830</td>\n",
       "      <td>MainScreenAppear</td>\n",
       "      <td>3737462046622621720</td>\n",
       "      <td>1564618135</td>\n",
       "      <td>246</td>\n",
       "      <td>2019-08-01 00:08:55</td>\n",
       "      <td>2019-08-01</td>\n",
       "      <td>00:08:55</td>\n",
       "    </tr>\n",
       "    <tr>\n",
       "      <td>2831</td>\n",
       "      <td>OffersScreenAppear</td>\n",
       "      <td>3737462046622621720</td>\n",
       "      <td>1564618138</td>\n",
       "      <td>246</td>\n",
       "      <td>2019-08-01 00:08:58</td>\n",
       "      <td>2019-08-01</td>\n",
       "      <td>00:08:58</td>\n",
       "    </tr>\n",
       "    <tr>\n",
       "      <td>2832</td>\n",
       "      <td>MainScreenAppear</td>\n",
       "      <td>1433840883824088890</td>\n",
       "      <td>1564618139</td>\n",
       "      <td>247</td>\n",
       "      <td>2019-08-01 00:08:59</td>\n",
       "      <td>2019-08-01</td>\n",
       "      <td>00:08:59</td>\n",
       "    </tr>\n",
       "  </tbody>\n",
       "</table>\n",
       "</div>"
      ],
      "text/plain": [
       "               EventName         DeviceIDHash  EventTimestamp  ExpId  \\\n",
       "2828            Tutorial  3737462046622621720      1564618048    246   \n",
       "2829    MainScreenAppear  3737462046622621720      1564618080    246   \n",
       "2830    MainScreenAppear  3737462046622621720      1564618135    246   \n",
       "2831  OffersScreenAppear  3737462046622621720      1564618138    246   \n",
       "2832    MainScreenAppear  1433840883824088890      1564618139    247   \n",
       "\n",
       "                DateTime       Date      Time  \n",
       "2828 2019-08-01 00:07:28 2019-08-01  00:07:28  \n",
       "2829 2019-08-01 00:08:00 2019-08-01  00:08:00  \n",
       "2830 2019-08-01 00:08:55 2019-08-01  00:08:55  \n",
       "2831 2019-08-01 00:08:58 2019-08-01  00:08:58  \n",
       "2832 2019-08-01 00:08:59 2019-08-01  00:08:59  "
      ]
     },
     "execution_count": 496,
     "metadata": {},
     "output_type": "execute_result"
    }
   ],
   "source": [
    "new_df_data.head()"
   ]
  },
  {
   "cell_type": "code",
   "execution_count": 497,
   "metadata": {},
   "outputs": [
    {
     "name": "stdout",
     "output_type": "stream",
     "text": [
      "New data slice: 240887\n",
      "Prev. data slice: 243713\n",
      "Lost 2826 observations\n",
      "Lost 1.16% observations from entire observations.\n"
     ]
    }
   ],
   "source": [
    "print('New data slice:', new_df_data.shape[0])\n",
    "print('Prev. data slice:', df_data.shape[0])\n",
    "print('Lost {:} observations'.format(df_data.shape[0] - new_df_data.shape[0]))\n",
    "print('Lost {:.2%} observations from entire observations.'.format((df_data.shape[0] - new_df_data.shape[0])/df_data.shape[0]))"
   ]
  },
  {
   "cell_type": "code",
   "execution_count": 498,
   "metadata": {},
   "outputs": [
    {
     "data": {
      "text/html": [
       "<div>\n",
       "<style scoped>\n",
       "    .dataframe tbody tr th:only-of-type {\n",
       "        vertical-align: middle;\n",
       "    }\n",
       "\n",
       "    .dataframe tbody tr th {\n",
       "        vertical-align: top;\n",
       "    }\n",
       "\n",
       "    .dataframe thead th {\n",
       "        text-align: right;\n",
       "    }\n",
       "</style>\n",
       "<table border=\"1\" class=\"dataframe\">\n",
       "  <thead>\n",
       "    <tr style=\"text-align: right;\">\n",
       "      <th></th>\n",
       "      <th>ExpId</th>\n",
       "      <th>Counts</th>\n",
       "    </tr>\n",
       "  </thead>\n",
       "  <tbody>\n",
       "    <tr>\n",
       "      <td>0</td>\n",
       "      <td>246</td>\n",
       "      <td>79302</td>\n",
       "    </tr>\n",
       "    <tr>\n",
       "      <td>1</td>\n",
       "      <td>247</td>\n",
       "      <td>77022</td>\n",
       "    </tr>\n",
       "    <tr>\n",
       "      <td>2</td>\n",
       "      <td>248</td>\n",
       "      <td>84563</td>\n",
       "    </tr>\n",
       "  </tbody>\n",
       "</table>\n",
       "</div>"
      ],
      "text/plain": [
       "   ExpId  Counts\n",
       "0    246   79302\n",
       "1    247   77022\n",
       "2    248   84563"
      ]
     },
     "metadata": {},
     "output_type": "display_data"
    }
   ],
   "source": [
    "groups = new_df_data.groupby('ExpId').size().reset_index(name='Counts')\n",
    "display(groups)"
   ]
  },
  {
   "cell_type": "markdown",
   "metadata": {},
   "source": [
    "> * In the current dataset, 5 main user actions are highlighted for the food selling application.\n",
    "> * The largest number of actions occurs on the main screen of the application - 119101 and the smallest on the tutorial screen. Least of all people want to be trained in this application. It can be concluded that the application is intuitively understandable. It's good.\n",
    "> * Judging by the date and time of using the application, you can see that active user actions begin on July 31, 2019, so we can create a new dataset by excluding earlier dates. In this case, the dataset has a date range from 25.07.2019-07.08.2019. \n",
    "When creating a new data slice, 2826 observations were lost (1.16%)."
   ]
  },
  {
   "cell_type": "markdown",
   "metadata": {},
   "source": [
    "#### Step 4. Study the event funnel <a name=\"EventFunnel\"></a>"
   ]
  },
  {
   "cell_type": "markdown",
   "metadata": {},
   "source": [
    "- [X] See what events are in the logs and their frequency of occurrence. Sort them by frequency."
   ]
  },
  {
   "cell_type": "code",
   "execution_count": 499,
   "metadata": {},
   "outputs": [
    {
     "data": {
      "text/html": [
       "<div>\n",
       "<style scoped>\n",
       "    .dataframe tbody tr th:only-of-type {\n",
       "        vertical-align: middle;\n",
       "    }\n",
       "\n",
       "    .dataframe tbody tr th {\n",
       "        vertical-align: top;\n",
       "    }\n",
       "\n",
       "    .dataframe thead th {\n",
       "        text-align: right;\n",
       "    }\n",
       "</style>\n",
       "<table border=\"1\" class=\"dataframe\">\n",
       "  <thead>\n",
       "    <tr style=\"text-align: right;\">\n",
       "      <th></th>\n",
       "      <th>EventName</th>\n",
       "      <th>DeviceIDHash</th>\n",
       "    </tr>\n",
       "  </thead>\n",
       "  <tbody>\n",
       "    <tr>\n",
       "      <td>0</td>\n",
       "      <td>MainScreenAppear</td>\n",
       "      <td>117328</td>\n",
       "    </tr>\n",
       "    <tr>\n",
       "      <td>1</td>\n",
       "      <td>OffersScreenAppear</td>\n",
       "      <td>46333</td>\n",
       "    </tr>\n",
       "    <tr>\n",
       "      <td>2</td>\n",
       "      <td>CartScreenAppear</td>\n",
       "      <td>42303</td>\n",
       "    </tr>\n",
       "    <tr>\n",
       "      <td>3</td>\n",
       "      <td>PaymentScreenSuccessful</td>\n",
       "      <td>33918</td>\n",
       "    </tr>\n",
       "    <tr>\n",
       "      <td>4</td>\n",
       "      <td>Tutorial</td>\n",
       "      <td>1005</td>\n",
       "    </tr>\n",
       "  </tbody>\n",
       "</table>\n",
       "</div>"
      ],
      "text/plain": [
       "                 EventName  DeviceIDHash\n",
       "0         MainScreenAppear        117328\n",
       "1       OffersScreenAppear         46333\n",
       "2         CartScreenAppear         42303\n",
       "3  PaymentScreenSuccessful         33918\n",
       "4                 Tutorial          1005"
      ]
     },
     "execution_count": 499,
     "metadata": {},
     "output_type": "execute_result"
    }
   ],
   "source": [
    "eventsNames = new_df_data.groupby('EventName').agg({'DeviceIDHash':'count'}).sort_values(by='DeviceIDHash', ascending=False).reset_index()\n",
    "eventsNames.head()"
   ]
  },
  {
   "cell_type": "code",
   "execution_count": 500,
   "metadata": {
    "scrolled": false
   },
   "outputs": [
    {
     "data": {
      "text/html": [
       "<div>\n",
       "<style scoped>\n",
       "    .dataframe tbody tr th:only-of-type {\n",
       "        vertical-align: middle;\n",
       "    }\n",
       "\n",
       "    .dataframe tbody tr th {\n",
       "        vertical-align: top;\n",
       "    }\n",
       "\n",
       "    .dataframe thead th {\n",
       "        text-align: right;\n",
       "    }\n",
       "</style>\n",
       "<table border=\"1\" class=\"dataframe\">\n",
       "  <thead>\n",
       "    <tr style=\"text-align: right;\">\n",
       "      <th></th>\n",
       "      <th>EventName</th>\n",
       "      <th>DeviceIDHash</th>\n",
       "    </tr>\n",
       "  </thead>\n",
       "  <tbody>\n",
       "    <tr>\n",
       "      <td>0</td>\n",
       "      <td>MainScreenAppear</td>\n",
       "      <td>7419</td>\n",
       "    </tr>\n",
       "    <tr>\n",
       "      <td>1</td>\n",
       "      <td>OffersScreenAppear</td>\n",
       "      <td>4593</td>\n",
       "    </tr>\n",
       "    <tr>\n",
       "      <td>2</td>\n",
       "      <td>CartScreenAppear</td>\n",
       "      <td>3734</td>\n",
       "    </tr>\n",
       "    <tr>\n",
       "      <td>3</td>\n",
       "      <td>PaymentScreenSuccessful</td>\n",
       "      <td>3539</td>\n",
       "    </tr>\n",
       "    <tr>\n",
       "      <td>4</td>\n",
       "      <td>Tutorial</td>\n",
       "      <td>840</td>\n",
       "    </tr>\n",
       "  </tbody>\n",
       "</table>\n",
       "</div>"
      ],
      "text/plain": [
       "                 EventName  DeviceIDHash\n",
       "0         MainScreenAppear          7419\n",
       "1       OffersScreenAppear          4593\n",
       "2         CartScreenAppear          3734\n",
       "3  PaymentScreenSuccessful          3539\n",
       "4                 Tutorial           840"
      ]
     },
     "execution_count": 500,
     "metadata": {},
     "output_type": "execute_result"
    }
   ],
   "source": [
    "usersActions = new_df_data.groupby('EventName').agg({'DeviceIDHash':'nunique'}).sort_values(by='DeviceIDHash', ascending=False).reset_index()\n",
    "usersActions.head()"
   ]
  },
  {
   "cell_type": "markdown",
   "metadata": {},
   "source": [
    "> - I think that the sequence of user actions is as follows:\n",
    "> 1. Opening the main screen.\n",
    "> 2. Suggestion screen.\n",
    "> 3. Adding purchases to the cart - cart screen.\n",
    "> 4. Successful payment.\n",
    "> 5. The least popular, judging by the data, is the tutorial screen. It can be omitted from the funnel."
   ]
  },
  {
   "cell_type": "code",
   "execution_count": 501,
   "metadata": {},
   "outputs": [
    {
     "data": {
      "text/html": [
       "<div>\n",
       "<style scoped>\n",
       "    .dataframe tbody tr th:only-of-type {\n",
       "        vertical-align: middle;\n",
       "    }\n",
       "\n",
       "    .dataframe tbody tr th {\n",
       "        vertical-align: top;\n",
       "    }\n",
       "\n",
       "    .dataframe thead th {\n",
       "        text-align: right;\n",
       "    }\n",
       "</style>\n",
       "<table border=\"1\" class=\"dataframe\">\n",
       "  <thead>\n",
       "    <tr style=\"text-align: right;\">\n",
       "      <th></th>\n",
       "      <th>EventName</th>\n",
       "      <th>DeviceIDHash</th>\n",
       "      <th>EventTimestamp</th>\n",
       "      <th>ExpId</th>\n",
       "      <th>DateTime</th>\n",
       "      <th>Date</th>\n",
       "      <th>Time</th>\n",
       "    </tr>\n",
       "  </thead>\n",
       "  <tbody>\n",
       "    <tr>\n",
       "      <td>2828</td>\n",
       "      <td>Tutorial</td>\n",
       "      <td>3737462046622621720</td>\n",
       "      <td>1564618048</td>\n",
       "      <td>246</td>\n",
       "      <td>2019-08-01 00:07:28</td>\n",
       "      <td>2019-08-01</td>\n",
       "      <td>00:07:28</td>\n",
       "    </tr>\n",
       "    <tr>\n",
       "      <td>2829</td>\n",
       "      <td>MainScreenAppear</td>\n",
       "      <td>3737462046622621720</td>\n",
       "      <td>1564618080</td>\n",
       "      <td>246</td>\n",
       "      <td>2019-08-01 00:08:00</td>\n",
       "      <td>2019-08-01</td>\n",
       "      <td>00:08:00</td>\n",
       "    </tr>\n",
       "    <tr>\n",
       "      <td>2830</td>\n",
       "      <td>MainScreenAppear</td>\n",
       "      <td>3737462046622621720</td>\n",
       "      <td>1564618135</td>\n",
       "      <td>246</td>\n",
       "      <td>2019-08-01 00:08:55</td>\n",
       "      <td>2019-08-01</td>\n",
       "      <td>00:08:55</td>\n",
       "    </tr>\n",
       "    <tr>\n",
       "      <td>2831</td>\n",
       "      <td>OffersScreenAppear</td>\n",
       "      <td>3737462046622621720</td>\n",
       "      <td>1564618138</td>\n",
       "      <td>246</td>\n",
       "      <td>2019-08-01 00:08:58</td>\n",
       "      <td>2019-08-01</td>\n",
       "      <td>00:08:58</td>\n",
       "    </tr>\n",
       "    <tr>\n",
       "      <td>2832</td>\n",
       "      <td>MainScreenAppear</td>\n",
       "      <td>1433840883824088890</td>\n",
       "      <td>1564618139</td>\n",
       "      <td>247</td>\n",
       "      <td>2019-08-01 00:08:59</td>\n",
       "      <td>2019-08-01</td>\n",
       "      <td>00:08:59</td>\n",
       "    </tr>\n",
       "  </tbody>\n",
       "</table>\n",
       "</div>"
      ],
      "text/plain": [
       "               EventName         DeviceIDHash  EventTimestamp  ExpId  \\\n",
       "2828            Tutorial  3737462046622621720      1564618048    246   \n",
       "2829    MainScreenAppear  3737462046622621720      1564618080    246   \n",
       "2830    MainScreenAppear  3737462046622621720      1564618135    246   \n",
       "2831  OffersScreenAppear  3737462046622621720      1564618138    246   \n",
       "2832    MainScreenAppear  1433840883824088890      1564618139    247   \n",
       "\n",
       "                DateTime       Date      Time  \n",
       "2828 2019-08-01 00:07:28 2019-08-01  00:07:28  \n",
       "2829 2019-08-01 00:08:00 2019-08-01  00:08:00  \n",
       "2830 2019-08-01 00:08:55 2019-08-01  00:08:55  \n",
       "2831 2019-08-01 00:08:58 2019-08-01  00:08:58  \n",
       "2832 2019-08-01 00:08:59 2019-08-01  00:08:59  "
      ]
     },
     "execution_count": 501,
     "metadata": {},
     "output_type": "execute_result"
    }
   ],
   "source": [
    "new_df_data.head()"
   ]
  },
  {
   "cell_type": "code",
   "execution_count": 502,
   "metadata": {},
   "outputs": [
    {
     "data": {
      "text/html": [
       "<div>\n",
       "<style scoped>\n",
       "    .dataframe tbody tr th:only-of-type {\n",
       "        vertical-align: middle;\n",
       "    }\n",
       "\n",
       "    .dataframe tbody tr th {\n",
       "        vertical-align: top;\n",
       "    }\n",
       "\n",
       "    .dataframe thead th {\n",
       "        text-align: right;\n",
       "    }\n",
       "</style>\n",
       "<table border=\"1\" class=\"dataframe\">\n",
       "  <thead>\n",
       "    <tr style=\"text-align: right;\">\n",
       "      <th>EventName</th>\n",
       "      <th>CartScreenAppear</th>\n",
       "      <th>MainScreenAppear</th>\n",
       "      <th>OffersScreenAppear</th>\n",
       "      <th>PaymentScreenSuccessful</th>\n",
       "      <th>Tutorial</th>\n",
       "    </tr>\n",
       "    <tr>\n",
       "      <th>DeviceIDHash</th>\n",
       "      <th></th>\n",
       "      <th></th>\n",
       "      <th></th>\n",
       "      <th></th>\n",
       "      <th></th>\n",
       "    </tr>\n",
       "  </thead>\n",
       "  <tbody>\n",
       "    <tr>\n",
       "      <td>6888746892508752</td>\n",
       "      <td>NaT</td>\n",
       "      <td>2019-08-06 14:06:34</td>\n",
       "      <td>NaT</td>\n",
       "      <td>NaT</td>\n",
       "      <td>NaT</td>\n",
       "    </tr>\n",
       "    <tr>\n",
       "      <td>6909561520679493</td>\n",
       "      <td>2019-08-06 18:52:58</td>\n",
       "      <td>2019-08-06 18:52:54</td>\n",
       "      <td>2019-08-06 18:53:04</td>\n",
       "      <td>2019-08-06 18:52:58</td>\n",
       "      <td>NaT</td>\n",
       "    </tr>\n",
       "    <tr>\n",
       "      <td>6922444491712477</td>\n",
       "      <td>2019-08-04 14:19:40</td>\n",
       "      <td>2019-08-04 14:19:33</td>\n",
       "      <td>2019-08-04 14:19:46</td>\n",
       "      <td>2019-08-04 14:19:40</td>\n",
       "      <td>NaT</td>\n",
       "    </tr>\n",
       "    <tr>\n",
       "      <td>7435777799948366</td>\n",
       "      <td>NaT</td>\n",
       "      <td>2019-08-05 08:06:34</td>\n",
       "      <td>NaT</td>\n",
       "      <td>NaT</td>\n",
       "      <td>NaT</td>\n",
       "    </tr>\n",
       "    <tr>\n",
       "      <td>7702139951469979</td>\n",
       "      <td>2019-08-02 14:28:45</td>\n",
       "      <td>2019-08-01 04:29:54</td>\n",
       "      <td>2019-08-01 04:29:56</td>\n",
       "      <td>2019-08-02 14:28:45</td>\n",
       "      <td>NaT</td>\n",
       "    </tr>\n",
       "  </tbody>\n",
       "</table>\n",
       "</div>"
      ],
      "text/plain": [
       "EventName           CartScreenAppear    MainScreenAppear  OffersScreenAppear  \\\n",
       "DeviceIDHash                                                                   \n",
       "6888746892508752                 NaT 2019-08-06 14:06:34                 NaT   \n",
       "6909561520679493 2019-08-06 18:52:58 2019-08-06 18:52:54 2019-08-06 18:53:04   \n",
       "6922444491712477 2019-08-04 14:19:40 2019-08-04 14:19:33 2019-08-04 14:19:46   \n",
       "7435777799948366                 NaT 2019-08-05 08:06:34                 NaT   \n",
       "7702139951469979 2019-08-02 14:28:45 2019-08-01 04:29:54 2019-08-01 04:29:56   \n",
       "\n",
       "EventName        PaymentScreenSuccessful Tutorial  \n",
       "DeviceIDHash                                       \n",
       "6888746892508752                     NaT      NaT  \n",
       "6909561520679493     2019-08-06 18:52:58      NaT  \n",
       "6922444491712477     2019-08-04 14:19:40      NaT  \n",
       "7435777799948366                     NaT      NaT  \n",
       "7702139951469979     2019-08-02 14:28:45      NaT  "
      ]
     },
     "metadata": {},
     "output_type": "display_data"
    }
   ],
   "source": [
    "usersVsAction = new_df_data.pivot_table(\n",
    "    index='DeviceIDHash', \n",
    "    columns='EventName', \n",
    "    values='DateTime',\n",
    "    aggfunc='min')\n",
    "\n",
    "display(usersVsAction.head())"
   ]
  },
  {
   "cell_type": "markdown",
   "metadata": {},
   "source": [
    "Each table row presents a user. The columns contain the time each of the events first occurred. If the event didn't take place, its cell value is NaT."
   ]
  },
  {
   "cell_type": "code",
   "execution_count": 503,
   "metadata": {},
   "outputs": [
    {
     "name": "stdout",
     "output_type": "stream",
     "text": [
      "The number of users reached Stage# 1: accessed the Main Screen: 7419\n"
     ]
    }
   ],
   "source": [
    "# The number of users reaching Stage 1 (accessed the main screen)\n",
    "NumberMainScreen = usersVsAction[~usersVsAction['MainScreenAppear'].isna()].shape[0]\n",
    "print('The number of users reached Stage# 1: accessed the Main Screen:', NumberMainScreen)"
   ]
  },
  {
   "cell_type": "code",
   "execution_count": 504,
   "metadata": {},
   "outputs": [
    {
     "name": "stdout",
     "output_type": "stream",
     "text": [
      "The number of users reached Stage# 2: accessed the Main Screen and Offers Screen: 4201\n"
     ]
    }
   ],
   "source": [
    "# The number of users reaching Stage 2 (accessed the main screen & offers screen)\n",
    "NumberOfferScreen = usersVsAction[~usersVsAction['MainScreenAppear'].isna() & \n",
    "                    (usersVsAction['OffersScreenAppear'] > usersVsAction['MainScreenAppear'])].shape[0]\n",
    "print('The number of users reached Stage# 2: accessed the Main Screen and Offers Screen:', NumberOfferScreen)"
   ]
  },
  {
   "cell_type": "code",
   "execution_count": 505,
   "metadata": {},
   "outputs": [
    {
     "name": "stdout",
     "output_type": "stream",
     "text": [
      "The number of users reached Stage# 3: accessed the Main Screen, Offers Screen and Cart Screen: 1967\n"
     ]
    }
   ],
   "source": [
    "# The number of users reaching Stage 3 (accessed the main screen & offers screen & payment screen)\n",
    "NumberCartScreen =   usersVsAction[~usersVsAction['MainScreenAppear'].isna() & \n",
    "                                      ~usersVsAction['OffersScreenAppear'].isna() & \n",
    "                                      (usersVsAction['CartScreenAppear'] > usersVsAction['OffersScreenAppear'])].shape[0]\n",
    "print('The number of users reached Stage# 3: accessed the Main Screen, Offers Screen and Cart Screen:', NumberCartScreen)"
   ]
  },
  {
   "cell_type": "code",
   "execution_count": 506,
   "metadata": {},
   "outputs": [
    {
     "name": "stdout",
     "output_type": "stream",
     "text": [
      "The number of users reached Stage# 4: accessed the Main Screen, Offers Screen, Cart Screen and Payment Screen: 936\n"
     ]
    }
   ],
   "source": [
    "# The number of users reaching Stage 4 (accessed the main screen & offers screen & payment screen & tutorial)\n",
    "NumberPaymentScreen = usersVsAction[~usersVsAction['MainScreenAppear'].isna() & \n",
    "                                 ~usersVsAction['OffersScreenAppear'].isna() & \n",
    "                                 ~usersVsAction['CartScreenAppear'].isna() &\n",
    "                                (usersVsAction['PaymentScreenSuccessful'] > usersVsAction['CartScreenAppear'])].shape[0]\n",
    "print('The number of users reached Stage# 4: accessed the Main Screen, Offers Screen, Cart Screen and Payment Screen:', NumberPaymentScreen)"
   ]
  },
  {
   "cell_type": "code",
   "execution_count": 507,
   "metadata": {},
   "outputs": [
    {
     "name": "stdout",
     "output_type": "stream",
     "text": [
      "The number of users reached Stage# 5: accessed the Main Screen, Offers Screen, Cart Screen, Payment Screen and Tutorial: 7\n"
     ]
    }
   ],
   "source": [
    "# The number of users reaching Stage 4 (accessed the main screen & offers screen & payment screen & tutorial)\n",
    "TutorialScreen = usersVsAction[~usersVsAction['MainScreenAppear'].isna() & \n",
    "                               ~usersVsAction['OffersScreenAppear'].isna() & \n",
    "                               ~usersVsAction['CartScreenAppear'].isna() &\n",
    "                               ~usersVsAction['PaymentScreenSuccessful'].isna() &\n",
    "                              (usersVsAction['Tutorial'] > usersVsAction['PaymentScreenSuccessful'])].shape[0]\n",
    "print('The number of users reached Stage# 5: accessed the Main Screen, Offers Screen, Cart Screen, Payment Screen and Tutorial:', TutorialScreen)"
   ]
  },
  {
   "cell_type": "code",
   "execution_count": 508,
   "metadata": {},
   "outputs": [
    {
     "name": "stdout",
     "output_type": "stream",
     "text": [
      "Ratio Stage 2 to Stage 1: 0.57\n",
      "Ratio Stage 3 to Stage 2: 0.47\n",
      "Ratio Stage 4 to Stage 3: 0.48\n",
      "Ratio Stage 5 to Stage 4: 0.01\n",
      "Ratio Stage Payment Screen to Main Screen: 0.13\n"
     ]
    }
   ],
   "source": [
    "Stage2_stage1 = NumberOfferScreen / NumberMainScreen\n",
    "Stage3_stage2 = NumberCartScreen / NumberOfferScreen\n",
    "Stage4_stage3 = NumberPaymentScreen / NumberCartScreen\n",
    "Stage5_stage4 = TutorialScreen / NumberPaymentScreen\n",
    "Stage5_stage1 = (NumberPaymentScreen / NumberMainScreen)\n",
    "\n",
    "print('Ratio Stage 2 to Stage 1: {:.2f}'.format(Stage2_stage1))\n",
    "print('Ratio Stage 3 to Stage 2: {:.2f}'.format(Stage3_stage2))\n",
    "print('Ratio Stage 4 to Stage 3: {:.2f}'.format(Stage4_stage3))\n",
    "print('Ratio Stage 5 to Stage 4: {:.2f}'.format(Stage5_stage4))\n",
    "print('Ratio Stage Payment Screen to Main Screen: {:.2f}'.format(Stage5_stage1))"
   ]
  },
  {
   "cell_type": "code",
   "execution_count": 509,
   "metadata": {},
   "outputs": [
    {
     "data": {
      "text/html": [
       "<div>\n",
       "<style scoped>\n",
       "    .dataframe tbody tr th:only-of-type {\n",
       "        vertical-align: middle;\n",
       "    }\n",
       "\n",
       "    .dataframe tbody tr th {\n",
       "        vertical-align: top;\n",
       "    }\n",
       "\n",
       "    .dataframe thead th {\n",
       "        text-align: right;\n",
       "    }\n",
       "</style>\n",
       "<table border=\"1\" class=\"dataframe\">\n",
       "  <thead>\n",
       "    <tr style=\"text-align: right;\">\n",
       "      <th></th>\n",
       "      <th>EventName</th>\n",
       "      <th>DeviceIDHash</th>\n",
       "    </tr>\n",
       "  </thead>\n",
       "  <tbody>\n",
       "    <tr>\n",
       "      <td>0</td>\n",
       "      <td>MainScreenAppear</td>\n",
       "      <td>7419</td>\n",
       "    </tr>\n",
       "    <tr>\n",
       "      <td>1</td>\n",
       "      <td>OffersScreenAppear</td>\n",
       "      <td>4593</td>\n",
       "    </tr>\n",
       "    <tr>\n",
       "      <td>2</td>\n",
       "      <td>CartScreenAppear</td>\n",
       "      <td>3734</td>\n",
       "    </tr>\n",
       "    <tr>\n",
       "      <td>3</td>\n",
       "      <td>PaymentScreenSuccessful</td>\n",
       "      <td>3539</td>\n",
       "    </tr>\n",
       "    <tr>\n",
       "      <td>4</td>\n",
       "      <td>Tutorial</td>\n",
       "      <td>840</td>\n",
       "    </tr>\n",
       "  </tbody>\n",
       "</table>\n",
       "</div>"
      ],
      "text/plain": [
       "                 EventName  DeviceIDHash\n",
       "0         MainScreenAppear          7419\n",
       "1       OffersScreenAppear          4593\n",
       "2         CartScreenAppear          3734\n",
       "3  PaymentScreenSuccessful          3539\n",
       "4                 Tutorial           840"
      ]
     },
     "execution_count": 509,
     "metadata": {},
     "output_type": "execute_result"
    }
   ],
   "source": [
    "usersActions.head()"
   ]
  },
  {
   "cell_type": "code",
   "execution_count": 510,
   "metadata": {},
   "outputs": [
    {
     "data": {
      "application/vnd.plotly.v1+json": {
       "config": {
        "plotlyServerURL": "https://plot.ly"
       },
       "data": [
        {
         "type": "funnel",
         "x": [
          7423,
          4595,
          3735,
          3539
         ],
         "y": [
          "Main Screen",
          "Offers Screen",
          "Cart Screen",
          "Payment Screen"
         ]
        }
       ],
       "layout": {
        "template": {
         "data": {
          "bar": [
           {
            "error_x": {
             "color": "#2a3f5f"
            },
            "error_y": {
             "color": "#2a3f5f"
            },
            "marker": {
             "line": {
              "color": "#E5ECF6",
              "width": 0.5
             }
            },
            "type": "bar"
           }
          ],
          "barpolar": [
           {
            "marker": {
             "line": {
              "color": "#E5ECF6",
              "width": 0.5
             }
            },
            "type": "barpolar"
           }
          ],
          "carpet": [
           {
            "aaxis": {
             "endlinecolor": "#2a3f5f",
             "gridcolor": "white",
             "linecolor": "white",
             "minorgridcolor": "white",
             "startlinecolor": "#2a3f5f"
            },
            "baxis": {
             "endlinecolor": "#2a3f5f",
             "gridcolor": "white",
             "linecolor": "white",
             "minorgridcolor": "white",
             "startlinecolor": "#2a3f5f"
            },
            "type": "carpet"
           }
          ],
          "choropleth": [
           {
            "colorbar": {
             "outlinewidth": 0,
             "ticks": ""
            },
            "type": "choropleth"
           }
          ],
          "contour": [
           {
            "colorbar": {
             "outlinewidth": 0,
             "ticks": ""
            },
            "colorscale": [
             [
              0,
              "#0d0887"
             ],
             [
              0.1111111111111111,
              "#46039f"
             ],
             [
              0.2222222222222222,
              "#7201a8"
             ],
             [
              0.3333333333333333,
              "#9c179e"
             ],
             [
              0.4444444444444444,
              "#bd3786"
             ],
             [
              0.5555555555555556,
              "#d8576b"
             ],
             [
              0.6666666666666666,
              "#ed7953"
             ],
             [
              0.7777777777777778,
              "#fb9f3a"
             ],
             [
              0.8888888888888888,
              "#fdca26"
             ],
             [
              1,
              "#f0f921"
             ]
            ],
            "type": "contour"
           }
          ],
          "contourcarpet": [
           {
            "colorbar": {
             "outlinewidth": 0,
             "ticks": ""
            },
            "type": "contourcarpet"
           }
          ],
          "heatmap": [
           {
            "colorbar": {
             "outlinewidth": 0,
             "ticks": ""
            },
            "colorscale": [
             [
              0,
              "#0d0887"
             ],
             [
              0.1111111111111111,
              "#46039f"
             ],
             [
              0.2222222222222222,
              "#7201a8"
             ],
             [
              0.3333333333333333,
              "#9c179e"
             ],
             [
              0.4444444444444444,
              "#bd3786"
             ],
             [
              0.5555555555555556,
              "#d8576b"
             ],
             [
              0.6666666666666666,
              "#ed7953"
             ],
             [
              0.7777777777777778,
              "#fb9f3a"
             ],
             [
              0.8888888888888888,
              "#fdca26"
             ],
             [
              1,
              "#f0f921"
             ]
            ],
            "type": "heatmap"
           }
          ],
          "heatmapgl": [
           {
            "colorbar": {
             "outlinewidth": 0,
             "ticks": ""
            },
            "colorscale": [
             [
              0,
              "#0d0887"
             ],
             [
              0.1111111111111111,
              "#46039f"
             ],
             [
              0.2222222222222222,
              "#7201a8"
             ],
             [
              0.3333333333333333,
              "#9c179e"
             ],
             [
              0.4444444444444444,
              "#bd3786"
             ],
             [
              0.5555555555555556,
              "#d8576b"
             ],
             [
              0.6666666666666666,
              "#ed7953"
             ],
             [
              0.7777777777777778,
              "#fb9f3a"
             ],
             [
              0.8888888888888888,
              "#fdca26"
             ],
             [
              1,
              "#f0f921"
             ]
            ],
            "type": "heatmapgl"
           }
          ],
          "histogram": [
           {
            "marker": {
             "colorbar": {
              "outlinewidth": 0,
              "ticks": ""
             }
            },
            "type": "histogram"
           }
          ],
          "histogram2d": [
           {
            "colorbar": {
             "outlinewidth": 0,
             "ticks": ""
            },
            "colorscale": [
             [
              0,
              "#0d0887"
             ],
             [
              0.1111111111111111,
              "#46039f"
             ],
             [
              0.2222222222222222,
              "#7201a8"
             ],
             [
              0.3333333333333333,
              "#9c179e"
             ],
             [
              0.4444444444444444,
              "#bd3786"
             ],
             [
              0.5555555555555556,
              "#d8576b"
             ],
             [
              0.6666666666666666,
              "#ed7953"
             ],
             [
              0.7777777777777778,
              "#fb9f3a"
             ],
             [
              0.8888888888888888,
              "#fdca26"
             ],
             [
              1,
              "#f0f921"
             ]
            ],
            "type": "histogram2d"
           }
          ],
          "histogram2dcontour": [
           {
            "colorbar": {
             "outlinewidth": 0,
             "ticks": ""
            },
            "colorscale": [
             [
              0,
              "#0d0887"
             ],
             [
              0.1111111111111111,
              "#46039f"
             ],
             [
              0.2222222222222222,
              "#7201a8"
             ],
             [
              0.3333333333333333,
              "#9c179e"
             ],
             [
              0.4444444444444444,
              "#bd3786"
             ],
             [
              0.5555555555555556,
              "#d8576b"
             ],
             [
              0.6666666666666666,
              "#ed7953"
             ],
             [
              0.7777777777777778,
              "#fb9f3a"
             ],
             [
              0.8888888888888888,
              "#fdca26"
             ],
             [
              1,
              "#f0f921"
             ]
            ],
            "type": "histogram2dcontour"
           }
          ],
          "mesh3d": [
           {
            "colorbar": {
             "outlinewidth": 0,
             "ticks": ""
            },
            "type": "mesh3d"
           }
          ],
          "parcoords": [
           {
            "line": {
             "colorbar": {
              "outlinewidth": 0,
              "ticks": ""
             }
            },
            "type": "parcoords"
           }
          ],
          "scatter": [
           {
            "marker": {
             "colorbar": {
              "outlinewidth": 0,
              "ticks": ""
             }
            },
            "type": "scatter"
           }
          ],
          "scatter3d": [
           {
            "line": {
             "colorbar": {
              "outlinewidth": 0,
              "ticks": ""
             }
            },
            "marker": {
             "colorbar": {
              "outlinewidth": 0,
              "ticks": ""
             }
            },
            "type": "scatter3d"
           }
          ],
          "scattercarpet": [
           {
            "marker": {
             "colorbar": {
              "outlinewidth": 0,
              "ticks": ""
             }
            },
            "type": "scattercarpet"
           }
          ],
          "scattergeo": [
           {
            "marker": {
             "colorbar": {
              "outlinewidth": 0,
              "ticks": ""
             }
            },
            "type": "scattergeo"
           }
          ],
          "scattergl": [
           {
            "marker": {
             "colorbar": {
              "outlinewidth": 0,
              "ticks": ""
             }
            },
            "type": "scattergl"
           }
          ],
          "scattermapbox": [
           {
            "marker": {
             "colorbar": {
              "outlinewidth": 0,
              "ticks": ""
             }
            },
            "type": "scattermapbox"
           }
          ],
          "scatterpolar": [
           {
            "marker": {
             "colorbar": {
              "outlinewidth": 0,
              "ticks": ""
             }
            },
            "type": "scatterpolar"
           }
          ],
          "scatterpolargl": [
           {
            "marker": {
             "colorbar": {
              "outlinewidth": 0,
              "ticks": ""
             }
            },
            "type": "scatterpolargl"
           }
          ],
          "scatterternary": [
           {
            "marker": {
             "colorbar": {
              "outlinewidth": 0,
              "ticks": ""
             }
            },
            "type": "scatterternary"
           }
          ],
          "surface": [
           {
            "colorbar": {
             "outlinewidth": 0,
             "ticks": ""
            },
            "colorscale": [
             [
              0,
              "#0d0887"
             ],
             [
              0.1111111111111111,
              "#46039f"
             ],
             [
              0.2222222222222222,
              "#7201a8"
             ],
             [
              0.3333333333333333,
              "#9c179e"
             ],
             [
              0.4444444444444444,
              "#bd3786"
             ],
             [
              0.5555555555555556,
              "#d8576b"
             ],
             [
              0.6666666666666666,
              "#ed7953"
             ],
             [
              0.7777777777777778,
              "#fb9f3a"
             ],
             [
              0.8888888888888888,
              "#fdca26"
             ],
             [
              1,
              "#f0f921"
             ]
            ],
            "type": "surface"
           }
          ],
          "table": [
           {
            "cells": {
             "fill": {
              "color": "#EBF0F8"
             },
             "line": {
              "color": "white"
             }
            },
            "header": {
             "fill": {
              "color": "#C8D4E3"
             },
             "line": {
              "color": "white"
             }
            },
            "type": "table"
           }
          ]
         },
         "layout": {
          "annotationdefaults": {
           "arrowcolor": "#2a3f5f",
           "arrowhead": 0,
           "arrowwidth": 1
          },
          "colorscale": {
           "diverging": [
            [
             0,
             "#8e0152"
            ],
            [
             0.1,
             "#c51b7d"
            ],
            [
             0.2,
             "#de77ae"
            ],
            [
             0.3,
             "#f1b6da"
            ],
            [
             0.4,
             "#fde0ef"
            ],
            [
             0.5,
             "#f7f7f7"
            ],
            [
             0.6,
             "#e6f5d0"
            ],
            [
             0.7,
             "#b8e186"
            ],
            [
             0.8,
             "#7fbc41"
            ],
            [
             0.9,
             "#4d9221"
            ],
            [
             1,
             "#276419"
            ]
           ],
           "sequential": [
            [
             0,
             "#0d0887"
            ],
            [
             0.1111111111111111,
             "#46039f"
            ],
            [
             0.2222222222222222,
             "#7201a8"
            ],
            [
             0.3333333333333333,
             "#9c179e"
            ],
            [
             0.4444444444444444,
             "#bd3786"
            ],
            [
             0.5555555555555556,
             "#d8576b"
            ],
            [
             0.6666666666666666,
             "#ed7953"
            ],
            [
             0.7777777777777778,
             "#fb9f3a"
            ],
            [
             0.8888888888888888,
             "#fdca26"
            ],
            [
             1,
             "#f0f921"
            ]
           ],
           "sequentialminus": [
            [
             0,
             "#0d0887"
            ],
            [
             0.1111111111111111,
             "#46039f"
            ],
            [
             0.2222222222222222,
             "#7201a8"
            ],
            [
             0.3333333333333333,
             "#9c179e"
            ],
            [
             0.4444444444444444,
             "#bd3786"
            ],
            [
             0.5555555555555556,
             "#d8576b"
            ],
            [
             0.6666666666666666,
             "#ed7953"
            ],
            [
             0.7777777777777778,
             "#fb9f3a"
            ],
            [
             0.8888888888888888,
             "#fdca26"
            ],
            [
             1,
             "#f0f921"
            ]
           ]
          },
          "colorway": [
           "#636efa",
           "#EF553B",
           "#00cc96",
           "#ab63fa",
           "#FFA15A",
           "#19d3f3",
           "#FF6692",
           "#B6E880",
           "#FF97FF",
           "#FECB52"
          ],
          "font": {
           "color": "#2a3f5f"
          },
          "geo": {
           "bgcolor": "white",
           "lakecolor": "white",
           "landcolor": "#E5ECF6",
           "showlakes": true,
           "showland": true,
           "subunitcolor": "white"
          },
          "hoverlabel": {
           "align": "left"
          },
          "hovermode": "closest",
          "mapbox": {
           "style": "light"
          },
          "paper_bgcolor": "white",
          "plot_bgcolor": "#E5ECF6",
          "polar": {
           "angularaxis": {
            "gridcolor": "white",
            "linecolor": "white",
            "ticks": ""
           },
           "bgcolor": "#E5ECF6",
           "radialaxis": {
            "gridcolor": "white",
            "linecolor": "white",
            "ticks": ""
           }
          },
          "scene": {
           "xaxis": {
            "backgroundcolor": "#E5ECF6",
            "gridcolor": "white",
            "gridwidth": 2,
            "linecolor": "white",
            "showbackground": true,
            "ticks": "",
            "zerolinecolor": "white"
           },
           "yaxis": {
            "backgroundcolor": "#E5ECF6",
            "gridcolor": "white",
            "gridwidth": 2,
            "linecolor": "white",
            "showbackground": true,
            "ticks": "",
            "zerolinecolor": "white"
           },
           "zaxis": {
            "backgroundcolor": "#E5ECF6",
            "gridcolor": "white",
            "gridwidth": 2,
            "linecolor": "white",
            "showbackground": true,
            "ticks": "",
            "zerolinecolor": "white"
           }
          },
          "shapedefaults": {
           "line": {
            "color": "#2a3f5f"
           }
          },
          "ternary": {
           "aaxis": {
            "gridcolor": "white",
            "linecolor": "white",
            "ticks": ""
           },
           "baxis": {
            "gridcolor": "white",
            "linecolor": "white",
            "ticks": ""
           },
           "bgcolor": "#E5ECF6",
           "caxis": {
            "gridcolor": "white",
            "linecolor": "white",
            "ticks": ""
           }
          },
          "title": {
           "x": 0.05
          },
          "xaxis": {
           "automargin": true,
           "gridcolor": "white",
           "linecolor": "white",
           "ticks": "",
           "zerolinecolor": "white",
           "zerolinewidth": 2
          },
          "yaxis": {
           "automargin": true,
           "gridcolor": "white",
           "linecolor": "white",
           "ticks": "",
           "zerolinecolor": "white",
           "zerolinewidth": 2
          }
         }
        }
       }
      },
      "text/html": [
       "<div>\n",
       "        \n",
       "        \n",
       "            <div id=\"937e20f6-07aa-41d7-9a43-181861ac3e92\" class=\"plotly-graph-div\" style=\"height:525px; width:100%;\"></div>\n",
       "            <script type=\"text/javascript\">\n",
       "                require([\"plotly\"], function(Plotly) {\n",
       "                    window.PLOTLYENV=window.PLOTLYENV || {};\n",
       "                    \n",
       "                if (document.getElementById(\"937e20f6-07aa-41d7-9a43-181861ac3e92\")) {\n",
       "                    Plotly.newPlot(\n",
       "                        '937e20f6-07aa-41d7-9a43-181861ac3e92',\n",
       "                        [{\"type\": \"funnel\", \"x\": [7423, 4595, 3735, 3539], \"y\": [\"Main Screen\", \"Offers Screen\", \"Cart Screen\", \"Payment Screen\"]}],\n",
       "                        {\"template\": {\"data\": {\"bar\": [{\"error_x\": {\"color\": \"#2a3f5f\"}, \"error_y\": {\"color\": \"#2a3f5f\"}, \"marker\": {\"line\": {\"color\": \"#E5ECF6\", \"width\": 0.5}}, \"type\": \"bar\"}], \"barpolar\": [{\"marker\": {\"line\": {\"color\": \"#E5ECF6\", \"width\": 0.5}}, \"type\": \"barpolar\"}], \"carpet\": [{\"aaxis\": {\"endlinecolor\": \"#2a3f5f\", \"gridcolor\": \"white\", \"linecolor\": \"white\", \"minorgridcolor\": \"white\", \"startlinecolor\": \"#2a3f5f\"}, \"baxis\": {\"endlinecolor\": \"#2a3f5f\", \"gridcolor\": \"white\", \"linecolor\": \"white\", \"minorgridcolor\": \"white\", \"startlinecolor\": \"#2a3f5f\"}, \"type\": \"carpet\"}], \"choropleth\": [{\"colorbar\": {\"outlinewidth\": 0, \"ticks\": \"\"}, \"type\": \"choropleth\"}], \"contour\": [{\"colorbar\": {\"outlinewidth\": 0, \"ticks\": \"\"}, \"colorscale\": [[0.0, \"#0d0887\"], [0.1111111111111111, \"#46039f\"], [0.2222222222222222, \"#7201a8\"], [0.3333333333333333, \"#9c179e\"], [0.4444444444444444, \"#bd3786\"], [0.5555555555555556, \"#d8576b\"], [0.6666666666666666, \"#ed7953\"], [0.7777777777777778, \"#fb9f3a\"], [0.8888888888888888, \"#fdca26\"], [1.0, \"#f0f921\"]], \"type\": \"contour\"}], \"contourcarpet\": [{\"colorbar\": {\"outlinewidth\": 0, \"ticks\": \"\"}, \"type\": \"contourcarpet\"}], \"heatmap\": [{\"colorbar\": {\"outlinewidth\": 0, \"ticks\": \"\"}, \"colorscale\": [[0.0, \"#0d0887\"], [0.1111111111111111, \"#46039f\"], [0.2222222222222222, \"#7201a8\"], [0.3333333333333333, \"#9c179e\"], [0.4444444444444444, \"#bd3786\"], [0.5555555555555556, \"#d8576b\"], [0.6666666666666666, \"#ed7953\"], [0.7777777777777778, \"#fb9f3a\"], [0.8888888888888888, \"#fdca26\"], [1.0, \"#f0f921\"]], \"type\": \"heatmap\"}], \"heatmapgl\": [{\"colorbar\": {\"outlinewidth\": 0, \"ticks\": \"\"}, \"colorscale\": [[0.0, \"#0d0887\"], [0.1111111111111111, \"#46039f\"], [0.2222222222222222, \"#7201a8\"], [0.3333333333333333, \"#9c179e\"], [0.4444444444444444, \"#bd3786\"], [0.5555555555555556, \"#d8576b\"], [0.6666666666666666, \"#ed7953\"], [0.7777777777777778, \"#fb9f3a\"], [0.8888888888888888, \"#fdca26\"], [1.0, \"#f0f921\"]], \"type\": \"heatmapgl\"}], \"histogram\": [{\"marker\": {\"colorbar\": {\"outlinewidth\": 0, \"ticks\": \"\"}}, \"type\": \"histogram\"}], \"histogram2d\": [{\"colorbar\": {\"outlinewidth\": 0, \"ticks\": \"\"}, \"colorscale\": [[0.0, \"#0d0887\"], [0.1111111111111111, \"#46039f\"], [0.2222222222222222, \"#7201a8\"], [0.3333333333333333, \"#9c179e\"], [0.4444444444444444, \"#bd3786\"], [0.5555555555555556, \"#d8576b\"], [0.6666666666666666, \"#ed7953\"], [0.7777777777777778, \"#fb9f3a\"], [0.8888888888888888, \"#fdca26\"], [1.0, \"#f0f921\"]], \"type\": \"histogram2d\"}], \"histogram2dcontour\": [{\"colorbar\": {\"outlinewidth\": 0, \"ticks\": \"\"}, \"colorscale\": [[0.0, \"#0d0887\"], [0.1111111111111111, \"#46039f\"], [0.2222222222222222, \"#7201a8\"], [0.3333333333333333, \"#9c179e\"], [0.4444444444444444, \"#bd3786\"], [0.5555555555555556, \"#d8576b\"], [0.6666666666666666, \"#ed7953\"], [0.7777777777777778, \"#fb9f3a\"], [0.8888888888888888, \"#fdca26\"], [1.0, \"#f0f921\"]], \"type\": \"histogram2dcontour\"}], \"mesh3d\": [{\"colorbar\": {\"outlinewidth\": 0, \"ticks\": \"\"}, \"type\": \"mesh3d\"}], \"parcoords\": [{\"line\": {\"colorbar\": {\"outlinewidth\": 0, \"ticks\": \"\"}}, \"type\": \"parcoords\"}], \"scatter\": [{\"marker\": {\"colorbar\": {\"outlinewidth\": 0, \"ticks\": \"\"}}, \"type\": \"scatter\"}], \"scatter3d\": [{\"line\": {\"colorbar\": {\"outlinewidth\": 0, \"ticks\": \"\"}}, \"marker\": {\"colorbar\": {\"outlinewidth\": 0, \"ticks\": \"\"}}, \"type\": \"scatter3d\"}], \"scattercarpet\": [{\"marker\": {\"colorbar\": {\"outlinewidth\": 0, \"ticks\": \"\"}}, \"type\": \"scattercarpet\"}], \"scattergeo\": [{\"marker\": {\"colorbar\": {\"outlinewidth\": 0, \"ticks\": \"\"}}, \"type\": \"scattergeo\"}], \"scattergl\": [{\"marker\": {\"colorbar\": {\"outlinewidth\": 0, \"ticks\": \"\"}}, \"type\": \"scattergl\"}], \"scattermapbox\": [{\"marker\": {\"colorbar\": {\"outlinewidth\": 0, \"ticks\": \"\"}}, \"type\": \"scattermapbox\"}], \"scatterpolar\": [{\"marker\": {\"colorbar\": {\"outlinewidth\": 0, \"ticks\": \"\"}}, \"type\": \"scatterpolar\"}], \"scatterpolargl\": [{\"marker\": {\"colorbar\": {\"outlinewidth\": 0, \"ticks\": \"\"}}, \"type\": \"scatterpolargl\"}], \"scatterternary\": [{\"marker\": {\"colorbar\": {\"outlinewidth\": 0, \"ticks\": \"\"}}, \"type\": \"scatterternary\"}], \"surface\": [{\"colorbar\": {\"outlinewidth\": 0, \"ticks\": \"\"}, \"colorscale\": [[0.0, \"#0d0887\"], [0.1111111111111111, \"#46039f\"], [0.2222222222222222, \"#7201a8\"], [0.3333333333333333, \"#9c179e\"], [0.4444444444444444, \"#bd3786\"], [0.5555555555555556, \"#d8576b\"], [0.6666666666666666, \"#ed7953\"], [0.7777777777777778, \"#fb9f3a\"], [0.8888888888888888, \"#fdca26\"], [1.0, \"#f0f921\"]], \"type\": \"surface\"}], \"table\": [{\"cells\": {\"fill\": {\"color\": \"#EBF0F8\"}, \"line\": {\"color\": \"white\"}}, \"header\": {\"fill\": {\"color\": \"#C8D4E3\"}, \"line\": {\"color\": \"white\"}}, \"type\": \"table\"}]}, \"layout\": {\"annotationdefaults\": {\"arrowcolor\": \"#2a3f5f\", \"arrowhead\": 0, \"arrowwidth\": 1}, \"colorscale\": {\"diverging\": [[0, \"#8e0152\"], [0.1, \"#c51b7d\"], [0.2, \"#de77ae\"], [0.3, \"#f1b6da\"], [0.4, \"#fde0ef\"], [0.5, \"#f7f7f7\"], [0.6, \"#e6f5d0\"], [0.7, \"#b8e186\"], [0.8, \"#7fbc41\"], [0.9, \"#4d9221\"], [1, \"#276419\"]], \"sequential\": [[0.0, \"#0d0887\"], [0.1111111111111111, \"#46039f\"], [0.2222222222222222, \"#7201a8\"], [0.3333333333333333, \"#9c179e\"], [0.4444444444444444, \"#bd3786\"], [0.5555555555555556, \"#d8576b\"], [0.6666666666666666, \"#ed7953\"], [0.7777777777777778, \"#fb9f3a\"], [0.8888888888888888, \"#fdca26\"], [1.0, \"#f0f921\"]], \"sequentialminus\": [[0.0, \"#0d0887\"], [0.1111111111111111, \"#46039f\"], [0.2222222222222222, \"#7201a8\"], [0.3333333333333333, \"#9c179e\"], [0.4444444444444444, \"#bd3786\"], [0.5555555555555556, \"#d8576b\"], [0.6666666666666666, \"#ed7953\"], [0.7777777777777778, \"#fb9f3a\"], [0.8888888888888888, \"#fdca26\"], [1.0, \"#f0f921\"]]}, \"colorway\": [\"#636efa\", \"#EF553B\", \"#00cc96\", \"#ab63fa\", \"#FFA15A\", \"#19d3f3\", \"#FF6692\", \"#B6E880\", \"#FF97FF\", \"#FECB52\"], \"font\": {\"color\": \"#2a3f5f\"}, \"geo\": {\"bgcolor\": \"white\", \"lakecolor\": \"white\", \"landcolor\": \"#E5ECF6\", \"showlakes\": true, \"showland\": true, \"subunitcolor\": \"white\"}, \"hoverlabel\": {\"align\": \"left\"}, \"hovermode\": \"closest\", \"mapbox\": {\"style\": \"light\"}, \"paper_bgcolor\": \"white\", \"plot_bgcolor\": \"#E5ECF6\", \"polar\": {\"angularaxis\": {\"gridcolor\": \"white\", \"linecolor\": \"white\", \"ticks\": \"\"}, \"bgcolor\": \"#E5ECF6\", \"radialaxis\": {\"gridcolor\": \"white\", \"linecolor\": \"white\", \"ticks\": \"\"}}, \"scene\": {\"xaxis\": {\"backgroundcolor\": \"#E5ECF6\", \"gridcolor\": \"white\", \"gridwidth\": 2, \"linecolor\": \"white\", \"showbackground\": true, \"ticks\": \"\", \"zerolinecolor\": \"white\"}, \"yaxis\": {\"backgroundcolor\": \"#E5ECF6\", \"gridcolor\": \"white\", \"gridwidth\": 2, \"linecolor\": \"white\", \"showbackground\": true, \"ticks\": \"\", \"zerolinecolor\": \"white\"}, \"zaxis\": {\"backgroundcolor\": \"#E5ECF6\", \"gridcolor\": \"white\", \"gridwidth\": 2, \"linecolor\": \"white\", \"showbackground\": true, \"ticks\": \"\", \"zerolinecolor\": \"white\"}}, \"shapedefaults\": {\"line\": {\"color\": \"#2a3f5f\"}}, \"ternary\": {\"aaxis\": {\"gridcolor\": \"white\", \"linecolor\": \"white\", \"ticks\": \"\"}, \"baxis\": {\"gridcolor\": \"white\", \"linecolor\": \"white\", \"ticks\": \"\"}, \"bgcolor\": \"#E5ECF6\", \"caxis\": {\"gridcolor\": \"white\", \"linecolor\": \"white\", \"ticks\": \"\"}}, \"title\": {\"x\": 0.05}, \"xaxis\": {\"automargin\": true, \"gridcolor\": \"white\", \"linecolor\": \"white\", \"ticks\": \"\", \"zerolinecolor\": \"white\", \"zerolinewidth\": 2}, \"yaxis\": {\"automargin\": true, \"gridcolor\": \"white\", \"linecolor\": \"white\", \"ticks\": \"\", \"zerolinecolor\": \"white\", \"zerolinewidth\": 2}}}},\n",
       "                        {\"responsive\": true}\n",
       "                    ).then(function(){\n",
       "                            \n",
       "var gd = document.getElementById('937e20f6-07aa-41d7-9a43-181861ac3e92');\n",
       "var x = new MutationObserver(function (mutations, observer) {{\n",
       "        var display = window.getComputedStyle(gd).display;\n",
       "        if (!display || display === 'none') {{\n",
       "            console.log([gd, 'removed!']);\n",
       "            Plotly.purge(gd);\n",
       "            observer.disconnect();\n",
       "        }}\n",
       "}});\n",
       "\n",
       "// Listen for the removal of the full notebook cells\n",
       "var notebookContainer = gd.closest('#notebook-container');\n",
       "if (notebookContainer) {{\n",
       "    x.observe(notebookContainer, {childList: true});\n",
       "}}\n",
       "\n",
       "// Listen for the clearing of the current output cell\n",
       "var outputEl = gd.closest('.output');\n",
       "if (outputEl) {{\n",
       "    x.observe(outputEl, {childList: true});\n",
       "}}\n",
       "\n",
       "                        })\n",
       "                };\n",
       "                });\n",
       "            </script>\n",
       "        </div>"
      ]
     },
     "metadata": {},
     "output_type": "display_data"
    }
   ],
   "source": [
    "fig = go.Figure(go.Funnel(\n",
    "    y = [\"Main Screen\", \"Offers Screen\", \"Cart Screen\", \"Payment Screen\"],\n",
    "    x = [7423, 4595, 3735, 3539]))\n",
    "\n",
    "fig.show()"
   ]
  },
  {
   "cell_type": "code",
   "execution_count": 511,
   "metadata": {},
   "outputs": [
    {
     "name": "stdout",
     "output_type": "stream",
     "text": [
      "0    0.984736\n",
      "1    0.609636\n",
      "2    0.495620\n",
      "3    0.469737\n",
      "4    0.111495\n",
      "Name: DeviceIDHash, dtype: float64\n"
     ]
    }
   ],
   "source": [
    "# Data on stages in proportions.\n",
    "print((usersActions['DeviceIDHash'] / new_df_data.DeviceIDHash.nunique()))"
   ]
  },
  {
   "cell_type": "code",
   "execution_count": 512,
   "metadata": {},
   "outputs": [
    {
     "name": "stdout",
     "output_type": "stream",
     "text": [
      "0    98.473586\n",
      "1    60.963632\n",
      "2    49.561986\n",
      "3    46.973719\n",
      "4    11.149456\n",
      "Name: DeviceIDHash, dtype: float64\n"
     ]
    }
   ],
   "source": [
    "# Data by stages in percent\n",
    "print((usersActions['DeviceIDHash'] / new_df_data.DeviceIDHash.nunique()) * 100)"
   ]
  },
  {
   "cell_type": "markdown",
   "metadata": {},
   "source": [
    "> * At the first stage, when users have to go from the main screen to the offer screen: 0.37 (lost 37% of users)"
   ]
  },
  {
   "cell_type": "markdown",
   "metadata": {},
   "source": [
    "> * 0.46 of users go all the way from the first event to payment. (46% of all users, which started to use application)"
   ]
  },
  {
   "cell_type": "markdown",
   "metadata": {},
   "source": [
    "You can also use a visualization methos as a solution for the last two problems. A funnel chart would look great: https://plotly.com/python/funnel-charts/"
   ]
  },
  {
   "cell_type": "markdown",
   "metadata": {},
   "source": [
    "#### Step 5. Study the results of the experiment <a name=\"Experiment\"></a>"
   ]
  },
  {
   "cell_type": "code",
   "execution_count": 513,
   "metadata": {},
   "outputs": [
    {
     "data": {
      "text/html": [
       "<div>\n",
       "<style scoped>\n",
       "    .dataframe tbody tr th:only-of-type {\n",
       "        vertical-align: middle;\n",
       "    }\n",
       "\n",
       "    .dataframe tbody tr th {\n",
       "        vertical-align: top;\n",
       "    }\n",
       "\n",
       "    .dataframe thead th {\n",
       "        text-align: right;\n",
       "    }\n",
       "</style>\n",
       "<table border=\"1\" class=\"dataframe\">\n",
       "  <thead>\n",
       "    <tr style=\"text-align: right;\">\n",
       "      <th></th>\n",
       "      <th>EventName</th>\n",
       "      <th>DeviceIDHash</th>\n",
       "      <th>EventTimestamp</th>\n",
       "      <th>ExpId</th>\n",
       "      <th>DateTime</th>\n",
       "      <th>Date</th>\n",
       "      <th>Time</th>\n",
       "    </tr>\n",
       "  </thead>\n",
       "  <tbody>\n",
       "    <tr>\n",
       "      <td>2828</td>\n",
       "      <td>Tutorial</td>\n",
       "      <td>3737462046622621720</td>\n",
       "      <td>1564618048</td>\n",
       "      <td>246</td>\n",
       "      <td>2019-08-01 00:07:28</td>\n",
       "      <td>2019-08-01</td>\n",
       "      <td>00:07:28</td>\n",
       "    </tr>\n",
       "    <tr>\n",
       "      <td>2829</td>\n",
       "      <td>MainScreenAppear</td>\n",
       "      <td>3737462046622621720</td>\n",
       "      <td>1564618080</td>\n",
       "      <td>246</td>\n",
       "      <td>2019-08-01 00:08:00</td>\n",
       "      <td>2019-08-01</td>\n",
       "      <td>00:08:00</td>\n",
       "    </tr>\n",
       "    <tr>\n",
       "      <td>2830</td>\n",
       "      <td>MainScreenAppear</td>\n",
       "      <td>3737462046622621720</td>\n",
       "      <td>1564618135</td>\n",
       "      <td>246</td>\n",
       "      <td>2019-08-01 00:08:55</td>\n",
       "      <td>2019-08-01</td>\n",
       "      <td>00:08:55</td>\n",
       "    </tr>\n",
       "    <tr>\n",
       "      <td>2831</td>\n",
       "      <td>OffersScreenAppear</td>\n",
       "      <td>3737462046622621720</td>\n",
       "      <td>1564618138</td>\n",
       "      <td>246</td>\n",
       "      <td>2019-08-01 00:08:58</td>\n",
       "      <td>2019-08-01</td>\n",
       "      <td>00:08:58</td>\n",
       "    </tr>\n",
       "    <tr>\n",
       "      <td>2832</td>\n",
       "      <td>MainScreenAppear</td>\n",
       "      <td>1433840883824088890</td>\n",
       "      <td>1564618139</td>\n",
       "      <td>247</td>\n",
       "      <td>2019-08-01 00:08:59</td>\n",
       "      <td>2019-08-01</td>\n",
       "      <td>00:08:59</td>\n",
       "    </tr>\n",
       "  </tbody>\n",
       "</table>\n",
       "</div>"
      ],
      "text/plain": [
       "               EventName         DeviceIDHash  EventTimestamp  ExpId  \\\n",
       "2828            Tutorial  3737462046622621720      1564618048    246   \n",
       "2829    MainScreenAppear  3737462046622621720      1564618080    246   \n",
       "2830    MainScreenAppear  3737462046622621720      1564618135    246   \n",
       "2831  OffersScreenAppear  3737462046622621720      1564618138    246   \n",
       "2832    MainScreenAppear  1433840883824088890      1564618139    247   \n",
       "\n",
       "                DateTime       Date      Time  \n",
       "2828 2019-08-01 00:07:28 2019-08-01  00:07:28  \n",
       "2829 2019-08-01 00:08:00 2019-08-01  00:08:00  \n",
       "2830 2019-08-01 00:08:55 2019-08-01  00:08:55  \n",
       "2831 2019-08-01 00:08:58 2019-08-01  00:08:58  \n",
       "2832 2019-08-01 00:08:59 2019-08-01  00:08:59  "
      ]
     },
     "execution_count": 513,
     "metadata": {},
     "output_type": "execute_result"
    }
   ],
   "source": [
    "new_df_data.head()"
   ]
  },
  {
   "cell_type": "code",
   "execution_count": 514,
   "metadata": {},
   "outputs": [
    {
     "data": {
      "text/html": [
       "<div>\n",
       "<style scoped>\n",
       "    .dataframe tbody tr th:only-of-type {\n",
       "        vertical-align: middle;\n",
       "    }\n",
       "\n",
       "    .dataframe tbody tr th {\n",
       "        vertical-align: top;\n",
       "    }\n",
       "\n",
       "    .dataframe thead th {\n",
       "        text-align: right;\n",
       "    }\n",
       "</style>\n",
       "<table border=\"1\" class=\"dataframe\">\n",
       "  <thead>\n",
       "    <tr style=\"text-align: right;\">\n",
       "      <th></th>\n",
       "      <th>ExpId</th>\n",
       "      <th>DeviceIDHash</th>\n",
       "    </tr>\n",
       "  </thead>\n",
       "  <tbody>\n",
       "    <tr>\n",
       "      <td>0</td>\n",
       "      <td>246</td>\n",
       "      <td>2484</td>\n",
       "    </tr>\n",
       "    <tr>\n",
       "      <td>1</td>\n",
       "      <td>247</td>\n",
       "      <td>2513</td>\n",
       "    </tr>\n",
       "    <tr>\n",
       "      <td>2</td>\n",
       "      <td>248</td>\n",
       "      <td>2537</td>\n",
       "    </tr>\n",
       "  </tbody>\n",
       "</table>\n",
       "</div>"
      ],
      "text/plain": [
       "   ExpId  DeviceIDHash\n",
       "0    246          2484\n",
       "1    247          2513\n",
       "2    248          2537"
      ]
     },
     "metadata": {},
     "output_type": "display_data"
    }
   ],
   "source": [
    "usersPerGroup = new_df_data.groupby(['ExpId']).agg({'DeviceIDHash':'nunique'}).reset_index()\n",
    "display(usersPerGroup)"
   ]
  },
  {
   "cell_type": "markdown",
   "metadata": {},
   "source": [
    "Let us formulate hypotheses and then check them: \n",
    " - H_0: (the null hypothesis): There is no statistically significant difference for group 246 and 247.\n",
    " - H_a: (the alternative hypothesis): There is statistically significant difference for group 246 and 247."
   ]
  },
  {
   "cell_type": "code",
   "execution_count": 515,
   "metadata": {},
   "outputs": [
    {
     "data": {
      "text/html": [
       "<div>\n",
       "<style scoped>\n",
       "    .dataframe tbody tr th:only-of-type {\n",
       "        vertical-align: middle;\n",
       "    }\n",
       "\n",
       "    .dataframe tbody tr th {\n",
       "        vertical-align: top;\n",
       "    }\n",
       "\n",
       "    .dataframe thead th {\n",
       "        text-align: right;\n",
       "    }\n",
       "</style>\n",
       "<table border=\"1\" class=\"dataframe\">\n",
       "  <thead>\n",
       "    <tr style=\"text-align: right;\">\n",
       "      <th></th>\n",
       "      <th>EventName</th>\n",
       "      <th>DeviceIDHash</th>\n",
       "      <th>EventTimestamp</th>\n",
       "      <th>ExpId</th>\n",
       "      <th>DateTime</th>\n",
       "      <th>Date</th>\n",
       "      <th>Time</th>\n",
       "    </tr>\n",
       "  </thead>\n",
       "  <tbody>\n",
       "    <tr>\n",
       "      <td>2828</td>\n",
       "      <td>Tutorial</td>\n",
       "      <td>3737462046622621720</td>\n",
       "      <td>1564618048</td>\n",
       "      <td>246</td>\n",
       "      <td>2019-08-01 00:07:28</td>\n",
       "      <td>2019-08-01</td>\n",
       "      <td>00:07:28</td>\n",
       "    </tr>\n",
       "    <tr>\n",
       "      <td>2829</td>\n",
       "      <td>MainScreenAppear</td>\n",
       "      <td>3737462046622621720</td>\n",
       "      <td>1564618080</td>\n",
       "      <td>246</td>\n",
       "      <td>2019-08-01 00:08:00</td>\n",
       "      <td>2019-08-01</td>\n",
       "      <td>00:08:00</td>\n",
       "    </tr>\n",
       "    <tr>\n",
       "      <td>2830</td>\n",
       "      <td>MainScreenAppear</td>\n",
       "      <td>3737462046622621720</td>\n",
       "      <td>1564618135</td>\n",
       "      <td>246</td>\n",
       "      <td>2019-08-01 00:08:55</td>\n",
       "      <td>2019-08-01</td>\n",
       "      <td>00:08:55</td>\n",
       "    </tr>\n",
       "    <tr>\n",
       "      <td>2831</td>\n",
       "      <td>OffersScreenAppear</td>\n",
       "      <td>3737462046622621720</td>\n",
       "      <td>1564618138</td>\n",
       "      <td>246</td>\n",
       "      <td>2019-08-01 00:08:58</td>\n",
       "      <td>2019-08-01</td>\n",
       "      <td>00:08:58</td>\n",
       "    </tr>\n",
       "    <tr>\n",
       "      <td>2832</td>\n",
       "      <td>MainScreenAppear</td>\n",
       "      <td>1433840883824088890</td>\n",
       "      <td>1564618139</td>\n",
       "      <td>247</td>\n",
       "      <td>2019-08-01 00:08:59</td>\n",
       "      <td>2019-08-01</td>\n",
       "      <td>00:08:59</td>\n",
       "    </tr>\n",
       "  </tbody>\n",
       "</table>\n",
       "</div>"
      ],
      "text/plain": [
       "               EventName         DeviceIDHash  EventTimestamp  ExpId  \\\n",
       "2828            Tutorial  3737462046622621720      1564618048    246   \n",
       "2829    MainScreenAppear  3737462046622621720      1564618080    246   \n",
       "2830    MainScreenAppear  3737462046622621720      1564618135    246   \n",
       "2831  OffersScreenAppear  3737462046622621720      1564618138    246   \n",
       "2832    MainScreenAppear  1433840883824088890      1564618139    247   \n",
       "\n",
       "                DateTime       Date      Time  \n",
       "2828 2019-08-01 00:07:28 2019-08-01  00:07:28  \n",
       "2829 2019-08-01 00:08:00 2019-08-01  00:08:00  \n",
       "2830 2019-08-01 00:08:55 2019-08-01  00:08:55  \n",
       "2831 2019-08-01 00:08:58 2019-08-01  00:08:58  \n",
       "2832 2019-08-01 00:08:59 2019-08-01  00:08:59  "
      ]
     },
     "execution_count": 515,
     "metadata": {},
     "output_type": "execute_result"
    }
   ],
   "source": [
    "new_df_data.head()"
   ]
  },
  {
   "cell_type": "code",
   "execution_count": 516,
   "metadata": {},
   "outputs": [
    {
     "data": {
      "text/html": [
       "<div>\n",
       "<style scoped>\n",
       "    .dataframe tbody tr th:only-of-type {\n",
       "        vertical-align: middle;\n",
       "    }\n",
       "\n",
       "    .dataframe tbody tr th {\n",
       "        vertical-align: top;\n",
       "    }\n",
       "\n",
       "    .dataframe thead th {\n",
       "        text-align: right;\n",
       "    }\n",
       "</style>\n",
       "<table border=\"1\" class=\"dataframe\">\n",
       "  <thead>\n",
       "    <tr style=\"text-align: right;\">\n",
       "      <th>ExpId</th>\n",
       "      <th>EventName</th>\n",
       "      <th>246</th>\n",
       "      <th>247</th>\n",
       "      <th>248</th>\n",
       "    </tr>\n",
       "  </thead>\n",
       "  <tbody>\n",
       "    <tr>\n",
       "      <td>0</td>\n",
       "      <td>CartScreenAppear</td>\n",
       "      <td>1266</td>\n",
       "      <td>1238</td>\n",
       "      <td>1230</td>\n",
       "    </tr>\n",
       "    <tr>\n",
       "      <td>1</td>\n",
       "      <td>MainScreenAppear</td>\n",
       "      <td>2450</td>\n",
       "      <td>2476</td>\n",
       "      <td>2493</td>\n",
       "    </tr>\n",
       "    <tr>\n",
       "      <td>2</td>\n",
       "      <td>OffersScreenAppear</td>\n",
       "      <td>1542</td>\n",
       "      <td>1520</td>\n",
       "      <td>1531</td>\n",
       "    </tr>\n",
       "    <tr>\n",
       "      <td>3</td>\n",
       "      <td>PaymentScreenSuccessful</td>\n",
       "      <td>1200</td>\n",
       "      <td>1158</td>\n",
       "      <td>1181</td>\n",
       "    </tr>\n",
       "    <tr>\n",
       "      <td>4</td>\n",
       "      <td>Tutorial</td>\n",
       "      <td>278</td>\n",
       "      <td>283</td>\n",
       "      <td>279</td>\n",
       "    </tr>\n",
       "  </tbody>\n",
       "</table>\n",
       "</div>"
      ],
      "text/plain": [
       "ExpId                EventName   246   247   248\n",
       "0             CartScreenAppear  1266  1238  1230\n",
       "1             MainScreenAppear  2450  2476  2493\n",
       "2           OffersScreenAppear  1542  1520  1531\n",
       "3      PaymentScreenSuccessful  1200  1158  1181\n",
       "4                     Tutorial   278   283   279"
      ]
     },
     "metadata": {},
     "output_type": "display_data"
    }
   ],
   "source": [
    "ExpIdGroups = new_df_data.pivot_table(index='EventName', values='DeviceIDHash', columns='ExpId', aggfunc=lambda x: x.nunique()).reset_index()\n",
    "display(ExpIdGroups)\n",
    "group_246 = ExpIdGroups[246]\n",
    "group_247 = ExpIdGroups[247]"
   ]
  },
  {
   "cell_type": "code",
   "execution_count": 517,
   "metadata": {},
   "outputs": [],
   "source": [
    "def test_hyp(sample_1, sample_2):\n",
    "    alpha = 0.05\n",
    "    results = st.ttest_ind(sample_1, sample_2)\n",
    "    print('p-value: ', results.pvalue)\n",
    "\n",
    "    if results.pvalue < alpha:\n",
    "        print(\"We reject the null hypothesis\")\n",
    "    else:\n",
    "        print(\"We can't reject the null hypothesis\") "
   ]
  },
  {
   "cell_type": "code",
   "execution_count": 518,
   "metadata": {},
   "outputs": [
    {
     "name": "stdout",
     "output_type": "stream",
     "text": [
      "p-value:  0.9809573661651472\n",
      "We can't reject the null hypothesis\n"
     ]
    }
   ],
   "source": [
    "test_hyp(group_246, group_247)"
   ]
  },
  {
   "cell_type": "code",
   "execution_count": 519,
   "metadata": {
    "scrolled": false
   },
   "outputs": [
    {
     "data": {
      "text/plain": [
       "MainScreenAppear           117328\n",
       "OffersScreenAppear          46333\n",
       "CartScreenAppear            42303\n",
       "PaymentScreenSuccessful     33918\n",
       "Tutorial                     1005\n",
       "Name: EventName, dtype: int64"
      ]
     },
     "metadata": {},
     "output_type": "display_data"
    }
   ],
   "source": [
    "# Figure the most popular event\n",
    "popularEvents = new_df_data['EventName'].value_counts()\n",
    "display(popularEvents.head())"
   ]
  },
  {
   "cell_type": "markdown",
   "metadata": {},
   "source": [
    "Let us formulate all hypothesis: \n",
    " - H_0: (the null hypothesis): There is no statistically significant difference for MainScreenAppear between the groups 246 and 247.\n",
    " - H_a: (the alternative hypothesis): There is statistically significant difference for MainScreenAppear between the groups 246 and 247.\n",
    ">  \n",
    "  - H_0: (the null hypothesis): There is no statistically significant difference for OfferScreenAppear between the groups 246 and 247.\n",
    " - H_a: (the alternative hypothesis): There is statistically significant difference for OfferScreenAppear between the groups 246 and 247.\n",
    ">  \n",
    "  - H_0: (the null hypothesis): There is no statistically significant difference for CartScreenAppear between the groups 246 and 247.\n",
    " - H_a: (the alternative hypothesis): There is statistically significant difference for CartScreenAppear between the groups 246 and 247.\n",
    "> \n",
    " - H_0: (the null hypothesis): There is no statistically significant difference for PaymentScreenSuccessful between the groups 246 and 247.\n",
    " - H_a: (the alternative hypothesis): There is statistically significant difference for PaymentScreenSuccessful between the groups 246 and 247."
   ]
  },
  {
   "cell_type": "code",
   "execution_count": 520,
   "metadata": {},
   "outputs": [
    {
     "data": {
      "text/html": [
       "<div>\n",
       "<style scoped>\n",
       "    .dataframe tbody tr th:only-of-type {\n",
       "        vertical-align: middle;\n",
       "    }\n",
       "\n",
       "    .dataframe tbody tr th {\n",
       "        vertical-align: top;\n",
       "    }\n",
       "\n",
       "    .dataframe thead th {\n",
       "        text-align: right;\n",
       "    }\n",
       "</style>\n",
       "<table border=\"1\" class=\"dataframe\">\n",
       "  <thead>\n",
       "    <tr style=\"text-align: right;\">\n",
       "      <th>ExpId</th>\n",
       "      <th>EventName</th>\n",
       "      <th>246</th>\n",
       "      <th>247</th>\n",
       "      <th>248</th>\n",
       "    </tr>\n",
       "  </thead>\n",
       "  <tbody>\n",
       "    <tr>\n",
       "      <td>0</td>\n",
       "      <td>CartScreenAppear</td>\n",
       "      <td>1266</td>\n",
       "      <td>1238</td>\n",
       "      <td>1230</td>\n",
       "    </tr>\n",
       "    <tr>\n",
       "      <td>1</td>\n",
       "      <td>MainScreenAppear</td>\n",
       "      <td>2450</td>\n",
       "      <td>2476</td>\n",
       "      <td>2493</td>\n",
       "    </tr>\n",
       "    <tr>\n",
       "      <td>2</td>\n",
       "      <td>OffersScreenAppear</td>\n",
       "      <td>1542</td>\n",
       "      <td>1520</td>\n",
       "      <td>1531</td>\n",
       "    </tr>\n",
       "    <tr>\n",
       "      <td>3</td>\n",
       "      <td>PaymentScreenSuccessful</td>\n",
       "      <td>1200</td>\n",
       "      <td>1158</td>\n",
       "      <td>1181</td>\n",
       "    </tr>\n",
       "    <tr>\n",
       "      <td>4</td>\n",
       "      <td>Tutorial</td>\n",
       "      <td>278</td>\n",
       "      <td>283</td>\n",
       "      <td>279</td>\n",
       "    </tr>\n",
       "  </tbody>\n",
       "</table>\n",
       "</div>"
      ],
      "text/plain": [
       "ExpId                EventName   246   247   248\n",
       "0             CartScreenAppear  1266  1238  1230\n",
       "1             MainScreenAppear  2450  2476  2493\n",
       "2           OffersScreenAppear  1542  1520  1531\n",
       "3      PaymentScreenSuccessful  1200  1158  1181\n",
       "4                     Tutorial   278   283   279"
      ]
     },
     "metadata": {},
     "output_type": "display_data"
    }
   ],
   "source": [
    "display(ExpIdGroups)"
   ]
  },
  {
   "cell_type": "code",
   "execution_count": 521,
   "metadata": {},
   "outputs": [],
   "source": [
    "def check_hypothesis(Group1, Group2, eventName): \n",
    "\n",
    "    # define alpha value\n",
    "    alpha = 0.05\n",
    "\n",
    "    # define successes \n",
    "    successes_1 = ExpIdGroups[ExpIdGroups.EventName == eventName][Group1].iloc[0]\n",
    "    successes_2 = ExpIdGroups[ExpIdGroups.EventName == eventName][Group2].iloc[0]\n",
    "\n",
    "    # define trials\n",
    "    trialsGroup_1 = new_df_data[new_df_data.ExpId == Group1]['DeviceIDHash'].nunique()\n",
    "    trialsGroup_2 = new_df_data[new_df_data.ExpId == Group2]['DeviceIDHash'].nunique()    \n",
    "\n",
    "    # proportion for success in group 1\n",
    "    p1 = successes_1 / trialsGroup_1\n",
    "\n",
    "    # proportion for success in group 2\n",
    "    p2 = successes_2 / trialsGroup_2\n",
    "\n",
    "    # proportion in a combined dataset\n",
    "    p_combined = (successes_1 + successes_2) / (trialsGroup_1 + trialsGroup_2)\n",
    "\n",
    "    # define difference and z value\n",
    "    difference = p1 - p2\n",
    "    z_value = difference / math.sqrt(p_combined * (1 - p_combined) * (1/trialsGroup_1 + 1/trialsGroup_2))\n",
    "\n",
    "    # calculate distribution\n",
    "    distr = st.norm(0,1)\n",
    "\n",
    "    # calculate p_value\n",
    "    p_value = (1 - distr.cdf(abs(z_value))) * 2\n",
    "    print('p_value: ', p_value)\n",
    "\n",
    "    if (p_value < alpha):\n",
    "        print(\"Rejecting the null hypothesis: there is a significant difference between the proportions\")\n",
    "    else:\n",
    "        print(\"Failed to reject the null hypothesis: there is no reason to consider the proportions different\") "
   ]
  },
  {
   "cell_type": "code",
   "execution_count": 522,
   "metadata": {},
   "outputs": [
    {
     "name": "stdout",
     "output_type": "stream",
     "text": [
      "p_value:  0.7570597232046099\n",
      "Failed to reject the null hypothesis: there is no reason to consider the proportions different\n",
      "p_value:  0.2480954578522181\n",
      "Failed to reject the null hypothesis: there is no reason to consider the proportions different\n",
      "p_value:  0.22883372237997213\n",
      "Failed to reject the null hypothesis: there is no reason to consider the proportions different\n",
      "p_value:  0.11456679313141849\n",
      "Failed to reject the null hypothesis: there is no reason to consider the proportions different\n"
     ]
    }
   ],
   "source": [
    "check_hypothesis(246, 247, 'MainScreenAppear')\n",
    "check_hypothesis(246, 247, 'OffersScreenAppear')\n",
    "check_hypothesis(246, 247, 'CartScreenAppear')\n",
    "check_hypothesis(246, 247, 'PaymentScreenSuccessful')"
   ]
  },
  {
   "cell_type": "markdown",
   "metadata": {},
   "source": [
    "> * 0.675 > 0.05 -> we can't reject the null hypothesis; there's not a statistically significant difference for MainScreenAppear between the groups.\n",
    "> * 0.243 > 0.05 -> we can't reject the null hypothesis; there's not a statistically significant difference for OffersScreenAppear between the groups.\n",
    "> * 0.218 > 0.05 -> we can't reject the null hypothesis; there's not a statistically significant difference for CartScreenAppear between the groups.\n",
    "> * 0.102 > 0.05 -> we can't reject the null hypothesis; there's not a statistically significant difference for PaymentScreenSuccessful between the groups."
   ]
  },
  {
   "cell_type": "markdown",
   "metadata": {},
   "source": [
    "Let us formulate all hypothesis: \n",
    " - H_0: (the null hypothesis): There is no statistically significant difference for MainScreenAppear between the groups 246 and 248.\n",
    " - H_a: (the alternative hypothesis): There is statistically significant difference for MainScreenAppear between the groups 246 and 248.\n",
    ">  \n",
    "  - H_0: (the null hypothesis): There is no statistically significant difference for OfferScreenAppear between the groups 246 and 248.\n",
    " - H_a: (the alternative hypothesis): There is statistically significant difference for OfferScreenAppear between the groups 246 and 248.\n",
    ">  \n",
    "  - H_0: (the null hypothesis): There is no statistically significant difference for CartScreenAppear between the groups 246 and 248.\n",
    " - H_a: (the alternative hypothesis): There is statistically significant difference for CartScreenAppear between the groups 246 and 248.\n",
    "> \n",
    " - H_0: (the null hypothesis): There is no statistically significant difference for PaymentScreenSuccessful between the groups 246 and 248.\n",
    " - H_a: (the alternative hypothesis): There is statistically significant difference for PaymentScreenSuccessful between the groups 246 and 248."
   ]
  },
  {
   "cell_type": "code",
   "execution_count": 523,
   "metadata": {},
   "outputs": [
    {
     "name": "stdout",
     "output_type": "stream",
     "text": [
      "p_value:  0.2949721933554552\n",
      "Failed to reject the null hypothesis: there is no reason to consider the proportions different\n",
      "p_value:  0.20836205402738917\n",
      "Failed to reject the null hypothesis: there is no reason to consider the proportions different\n",
      "p_value:  0.07842923237520116\n",
      "Failed to reject the null hypothesis: there is no reason to consider the proportions different\n",
      "p_value:  0.2122553275697796\n",
      "Failed to reject the null hypothesis: there is no reason to consider the proportions different\n"
     ]
    }
   ],
   "source": [
    "check_hypothesis(246, 248, 'MainScreenAppear')\n",
    "check_hypothesis(246, 248, 'OffersScreenAppear')\n",
    "check_hypothesis(246, 248, 'CartScreenAppear')\n",
    "check_hypothesis(246, 248, 'PaymentScreenSuccessful')"
   ]
  },
  {
   "cell_type": "markdown",
   "metadata": {},
   "source": [
    "Let us formulate all hypothesis: \n",
    " - H_0: (the null hypothesis): There is no statistically significant difference for MainScreenAppear between the groups 247 and 248.\n",
    " - H_a: (the alternative hypothesis): There is statistically significant difference for MainScreenAppear between the groups 247 and 247.\n",
    ">  \n",
    "  - H_0: (the null hypothesis): There is no statistically significant difference for OfferScreenAppear between the groups 247 and 248.\n",
    " - H_a: (the alternative hypothesis): There is statistically significant difference for OfferScreenAppear between the groups 247 and 248.\n",
    ">  \n",
    "  - H_0: (the null hypothesis): There is no statistically significant difference for CartScreenAppear between the groups 247 and 248.\n",
    " - H_a: (the alternative hypothesis): There is statistically significant difference for CartScreenAppear between the groups 247 and 248.\n",
    "> \n",
    " - H_0: (the null hypothesis): There is no statistically significant difference for PaymentScreenSuccessful between the groups 247 and 248.\n",
    " - H_a: (the alternative hypothesis): There is statistically significant difference for PaymentScreenSuccessful between the groups 247 and 248."
   ]
  },
  {
   "cell_type": "code",
   "execution_count": 524,
   "metadata": {},
   "outputs": [
    {
     "name": "stdout",
     "output_type": "stream",
     "text": [
      "p_value:  0.4587053616621515\n",
      "Failed to reject the null hypothesis: there is no reason to consider the proportions different\n",
      "p_value:  0.9197817830592261\n",
      "Failed to reject the null hypothesis: there is no reason to consider the proportions different\n",
      "p_value:  0.5786197879539783\n",
      "Failed to reject the null hypothesis: there is no reason to consider the proportions different\n",
      "p_value:  0.7373415053803964\n",
      "Failed to reject the null hypothesis: there is no reason to consider the proportions different\n"
     ]
    }
   ],
   "source": [
    "check_hypothesis(247, 248, 'MainScreenAppear')\n",
    "check_hypothesis(247, 248, 'OffersScreenAppear')\n",
    "check_hypothesis(247, 248, 'CartScreenAppear')\n",
    "check_hypothesis(247, 248, 'PaymentScreenSuccessful')"
   ]
  },
  {
   "cell_type": "markdown",
   "metadata": {},
   "source": [
    "> * I have set a certain significance level equal 0.05. \n",
    "> * 16 statistical hypothesis tests I carried out (added new 4 test hypothesis below)"
   ]
  },
  {
   "cell_type": "markdown",
   "metadata": {},
   "source": [
    "> * There is no significant difference between the indicators for group A - 246 and group A - 247 (the A/A Test)\n",
    "> * A / B testing for 2 groups A (246 and 247) with group B (248) did not reveal significant differences. This means that \"Changing fonts for the entire application,\" will not entail significant changes in the fact that a large number of users will reach the last stage - the payment screen."
   ]
  },
  {
   "cell_type": "markdown",
   "metadata": {},
   "source": [
    "Let us formulate all hypothesis: \n",
    " - H_0: (the null hypothesis): There is no statistically significant difference for MainScreenAppear between the combined group 246_247 and 248.\n",
    " - H_a: (the alternative hypothesis): There is statistically significant difference for MainScreenAppear between the combined group 246_247 and 248.\n",
    ">  \n",
    "  - H_0: (the null hypothesis): There is no statistically significant difference for OfferScreenAppear between the combined group 246_247 and 248.\n",
    " - H_a: (the alternative hypothesis): There is statistically significant difference for OfferScreenAppear between the combined group 246_247 and 248.\n",
    ">  \n",
    "  - H_0: (the null hypothesis): There is no statistically significant difference for CartScreenAppear between the combined group 246_247 and 248.\n",
    " - H_a: (the alternative hypothesis): There is statistically significant difference for CartScreenAppear between the combined group 246_247 and 248.\n",
    "> \n",
    " - H_0: (the null hypothesis): There is no statistically significant difference for PaymentScreenSuccessful between the combined group 246_247 and 248.\n",
    " - H_a: (the alternative hypothesis): There is statistically significant difference for PaymentScreenSuccessful between the combined group 246_247 and 248."
   ]
  },
  {
   "cell_type": "code",
   "execution_count": 525,
   "metadata": {},
   "outputs": [
    {
     "data": {
      "text/html": [
       "<div>\n",
       "<style scoped>\n",
       "    .dataframe tbody tr th:only-of-type {\n",
       "        vertical-align: middle;\n",
       "    }\n",
       "\n",
       "    .dataframe tbody tr th {\n",
       "        vertical-align: top;\n",
       "    }\n",
       "\n",
       "    .dataframe thead th {\n",
       "        text-align: right;\n",
       "    }\n",
       "</style>\n",
       "<table border=\"1\" class=\"dataframe\">\n",
       "  <thead>\n",
       "    <tr style=\"text-align: right;\">\n",
       "      <th></th>\n",
       "      <th>EventName</th>\n",
       "      <th>DeviceIDHash</th>\n",
       "      <th>EventTimestamp</th>\n",
       "      <th>ExpId</th>\n",
       "      <th>DateTime</th>\n",
       "      <th>Date</th>\n",
       "      <th>Time</th>\n",
       "    </tr>\n",
       "  </thead>\n",
       "  <tbody>\n",
       "    <tr>\n",
       "      <td>2828</td>\n",
       "      <td>Tutorial</td>\n",
       "      <td>3737462046622621720</td>\n",
       "      <td>1564618048</td>\n",
       "      <td>246</td>\n",
       "      <td>2019-08-01 00:07:28</td>\n",
       "      <td>2019-08-01</td>\n",
       "      <td>00:07:28</td>\n",
       "    </tr>\n",
       "    <tr>\n",
       "      <td>2829</td>\n",
       "      <td>MainScreenAppear</td>\n",
       "      <td>3737462046622621720</td>\n",
       "      <td>1564618080</td>\n",
       "      <td>246</td>\n",
       "      <td>2019-08-01 00:08:00</td>\n",
       "      <td>2019-08-01</td>\n",
       "      <td>00:08:00</td>\n",
       "    </tr>\n",
       "    <tr>\n",
       "      <td>2830</td>\n",
       "      <td>MainScreenAppear</td>\n",
       "      <td>3737462046622621720</td>\n",
       "      <td>1564618135</td>\n",
       "      <td>246</td>\n",
       "      <td>2019-08-01 00:08:55</td>\n",
       "      <td>2019-08-01</td>\n",
       "      <td>00:08:55</td>\n",
       "    </tr>\n",
       "    <tr>\n",
       "      <td>2831</td>\n",
       "      <td>OffersScreenAppear</td>\n",
       "      <td>3737462046622621720</td>\n",
       "      <td>1564618138</td>\n",
       "      <td>246</td>\n",
       "      <td>2019-08-01 00:08:58</td>\n",
       "      <td>2019-08-01</td>\n",
       "      <td>00:08:58</td>\n",
       "    </tr>\n",
       "    <tr>\n",
       "      <td>2832</td>\n",
       "      <td>MainScreenAppear</td>\n",
       "      <td>1433840883824088890</td>\n",
       "      <td>1564618139</td>\n",
       "      <td>247</td>\n",
       "      <td>2019-08-01 00:08:59</td>\n",
       "      <td>2019-08-01</td>\n",
       "      <td>00:08:59</td>\n",
       "    </tr>\n",
       "  </tbody>\n",
       "</table>\n",
       "</div>"
      ],
      "text/plain": [
       "               EventName         DeviceIDHash  EventTimestamp  ExpId  \\\n",
       "2828            Tutorial  3737462046622621720      1564618048    246   \n",
       "2829    MainScreenAppear  3737462046622621720      1564618080    246   \n",
       "2830    MainScreenAppear  3737462046622621720      1564618135    246   \n",
       "2831  OffersScreenAppear  3737462046622621720      1564618138    246   \n",
       "2832    MainScreenAppear  1433840883824088890      1564618139    247   \n",
       "\n",
       "                DateTime       Date      Time  \n",
       "2828 2019-08-01 00:07:28 2019-08-01  00:07:28  \n",
       "2829 2019-08-01 00:08:00 2019-08-01  00:08:00  \n",
       "2830 2019-08-01 00:08:55 2019-08-01  00:08:55  \n",
       "2831 2019-08-01 00:08:58 2019-08-01  00:08:58  \n",
       "2832 2019-08-01 00:08:59 2019-08-01  00:08:59  "
      ]
     },
     "metadata": {},
     "output_type": "display_data"
    }
   ],
   "source": [
    "display(new_df_data.head())"
   ]
  },
  {
   "cell_type": "code",
   "execution_count": 526,
   "metadata": {},
   "outputs": [
    {
     "data": {
      "text/plain": [
       "count    240887.000000\n",
       "mean        247.021840\n",
       "std           0.824489\n",
       "min         246.000000\n",
       "25%         246.000000\n",
       "50%         247.000000\n",
       "75%         248.000000\n",
       "max         248.000000\n",
       "Name: ExpId, dtype: float64"
      ]
     },
     "execution_count": 526,
     "metadata": {},
     "output_type": "execute_result"
    }
   ],
   "source": [
    "new_df_data['ExpId'].describe()"
   ]
  },
  {
   "cell_type": "markdown",
   "metadata": {},
   "source": [
    "> * A new label-value has been set for the combined group 246 and 247. The new label is 245."
   ]
  },
  {
   "cell_type": "code",
   "execution_count": 527,
   "metadata": {},
   "outputs": [
    {
     "data": {
      "text/html": [
       "<div>\n",
       "<style scoped>\n",
       "    .dataframe tbody tr th:only-of-type {\n",
       "        vertical-align: middle;\n",
       "    }\n",
       "\n",
       "    .dataframe tbody tr th {\n",
       "        vertical-align: top;\n",
       "    }\n",
       "\n",
       "    .dataframe thead th {\n",
       "        text-align: right;\n",
       "    }\n",
       "</style>\n",
       "<table border=\"1\" class=\"dataframe\">\n",
       "  <thead>\n",
       "    <tr style=\"text-align: right;\">\n",
       "      <th></th>\n",
       "      <th>EventName</th>\n",
       "      <th>DeviceIDHash</th>\n",
       "      <th>EventTimestamp</th>\n",
       "      <th>ExpId</th>\n",
       "      <th>DateTime</th>\n",
       "      <th>Date</th>\n",
       "      <th>Time</th>\n",
       "      <th>CombinedGroup</th>\n",
       "    </tr>\n",
       "  </thead>\n",
       "  <tbody>\n",
       "    <tr>\n",
       "      <td>2828</td>\n",
       "      <td>Tutorial</td>\n",
       "      <td>3737462046622621720</td>\n",
       "      <td>1564618048</td>\n",
       "      <td>246</td>\n",
       "      <td>2019-08-01 00:07:28</td>\n",
       "      <td>2019-08-01</td>\n",
       "      <td>00:07:28</td>\n",
       "      <td>245</td>\n",
       "    </tr>\n",
       "    <tr>\n",
       "      <td>2829</td>\n",
       "      <td>MainScreenAppear</td>\n",
       "      <td>3737462046622621720</td>\n",
       "      <td>1564618080</td>\n",
       "      <td>246</td>\n",
       "      <td>2019-08-01 00:08:00</td>\n",
       "      <td>2019-08-01</td>\n",
       "      <td>00:08:00</td>\n",
       "      <td>245</td>\n",
       "    </tr>\n",
       "    <tr>\n",
       "      <td>2830</td>\n",
       "      <td>MainScreenAppear</td>\n",
       "      <td>3737462046622621720</td>\n",
       "      <td>1564618135</td>\n",
       "      <td>246</td>\n",
       "      <td>2019-08-01 00:08:55</td>\n",
       "      <td>2019-08-01</td>\n",
       "      <td>00:08:55</td>\n",
       "      <td>245</td>\n",
       "    </tr>\n",
       "    <tr>\n",
       "      <td>2831</td>\n",
       "      <td>OffersScreenAppear</td>\n",
       "      <td>3737462046622621720</td>\n",
       "      <td>1564618138</td>\n",
       "      <td>246</td>\n",
       "      <td>2019-08-01 00:08:58</td>\n",
       "      <td>2019-08-01</td>\n",
       "      <td>00:08:58</td>\n",
       "      <td>245</td>\n",
       "    </tr>\n",
       "    <tr>\n",
       "      <td>2832</td>\n",
       "      <td>MainScreenAppear</td>\n",
       "      <td>1433840883824088890</td>\n",
       "      <td>1564618139</td>\n",
       "      <td>247</td>\n",
       "      <td>2019-08-01 00:08:59</td>\n",
       "      <td>2019-08-01</td>\n",
       "      <td>00:08:59</td>\n",
       "      <td>245</td>\n",
       "    </tr>\n",
       "  </tbody>\n",
       "</table>\n",
       "</div>"
      ],
      "text/plain": [
       "               EventName         DeviceIDHash  EventTimestamp  ExpId  \\\n",
       "2828            Tutorial  3737462046622621720      1564618048    246   \n",
       "2829    MainScreenAppear  3737462046622621720      1564618080    246   \n",
       "2830    MainScreenAppear  3737462046622621720      1564618135    246   \n",
       "2831  OffersScreenAppear  3737462046622621720      1564618138    246   \n",
       "2832    MainScreenAppear  1433840883824088890      1564618139    247   \n",
       "\n",
       "                DateTime       Date      Time  CombinedGroup  \n",
       "2828 2019-08-01 00:07:28 2019-08-01  00:07:28            245  \n",
       "2829 2019-08-01 00:08:00 2019-08-01  00:08:00            245  \n",
       "2830 2019-08-01 00:08:55 2019-08-01  00:08:55            245  \n",
       "2831 2019-08-01 00:08:58 2019-08-01  00:08:58            245  \n",
       "2832 2019-08-01 00:08:59 2019-08-01  00:08:59            245  "
      ]
     },
     "metadata": {},
     "output_type": "display_data"
    }
   ],
   "source": [
    "# set new column for combined group = 'CombinedGroup'\n",
    "new_df_data['CombinedGroup'] = new_df_data['ExpId'].map({248:248, 246:245, 247:245})\n",
    "display(new_df_data.head())"
   ]
  },
  {
   "cell_type": "code",
   "execution_count": 528,
   "metadata": {},
   "outputs": [
    {
     "data": {
      "text/plain": [
       "count    240887.000000\n",
       "mean        246.053145\n",
       "std           1.431897\n",
       "min         245.000000\n",
       "25%         245.000000\n",
       "50%         245.000000\n",
       "75%         248.000000\n",
       "max         248.000000\n",
       "Name: CombinedGroup, dtype: float64"
      ]
     },
     "metadata": {},
     "output_type": "display_data"
    }
   ],
   "source": [
    "display(new_df_data['CombinedGroup'].describe())"
   ]
  },
  {
   "cell_type": "code",
   "execution_count": 529,
   "metadata": {},
   "outputs": [],
   "source": [
    "# created new pivot table.\n",
    "combined_group = new_df_data.pivot_table(index='EventName', values='DeviceIDHash', columns='CombinedGroup', aggfunc=lambda x: x.nunique()).reset_index()"
   ]
  },
  {
   "cell_type": "code",
   "execution_count": 530,
   "metadata": {},
   "outputs": [
    {
     "data": {
      "text/html": [
       "<div>\n",
       "<style scoped>\n",
       "    .dataframe tbody tr th:only-of-type {\n",
       "        vertical-align: middle;\n",
       "    }\n",
       "\n",
       "    .dataframe tbody tr th {\n",
       "        vertical-align: top;\n",
       "    }\n",
       "\n",
       "    .dataframe thead th {\n",
       "        text-align: right;\n",
       "    }\n",
       "</style>\n",
       "<table border=\"1\" class=\"dataframe\">\n",
       "  <thead>\n",
       "    <tr style=\"text-align: right;\">\n",
       "      <th>CombinedGroup</th>\n",
       "      <th>EventName</th>\n",
       "      <th>245</th>\n",
       "      <th>248</th>\n",
       "    </tr>\n",
       "  </thead>\n",
       "  <tbody>\n",
       "    <tr>\n",
       "      <td>0</td>\n",
       "      <td>CartScreenAppear</td>\n",
       "      <td>2504</td>\n",
       "      <td>1230</td>\n",
       "    </tr>\n",
       "    <tr>\n",
       "      <td>1</td>\n",
       "      <td>MainScreenAppear</td>\n",
       "      <td>4926</td>\n",
       "      <td>2493</td>\n",
       "    </tr>\n",
       "    <tr>\n",
       "      <td>2</td>\n",
       "      <td>OffersScreenAppear</td>\n",
       "      <td>3062</td>\n",
       "      <td>1531</td>\n",
       "    </tr>\n",
       "    <tr>\n",
       "      <td>3</td>\n",
       "      <td>PaymentScreenSuccessful</td>\n",
       "      <td>2358</td>\n",
       "      <td>1181</td>\n",
       "    </tr>\n",
       "    <tr>\n",
       "      <td>4</td>\n",
       "      <td>Tutorial</td>\n",
       "      <td>561</td>\n",
       "      <td>279</td>\n",
       "    </tr>\n",
       "  </tbody>\n",
       "</table>\n",
       "</div>"
      ],
      "text/plain": [
       "CombinedGroup                EventName   245   248\n",
       "0                     CartScreenAppear  2504  1230\n",
       "1                     MainScreenAppear  4926  2493\n",
       "2                   OffersScreenAppear  3062  1531\n",
       "3              PaymentScreenSuccessful  2358  1181\n",
       "4                             Tutorial   561   279"
      ]
     },
     "metadata": {},
     "output_type": "display_data"
    }
   ],
   "source": [
    "display(combined_group.head())"
   ]
  },
  {
   "cell_type": "code",
   "execution_count": 532,
   "metadata": {},
   "outputs": [],
   "source": [
    "def check_hypothesis_combined(pivot, df, Group0, Group1, Group2, eventName): \n",
    "\n",
    "    # define alpha value\n",
    "    alpha = 0.05\n",
    "\n",
    "    # define successes \n",
    "    successes_1 = pivot[pivot.EventName == eventName][Group1].iloc[0]\n",
    "    successes_2 = pivot[pivot.EventName == eventName][Group2].iloc[0]\n",
    "\n",
    "    # define trials\n",
    "    trialsGroup_1 = df[df[Group0] == Group1]['DeviceIDHash'].nunique()\n",
    "    trialsGroup_2 = df[df[Group0] == Group2]['DeviceIDHash'].nunique()    \n",
    "\n",
    "    # proportion for success in group 1\n",
    "    p1 = successes_1 / trialsGroup_1\n",
    "\n",
    "    # proportion for success in group 2\n",
    "    p2 = successes_2 / trialsGroup_2\n",
    "\n",
    "    # proportion in a combined dataset\n",
    "    p_combined = (successes_1 + successes_2) / (trialsGroup_1 + trialsGroup_2)\n",
    "\n",
    "    # define difference and z value\n",
    "    difference = p1 - p2\n",
    "    z_value = difference / math.sqrt(p_combined * (1 - p_combined) * (1/trialsGroup_1 + 1/trialsGroup_2))\n",
    "\n",
    "    # calculate distribution\n",
    "    distr = st.norm(0,1)\n",
    "\n",
    "    # calculate p_value\n",
    "    p_value = (1 - distr.cdf(abs(z_value))) * 2\n",
    "    print('p_value: ', p_value)\n",
    "\n",
    "    if (p_value < alpha):\n",
    "        print(\"Rejecting the null hypothesis: there is a significant difference between the proportions\")\n",
    "    else:\n",
    "        print(\"Failed to reject the null hypothesis: there is no reason to consider the proportions different\") "
   ]
  },
  {
   "cell_type": "code",
   "execution_count": 533,
   "metadata": {},
   "outputs": [
    {
     "name": "stdout",
     "output_type": "stream",
     "text": [
      "p_value:  0.29424526837179577\n",
      "Failed to reject the null hypothesis: there is no reason to consider the proportions different\n",
      "p_value:  0.43425549655188256\n",
      "Failed to reject the null hypothesis: there is no reason to consider the proportions different\n",
      "p_value:  0.18175875284404386\n",
      "Failed to reject the null hypothesis: there is no reason to consider the proportions different\n",
      "p_value:  0.6004294282308704\n",
      "Failed to reject the null hypothesis: there is no reason to consider the proportions different\n"
     ]
    }
   ],
   "source": [
    "check_hypothesis_combined(combined_group, new_df_data, 'CombinedGroup', 245, 248, 'MainScreenAppear')\n",
    "check_hypothesis_combined(combined_group, new_df_data, 'CombinedGroup', 245, 248, 'OffersScreenAppear')\n",
    "check_hypothesis_combined(combined_group, new_df_data, 'CombinedGroup', 245, 248, 'CartScreenAppear')\n",
    "check_hypothesis_combined(combined_group, new_df_data, 'CombinedGroup', 245, 248, 'PaymentScreenSuccessful')"
   ]
  },
  {
   "cell_type": "markdown",
   "metadata": {},
   "source": [
    "> * According to these data, we can also confirm that the hypotheses for the combined group A consisting of 2 groups - 246 and 247, in comparison with group 248, also does not make much difference. \n",
    "> * Thus, hypothesis testing comparing the combined group 246_247 and the control group 248 did not reveal a significant difference."
   ]
  },
  {
   "cell_type": "markdown",
   "metadata": {},
   "source": [
    "### General Conclusion: <a name=\"Conclusion\"></a>"
   ]
  },
  {
   "cell_type": "markdown",
   "metadata": {},
   "source": [
    "   Based on the previous data, the following conclusions can be drawn.\n",
    "> * The current dataset of the operation of this application did not contain any missing values. But it contained duplicate data.\n",
    "> * The dataset itself has a short period of time. Looking at the histogram, you can cut off the data until August 1, since the number of events in the application is about zero. It can be assumed that the application was not used up to this point, since it was not known to users. It may be necessary to conduct a larger advertising campaign.\n",
    "> * Unfortunately, the application has problems with low conversion rates. A large number of users come to the Main screen, but many of the users do not make it to the product selection stage (Offers Screen). It is difficult to say what this is related to, but I would assume that it is related to the user-friendly application.\n",
    "It seems that many users simply do not find the Offers Screen. I think need to pay attention to User Stories.\n",
    "> * Regarding prices, it is possible to further consider introduction of promotional codes or promotions for free delivery for users, within 2-3 months.\n",
    "> * I would suggest making improvements to the transition from the home screen to the suggestion screen. And test it with hypotheses for A / B tests. \n",
    "> * As the hypothesis test on changing the size of the fonts in the application has shown, this does not make sense. Users can read the title, but apparently they cannot find the product they would like to buy."
   ]
  }
 ],
 "metadata": {
  "ExecuteTimeLog": [
   {
    "duration": 1963,
    "start_time": "2021-09-23T08:42:05.684Z"
   },
   {
    "duration": 503,
    "start_time": "2021-09-23T08:42:07.650Z"
   },
   {
    "duration": -49,
    "start_time": "2021-09-23T08:42:08.210Z"
   },
   {
    "duration": -51,
    "start_time": "2021-09-23T08:42:08.213Z"
   },
   {
    "duration": -56,
    "start_time": "2021-09-23T08:42:08.220Z"
   },
   {
    "duration": -60,
    "start_time": "2021-09-23T08:42:08.225Z"
   },
   {
    "duration": -61,
    "start_time": "2021-09-23T08:42:08.228Z"
   },
   {
    "duration": -64,
    "start_time": "2021-09-23T08:42:08.232Z"
   },
   {
    "duration": -73,
    "start_time": "2021-09-23T08:42:08.242Z"
   },
   {
    "duration": -77,
    "start_time": "2021-09-23T08:42:08.248Z"
   },
   {
    "duration": -79,
    "start_time": "2021-09-23T08:42:08.252Z"
   },
   {
    "duration": -81,
    "start_time": "2021-09-23T08:42:08.255Z"
   },
   {
    "duration": -82,
    "start_time": "2021-09-23T08:42:08.257Z"
   },
   {
    "duration": -83,
    "start_time": "2021-09-23T08:42:08.260Z"
   },
   {
    "duration": -85,
    "start_time": "2021-09-23T08:42:08.263Z"
   },
   {
    "duration": -87,
    "start_time": "2021-09-23T08:42:08.267Z"
   },
   {
    "duration": -89,
    "start_time": "2021-09-23T08:42:08.270Z"
   },
   {
    "duration": -92,
    "start_time": "2021-09-23T08:42:08.274Z"
   },
   {
    "duration": -93,
    "start_time": "2021-09-23T08:42:08.277Z"
   },
   {
    "duration": -95,
    "start_time": "2021-09-23T08:42:08.280Z"
   },
   {
    "duration": -102,
    "start_time": "2021-09-23T08:42:08.289Z"
   },
   {
    "duration": -104,
    "start_time": "2021-09-23T08:42:08.292Z"
   },
   {
    "duration": -106,
    "start_time": "2021-09-23T08:42:08.295Z"
   },
   {
    "duration": -107,
    "start_time": "2021-09-23T08:42:08.298Z"
   },
   {
    "duration": -109,
    "start_time": "2021-09-23T08:42:08.301Z"
   },
   {
    "duration": -111,
    "start_time": "2021-09-23T08:42:08.304Z"
   },
   {
    "duration": -114,
    "start_time": "2021-09-23T08:42:08.308Z"
   },
   {
    "duration": -81,
    "start_time": "2021-09-23T08:42:08.311Z"
   },
   {
    "duration": -82,
    "start_time": "2021-09-23T08:42:08.314Z"
   },
   {
    "duration": -82,
    "start_time": "2021-09-23T08:42:08.316Z"
   },
   {
    "duration": -81,
    "start_time": "2021-09-23T08:42:08.319Z"
   },
   {
    "duration": -83,
    "start_time": "2021-09-23T08:42:08.322Z"
   },
   {
    "duration": -84,
    "start_time": "2021-09-23T08:42:08.325Z"
   },
   {
    "duration": -86,
    "start_time": "2021-09-23T08:42:08.328Z"
   },
   {
    "duration": -88,
    "start_time": "2021-09-23T08:42:08.331Z"
   },
   {
    "duration": -89,
    "start_time": "2021-09-23T08:42:08.334Z"
   },
   {
    "duration": -178,
    "start_time": "2021-09-23T08:42:08.424Z"
   },
   {
    "duration": -193,
    "start_time": "2021-09-23T08:42:08.440Z"
   },
   {
    "duration": -199,
    "start_time": "2021-09-23T08:42:08.448Z"
   },
   {
    "duration": -201,
    "start_time": "2021-09-23T08:42:08.451Z"
   },
   {
    "duration": -202,
    "start_time": "2021-09-23T08:42:08.453Z"
   },
   {
    "duration": -203,
    "start_time": "2021-09-23T08:42:08.456Z"
   },
   {
    "duration": -205,
    "start_time": "2021-09-23T08:42:08.459Z"
   },
   {
    "duration": -205,
    "start_time": "2021-09-23T08:42:08.461Z"
   },
   {
    "duration": -207,
    "start_time": "2021-09-23T08:42:08.464Z"
   },
   {
    "duration": -209,
    "start_time": "2021-09-23T08:42:08.467Z"
   },
   {
    "duration": -211,
    "start_time": "2021-09-23T08:42:08.470Z"
   },
   {
    "duration": -211,
    "start_time": "2021-09-23T08:42:08.472Z"
   },
   {
    "duration": -213,
    "start_time": "2021-09-23T08:42:08.475Z"
   },
   {
    "duration": 5813,
    "start_time": "2021-09-23T08:45:59.756Z"
   },
   {
    "duration": 727,
    "start_time": "2021-09-23T08:46:05.572Z"
   },
   {
    "duration": -51,
    "start_time": "2021-09-23T08:46:06.358Z"
   },
   {
    "duration": -53,
    "start_time": "2021-09-23T08:46:06.361Z"
   },
   {
    "duration": -54,
    "start_time": "2021-09-23T08:46:06.364Z"
   },
   {
    "duration": -58,
    "start_time": "2021-09-23T08:46:06.369Z"
   },
   {
    "duration": -59,
    "start_time": "2021-09-23T08:46:06.372Z"
   },
   {
    "duration": -61,
    "start_time": "2021-09-23T08:46:06.375Z"
   },
   {
    "duration": -69,
    "start_time": "2021-09-23T08:46:06.384Z"
   },
   {
    "duration": -71,
    "start_time": "2021-09-23T08:46:06.388Z"
   },
   {
    "duration": -73,
    "start_time": "2021-09-23T08:46:06.391Z"
   },
   {
    "duration": -75,
    "start_time": "2021-09-23T08:46:06.394Z"
   },
   {
    "duration": -76,
    "start_time": "2021-09-23T08:46:06.397Z"
   },
   {
    "duration": -75,
    "start_time": "2021-09-23T08:46:06.399Z"
   },
   {
    "duration": -79,
    "start_time": "2021-09-23T08:46:06.405Z"
   },
   {
    "duration": -81,
    "start_time": "2021-09-23T08:46:06.408Z"
   },
   {
    "duration": -82,
    "start_time": "2021-09-23T08:46:06.411Z"
   },
   {
    "duration": -84,
    "start_time": "2021-09-23T08:46:06.415Z"
   },
   {
    "duration": -88,
    "start_time": "2021-09-23T08:46:06.420Z"
   },
   {
    "duration": -94,
    "start_time": "2021-09-23T08:46:06.428Z"
   },
   {
    "duration": -109,
    "start_time": "2021-09-23T08:46:06.444Z"
   },
   {
    "duration": -109,
    "start_time": "2021-09-23T08:46:06.446Z"
   },
   {
    "duration": -120,
    "start_time": "2021-09-23T08:46:06.461Z"
   },
   {
    "duration": -140,
    "start_time": "2021-09-23T08:46:06.483Z"
   },
   {
    "duration": -140,
    "start_time": "2021-09-23T08:46:06.486Z"
   },
   {
    "duration": -141,
    "start_time": "2021-09-23T08:46:06.489Z"
   },
   {
    "duration": -182,
    "start_time": "2021-09-23T08:46:06.532Z"
   },
   {
    "duration": -182,
    "start_time": "2021-09-23T08:46:06.534Z"
   },
   {
    "duration": -183,
    "start_time": "2021-09-23T08:46:06.538Z"
   },
   {
    "duration": -183,
    "start_time": "2021-09-23T08:46:06.540Z"
   },
   {
    "duration": -184,
    "start_time": "2021-09-23T08:46:06.543Z"
   },
   {
    "duration": -185,
    "start_time": "2021-09-23T08:46:06.546Z"
   },
   {
    "duration": -186,
    "start_time": "2021-09-23T08:46:06.549Z"
   },
   {
    "duration": -187,
    "start_time": "2021-09-23T08:46:06.552Z"
   },
   {
    "duration": -138,
    "start_time": "2021-09-23T08:46:06.561Z"
   },
   {
    "duration": -139,
    "start_time": "2021-09-23T08:46:06.564Z"
   },
   {
    "duration": -147,
    "start_time": "2021-09-23T08:46:06.574Z"
   },
   {
    "duration": -194,
    "start_time": "2021-09-23T08:46:06.622Z"
   },
   {
    "duration": -203,
    "start_time": "2021-09-23T08:46:06.633Z"
   },
   {
    "duration": -205,
    "start_time": "2021-09-23T08:46:06.636Z"
   },
   {
    "duration": -206,
    "start_time": "2021-09-23T08:46:06.639Z"
   },
   {
    "duration": -206,
    "start_time": "2021-09-23T08:46:06.642Z"
   },
   {
    "duration": -207,
    "start_time": "2021-09-23T08:46:06.645Z"
   },
   {
    "duration": -207,
    "start_time": "2021-09-23T08:46:06.647Z"
   },
   {
    "duration": -211,
    "start_time": "2021-09-23T08:46:06.652Z"
   },
   {
    "duration": -212,
    "start_time": "2021-09-23T08:46:06.655Z"
   },
   {
    "duration": -219,
    "start_time": "2021-09-23T08:46:06.665Z"
   },
   {
    "duration": -220,
    "start_time": "2021-09-23T08:46:06.668Z"
   },
   {
    "duration": -221,
    "start_time": "2021-09-23T08:46:06.671Z"
   },
   {
    "duration": 1918,
    "start_time": "2021-09-23T11:03:50.924Z"
   },
   {
    "duration": 450,
    "start_time": "2021-09-23T11:04:02.103Z"
   },
   {
    "duration": 7,
    "start_time": "2021-09-23T11:04:16.114Z"
   },
   {
    "duration": 7,
    "start_time": "2021-09-23T11:04:17.921Z"
   },
   {
    "duration": 7,
    "start_time": "2021-09-23T11:05:51.944Z"
   },
   {
    "duration": 425,
    "start_time": "2021-09-23T11:05:52.706Z"
   },
   {
    "duration": 7,
    "start_time": "2021-09-23T11:05:53.365Z"
   },
   {
    "duration": 5,
    "start_time": "2021-09-23T11:05:53.980Z"
   },
   {
    "duration": 7,
    "start_time": "2021-09-23T11:05:54.578Z"
   },
   {
    "duration": 222,
    "start_time": "2021-09-23T11:05:54.947Z"
   },
   {
    "duration": 25,
    "start_time": "2021-09-23T11:11:41.514Z"
   },
   {
    "duration": 19,
    "start_time": "2021-09-23T11:11:48.217Z"
   },
   {
    "duration": 9,
    "start_time": "2021-09-23T11:13:08.481Z"
   },
   {
    "duration": 767,
    "start_time": "2021-09-23T11:13:09.201Z"
   },
   {
    "duration": 65,
    "start_time": "2021-09-23T11:14:36.446Z"
   },
   {
    "duration": 65,
    "start_time": "2021-09-23T11:14:59.294Z"
   },
   {
    "duration": 7,
    "start_time": "2021-09-23T11:15:08.798Z"
   },
   {
    "duration": 268,
    "start_time": "2021-09-23T11:15:09.461Z"
   },
   {
    "duration": 101,
    "start_time": "2021-09-23T11:17:29.060Z"
   },
   {
    "duration": 68,
    "start_time": "2021-09-23T11:17:40.200Z"
   },
   {
    "duration": 10,
    "start_time": "2021-09-23T12:54:10.763Z"
   },
   {
    "duration": 16,
    "start_time": "2021-09-23T12:54:10.776Z"
   },
   {
    "duration": 352,
    "start_time": "2021-09-23T12:54:10.796Z"
   },
   {
    "duration": 8,
    "start_time": "2021-09-23T12:54:11.151Z"
   },
   {
    "duration": 22,
    "start_time": "2021-09-23T12:54:11.162Z"
   },
   {
    "duration": 8,
    "start_time": "2021-09-23T12:54:11.186Z"
   },
   {
    "duration": 241,
    "start_time": "2021-09-23T12:54:11.196Z"
   },
   {
    "duration": 82,
    "start_time": "2021-09-23T12:54:11.441Z"
   },
   {
    "duration": 89,
    "start_time": "2021-09-23T12:54:11.526Z"
   },
   {
    "duration": 240,
    "start_time": "2021-09-23T12:54:11.617Z"
   },
   {
    "duration": 277,
    "start_time": "2021-09-23T12:54:11.859Z"
   },
   {
    "duration": 244,
    "start_time": "2021-09-23T12:54:12.138Z"
   },
   {
    "duration": 235,
    "start_time": "2021-09-23T12:54:12.384Z"
   },
   {
    "duration": 32,
    "start_time": "2021-09-23T12:54:12.621Z"
   },
   {
    "duration": 63,
    "start_time": "2021-09-23T12:54:12.656Z"
   },
   {
    "duration": 30,
    "start_time": "2021-09-23T12:54:12.721Z"
   },
   {
    "duration": 32,
    "start_time": "2021-09-23T12:54:12.753Z"
   },
   {
    "duration": 21,
    "start_time": "2021-09-23T12:54:12.788Z"
   },
   {
    "duration": 26,
    "start_time": "2021-09-23T12:54:12.813Z"
   },
   {
    "duration": 53,
    "start_time": "2021-09-23T12:54:12.841Z"
   },
   {
    "duration": 6,
    "start_time": "2021-09-23T12:54:12.896Z"
   },
   {
    "duration": 1112,
    "start_time": "2021-09-23T12:54:12.904Z"
   },
   {
    "duration": 119,
    "start_time": "2021-09-23T12:54:14.022Z"
   },
   {
    "duration": 21,
    "start_time": "2021-09-23T12:54:14.144Z"
   },
   {
    "duration": 8,
    "start_time": "2021-09-23T12:54:14.183Z"
   },
   {
    "duration": 18,
    "start_time": "2021-09-23T12:54:14.194Z"
   },
   {
    "duration": 8,
    "start_time": "2021-09-23T13:12:24.870Z"
   },
   {
    "duration": 7,
    "start_time": "2021-09-23T13:12:47.450Z"
   },
   {
    "duration": 7,
    "start_time": "2021-09-23T13:13:29.994Z"
   },
   {
    "duration": 314,
    "start_time": "2021-09-23T13:24:47.310Z"
   },
   {
    "duration": 8,
    "start_time": "2021-09-23T13:24:51.946Z"
   },
   {
    "duration": 508,
    "start_time": "2021-09-23T13:24:52.523Z"
   },
   {
    "duration": 79,
    "start_time": "2021-09-23T13:25:06.552Z"
   },
   {
    "duration": 4,
    "start_time": "2021-09-23T13:25:07.277Z"
   },
   {
    "duration": 6,
    "start_time": "2021-09-23T13:25:07.728Z"
   },
   {
    "duration": 31,
    "start_time": "2021-09-23T13:25:08.513Z"
   },
   {
    "duration": 10,
    "start_time": "2021-09-23T13:25:10.397Z"
   },
   {
    "duration": 8,
    "start_time": "2021-09-23T13:25:11.547Z"
   },
   {
    "duration": 93,
    "start_time": "2021-09-23T13:25:12.120Z"
   },
   {
    "duration": 99,
    "start_time": "2021-09-23T13:25:26.601Z"
   },
   {
    "duration": 98,
    "start_time": "2021-09-23T13:25:27.573Z"
   },
   {
    "duration": 7,
    "start_time": "2021-09-23T13:50:35.719Z"
   },
   {
    "duration": 22,
    "start_time": "2021-09-23T13:50:35.729Z"
   },
   {
    "duration": 484,
    "start_time": "2021-09-23T13:50:35.754Z"
   },
   {
    "duration": 7,
    "start_time": "2021-09-23T13:50:36.241Z"
   },
   {
    "duration": 11,
    "start_time": "2021-09-23T13:50:36.251Z"
   },
   {
    "duration": 25,
    "start_time": "2021-09-23T13:50:36.265Z"
   },
   {
    "duration": 232,
    "start_time": "2021-09-23T13:50:36.293Z"
   },
   {
    "duration": 86,
    "start_time": "2021-09-23T13:50:36.531Z"
   },
   {
    "duration": 81,
    "start_time": "2021-09-23T13:50:36.620Z"
   },
   {
    "duration": 237,
    "start_time": "2021-09-23T13:50:36.703Z"
   },
   {
    "duration": 269,
    "start_time": "2021-09-23T13:50:36.943Z"
   },
   {
    "duration": 232,
    "start_time": "2021-09-23T13:50:37.214Z"
   },
   {
    "duration": 238,
    "start_time": "2021-09-23T13:50:37.448Z"
   },
   {
    "duration": 32,
    "start_time": "2021-09-23T13:50:37.688Z"
   },
   {
    "duration": 68,
    "start_time": "2021-09-23T13:50:37.722Z"
   },
   {
    "duration": 31,
    "start_time": "2021-09-23T13:50:37.793Z"
   },
   {
    "duration": 8,
    "start_time": "2021-09-23T13:50:37.827Z"
   },
   {
    "duration": 17,
    "start_time": "2021-09-23T13:50:37.837Z"
   },
   {
    "duration": 26,
    "start_time": "2021-09-23T13:50:37.883Z"
   },
   {
    "duration": 27,
    "start_time": "2021-09-23T13:50:37.911Z"
   },
   {
    "duration": 8,
    "start_time": "2021-09-23T13:50:37.941Z"
   },
   {
    "duration": 738,
    "start_time": "2021-09-23T13:50:37.952Z"
   },
   {
    "duration": 90,
    "start_time": "2021-09-23T13:50:38.695Z"
   },
   {
    "duration": 14,
    "start_time": "2021-09-23T13:50:38.788Z"
   },
   {
    "duration": 18,
    "start_time": "2021-09-23T13:50:38.804Z"
   },
   {
    "duration": 22,
    "start_time": "2021-09-23T13:50:38.824Z"
   },
   {
    "duration": 49,
    "start_time": "2021-09-23T13:50:38.848Z"
   },
   {
    "duration": 67,
    "start_time": "2021-09-23T13:50:38.899Z"
   },
   {
    "duration": 14,
    "start_time": "2021-09-23T13:50:38.982Z"
   },
   {
    "duration": 102,
    "start_time": "2021-09-23T13:50:38.999Z"
   },
   {
    "duration": 8,
    "start_time": "2021-09-23T13:50:39.104Z"
   },
   {
    "duration": 15,
    "start_time": "2021-09-23T13:50:39.115Z"
   },
   {
    "duration": 11,
    "start_time": "2021-09-23T13:50:39.133Z"
   },
   {
    "duration": 42,
    "start_time": "2021-09-23T13:50:39.147Z"
   },
   {
    "duration": 22,
    "start_time": "2021-09-23T13:50:39.191Z"
   },
   {
    "duration": 7,
    "start_time": "2021-09-23T13:50:39.215Z"
   },
   {
    "duration": 12,
    "start_time": "2021-09-23T13:50:39.224Z"
   },
   {
    "duration": 922,
    "start_time": "2021-09-23T13:50:39.238Z"
   },
   {
    "duration": 27,
    "start_time": "2021-09-23T13:50:40.162Z"
   },
   {
    "duration": 98,
    "start_time": "2021-09-23T13:50:40.191Z"
   },
   {
    "duration": 14,
    "start_time": "2021-09-23T13:50:40.291Z"
   },
   {
    "duration": 178,
    "start_time": "2021-09-23T13:50:40.307Z"
   },
   {
    "duration": 6,
    "start_time": "2021-09-23T13:50:40.488Z"
   },
   {
    "duration": 18,
    "start_time": "2021-09-23T13:50:40.497Z"
   },
   {
    "duration": 40,
    "start_time": "2021-09-23T13:50:40.517Z"
   },
   {
    "duration": 33,
    "start_time": "2021-09-23T13:50:40.559Z"
   },
   {
    "duration": 9,
    "start_time": "2021-09-23T13:50:40.595Z"
   },
   {
    "duration": 154,
    "start_time": "2021-09-23T13:50:40.606Z"
   },
   {
    "duration": 127,
    "start_time": "2021-09-23T13:50:40.762Z"
   },
   {
    "duration": 7,
    "start_time": "2021-09-23T13:51:36.720Z"
   },
   {
    "duration": 9,
    "start_time": "2021-09-23T13:51:36.730Z"
   },
   {
    "duration": 341,
    "start_time": "2021-09-23T13:51:36.742Z"
   },
   {
    "duration": 7,
    "start_time": "2021-09-23T13:51:37.085Z"
   },
   {
    "duration": 13,
    "start_time": "2021-09-23T13:51:37.094Z"
   },
   {
    "duration": 11,
    "start_time": "2021-09-23T13:51:37.110Z"
   },
   {
    "duration": 243,
    "start_time": "2021-09-23T13:51:37.123Z"
   },
   {
    "duration": 66,
    "start_time": "2021-09-23T13:51:37.382Z"
   },
   {
    "duration": 90,
    "start_time": "2021-09-23T13:51:37.451Z"
   },
   {
    "duration": 264,
    "start_time": "2021-09-23T13:51:37.544Z"
   },
   {
    "duration": 262,
    "start_time": "2021-09-23T13:51:37.812Z"
   },
   {
    "duration": 256,
    "start_time": "2021-09-23T13:51:38.077Z"
   },
   {
    "duration": 241,
    "start_time": "2021-09-23T13:51:38.336Z"
   },
   {
    "duration": 32,
    "start_time": "2021-09-23T13:51:38.583Z"
   },
   {
    "duration": 44,
    "start_time": "2021-09-23T13:51:38.617Z"
   },
   {
    "duration": 31,
    "start_time": "2021-09-23T13:51:38.684Z"
   },
   {
    "duration": 16,
    "start_time": "2021-09-23T13:51:38.717Z"
   },
   {
    "duration": 18,
    "start_time": "2021-09-23T13:51:38.735Z"
   },
   {
    "duration": 52,
    "start_time": "2021-09-23T13:51:38.755Z"
   },
   {
    "duration": 26,
    "start_time": "2021-09-23T13:51:38.810Z"
   },
   {
    "duration": 9,
    "start_time": "2021-09-23T13:51:38.839Z"
   },
   {
    "duration": 775,
    "start_time": "2021-09-23T13:51:38.851Z"
   },
   {
    "duration": 84,
    "start_time": "2021-09-23T13:51:39.633Z"
   },
   {
    "duration": 15,
    "start_time": "2021-09-23T13:51:39.720Z"
   },
   {
    "duration": 6,
    "start_time": "2021-09-23T13:51:39.737Z"
   },
   {
    "duration": 45,
    "start_time": "2021-09-23T13:51:39.745Z"
   },
   {
    "duration": 35,
    "start_time": "2021-09-23T13:51:39.792Z"
   },
   {
    "duration": 91,
    "start_time": "2021-09-23T13:51:39.829Z"
   },
   {
    "duration": 14,
    "start_time": "2021-09-23T13:51:39.922Z"
   },
   {
    "duration": 101,
    "start_time": "2021-09-23T13:51:39.938Z"
   },
   {
    "duration": 6,
    "start_time": "2021-09-23T13:51:40.041Z"
   },
   {
    "duration": 14,
    "start_time": "2021-09-23T13:51:40.049Z"
   },
   {
    "duration": 24,
    "start_time": "2021-09-23T13:51:40.066Z"
   },
   {
    "duration": 11,
    "start_time": "2021-09-23T13:51:40.092Z"
   },
   {
    "duration": 11,
    "start_time": "2021-09-23T13:51:40.105Z"
   },
   {
    "duration": 16,
    "start_time": "2021-09-23T13:51:40.118Z"
   },
   {
    "duration": 51,
    "start_time": "2021-09-23T13:51:40.137Z"
   },
   {
    "duration": 195,
    "start_time": "2021-09-23T13:51:40.191Z"
   },
   {
    "duration": 14,
    "start_time": "2021-09-23T13:51:40.389Z"
   },
   {
    "duration": 43,
    "start_time": "2021-09-23T13:51:40.406Z"
   },
   {
    "duration": 39,
    "start_time": "2021-09-23T13:51:40.451Z"
   },
   {
    "duration": 74,
    "start_time": "2021-09-23T13:51:40.493Z"
   },
   {
    "duration": 4,
    "start_time": "2021-09-23T13:51:40.583Z"
   },
   {
    "duration": 12,
    "start_time": "2021-09-23T13:51:40.590Z"
   },
   {
    "duration": 39,
    "start_time": "2021-09-23T13:51:40.604Z"
   },
   {
    "duration": 21,
    "start_time": "2021-09-23T13:51:40.646Z"
   },
   {
    "duration": 9,
    "start_time": "2021-09-23T13:51:40.682Z"
   },
   {
    "duration": 116,
    "start_time": "2021-09-23T13:51:40.693Z"
   },
   {
    "duration": 121,
    "start_time": "2021-09-23T13:51:40.811Z"
   },
   {
    "duration": 99,
    "start_time": "2021-09-23T13:52:24.260Z"
   },
   {
    "duration": 1908,
    "start_time": "2021-09-24T10:39:41.303Z"
   },
   {
    "duration": 7,
    "start_time": "2021-09-24T10:39:43.213Z"
   },
   {
    "duration": 494,
    "start_time": "2021-09-24T10:39:43.222Z"
   },
   {
    "duration": 6,
    "start_time": "2021-09-24T10:39:43.719Z"
   },
   {
    "duration": 6,
    "start_time": "2021-09-24T10:39:43.728Z"
   },
   {
    "duration": 23,
    "start_time": "2021-09-24T10:39:43.736Z"
   },
   {
    "duration": 242,
    "start_time": "2021-09-24T10:39:43.761Z"
   },
   {
    "duration": 82,
    "start_time": "2021-09-24T10:39:44.007Z"
   },
   {
    "duration": 86,
    "start_time": "2021-09-24T10:39:44.092Z"
   },
   {
    "duration": 233,
    "start_time": "2021-09-24T10:39:44.180Z"
   },
   {
    "duration": 261,
    "start_time": "2021-09-24T10:39:44.416Z"
   },
   {
    "duration": 235,
    "start_time": "2021-09-24T10:39:44.679Z"
   },
   {
    "duration": 230,
    "start_time": "2021-09-24T10:39:44.917Z"
   },
   {
    "duration": 30,
    "start_time": "2021-09-24T10:39:45.149Z"
   },
   {
    "duration": 48,
    "start_time": "2021-09-24T10:39:45.182Z"
   },
   {
    "duration": 46,
    "start_time": "2021-09-24T10:39:45.232Z"
   },
   {
    "duration": 8,
    "start_time": "2021-09-24T10:39:45.281Z"
   },
   {
    "duration": 15,
    "start_time": "2021-09-24T10:39:45.291Z"
   },
   {
    "duration": 60,
    "start_time": "2021-09-24T10:39:45.308Z"
   },
   {
    "duration": 25,
    "start_time": "2021-09-24T10:39:45.370Z"
   },
   {
    "duration": 5,
    "start_time": "2021-09-24T10:39:45.397Z"
   },
   {
    "duration": 687,
    "start_time": "2021-09-24T10:39:45.404Z"
   },
   {
    "duration": 87,
    "start_time": "2021-09-24T10:39:46.096Z"
   },
   {
    "duration": 14,
    "start_time": "2021-09-24T10:39:46.186Z"
   },
   {
    "duration": 9,
    "start_time": "2021-09-24T10:39:46.202Z"
   },
   {
    "duration": 53,
    "start_time": "2021-09-24T10:39:46.213Z"
   },
   {
    "duration": 33,
    "start_time": "2021-09-24T10:39:46.268Z"
   },
   {
    "duration": 82,
    "start_time": "2021-09-24T10:39:46.303Z"
   },
   {
    "duration": 13,
    "start_time": "2021-09-24T10:39:46.388Z"
   },
   {
    "duration": 100,
    "start_time": "2021-09-24T10:39:46.403Z"
   },
   {
    "duration": 7,
    "start_time": "2021-09-24T10:39:46.506Z"
   },
   {
    "duration": 13,
    "start_time": "2021-09-24T10:39:46.515Z"
   },
   {
    "duration": 30,
    "start_time": "2021-09-24T10:39:46.530Z"
   },
   {
    "duration": 18,
    "start_time": "2021-09-24T10:39:46.563Z"
   },
   {
    "duration": 12,
    "start_time": "2021-09-24T10:39:46.583Z"
   },
   {
    "duration": 14,
    "start_time": "2021-09-24T10:39:46.597Z"
   },
   {
    "duration": 43,
    "start_time": "2021-09-24T10:39:46.614Z"
   },
   {
    "duration": 732,
    "start_time": "2021-09-24T10:39:46.660Z"
   },
   {
    "duration": 19,
    "start_time": "2021-09-24T10:39:47.395Z"
   },
   {
    "duration": 102,
    "start_time": "2021-09-24T10:39:47.457Z"
   },
   {
    "duration": 14,
    "start_time": "2021-09-24T10:39:47.561Z"
   },
   {
    "duration": 132,
    "start_time": "2021-09-24T10:39:47.578Z"
   },
   {
    "duration": 4,
    "start_time": "2021-09-24T10:39:47.712Z"
   },
   {
    "duration": 39,
    "start_time": "2021-09-24T10:39:47.719Z"
   },
   {
    "duration": 33,
    "start_time": "2021-09-24T10:39:47.761Z"
   },
   {
    "duration": 10,
    "start_time": "2021-09-24T10:39:47.796Z"
   },
   {
    "duration": 8,
    "start_time": "2021-09-24T10:39:47.808Z"
   },
   {
    "duration": 140,
    "start_time": "2021-09-24T10:39:47.818Z"
   },
   {
    "duration": 128,
    "start_time": "2021-09-24T10:39:47.960Z"
   },
   {
    "duration": 118,
    "start_time": "2021-09-24T10:39:48.091Z"
   },
   {
    "duration": 3,
    "start_time": "2021-09-24T12:18:23.279Z"
   },
   {
    "duration": 932,
    "start_time": "2021-09-24T12:18:23.709Z"
   },
   {
    "duration": 2147,
    "start_time": "2021-09-24T13:30:56.006Z"
   },
   {
    "duration": 7,
    "start_time": "2021-09-24T13:30:58.156Z"
   },
   {
    "duration": 546,
    "start_time": "2021-09-24T13:30:58.166Z"
   },
   {
    "duration": 7,
    "start_time": "2021-09-24T13:30:58.715Z"
   },
   {
    "duration": 11,
    "start_time": "2021-09-24T13:30:58.724Z"
   },
   {
    "duration": 8,
    "start_time": "2021-09-24T13:30:58.737Z"
   },
   {
    "duration": 250,
    "start_time": "2021-09-24T13:30:58.767Z"
   },
   {
    "duration": 86,
    "start_time": "2021-09-24T13:30:59.020Z"
   },
   {
    "duration": 90,
    "start_time": "2021-09-24T13:30:59.109Z"
   },
   {
    "duration": 241,
    "start_time": "2021-09-24T13:30:59.201Z"
   },
   {
    "duration": 267,
    "start_time": "2021-09-24T13:30:59.444Z"
   },
   {
    "duration": 240,
    "start_time": "2021-09-24T13:30:59.713Z"
   },
   {
    "duration": 242,
    "start_time": "2021-09-24T13:30:59.955Z"
   },
   {
    "duration": 35,
    "start_time": "2021-09-24T13:31:00.200Z"
   },
   {
    "duration": 66,
    "start_time": "2021-09-24T13:31:00.237Z"
   },
   {
    "duration": 31,
    "start_time": "2021-09-24T13:31:00.306Z"
   },
   {
    "duration": 29,
    "start_time": "2021-09-24T13:31:00.339Z"
   },
   {
    "duration": 17,
    "start_time": "2021-09-24T13:31:00.370Z"
   },
   {
    "duration": 36,
    "start_time": "2021-09-24T13:31:00.390Z"
   },
   {
    "duration": 45,
    "start_time": "2021-09-24T13:31:00.429Z"
   },
   {
    "duration": 7,
    "start_time": "2021-09-24T13:31:00.477Z"
   },
   {
    "duration": 30,
    "start_time": "2021-09-24T13:31:00.486Z"
   },
   {
    "duration": 709,
    "start_time": "2021-09-24T13:31:00.521Z"
   },
   {
    "duration": 85,
    "start_time": "2021-09-24T13:31:01.233Z"
   },
   {
    "duration": 46,
    "start_time": "2021-09-24T13:31:01.321Z"
   },
   {
    "duration": 44,
    "start_time": "2021-09-24T13:31:01.369Z"
   },
   {
    "duration": 41,
    "start_time": "2021-09-24T13:31:01.415Z"
   },
   {
    "duration": 46,
    "start_time": "2021-09-24T13:31:01.458Z"
   },
   {
    "duration": 79,
    "start_time": "2021-09-24T13:31:01.506Z"
   },
   {
    "duration": 14,
    "start_time": "2021-09-24T13:31:01.588Z"
   },
   {
    "duration": 114,
    "start_time": "2021-09-24T13:31:01.605Z"
   },
   {
    "duration": 6,
    "start_time": "2021-09-24T13:31:01.722Z"
   },
   {
    "duration": 52,
    "start_time": "2021-09-24T13:31:01.731Z"
   },
   {
    "duration": 38,
    "start_time": "2021-09-24T13:31:01.786Z"
   },
   {
    "duration": 25,
    "start_time": "2021-09-24T13:31:01.826Z"
   },
   {
    "duration": 49,
    "start_time": "2021-09-24T13:31:01.853Z"
   },
   {
    "duration": 22,
    "start_time": "2021-09-24T13:31:01.904Z"
   },
   {
    "duration": 30,
    "start_time": "2021-09-24T13:31:01.928Z"
   },
   {
    "duration": 10,
    "start_time": "2021-09-24T13:31:09.386Z"
   },
   {
    "duration": 750,
    "start_time": "2021-09-24T13:31:10.485Z"
   },
   {
    "duration": 544,
    "start_time": "2021-09-24T13:32:24.163Z"
   },
   {
    "duration": 8,
    "start_time": "2021-09-24T13:33:11.547Z"
   },
   {
    "duration": 8,
    "start_time": "2021-09-24T13:33:45.530Z"
   },
   {
    "duration": 6,
    "start_time": "2021-09-24T15:12:38.120Z"
   },
   {
    "duration": 14,
    "start_time": "2021-09-24T15:12:38.128Z"
   },
   {
    "duration": 446,
    "start_time": "2021-09-24T15:12:38.145Z"
   },
   {
    "duration": 7,
    "start_time": "2021-09-24T15:12:38.594Z"
   },
   {
    "duration": 12,
    "start_time": "2021-09-24T15:12:38.604Z"
   },
   {
    "duration": 7,
    "start_time": "2021-09-24T15:12:38.619Z"
   },
   {
    "duration": 274,
    "start_time": "2021-09-24T15:12:38.629Z"
   },
   {
    "duration": 83,
    "start_time": "2021-09-24T15:12:38.907Z"
   },
   {
    "duration": 88,
    "start_time": "2021-09-24T15:12:38.993Z"
   },
   {
    "duration": 243,
    "start_time": "2021-09-24T15:12:39.084Z"
   },
   {
    "duration": 269,
    "start_time": "2021-09-24T15:12:39.329Z"
   },
   {
    "duration": 235,
    "start_time": "2021-09-24T15:12:39.601Z"
   },
   {
    "duration": 244,
    "start_time": "2021-09-24T15:12:39.839Z"
   },
   {
    "duration": 38,
    "start_time": "2021-09-24T15:12:40.086Z"
   },
   {
    "duration": 89,
    "start_time": "2021-09-24T15:12:40.127Z"
   },
   {
    "duration": 55,
    "start_time": "2021-09-24T15:12:40.219Z"
   },
   {
    "duration": 8,
    "start_time": "2021-09-24T15:12:40.277Z"
   },
   {
    "duration": 15,
    "start_time": "2021-09-24T15:12:40.288Z"
   },
   {
    "duration": 62,
    "start_time": "2021-09-24T15:12:40.306Z"
   },
   {
    "duration": 25,
    "start_time": "2021-09-24T15:12:40.371Z"
   },
   {
    "duration": 9,
    "start_time": "2021-09-24T15:12:40.398Z"
   },
   {
    "duration": 27,
    "start_time": "2021-09-24T15:12:40.409Z"
   },
   {
    "duration": 831,
    "start_time": "2021-09-24T15:12:40.444Z"
   },
   {
    "duration": 90,
    "start_time": "2021-09-24T15:12:41.278Z"
   },
   {
    "duration": 15,
    "start_time": "2021-09-24T15:12:41.370Z"
   },
   {
    "duration": 8,
    "start_time": "2021-09-24T15:12:41.387Z"
   },
   {
    "duration": 17,
    "start_time": "2021-09-24T15:12:41.397Z"
   },
   {
    "duration": 65,
    "start_time": "2021-09-24T15:12:41.417Z"
   },
   {
    "duration": 66,
    "start_time": "2021-09-24T15:12:41.484Z"
   },
   {
    "duration": 27,
    "start_time": "2021-09-24T15:12:41.553Z"
   },
   {
    "duration": 108,
    "start_time": "2021-09-24T15:12:41.582Z"
   },
   {
    "duration": 6,
    "start_time": "2021-09-24T15:12:41.692Z"
   },
   {
    "duration": 14,
    "start_time": "2021-09-24T15:12:41.702Z"
   },
   {
    "duration": 13,
    "start_time": "2021-09-24T15:12:41.719Z"
   },
   {
    "duration": 43,
    "start_time": "2021-09-24T15:12:41.735Z"
   },
   {
    "duration": 13,
    "start_time": "2021-09-24T15:12:41.780Z"
   },
   {
    "duration": 29,
    "start_time": "2021-09-24T15:12:41.796Z"
   },
   {
    "duration": 25,
    "start_time": "2021-09-24T15:12:41.827Z"
   },
   {
    "duration": 206,
    "start_time": "2021-09-24T15:12:41.855Z"
   },
   {
    "duration": 15,
    "start_time": "2021-09-24T15:12:42.063Z"
   },
   {
    "duration": 66,
    "start_time": "2021-09-24T15:12:42.081Z"
   },
   {
    "duration": 34,
    "start_time": "2021-09-24T15:12:42.150Z"
   },
   {
    "duration": 89,
    "start_time": "2021-09-24T15:12:42.187Z"
   },
   {
    "duration": 5,
    "start_time": "2021-09-24T15:12:42.278Z"
   },
   {
    "duration": 21,
    "start_time": "2021-09-24T15:12:42.285Z"
   },
   {
    "duration": 43,
    "start_time": "2021-09-24T15:12:42.308Z"
   },
   {
    "duration": 18,
    "start_time": "2021-09-24T15:12:42.354Z"
   },
   {
    "duration": 9,
    "start_time": "2021-09-24T15:12:42.375Z"
   },
   {
    "duration": 148,
    "start_time": "2021-09-24T15:12:42.386Z"
   },
   {
    "duration": 132,
    "start_time": "2021-09-24T15:12:42.538Z"
   },
   {
    "duration": 123,
    "start_time": "2021-09-24T15:12:42.672Z"
   },
   {
    "duration": 1445,
    "start_time": "2021-09-25T16:30:56.749Z"
   },
   {
    "duration": 6,
    "start_time": "2021-09-25T16:30:58.196Z"
   },
   {
    "duration": 390,
    "start_time": "2021-09-25T16:30:58.204Z"
   },
   {
    "duration": 5,
    "start_time": "2021-09-25T16:30:58.595Z"
   },
   {
    "duration": 7,
    "start_time": "2021-09-25T16:30:58.602Z"
   },
   {
    "duration": 6,
    "start_time": "2021-09-25T16:30:58.610Z"
   },
   {
    "duration": 191,
    "start_time": "2021-09-25T16:30:58.618Z"
   },
   {
    "duration": 43,
    "start_time": "2021-09-25T16:30:58.813Z"
   },
   {
    "duration": 64,
    "start_time": "2021-09-25T16:30:58.859Z"
   },
   {
    "duration": 186,
    "start_time": "2021-09-25T16:30:58.924Z"
   },
   {
    "duration": 159,
    "start_time": "2021-09-25T16:30:59.112Z"
   },
   {
    "duration": 147,
    "start_time": "2021-09-25T16:30:59.273Z"
   },
   {
    "duration": 157,
    "start_time": "2021-09-25T16:30:59.421Z"
   },
   {
    "duration": 26,
    "start_time": "2021-09-25T16:30:59.580Z"
   },
   {
    "duration": 31,
    "start_time": "2021-09-25T16:30:59.608Z"
   },
   {
    "duration": 22,
    "start_time": "2021-09-25T16:30:59.641Z"
   },
   {
    "duration": 7,
    "start_time": "2021-09-25T16:30:59.664Z"
   },
   {
    "duration": 34,
    "start_time": "2021-09-25T16:30:59.673Z"
   },
   {
    "duration": 23,
    "start_time": "2021-09-25T16:30:59.708Z"
   },
   {
    "duration": 16,
    "start_time": "2021-09-25T16:30:59.732Z"
   },
   {
    "duration": 9,
    "start_time": "2021-09-25T16:30:59.750Z"
   },
   {
    "duration": 8,
    "start_time": "2021-09-25T16:30:59.760Z"
   },
   {
    "duration": 447,
    "start_time": "2021-09-25T16:30:59.772Z"
   },
   {
    "duration": 51,
    "start_time": "2021-09-25T16:31:00.221Z"
   },
   {
    "duration": 27,
    "start_time": "2021-09-25T16:31:00.274Z"
   },
   {
    "duration": 13,
    "start_time": "2021-09-25T16:31:00.302Z"
   },
   {
    "duration": 17,
    "start_time": "2021-09-25T16:31:00.317Z"
   },
   {
    "duration": 23,
    "start_time": "2021-09-25T16:31:00.336Z"
   },
   {
    "duration": 65,
    "start_time": "2021-09-25T16:31:00.361Z"
   },
   {
    "duration": 9,
    "start_time": "2021-09-25T16:31:00.427Z"
   },
   {
    "duration": 70,
    "start_time": "2021-09-25T16:31:00.438Z"
   },
   {
    "duration": 5,
    "start_time": "2021-09-25T16:31:00.510Z"
   },
   {
    "duration": 12,
    "start_time": "2021-09-25T16:31:00.517Z"
   },
   {
    "duration": 11,
    "start_time": "2021-09-25T16:31:00.531Z"
   },
   {
    "duration": 12,
    "start_time": "2021-09-25T16:31:00.543Z"
   },
   {
    "duration": 12,
    "start_time": "2021-09-25T16:31:00.557Z"
   },
   {
    "duration": 15,
    "start_time": "2021-09-25T16:31:00.570Z"
   },
   {
    "duration": 21,
    "start_time": "2021-09-25T16:31:00.587Z"
   },
   {
    "duration": 528,
    "start_time": "2021-09-25T16:31:00.610Z"
   },
   {
    "duration": 10,
    "start_time": "2021-09-25T16:31:01.139Z"
   },
   {
    "duration": 73,
    "start_time": "2021-09-25T16:31:01.150Z"
   },
   {
    "duration": 9,
    "start_time": "2021-09-25T16:31:01.225Z"
   },
   {
    "duration": 114,
    "start_time": "2021-09-25T16:31:01.236Z"
   },
   {
    "duration": 3,
    "start_time": "2021-09-25T16:31:01.351Z"
   },
   {
    "duration": 26,
    "start_time": "2021-09-25T16:31:01.356Z"
   },
   {
    "duration": 34,
    "start_time": "2021-09-25T16:31:01.384Z"
   },
   {
    "duration": 21,
    "start_time": "2021-09-25T16:31:01.420Z"
   },
   {
    "duration": 11,
    "start_time": "2021-09-25T16:31:01.443Z"
   },
   {
    "duration": 78,
    "start_time": "2021-09-25T16:31:01.455Z"
   },
   {
    "duration": 80,
    "start_time": "2021-09-25T16:31:01.535Z"
   },
   {
    "duration": 190,
    "start_time": "2021-09-25T16:31:01.616Z"
   },
   {
    "duration": 2094,
    "start_time": "2021-09-26T14:19:43.733Z"
   },
   {
    "duration": 7,
    "start_time": "2021-09-26T14:19:45.830Z"
   },
   {
    "duration": 939,
    "start_time": "2021-09-26T14:19:45.841Z"
   },
   {
    "duration": 7,
    "start_time": "2021-09-26T14:19:46.783Z"
   },
   {
    "duration": 8,
    "start_time": "2021-09-26T14:19:46.793Z"
   },
   {
    "duration": 16,
    "start_time": "2021-09-26T14:19:46.803Z"
   },
   {
    "duration": 404,
    "start_time": "2021-09-26T14:19:46.823Z"
   },
   {
    "duration": 123,
    "start_time": "2021-09-26T14:19:47.234Z"
   },
   {
    "duration": 139,
    "start_time": "2021-09-26T14:19:47.363Z"
   },
   {
    "duration": 389,
    "start_time": "2021-09-26T14:19:47.506Z"
   },
   {
    "duration": 432,
    "start_time": "2021-09-26T14:19:47.899Z"
   },
   {
    "duration": 378,
    "start_time": "2021-09-26T14:19:48.334Z"
   },
   {
    "duration": 358,
    "start_time": "2021-09-26T14:19:48.718Z"
   },
   {
    "duration": 61,
    "start_time": "2021-09-26T14:19:49.080Z"
   },
   {
    "duration": 86,
    "start_time": "2021-09-26T14:19:49.145Z"
   },
   {
    "duration": 51,
    "start_time": "2021-09-26T14:19:49.234Z"
   },
   {
    "duration": 30,
    "start_time": "2021-09-26T14:19:49.288Z"
   },
   {
    "duration": 17,
    "start_time": "2021-09-26T14:19:49.321Z"
   },
   {
    "duration": 31,
    "start_time": "2021-09-26T14:19:49.341Z"
   },
   {
    "duration": 55,
    "start_time": "2021-09-26T14:19:49.375Z"
   },
   {
    "duration": 6,
    "start_time": "2021-09-26T14:19:49.433Z"
   },
   {
    "duration": 14,
    "start_time": "2021-09-26T14:19:49.442Z"
   },
   {
    "duration": 740,
    "start_time": "2021-09-26T14:19:49.462Z"
   },
   {
    "duration": 88,
    "start_time": "2021-09-26T14:19:50.206Z"
   },
   {
    "duration": 28,
    "start_time": "2021-09-26T14:19:50.297Z"
   },
   {
    "duration": 8,
    "start_time": "2021-09-26T14:19:50.328Z"
   },
   {
    "duration": 17,
    "start_time": "2021-09-26T14:19:50.338Z"
   },
   {
    "duration": 75,
    "start_time": "2021-09-26T14:19:50.358Z"
   },
   {
    "duration": 87,
    "start_time": "2021-09-26T14:19:50.435Z"
   },
   {
    "duration": 13,
    "start_time": "2021-09-26T14:19:50.525Z"
   },
   {
    "duration": 105,
    "start_time": "2021-09-26T14:19:50.541Z"
   },
   {
    "duration": 8,
    "start_time": "2021-09-26T14:19:50.649Z"
   },
   {
    "duration": 13,
    "start_time": "2021-09-26T14:19:50.659Z"
   },
   {
    "duration": 10,
    "start_time": "2021-09-26T14:19:50.674Z"
   },
   {
    "duration": 13,
    "start_time": "2021-09-26T14:19:50.717Z"
   },
   {
    "duration": 11,
    "start_time": "2021-09-26T14:19:50.733Z"
   },
   {
    "duration": 7,
    "start_time": "2021-09-26T14:19:50.747Z"
   },
   {
    "duration": 9,
    "start_time": "2021-09-26T14:19:50.756Z"
   },
   {
    "duration": 811,
    "start_time": "2021-09-26T14:19:50.767Z"
   },
   {
    "duration": 9645,
    "start_time": "2021-09-26T14:29:22.692Z"
   },
   {
    "duration": 950,
    "start_time": "2021-09-26T14:31:14.207Z"
   },
   {
    "duration": 399,
    "start_time": "2021-09-26T14:33:18.616Z"
   },
   {
    "duration": 1494,
    "start_time": "2021-09-26T14:34:45.314Z"
   },
   {
    "duration": 410,
    "start_time": "2021-09-26T14:35:02.990Z"
   },
   {
    "duration": 6,
    "start_time": "2021-09-26T14:39:27.130Z"
   },
   {
    "duration": 11,
    "start_time": "2021-09-26T14:39:27.140Z"
   },
   {
    "duration": 391,
    "start_time": "2021-09-26T14:39:27.155Z"
   },
   {
    "duration": 9,
    "start_time": "2021-09-26T14:39:27.550Z"
   },
   {
    "duration": 7,
    "start_time": "2021-09-26T14:39:27.562Z"
   },
   {
    "duration": 11,
    "start_time": "2021-09-26T14:39:27.573Z"
   },
   {
    "duration": 388,
    "start_time": "2021-09-26T14:39:27.619Z"
   },
   {
    "duration": 127,
    "start_time": "2021-09-26T14:39:28.019Z"
   },
   {
    "duration": 104,
    "start_time": "2021-09-26T14:39:28.149Z"
   },
   {
    "duration": 272,
    "start_time": "2021-09-26T14:39:28.256Z"
   },
   {
    "duration": 428,
    "start_time": "2021-09-26T14:39:28.530Z"
   },
   {
    "duration": 245,
    "start_time": "2021-09-26T14:39:28.961Z"
   },
   {
    "duration": 240,
    "start_time": "2021-09-26T14:39:29.209Z"
   },
   {
    "duration": 41,
    "start_time": "2021-09-26T14:39:29.452Z"
   },
   {
    "duration": 93,
    "start_time": "2021-09-26T14:39:29.496Z"
   },
   {
    "duration": 68,
    "start_time": "2021-09-26T14:39:29.593Z"
   },
   {
    "duration": 15,
    "start_time": "2021-09-26T14:39:29.665Z"
   },
   {
    "duration": 49,
    "start_time": "2021-09-26T14:39:29.684Z"
   },
   {
    "duration": 30,
    "start_time": "2021-09-26T14:39:29.741Z"
   },
   {
    "duration": 55,
    "start_time": "2021-09-26T14:39:29.775Z"
   },
   {
    "duration": 7,
    "start_time": "2021-09-26T14:39:29.833Z"
   },
   {
    "duration": 21,
    "start_time": "2021-09-26T14:39:29.843Z"
   },
   {
    "duration": 1367,
    "start_time": "2021-09-26T14:39:29.867Z"
   },
   {
    "duration": 130,
    "start_time": "2021-09-26T14:39:31.237Z"
   },
   {
    "duration": 22,
    "start_time": "2021-09-26T14:39:31.370Z"
   },
   {
    "duration": 23,
    "start_time": "2021-09-26T14:39:31.395Z"
   },
   {
    "duration": 23,
    "start_time": "2021-09-26T14:39:31.421Z"
   },
   {
    "duration": 37,
    "start_time": "2021-09-26T14:39:31.447Z"
   },
   {
    "duration": 96,
    "start_time": "2021-09-26T14:39:31.486Z"
   },
   {
    "duration": 39,
    "start_time": "2021-09-26T14:39:31.585Z"
   },
   {
    "duration": 104,
    "start_time": "2021-09-26T14:39:31.627Z"
   },
   {
    "duration": 9,
    "start_time": "2021-09-26T14:39:31.735Z"
   },
   {
    "duration": 18,
    "start_time": "2021-09-26T14:39:31.748Z"
   },
   {
    "duration": 11,
    "start_time": "2021-09-26T14:39:31.769Z"
   },
   {
    "duration": 13,
    "start_time": "2021-09-26T14:39:31.816Z"
   },
   {
    "duration": 12,
    "start_time": "2021-09-26T14:39:31.832Z"
   },
   {
    "duration": 11,
    "start_time": "2021-09-26T14:39:31.847Z"
   },
   {
    "duration": 64,
    "start_time": "2021-09-26T14:39:31.860Z"
   },
   {
    "duration": 203,
    "start_time": "2021-09-26T14:39:31.927Z"
   },
   {
    "duration": 210,
    "start_time": "2021-09-26T14:39:32.133Z"
   },
   {
    "duration": 945,
    "start_time": "2021-09-26T14:39:31.400Z"
   },
   {
    "duration": 940,
    "start_time": "2021-09-26T14:39:31.407Z"
   },
   {
    "duration": 934,
    "start_time": "2021-09-26T14:39:31.414Z"
   },
   {
    "duration": 929,
    "start_time": "2021-09-26T14:39:31.420Z"
   },
   {
    "duration": 926,
    "start_time": "2021-09-26T14:39:31.425Z"
   },
   {
    "duration": 924,
    "start_time": "2021-09-26T14:39:31.428Z"
   },
   {
    "duration": 922,
    "start_time": "2021-09-26T14:39:31.432Z"
   },
   {
    "duration": 920,
    "start_time": "2021-09-26T14:39:31.435Z"
   },
   {
    "duration": 918,
    "start_time": "2021-09-26T14:39:31.438Z"
   },
   {
    "duration": 915,
    "start_time": "2021-09-26T14:39:31.443Z"
   },
   {
    "duration": 904,
    "start_time": "2021-09-26T14:39:31.455Z"
   },
   {
    "duration": 900,
    "start_time": "2021-09-26T14:39:31.461Z"
   },
   {
    "duration": 7,
    "start_time": "2021-09-26T14:40:06.417Z"
   },
   {
    "duration": 13,
    "start_time": "2021-09-26T14:40:06.427Z"
   },
   {
    "duration": 659,
    "start_time": "2021-09-26T14:40:06.443Z"
   },
   {
    "duration": 11,
    "start_time": "2021-09-26T14:40:07.105Z"
   },
   {
    "duration": 8,
    "start_time": "2021-09-26T14:40:07.120Z"
   },
   {
    "duration": 11,
    "start_time": "2021-09-26T14:40:07.130Z"
   },
   {
    "duration": 376,
    "start_time": "2021-09-26T14:40:07.143Z"
   },
   {
    "duration": 123,
    "start_time": "2021-09-26T14:40:07.525Z"
   },
   {
    "duration": 143,
    "start_time": "2021-09-26T14:40:07.652Z"
   },
   {
    "duration": 397,
    "start_time": "2021-09-26T14:40:07.798Z"
   },
   {
    "duration": 440,
    "start_time": "2021-09-26T14:40:08.199Z"
   },
   {
    "duration": 388,
    "start_time": "2021-09-26T14:40:08.642Z"
   },
   {
    "duration": 339,
    "start_time": "2021-09-26T14:40:09.033Z"
   },
   {
    "duration": 44,
    "start_time": "2021-09-26T14:40:09.374Z"
   },
   {
    "duration": 48,
    "start_time": "2021-09-26T14:40:09.420Z"
   },
   {
    "duration": 56,
    "start_time": "2021-09-26T14:40:09.470Z"
   },
   {
    "duration": 9,
    "start_time": "2021-09-26T14:40:09.529Z"
   },
   {
    "duration": 18,
    "start_time": "2021-09-26T14:40:09.540Z"
   },
   {
    "duration": 77,
    "start_time": "2021-09-26T14:40:09.560Z"
   },
   {
    "duration": 41,
    "start_time": "2021-09-26T14:40:09.641Z"
   },
   {
    "duration": 7,
    "start_time": "2021-09-26T14:40:09.685Z"
   },
   {
    "duration": 6,
    "start_time": "2021-09-26T14:40:09.715Z"
   },
   {
    "duration": 774,
    "start_time": "2021-09-26T14:40:09.728Z"
   },
   {
    "duration": 81,
    "start_time": "2021-09-26T14:40:10.505Z"
   },
   {
    "duration": 32,
    "start_time": "2021-09-26T14:40:10.589Z"
   },
   {
    "duration": 12,
    "start_time": "2021-09-26T14:40:10.624Z"
   },
   {
    "duration": 23,
    "start_time": "2021-09-26T14:40:10.639Z"
   },
   {
    "duration": 66,
    "start_time": "2021-09-26T14:40:10.666Z"
   },
   {
    "duration": 91,
    "start_time": "2021-09-26T14:40:10.735Z"
   },
   {
    "duration": 16,
    "start_time": "2021-09-26T14:40:10.829Z"
   },
   {
    "duration": 120,
    "start_time": "2021-09-26T14:40:10.847Z"
   },
   {
    "duration": 8,
    "start_time": "2021-09-26T14:40:10.969Z"
   },
   {
    "duration": 9,
    "start_time": "2021-09-26T14:40:10.980Z"
   },
   {
    "duration": 10,
    "start_time": "2021-09-26T14:40:11.018Z"
   },
   {
    "duration": 12,
    "start_time": "2021-09-26T14:40:11.030Z"
   },
   {
    "duration": 13,
    "start_time": "2021-09-26T14:40:11.045Z"
   },
   {
    "duration": 59,
    "start_time": "2021-09-26T14:40:11.060Z"
   },
   {
    "duration": 19,
    "start_time": "2021-09-26T14:40:11.121Z"
   },
   {
    "duration": 294,
    "start_time": "2021-09-26T14:40:11.142Z"
   },
   {
    "duration": 151,
    "start_time": "2021-09-26T14:40:11.439Z"
   },
   {
    "duration": 1008,
    "start_time": "2021-09-26T14:40:10.585Z"
   },
   {
    "duration": 1007,
    "start_time": "2021-09-26T14:40:10.588Z"
   },
   {
    "duration": 1007,
    "start_time": "2021-09-26T14:40:10.591Z"
   },
   {
    "duration": 1007,
    "start_time": "2021-09-26T14:40:10.593Z"
   },
   {
    "duration": 1006,
    "start_time": "2021-09-26T14:40:10.596Z"
   },
   {
    "duration": 1005,
    "start_time": "2021-09-26T14:40:10.599Z"
   },
   {
    "duration": 1005,
    "start_time": "2021-09-26T14:40:10.601Z"
   },
   {
    "duration": 1003,
    "start_time": "2021-09-26T14:40:10.605Z"
   },
   {
    "duration": 1002,
    "start_time": "2021-09-26T14:40:10.609Z"
   },
   {
    "duration": 1002,
    "start_time": "2021-09-26T14:40:10.611Z"
   },
   {
    "duration": 998,
    "start_time": "2021-09-26T14:40:10.618Z"
   },
   {
    "duration": 995,
    "start_time": "2021-09-26T14:40:10.622Z"
   },
   {
    "duration": 4,
    "start_time": "2021-09-26T14:40:27.009Z"
   },
   {
    "duration": 15,
    "start_time": "2021-09-26T14:40:28.415Z"
   },
   {
    "duration": 45,
    "start_time": "2021-09-26T14:40:28.646Z"
   },
   {
    "duration": 16,
    "start_time": "2021-09-26T14:40:30.415Z"
   },
   {
    "duration": 74,
    "start_time": "2021-09-26T14:40:30.726Z"
   },
   {
    "duration": 5,
    "start_time": "2021-09-26T14:40:31.073Z"
   },
   {
    "duration": 6,
    "start_time": "2021-09-26T14:40:31.357Z"
   },
   {
    "duration": 33,
    "start_time": "2021-09-26T14:40:32.089Z"
   },
   {
    "duration": 11,
    "start_time": "2021-09-26T14:40:33.202Z"
   },
   {
    "duration": 9,
    "start_time": "2021-09-26T14:40:34.457Z"
   },
   {
    "duration": 146,
    "start_time": "2021-09-26T14:40:34.923Z"
   },
   {
    "duration": 108,
    "start_time": "2021-09-26T14:40:36.483Z"
   },
   {
    "duration": 112,
    "start_time": "2021-09-26T14:40:38.106Z"
   },
   {
    "duration": 7350,
    "start_time": "2021-09-26T14:40:43.443Z"
   },
   {
    "duration": 1015,
    "start_time": "2021-09-26T15:15:18.994Z"
   },
   {
    "duration": 1013,
    "start_time": "2021-09-26T15:15:18.998Z"
   },
   {
    "duration": 1006,
    "start_time": "2021-09-26T15:15:19.006Z"
   },
   {
    "duration": 1004,
    "start_time": "2021-09-26T15:15:19.009Z"
   },
   {
    "duration": 1004,
    "start_time": "2021-09-26T15:15:19.011Z"
   },
   {
    "duration": 1002,
    "start_time": "2021-09-26T15:15:19.014Z"
   },
   {
    "duration": 1000,
    "start_time": "2021-09-26T15:15:19.017Z"
   },
   {
    "duration": 999,
    "start_time": "2021-09-26T15:15:19.020Z"
   },
   {
    "duration": 998,
    "start_time": "2021-09-26T15:15:19.022Z"
   },
   {
    "duration": 996,
    "start_time": "2021-09-26T15:15:19.025Z"
   },
   {
    "duration": 996,
    "start_time": "2021-09-26T15:15:19.027Z"
   },
   {
    "duration": 993,
    "start_time": "2021-09-26T15:15:19.031Z"
   },
   {
    "duration": 992,
    "start_time": "2021-09-26T15:15:19.034Z"
   },
   {
    "duration": 990,
    "start_time": "2021-09-26T15:15:19.037Z"
   },
   {
    "duration": 988,
    "start_time": "2021-09-26T15:15:19.040Z"
   },
   {
    "duration": 986,
    "start_time": "2021-09-26T15:15:19.043Z"
   },
   {
    "duration": 985,
    "start_time": "2021-09-26T15:15:19.046Z"
   },
   {
    "duration": 982,
    "start_time": "2021-09-26T15:15:19.050Z"
   },
   {
    "duration": 980,
    "start_time": "2021-09-26T15:15:19.053Z"
   },
   {
    "duration": 977,
    "start_time": "2021-09-26T15:15:19.057Z"
   },
   {
    "duration": 974,
    "start_time": "2021-09-26T15:15:19.062Z"
   },
   {
    "duration": 955,
    "start_time": "2021-09-26T15:15:19.082Z"
   },
   {
    "duration": 953,
    "start_time": "2021-09-26T15:15:19.085Z"
   },
   {
    "duration": 951,
    "start_time": "2021-09-26T15:15:19.088Z"
   },
   {
    "duration": 949,
    "start_time": "2021-09-26T15:15:19.091Z"
   },
   {
    "duration": 949,
    "start_time": "2021-09-26T15:15:19.093Z"
   },
   {
    "duration": 947,
    "start_time": "2021-09-26T15:15:19.096Z"
   },
   {
    "duration": 945,
    "start_time": "2021-09-26T15:15:19.099Z"
   },
   {
    "duration": 943,
    "start_time": "2021-09-26T15:15:19.102Z"
   },
   {
    "duration": 941,
    "start_time": "2021-09-26T15:15:19.105Z"
   },
   {
    "duration": 940,
    "start_time": "2021-09-26T15:15:19.107Z"
   },
   {
    "duration": 939,
    "start_time": "2021-09-26T15:15:19.110Z"
   },
   {
    "duration": 937,
    "start_time": "2021-09-26T15:15:19.113Z"
   },
   {
    "duration": 933,
    "start_time": "2021-09-26T15:15:19.118Z"
   },
   {
    "duration": 930,
    "start_time": "2021-09-26T15:15:19.123Z"
   },
   {
    "duration": 927,
    "start_time": "2021-09-26T15:15:19.127Z"
   },
   {
    "duration": 924,
    "start_time": "2021-09-26T15:15:19.131Z"
   },
   {
    "duration": 987,
    "start_time": "2021-09-26T15:15:19.135Z"
   },
   {
    "duration": 985,
    "start_time": "2021-09-26T15:15:19.138Z"
   },
   {
    "duration": 983,
    "start_time": "2021-09-26T15:15:19.142Z"
   },
   {
    "duration": 979,
    "start_time": "2021-09-26T15:15:19.147Z"
   },
   {
    "duration": 976,
    "start_time": "2021-09-26T15:15:19.151Z"
   },
   {
    "duration": 976,
    "start_time": "2021-09-26T15:15:19.153Z"
   },
   {
    "duration": 974,
    "start_time": "2021-09-26T15:15:19.156Z"
   },
   {
    "duration": 973,
    "start_time": "2021-09-26T15:15:19.158Z"
   },
   {
    "duration": 972,
    "start_time": "2021-09-26T15:15:19.160Z"
   },
   {
    "duration": 970,
    "start_time": "2021-09-26T15:15:19.163Z"
   },
   {
    "duration": 970,
    "start_time": "2021-09-26T15:15:19.165Z"
   },
   {
    "duration": 969,
    "start_time": "2021-09-26T15:15:19.168Z"
   },
   {
    "duration": 968,
    "start_time": "2021-09-26T15:15:19.170Z"
   },
   {
    "duration": 959,
    "start_time": "2021-09-26T15:15:19.180Z"
   },
   {
    "duration": 958,
    "start_time": "2021-09-26T15:15:19.182Z"
   },
   {
    "duration": 957,
    "start_time": "2021-09-26T15:15:19.185Z"
   },
   {
    "duration": 6,
    "start_time": "2021-09-26T15:15:42.541Z"
   },
   {
    "duration": 10,
    "start_time": "2021-09-26T15:15:42.551Z"
   },
   {
    "duration": 683,
    "start_time": "2021-09-26T15:15:42.565Z"
   },
   {
    "duration": 10,
    "start_time": "2021-09-26T15:15:43.253Z"
   },
   {
    "duration": 8,
    "start_time": "2021-09-26T15:15:43.266Z"
   },
   {
    "duration": 16,
    "start_time": "2021-09-26T15:15:43.278Z"
   },
   {
    "duration": 372,
    "start_time": "2021-09-26T15:15:43.318Z"
   },
   {
    "duration": 103,
    "start_time": "2021-09-26T15:15:43.697Z"
   },
   {
    "duration": 115,
    "start_time": "2021-09-26T15:15:43.804Z"
   },
   {
    "duration": 248,
    "start_time": "2021-09-26T15:15:43.922Z"
   },
   {
    "duration": 276,
    "start_time": "2021-09-26T15:15:44.172Z"
   },
   {
    "duration": 238,
    "start_time": "2021-09-26T15:15:44.450Z"
   },
   {
    "duration": 237,
    "start_time": "2021-09-26T15:15:44.691Z"
   },
   {
    "duration": 34,
    "start_time": "2021-09-26T15:15:44.931Z"
   },
   {
    "duration": 67,
    "start_time": "2021-09-26T15:15:44.968Z"
   },
   {
    "duration": 32,
    "start_time": "2021-09-26T15:15:45.037Z"
   },
   {
    "duration": 8,
    "start_time": "2021-09-26T15:15:45.071Z"
   },
   {
    "duration": 44,
    "start_time": "2021-09-26T15:15:45.082Z"
   },
   {
    "duration": 27,
    "start_time": "2021-09-26T15:15:45.129Z"
   },
   {
    "duration": 58,
    "start_time": "2021-09-26T15:15:45.159Z"
   },
   {
    "duration": 7,
    "start_time": "2021-09-26T15:15:45.220Z"
   },
   {
    "duration": 9,
    "start_time": "2021-09-26T15:15:45.231Z"
   },
   {
    "duration": 734,
    "start_time": "2021-09-26T15:15:45.248Z"
   },
   {
    "duration": 91,
    "start_time": "2021-09-26T15:15:45.986Z"
   },
   {
    "duration": 20,
    "start_time": "2021-09-26T15:15:46.079Z"
   },
   {
    "duration": 7,
    "start_time": "2021-09-26T15:15:46.117Z"
   },
   {
    "duration": 21,
    "start_time": "2021-09-26T15:15:46.127Z"
   },
   {
    "duration": 32,
    "start_time": "2021-09-26T15:15:46.150Z"
   },
   {
    "duration": 94,
    "start_time": "2021-09-26T15:15:46.185Z"
   },
   {
    "duration": 14,
    "start_time": "2021-09-26T15:15:46.281Z"
   },
   {
    "duration": 79,
    "start_time": "2021-09-26T15:15:46.316Z"
   },
   {
    "duration": 22,
    "start_time": "2021-09-26T15:15:46.397Z"
   },
   {
    "duration": 9,
    "start_time": "2021-09-26T15:15:46.421Z"
   },
   {
    "duration": 12,
    "start_time": "2021-09-26T15:15:46.432Z"
   },
   {
    "duration": 15,
    "start_time": "2021-09-26T15:15:46.448Z"
   },
   {
    "duration": 60,
    "start_time": "2021-09-26T15:15:46.466Z"
   },
   {
    "duration": 11,
    "start_time": "2021-09-26T15:15:46.529Z"
   },
   {
    "duration": 21,
    "start_time": "2021-09-26T15:15:46.543Z"
   },
   {
    "duration": 368,
    "start_time": "2021-09-26T15:15:46.567Z"
   },
   {
    "duration": 2,
    "start_time": "2021-09-26T15:15:46.938Z"
   },
   {
    "duration": 23,
    "start_time": "2021-09-26T15:15:46.942Z"
   },
   {
    "duration": 69,
    "start_time": "2021-09-26T15:15:46.967Z"
   },
   {
    "duration": 19,
    "start_time": "2021-09-26T15:15:47.038Z"
   },
   {
    "duration": 100,
    "start_time": "2021-09-26T15:15:47.061Z"
   },
   {
    "duration": 6,
    "start_time": "2021-09-26T15:15:47.165Z"
   },
   {
    "duration": 23,
    "start_time": "2021-09-26T15:15:47.174Z"
   },
   {
    "duration": 46,
    "start_time": "2021-09-26T15:15:47.200Z"
   },
   {
    "duration": 23,
    "start_time": "2021-09-26T15:15:47.249Z"
   },
   {
    "duration": 15,
    "start_time": "2021-09-26T15:15:47.275Z"
   },
   {
    "duration": 127,
    "start_time": "2021-09-26T15:15:47.293Z"
   },
   {
    "duration": 122,
    "start_time": "2021-09-26T15:15:47.423Z"
   },
   {
    "duration": 126,
    "start_time": "2021-09-26T15:15:47.547Z"
   },
   {
    "duration": 11399,
    "start_time": "2021-09-26T15:15:54.007Z"
   },
   {
    "duration": 418,
    "start_time": "2021-09-26T15:16:22.021Z"
   },
   {
    "duration": 410,
    "start_time": "2021-09-26T15:24:02.511Z"
   },
   {
    "duration": 11079,
    "start_time": "2021-09-26T15:51:42.515Z"
   },
   {
    "duration": 420,
    "start_time": "2021-09-26T15:55:47.985Z"
   },
   {
    "duration": 424,
    "start_time": "2021-09-26T15:55:55.694Z"
   },
   {
    "duration": 2085,
    "start_time": "2021-09-26T16:00:05.152Z"
   },
   {
    "duration": 176,
    "start_time": "2021-09-26T16:00:34.442Z"
   },
   {
    "duration": 443,
    "start_time": "2021-09-26T16:00:39.157Z"
   },
   {
    "duration": 10,
    "start_time": "2021-09-26T16:10:55.551Z"
   },
   {
    "duration": 28,
    "start_time": "2021-09-26T16:11:29.574Z"
   },
   {
    "duration": 23,
    "start_time": "2021-09-26T16:11:37.059Z"
   },
   {
    "duration": 164,
    "start_time": "2021-09-26T16:11:58.089Z"
   },
   {
    "duration": 285,
    "start_time": "2021-09-26T16:12:08.269Z"
   },
   {
    "duration": 697,
    "start_time": "2021-09-26T16:12:24.122Z"
   },
   {
    "duration": 451,
    "start_time": "2021-09-26T16:12:36.654Z"
   },
   {
    "duration": 178,
    "start_time": "2021-09-26T16:29:12.629Z"
   },
   {
    "duration": 3,
    "start_time": "2021-09-26T16:47:47.082Z"
   },
   {
    "duration": 9976,
    "start_time": "2021-09-26T16:47:52.109Z"
   },
   {
    "duration": 8579,
    "start_time": "2021-09-26T16:48:48.780Z"
   },
   {
    "duration": 7,
    "start_time": "2021-09-26T17:03:24.201Z"
   },
   {
    "duration": 14,
    "start_time": "2021-09-26T17:03:24.210Z"
   },
   {
    "duration": 779,
    "start_time": "2021-09-26T17:03:24.227Z"
   },
   {
    "duration": 15,
    "start_time": "2021-09-26T17:03:25.009Z"
   },
   {
    "duration": 7,
    "start_time": "2021-09-26T17:03:25.026Z"
   },
   {
    "duration": 7,
    "start_time": "2021-09-26T17:03:25.036Z"
   },
   {
    "duration": 254,
    "start_time": "2021-09-26T17:03:25.046Z"
   },
   {
    "duration": 67,
    "start_time": "2021-09-26T17:03:25.316Z"
   },
   {
    "duration": 92,
    "start_time": "2021-09-26T17:03:25.387Z"
   },
   {
    "duration": 260,
    "start_time": "2021-09-26T17:03:25.481Z"
   },
   {
    "duration": 258,
    "start_time": "2021-09-26T17:03:25.744Z"
   },
   {
    "duration": 231,
    "start_time": "2021-09-26T17:03:26.004Z"
   },
   {
    "duration": 225,
    "start_time": "2021-09-26T17:03:26.238Z"
   },
   {
    "duration": 32,
    "start_time": "2021-09-26T17:03:26.465Z"
   },
   {
    "duration": 55,
    "start_time": "2021-09-26T17:03:26.499Z"
   },
   {
    "duration": 30,
    "start_time": "2021-09-26T17:03:26.557Z"
   },
   {
    "duration": 29,
    "start_time": "2021-09-26T17:03:26.589Z"
   },
   {
    "duration": 15,
    "start_time": "2021-09-26T17:03:26.621Z"
   },
   {
    "duration": 25,
    "start_time": "2021-09-26T17:03:26.638Z"
   },
   {
    "duration": 51,
    "start_time": "2021-09-26T17:03:26.665Z"
   },
   {
    "duration": 5,
    "start_time": "2021-09-26T17:03:26.720Z"
   },
   {
    "duration": 8,
    "start_time": "2021-09-26T17:03:26.728Z"
   },
   {
    "duration": 713,
    "start_time": "2021-09-26T17:03:26.741Z"
   },
   {
    "duration": 79,
    "start_time": "2021-09-26T17:03:27.456Z"
   },
   {
    "duration": 15,
    "start_time": "2021-09-26T17:03:27.538Z"
   },
   {
    "duration": 7,
    "start_time": "2021-09-26T17:03:27.555Z"
   },
   {
    "duration": 53,
    "start_time": "2021-09-26T17:03:27.565Z"
   },
   {
    "duration": 32,
    "start_time": "2021-09-26T17:03:27.620Z"
   },
   {
    "duration": 84,
    "start_time": "2021-09-26T17:03:27.655Z"
   },
   {
    "duration": 14,
    "start_time": "2021-09-26T17:03:27.741Z"
   },
   {
    "duration": 103,
    "start_time": "2021-09-26T17:03:27.757Z"
   },
   {
    "duration": 6,
    "start_time": "2021-09-26T17:03:27.863Z"
   },
   {
    "duration": 12,
    "start_time": "2021-09-26T17:03:27.871Z"
   },
   {
    "duration": 9,
    "start_time": "2021-09-26T17:03:27.885Z"
   },
   {
    "duration": 10,
    "start_time": "2021-09-26T17:03:27.917Z"
   },
   {
    "duration": 12,
    "start_time": "2021-09-26T17:03:27.929Z"
   },
   {
    "duration": 6,
    "start_time": "2021-09-26T17:03:27.944Z"
   },
   {
    "duration": 10,
    "start_time": "2021-09-26T17:03:27.952Z"
   },
   {
    "duration": 218,
    "start_time": "2021-09-26T17:03:27.964Z"
   },
   {
    "duration": 12715,
    "start_time": "2021-09-26T17:03:44.087Z"
   },
   {
    "duration": 4,
    "start_time": "2021-09-26T18:35:32.949Z"
   },
   {
    "duration": 1219,
    "start_time": "2021-09-26T18:36:11.057Z"
   },
   {
    "duration": 5,
    "start_time": "2021-09-26T18:36:51.788Z"
   },
   {
    "duration": 5,
    "start_time": "2021-09-26T18:37:30.316Z"
   },
   {
    "duration": 591,
    "start_time": "2021-09-26T18:42:41.657Z"
   },
   {
    "duration": 17,
    "start_time": "2021-09-26T18:42:53.932Z"
   },
   {
    "duration": 522,
    "start_time": "2021-09-26T18:43:54.397Z"
   },
   {
    "duration": 180,
    "start_time": "2021-09-26T18:44:46.305Z"
   },
   {
    "duration": 19,
    "start_time": "2021-09-26T18:44:50.420Z"
   },
   {
    "duration": 45,
    "start_time": "2021-09-26T18:45:10.621Z"
   },
   {
    "duration": 421,
    "start_time": "2021-09-26T18:45:15.069Z"
   },
   {
    "duration": 454,
    "start_time": "2021-09-26T18:45:18.633Z"
   },
   {
    "duration": 17,
    "start_time": "2021-09-26T18:45:46.511Z"
   },
   {
    "duration": 9,
    "start_time": "2021-09-26T18:46:19.563Z"
   },
   {
    "duration": 22,
    "start_time": "2021-09-26T18:46:26.007Z"
   },
   {
    "duration": 204,
    "start_time": "2021-09-26T19:11:14.777Z"
   },
   {
    "duration": 557,
    "start_time": "2021-09-26T19:11:20.281Z"
   },
   {
    "duration": 10,
    "start_time": "2021-09-26T19:15:21.370Z"
   },
   {
    "duration": 15,
    "start_time": "2021-09-26T19:15:44.908Z"
   },
   {
    "duration": 21,
    "start_time": "2021-09-26T19:16:44.881Z"
   },
   {
    "duration": 424,
    "start_time": "2021-09-26T19:20:30.732Z"
   },
   {
    "duration": 137,
    "start_time": "2021-09-26T19:20:35.751Z"
   },
   {
    "duration": 10,
    "start_time": "2021-09-26T19:20:42.956Z"
   },
   {
    "duration": 138,
    "start_time": "2021-09-26T19:20:45.267Z"
   },
   {
    "duration": 47,
    "start_time": "2021-09-26T19:21:59.615Z"
   },
   {
    "duration": 8,
    "start_time": "2021-09-26T19:22:50.799Z"
   },
   {
    "duration": 68,
    "start_time": "2021-09-26T19:22:56.730Z"
   },
   {
    "duration": 21,
    "start_time": "2021-09-26T19:23:51.824Z"
   },
   {
    "duration": 45,
    "start_time": "2021-09-26T19:23:53.410Z"
   },
   {
    "duration": 14,
    "start_time": "2021-09-26T19:24:03.566Z"
   },
   {
    "duration": 61,
    "start_time": "2021-09-26T19:24:05.902Z"
   },
   {
    "duration": 10,
    "start_time": "2021-09-26T19:24:18.483Z"
   },
   {
    "duration": 45,
    "start_time": "2021-09-26T19:24:19.025Z"
   },
   {
    "duration": 22,
    "start_time": "2021-09-26T19:28:03.907Z"
   },
   {
    "duration": 12374,
    "start_time": "2021-09-26T19:28:04.707Z"
   },
   {
    "duration": 472,
    "start_time": "2021-09-26T19:28:47.440Z"
   },
   {
    "duration": 503,
    "start_time": "2021-09-26T19:29:05.866Z"
   },
   {
    "duration": 46,
    "start_time": "2021-09-26T19:29:12.400Z"
   },
   {
    "duration": 8950,
    "start_time": "2021-09-26T19:29:21.980Z"
   },
   {
    "duration": 46,
    "start_time": "2021-09-26T19:29:44.294Z"
   },
   {
    "duration": 563,
    "start_time": "2021-09-26T19:33:00.025Z"
   },
   {
    "duration": 459,
    "start_time": "2021-09-26T19:39:41.513Z"
   },
   {
    "duration": 11522,
    "start_time": "2021-09-26T19:39:59.093Z"
   },
   {
    "duration": 391,
    "start_time": "2021-09-27T06:47:34.767Z"
   },
   {
    "duration": 1848,
    "start_time": "2021-09-27T06:47:39.077Z"
   },
   {
    "duration": 5,
    "start_time": "2021-09-27T06:47:40.927Z"
   },
   {
    "duration": 400,
    "start_time": "2021-09-27T06:47:40.933Z"
   },
   {
    "duration": 9,
    "start_time": "2021-09-27T06:47:41.335Z"
   },
   {
    "duration": 5,
    "start_time": "2021-09-27T06:47:41.346Z"
   },
   {
    "duration": 13,
    "start_time": "2021-09-27T06:47:41.352Z"
   },
   {
    "duration": 179,
    "start_time": "2021-09-27T06:47:41.367Z"
   },
   {
    "duration": 44,
    "start_time": "2021-09-27T06:47:41.548Z"
   },
   {
    "duration": 58,
    "start_time": "2021-09-27T06:47:41.594Z"
   },
   {
    "duration": 172,
    "start_time": "2021-09-27T06:47:41.654Z"
   },
   {
    "duration": 162,
    "start_time": "2021-09-27T06:47:41.845Z"
   },
   {
    "duration": 159,
    "start_time": "2021-09-27T06:47:42.009Z"
   },
   {
    "duration": 159,
    "start_time": "2021-09-27T06:47:42.170Z"
   },
   {
    "duration": 29,
    "start_time": "2021-09-27T06:47:42.331Z"
   },
   {
    "duration": 31,
    "start_time": "2021-09-27T06:47:42.362Z"
   },
   {
    "duration": 22,
    "start_time": "2021-09-27T06:47:42.396Z"
   },
   {
    "duration": 28,
    "start_time": "2021-09-27T06:47:42.420Z"
   },
   {
    "duration": 11,
    "start_time": "2021-09-27T06:47:42.450Z"
   },
   {
    "duration": 19,
    "start_time": "2021-09-27T06:47:42.462Z"
   },
   {
    "duration": 17,
    "start_time": "2021-09-27T06:47:42.483Z"
   },
   {
    "duration": 4,
    "start_time": "2021-09-27T06:47:42.502Z"
   },
   {
    "duration": 37,
    "start_time": "2021-09-27T06:47:42.508Z"
   },
   {
    "duration": 447,
    "start_time": "2021-09-27T06:47:42.548Z"
   },
   {
    "duration": 56,
    "start_time": "2021-09-27T06:47:42.997Z"
   },
   {
    "duration": 9,
    "start_time": "2021-09-27T06:47:43.054Z"
   },
   {
    "duration": 7,
    "start_time": "2021-09-27T06:47:43.065Z"
   },
   {
    "duration": 13,
    "start_time": "2021-09-27T06:47:43.073Z"
   },
   {
    "duration": 21,
    "start_time": "2021-09-27T06:47:43.088Z"
   },
   {
    "duration": 73,
    "start_time": "2021-09-27T06:47:43.111Z"
   },
   {
    "duration": 8,
    "start_time": "2021-09-27T06:47:43.186Z"
   },
   {
    "duration": 71,
    "start_time": "2021-09-27T06:47:43.196Z"
   },
   {
    "duration": 6,
    "start_time": "2021-09-27T06:47:43.269Z"
   },
   {
    "duration": 8,
    "start_time": "2021-09-27T06:47:43.277Z"
   },
   {
    "duration": 7,
    "start_time": "2021-09-27T06:47:43.286Z"
   },
   {
    "duration": 7,
    "start_time": "2021-09-27T06:47:43.294Z"
   },
   {
    "duration": 8,
    "start_time": "2021-09-27T06:47:43.303Z"
   },
   {
    "duration": 33,
    "start_time": "2021-09-27T06:47:43.313Z"
   },
   {
    "duration": 12,
    "start_time": "2021-09-27T06:47:43.348Z"
   },
   {
    "duration": 504,
    "start_time": "2021-09-27T06:47:43.361Z"
   },
   {
    "duration": 6,
    "start_time": "2021-09-27T06:48:48.994Z"
   },
   {
    "duration": 391,
    "start_time": "2021-09-27T06:49:48.517Z"
   },
   {
    "duration": 274,
    "start_time": "2021-09-27T06:50:02.309Z"
   },
   {
    "duration": 288,
    "start_time": "2021-09-27T06:50:30.565Z"
   },
   {
    "duration": 1241,
    "start_time": "2021-09-27T06:50:44.974Z"
   },
   {
    "duration": 7,
    "start_time": "2021-09-27T06:50:58.366Z"
   },
   {
    "duration": 7,
    "start_time": "2021-09-27T07:05:10.747Z"
   },
   {
    "duration": 7,
    "start_time": "2021-09-27T07:07:08.189Z"
   },
   {
    "duration": 90,
    "start_time": "2021-09-27T07:11:46.557Z"
   },
   {
    "duration": 302,
    "start_time": "2021-09-27T07:11:55.740Z"
   },
   {
    "duration": 4,
    "start_time": "2021-09-27T07:12:07.337Z"
   },
   {
    "duration": 8,
    "start_time": "2021-09-27T07:12:07.343Z"
   },
   {
    "duration": 569,
    "start_time": "2021-09-27T07:12:07.353Z"
   },
   {
    "duration": 4,
    "start_time": "2021-09-27T07:12:07.924Z"
   },
   {
    "duration": 8,
    "start_time": "2021-09-27T07:12:07.930Z"
   },
   {
    "duration": 8,
    "start_time": "2021-09-27T07:12:07.939Z"
   },
   {
    "duration": 162,
    "start_time": "2021-09-27T07:12:07.950Z"
   },
   {
    "duration": 58,
    "start_time": "2021-09-27T07:12:08.114Z"
   },
   {
    "duration": 47,
    "start_time": "2021-09-27T07:12:08.173Z"
   },
   {
    "duration": 163,
    "start_time": "2021-09-27T07:12:08.222Z"
   },
   {
    "duration": 171,
    "start_time": "2021-09-27T07:12:08.387Z"
   },
   {
    "duration": 148,
    "start_time": "2021-09-27T07:12:08.559Z"
   },
   {
    "duration": 155,
    "start_time": "2021-09-27T07:12:08.709Z"
   },
   {
    "duration": 22,
    "start_time": "2021-09-27T07:12:08.866Z"
   },
   {
    "duration": 34,
    "start_time": "2021-09-27T07:12:08.890Z"
   },
   {
    "duration": 39,
    "start_time": "2021-09-27T07:12:08.926Z"
   },
   {
    "duration": 7,
    "start_time": "2021-09-27T07:12:08.966Z"
   },
   {
    "duration": 11,
    "start_time": "2021-09-27T07:12:08.974Z"
   },
   {
    "duration": 18,
    "start_time": "2021-09-27T07:12:08.989Z"
   },
   {
    "duration": 38,
    "start_time": "2021-09-27T07:12:09.010Z"
   },
   {
    "duration": 3,
    "start_time": "2021-09-27T07:12:09.050Z"
   },
   {
    "duration": 9,
    "start_time": "2021-09-27T07:12:09.055Z"
   },
   {
    "duration": 510,
    "start_time": "2021-09-27T07:12:09.065Z"
   },
   {
    "duration": 47,
    "start_time": "2021-09-27T07:12:09.577Z"
   },
   {
    "duration": 23,
    "start_time": "2021-09-27T07:12:09.625Z"
   },
   {
    "duration": 7,
    "start_time": "2021-09-27T07:12:09.649Z"
   },
   {
    "duration": 15,
    "start_time": "2021-09-27T07:12:09.657Z"
   },
   {
    "duration": 22,
    "start_time": "2021-09-27T07:12:09.673Z"
   },
   {
    "duration": 68,
    "start_time": "2021-09-27T07:12:09.696Z"
   },
   {
    "duration": 10,
    "start_time": "2021-09-27T07:12:09.766Z"
   },
   {
    "duration": 68,
    "start_time": "2021-09-27T07:12:09.777Z"
   },
   {
    "duration": 5,
    "start_time": "2021-09-27T07:12:09.846Z"
   },
   {
    "duration": 7,
    "start_time": "2021-09-27T07:12:09.853Z"
   },
   {
    "duration": 8,
    "start_time": "2021-09-27T07:12:09.861Z"
   },
   {
    "duration": 7,
    "start_time": "2021-09-27T07:12:09.871Z"
   },
   {
    "duration": 9,
    "start_time": "2021-09-27T07:12:09.880Z"
   },
   {
    "duration": 5,
    "start_time": "2021-09-27T07:12:09.890Z"
   },
   {
    "duration": 13,
    "start_time": "2021-09-27T07:12:09.896Z"
   },
   {
    "duration": 157,
    "start_time": "2021-09-27T07:12:09.911Z"
   },
   {
    "duration": 6,
    "start_time": "2021-09-27T07:12:10.069Z"
   },
   {
    "duration": 9,
    "start_time": "2021-09-27T07:12:10.077Z"
   },
   {
    "duration": 33,
    "start_time": "2021-09-27T07:12:10.088Z"
   },
   {
    "duration": 32,
    "start_time": "2021-09-27T07:12:10.122Z"
   },
   {
    "duration": 46,
    "start_time": "2021-09-27T07:12:10.156Z"
   },
   {
    "duration": 3,
    "start_time": "2021-09-27T07:12:10.204Z"
   },
   {
    "duration": 9,
    "start_time": "2021-09-27T07:12:10.209Z"
   },
   {
    "duration": 44,
    "start_time": "2021-09-27T07:12:10.220Z"
   },
   {
    "duration": 16,
    "start_time": "2021-09-27T07:12:10.266Z"
   },
   {
    "duration": 8,
    "start_time": "2021-09-27T07:12:10.284Z"
   },
   {
    "duration": 81,
    "start_time": "2021-09-27T07:12:10.293Z"
   },
   {
    "duration": 76,
    "start_time": "2021-09-27T07:12:10.376Z"
   },
   {
    "duration": 70,
    "start_time": "2021-09-27T07:12:10.454Z"
   },
   {
    "duration": 28,
    "start_time": "2021-09-27T07:12:10.526Z"
   },
   {
    "duration": 12,
    "start_time": "2021-09-27T07:12:10.556Z"
   },
   {
    "duration": 28,
    "start_time": "2021-09-27T07:12:10.573Z"
   },
   {
    "duration": 297,
    "start_time": "2021-09-27T07:12:19.868Z"
   },
   {
    "duration": 48,
    "start_time": "2021-09-27T07:16:05.470Z"
   },
   {
    "duration": 648,
    "start_time": "2021-09-27T07:17:54.722Z"
   },
   {
    "duration": 373,
    "start_time": "2021-09-27T07:27:06.199Z"
   },
   {
    "duration": 375,
    "start_time": "2021-09-27T07:27:12.427Z"
   },
   {
    "duration": 265,
    "start_time": "2021-09-27T07:30:24.846Z"
   },
   {
    "duration": 295,
    "start_time": "2021-09-27T07:30:34.374Z"
   },
   {
    "duration": 3,
    "start_time": "2021-09-27T07:30:43.565Z"
   },
   {
    "duration": 4,
    "start_time": "2021-09-27T07:30:54.461Z"
   },
   {
    "duration": 277,
    "start_time": "2021-09-27T07:31:21.677Z"
   },
   {
    "duration": 20,
    "start_time": "2021-09-27T07:33:14.433Z"
   },
   {
    "duration": 297,
    "start_time": "2021-09-27T07:33:39.184Z"
   },
   {
    "duration": 17,
    "start_time": "2021-09-27T07:35:09.299Z"
   },
   {
    "duration": 11,
    "start_time": "2021-09-27T07:35:15.762Z"
   },
   {
    "duration": 6,
    "start_time": "2021-09-27T07:35:29.436Z"
   },
   {
    "duration": 17,
    "start_time": "2021-09-27T07:35:49.386Z"
   },
   {
    "duration": 19,
    "start_time": "2021-09-27T07:36:02.267Z"
   },
   {
    "duration": 19,
    "start_time": "2021-09-27T07:36:11.984Z"
   },
   {
    "duration": 27,
    "start_time": "2021-09-27T07:36:34.708Z"
   },
   {
    "duration": 19,
    "start_time": "2021-09-27T07:38:15.082Z"
   },
   {
    "duration": 19,
    "start_time": "2021-09-27T07:40:07.992Z"
   },
   {
    "duration": 18,
    "start_time": "2021-09-27T07:41:37.984Z"
   },
   {
    "duration": 963,
    "start_time": "2021-09-27T07:41:53.066Z"
   },
   {
    "duration": 36,
    "start_time": "2021-09-27T07:42:04.073Z"
   },
   {
    "duration": 16,
    "start_time": "2021-09-27T07:53:04.948Z"
   },
   {
    "duration": 50,
    "start_time": "2021-09-27T07:53:14.929Z"
   },
   {
    "duration": 47,
    "start_time": "2021-09-27T07:53:26.043Z"
   },
   {
    "duration": 37,
    "start_time": "2021-09-27T07:54:00.641Z"
   },
   {
    "duration": 40,
    "start_time": "2021-09-27T07:54:55.714Z"
   },
   {
    "duration": 40,
    "start_time": "2021-09-27T07:55:00.865Z"
   },
   {
    "duration": 20,
    "start_time": "2021-09-27T07:55:08.685Z"
   },
   {
    "duration": 16,
    "start_time": "2021-09-27T07:55:09.558Z"
   },
   {
    "duration": 5,
    "start_time": "2021-09-27T07:55:42.942Z"
   },
   {
    "duration": 23,
    "start_time": "2021-09-27T07:55:47.275Z"
   },
   {
    "duration": 47,
    "start_time": "2021-09-27T08:02:16.199Z"
   },
   {
    "duration": 7606,
    "start_time": "2021-09-27T08:04:09.792Z"
   },
   {
    "duration": 327,
    "start_time": "2021-09-27T08:04:32.116Z"
   },
   {
    "duration": 39,
    "start_time": "2021-09-27T08:05:21.188Z"
   },
   {
    "duration": 540,
    "start_time": "2021-09-27T08:05:37.677Z"
   },
   {
    "duration": 8048,
    "start_time": "2021-09-27T08:05:58.047Z"
   },
   {
    "duration": 9318,
    "start_time": "2021-09-27T08:06:15.892Z"
   },
   {
    "duration": 38,
    "start_time": "2021-09-27T08:07:40.760Z"
   },
   {
    "duration": 6,
    "start_time": "2021-09-27T08:13:08.411Z"
   },
   {
    "duration": 276,
    "start_time": "2021-09-27T08:13:40.540Z"
   },
   {
    "duration": 8148,
    "start_time": "2021-09-27T08:13:59.171Z"
   },
   {
    "duration": 540,
    "start_time": "2021-09-27T08:14:24.812Z"
   },
   {
    "duration": 5,
    "start_time": "2021-09-27T08:15:54.776Z"
   },
   {
    "duration": 583,
    "start_time": "2021-09-27T08:15:59.893Z"
   },
   {
    "duration": 33,
    "start_time": "2021-09-27T08:17:43.312Z"
   },
   {
    "duration": 20,
    "start_time": "2021-09-27T08:17:48.210Z"
   },
   {
    "duration": 16,
    "start_time": "2021-09-27T08:17:49.302Z"
   },
   {
    "duration": 31,
    "start_time": "2021-09-27T08:17:54.532Z"
   },
   {
    "duration": 47,
    "start_time": "2021-09-27T08:19:05.796Z"
   },
   {
    "duration": 6,
    "start_time": "2021-09-27T08:19:12.672Z"
   },
   {
    "duration": 6895,
    "start_time": "2021-09-27T08:19:27.828Z"
   },
   {
    "duration": 273,
    "start_time": "2021-09-27T08:20:44.911Z"
   },
   {
    "duration": 7,
    "start_time": "2021-09-27T08:20:53.670Z"
   },
   {
    "duration": 5,
    "start_time": "2021-09-27T08:23:40.938Z"
   },
   {
    "duration": 6765,
    "start_time": "2021-09-27T08:23:41.868Z"
   },
   {
    "duration": 6,
    "start_time": "2021-09-27T08:24:27.955Z"
   },
   {
    "duration": 68,
    "start_time": "2021-09-27T08:24:28.837Z"
   },
   {
    "duration": 6,
    "start_time": "2021-09-27T08:25:06.892Z"
   },
   {
    "duration": 8005,
    "start_time": "2021-09-27T08:25:07.593Z"
   },
   {
    "duration": 25,
    "start_time": "2021-09-27T08:28:17.841Z"
   },
   {
    "duration": 20,
    "start_time": "2021-09-27T08:28:22.418Z"
   },
   {
    "duration": 11,
    "start_time": "2021-09-27T08:28:23.990Z"
   },
   {
    "duration": 10,
    "start_time": "2021-09-27T08:28:25.655Z"
   },
   {
    "duration": 35,
    "start_time": "2021-09-27T08:28:31.070Z"
   },
   {
    "duration": 7,
    "start_time": "2021-09-27T08:28:33.246Z"
   },
   {
    "duration": 5,
    "start_time": "2021-09-27T08:28:35.335Z"
   },
   {
    "duration": 8213,
    "start_time": "2021-09-27T08:28:40.113Z"
   },
   {
    "duration": 27,
    "start_time": "2021-09-27T08:30:00.311Z"
   },
   {
    "duration": 16,
    "start_time": "2021-09-27T08:30:12.475Z"
   },
   {
    "duration": 17,
    "start_time": "2021-09-27T08:30:33.251Z"
   },
   {
    "duration": 10,
    "start_time": "2021-09-27T08:30:35.163Z"
   },
   {
    "duration": 15,
    "start_time": "2021-09-27T08:30:42.442Z"
   },
   {
    "duration": 14,
    "start_time": "2021-09-27T08:31:10.059Z"
   },
   {
    "duration": 17,
    "start_time": "2021-09-27T08:31:21.798Z"
   },
   {
    "duration": 11,
    "start_time": "2021-09-27T08:31:50.021Z"
   },
   {
    "duration": 27,
    "start_time": "2021-09-27T08:46:20.018Z"
   },
   {
    "duration": 12,
    "start_time": "2021-09-27T08:46:22.927Z"
   },
   {
    "duration": 4,
    "start_time": "2021-09-27T08:46:44.607Z"
   },
   {
    "duration": 8,
    "start_time": "2021-09-27T08:46:44.613Z"
   },
   {
    "duration": 452,
    "start_time": "2021-09-27T08:46:44.623Z"
   },
   {
    "duration": 4,
    "start_time": "2021-09-27T08:46:45.077Z"
   },
   {
    "duration": 13,
    "start_time": "2021-09-27T08:46:45.083Z"
   },
   {
    "duration": 9,
    "start_time": "2021-09-27T08:46:45.097Z"
   },
   {
    "duration": 167,
    "start_time": "2021-09-27T08:46:45.107Z"
   },
   {
    "duration": 41,
    "start_time": "2021-09-27T08:46:45.280Z"
   },
   {
    "duration": 64,
    "start_time": "2021-09-27T08:46:45.323Z"
   },
   {
    "duration": 189,
    "start_time": "2021-09-27T08:46:45.389Z"
   },
   {
    "duration": 165,
    "start_time": "2021-09-27T08:46:45.580Z"
   },
   {
    "duration": 149,
    "start_time": "2021-09-27T08:46:45.747Z"
   },
   {
    "duration": 152,
    "start_time": "2021-09-27T08:46:45.898Z"
   },
   {
    "duration": 23,
    "start_time": "2021-09-27T08:46:46.052Z"
   },
   {
    "duration": 32,
    "start_time": "2021-09-27T08:46:46.077Z"
   },
   {
    "duration": 38,
    "start_time": "2021-09-27T08:46:46.111Z"
   },
   {
    "duration": 8,
    "start_time": "2021-09-27T08:46:46.151Z"
   },
   {
    "duration": 12,
    "start_time": "2021-09-27T08:46:46.160Z"
   },
   {
    "duration": 22,
    "start_time": "2021-09-27T08:46:46.174Z"
   },
   {
    "duration": 17,
    "start_time": "2021-09-27T08:46:46.198Z"
   },
   {
    "duration": 4,
    "start_time": "2021-09-27T08:46:46.216Z"
   },
   {
    "duration": 23,
    "start_time": "2021-09-27T08:46:46.222Z"
   },
   {
    "duration": 408,
    "start_time": "2021-09-27T08:46:46.249Z"
   },
   {
    "duration": 44,
    "start_time": "2021-09-27T08:46:46.659Z"
   },
   {
    "duration": 10,
    "start_time": "2021-09-27T08:46:46.705Z"
   },
   {
    "duration": 28,
    "start_time": "2021-09-27T08:46:46.716Z"
   },
   {
    "duration": 10,
    "start_time": "2021-09-27T08:46:46.746Z"
   },
   {
    "duration": 22,
    "start_time": "2021-09-27T08:46:46.758Z"
   },
   {
    "duration": 63,
    "start_time": "2021-09-27T08:46:46.782Z"
   },
   {
    "duration": 8,
    "start_time": "2021-09-27T08:46:46.847Z"
   },
   {
    "duration": 59,
    "start_time": "2021-09-27T08:46:46.857Z"
   },
   {
    "duration": 4,
    "start_time": "2021-09-27T08:46:46.918Z"
   },
   {
    "duration": 22,
    "start_time": "2021-09-27T08:46:46.924Z"
   },
   {
    "duration": 7,
    "start_time": "2021-09-27T08:46:46.947Z"
   },
   {
    "duration": 11,
    "start_time": "2021-09-27T08:46:46.956Z"
   },
   {
    "duration": 14,
    "start_time": "2021-09-27T08:46:46.969Z"
   },
   {
    "duration": 8,
    "start_time": "2021-09-27T08:46:46.984Z"
   },
   {
    "duration": 12,
    "start_time": "2021-09-27T08:46:46.994Z"
   },
   {
    "duration": 126,
    "start_time": "2021-09-27T08:46:47.008Z"
   },
   {
    "duration": 12,
    "start_time": "2021-09-27T08:46:47.136Z"
   },
   {
    "duration": 12,
    "start_time": "2021-09-27T08:46:47.150Z"
   },
   {
    "duration": 45,
    "start_time": "2021-09-27T08:46:47.164Z"
   },
   {
    "duration": 9,
    "start_time": "2021-09-27T08:46:47.210Z"
   },
   {
    "duration": 52,
    "start_time": "2021-09-27T08:46:47.220Z"
   },
   {
    "duration": 3,
    "start_time": "2021-09-27T08:46:47.274Z"
   },
   {
    "duration": 15,
    "start_time": "2021-09-27T08:46:47.278Z"
   },
   {
    "duration": 29,
    "start_time": "2021-09-27T08:46:47.295Z"
   },
   {
    "duration": 12,
    "start_time": "2021-09-27T08:46:47.326Z"
   },
   {
    "duration": 11,
    "start_time": "2021-09-27T08:46:47.340Z"
   },
   {
    "duration": 84,
    "start_time": "2021-09-27T08:46:47.352Z"
   },
   {
    "duration": 70,
    "start_time": "2021-09-27T08:46:47.437Z"
   },
   {
    "duration": 82,
    "start_time": "2021-09-27T08:46:47.508Z"
   },
   {
    "duration": 10,
    "start_time": "2021-09-27T08:46:47.592Z"
   },
   {
    "duration": 16,
    "start_time": "2021-09-27T08:46:47.604Z"
   },
   {
    "duration": 15,
    "start_time": "2021-09-27T08:46:52.298Z"
   },
   {
    "duration": 22,
    "start_time": "2021-09-27T08:46:53.555Z"
   },
   {
    "duration": 24,
    "start_time": "2021-09-27T08:47:23.943Z"
   },
   {
    "duration": 17,
    "start_time": "2021-09-27T08:53:59.729Z"
   },
   {
    "duration": 24,
    "start_time": "2021-09-27T08:54:01.522Z"
   },
   {
    "duration": 26,
    "start_time": "2021-09-27T08:54:07.913Z"
   },
   {
    "duration": 12,
    "start_time": "2021-09-27T08:54:13.792Z"
   },
   {
    "duration": 18,
    "start_time": "2021-09-27T08:54:26.016Z"
   },
   {
    "duration": 11,
    "start_time": "2021-09-27T08:54:27.392Z"
   },
   {
    "duration": 5,
    "start_time": "2021-09-27T08:54:35.797Z"
   },
   {
    "duration": 12,
    "start_time": "2021-09-27T08:54:35.805Z"
   },
   {
    "duration": 306,
    "start_time": "2021-09-27T08:54:35.819Z"
   },
   {
    "duration": 5,
    "start_time": "2021-09-27T08:54:36.126Z"
   },
   {
    "duration": 23,
    "start_time": "2021-09-27T08:54:36.133Z"
   },
   {
    "duration": 8,
    "start_time": "2021-09-27T08:54:36.158Z"
   },
   {
    "duration": 157,
    "start_time": "2021-09-27T08:54:36.168Z"
   },
   {
    "duration": 57,
    "start_time": "2021-09-27T08:54:36.329Z"
   },
   {
    "duration": 60,
    "start_time": "2021-09-27T08:54:36.388Z"
   },
   {
    "duration": 163,
    "start_time": "2021-09-27T08:54:36.450Z"
   },
   {
    "duration": 170,
    "start_time": "2021-09-27T08:54:36.614Z"
   },
   {
    "duration": 146,
    "start_time": "2021-09-27T08:54:36.786Z"
   },
   {
    "duration": 160,
    "start_time": "2021-09-27T08:54:36.934Z"
   },
   {
    "duration": 21,
    "start_time": "2021-09-27T08:54:37.096Z"
   },
   {
    "duration": 63,
    "start_time": "2021-09-27T08:54:37.119Z"
   },
   {
    "duration": 23,
    "start_time": "2021-09-27T08:54:37.183Z"
   },
   {
    "duration": 13,
    "start_time": "2021-09-27T08:54:37.207Z"
   },
   {
    "duration": 29,
    "start_time": "2021-09-27T08:54:37.222Z"
   },
   {
    "duration": 40,
    "start_time": "2021-09-27T08:54:37.252Z"
   },
   {
    "duration": 38,
    "start_time": "2021-09-27T08:54:37.294Z"
   },
   {
    "duration": 9,
    "start_time": "2021-09-27T08:54:37.333Z"
   },
   {
    "duration": 22,
    "start_time": "2021-09-27T08:54:37.344Z"
   },
   {
    "duration": 435,
    "start_time": "2021-09-27T08:54:37.370Z"
   },
   {
    "duration": 53,
    "start_time": "2021-09-27T08:54:37.807Z"
   },
   {
    "duration": 10,
    "start_time": "2021-09-27T08:54:37.861Z"
   },
   {
    "duration": 17,
    "start_time": "2021-09-27T08:54:37.872Z"
   },
   {
    "duration": 26,
    "start_time": "2021-09-27T08:54:37.890Z"
   },
   {
    "duration": 26,
    "start_time": "2021-09-27T08:54:37.917Z"
   },
   {
    "duration": 47,
    "start_time": "2021-09-27T08:54:37.945Z"
   },
   {
    "duration": 8,
    "start_time": "2021-09-27T08:54:37.994Z"
   },
   {
    "duration": 73,
    "start_time": "2021-09-27T08:54:38.004Z"
   },
   {
    "duration": 4,
    "start_time": "2021-09-27T08:54:38.079Z"
   },
   {
    "duration": 23,
    "start_time": "2021-09-27T08:54:38.085Z"
   },
   {
    "duration": 13,
    "start_time": "2021-09-27T08:54:38.110Z"
   },
   {
    "duration": 20,
    "start_time": "2021-09-27T08:54:38.124Z"
   },
   {
    "duration": 14,
    "start_time": "2021-09-27T08:54:38.146Z"
   },
   {
    "duration": 10,
    "start_time": "2021-09-27T08:54:38.162Z"
   },
   {
    "duration": 15,
    "start_time": "2021-09-27T08:54:38.174Z"
   },
   {
    "duration": 243,
    "start_time": "2021-09-27T08:54:38.191Z"
   },
   {
    "duration": 13,
    "start_time": "2021-09-27T08:54:38.435Z"
   },
   {
    "duration": 23,
    "start_time": "2021-09-27T08:54:38.450Z"
   },
   {
    "duration": 35,
    "start_time": "2021-09-27T08:54:38.475Z"
   },
   {
    "duration": 9,
    "start_time": "2021-09-27T08:54:38.511Z"
   },
   {
    "duration": 53,
    "start_time": "2021-09-27T08:54:38.522Z"
   },
   {
    "duration": 3,
    "start_time": "2021-09-27T08:54:38.577Z"
   },
   {
    "duration": 8,
    "start_time": "2021-09-27T08:54:38.582Z"
   },
   {
    "duration": 37,
    "start_time": "2021-09-27T08:54:38.592Z"
   },
   {
    "duration": 28,
    "start_time": "2021-09-27T08:54:38.630Z"
   },
   {
    "duration": 18,
    "start_time": "2021-09-27T08:54:38.660Z"
   },
   {
    "duration": 93,
    "start_time": "2021-09-27T08:54:38.680Z"
   },
   {
    "duration": 75,
    "start_time": "2021-09-27T08:54:38.774Z"
   },
   {
    "duration": 67,
    "start_time": "2021-09-27T08:54:38.851Z"
   },
   {
    "duration": 9,
    "start_time": "2021-09-27T08:54:38.920Z"
   },
   {
    "duration": 26,
    "start_time": "2021-09-27T08:54:38.931Z"
   },
   {
    "duration": 12,
    "start_time": "2021-09-27T08:54:44.835Z"
   },
   {
    "duration": 25,
    "start_time": "2021-09-27T08:54:46.347Z"
   },
   {
    "duration": 10,
    "start_time": "2021-09-27T08:54:49.018Z"
   },
   {
    "duration": 18,
    "start_time": "2021-09-27T09:48:44.308Z"
   },
   {
    "duration": 10,
    "start_time": "2021-09-27T09:48:45.623Z"
   },
   {
    "duration": 4,
    "start_time": "2021-09-27T09:49:03.774Z"
   },
   {
    "duration": 12,
    "start_time": "2021-09-27T09:49:03.780Z"
   },
   {
    "duration": 427,
    "start_time": "2021-09-27T09:49:03.794Z"
   },
   {
    "duration": 4,
    "start_time": "2021-09-27T09:49:04.223Z"
   },
   {
    "duration": 10,
    "start_time": "2021-09-27T09:49:04.228Z"
   },
   {
    "duration": 8,
    "start_time": "2021-09-27T09:49:04.240Z"
   },
   {
    "duration": 166,
    "start_time": "2021-09-27T09:49:04.250Z"
   },
   {
    "duration": 52,
    "start_time": "2021-09-27T09:49:04.418Z"
   },
   {
    "duration": 49,
    "start_time": "2021-09-27T09:49:04.473Z"
   },
   {
    "duration": 194,
    "start_time": "2021-09-27T09:49:04.524Z"
   },
   {
    "duration": 167,
    "start_time": "2021-09-27T09:49:04.721Z"
   },
   {
    "duration": 162,
    "start_time": "2021-09-27T09:49:04.890Z"
   },
   {
    "duration": 159,
    "start_time": "2021-09-27T09:49:05.055Z"
   },
   {
    "duration": 31,
    "start_time": "2021-09-27T09:49:05.217Z"
   },
   {
    "duration": 33,
    "start_time": "2021-09-27T09:49:05.250Z"
   },
   {
    "duration": 24,
    "start_time": "2021-09-27T09:49:05.285Z"
   },
   {
    "duration": 17,
    "start_time": "2021-09-27T09:49:05.312Z"
   },
   {
    "duration": 12,
    "start_time": "2021-09-27T09:49:05.345Z"
   },
   {
    "duration": 25,
    "start_time": "2021-09-27T09:49:05.360Z"
   },
   {
    "duration": 18,
    "start_time": "2021-09-27T09:49:05.388Z"
   },
   {
    "duration": 4,
    "start_time": "2021-09-27T09:49:05.408Z"
   },
   {
    "duration": 13,
    "start_time": "2021-09-27T09:49:05.413Z"
   },
   {
    "duration": 449,
    "start_time": "2021-09-27T09:49:05.428Z"
   },
   {
    "duration": 51,
    "start_time": "2021-09-27T09:49:05.879Z"
   },
   {
    "duration": 20,
    "start_time": "2021-09-27T09:49:05.932Z"
   },
   {
    "duration": 13,
    "start_time": "2021-09-27T09:49:05.953Z"
   },
   {
    "duration": 17,
    "start_time": "2021-09-27T09:49:05.967Z"
   },
   {
    "duration": 22,
    "start_time": "2021-09-27T09:49:05.986Z"
   },
   {
    "duration": 65,
    "start_time": "2021-09-27T09:49:06.010Z"
   },
   {
    "duration": 10,
    "start_time": "2021-09-27T09:49:06.076Z"
   },
   {
    "duration": 74,
    "start_time": "2021-09-27T09:49:06.087Z"
   },
   {
    "duration": 4,
    "start_time": "2021-09-27T09:49:06.163Z"
   },
   {
    "duration": 20,
    "start_time": "2021-09-27T09:49:06.169Z"
   },
   {
    "duration": 10,
    "start_time": "2021-09-27T09:49:06.191Z"
   },
   {
    "duration": 7,
    "start_time": "2021-09-27T09:49:06.202Z"
   },
   {
    "duration": 7,
    "start_time": "2021-09-27T09:49:06.211Z"
   },
   {
    "duration": 5,
    "start_time": "2021-09-27T09:49:06.220Z"
   },
   {
    "duration": 7,
    "start_time": "2021-09-27T09:49:06.244Z"
   },
   {
    "duration": 123,
    "start_time": "2021-09-27T09:49:06.252Z"
   },
   {
    "duration": 6,
    "start_time": "2021-09-27T09:49:06.377Z"
   },
   {
    "duration": 10,
    "start_time": "2021-09-27T09:49:06.384Z"
   },
   {
    "duration": 49,
    "start_time": "2021-09-27T09:49:06.396Z"
   },
   {
    "duration": 10,
    "start_time": "2021-09-27T09:49:06.447Z"
   },
   {
    "duration": 49,
    "start_time": "2021-09-27T09:49:06.458Z"
   },
   {
    "duration": 4,
    "start_time": "2021-09-27T09:49:06.508Z"
   },
   {
    "duration": 13,
    "start_time": "2021-09-27T09:49:06.513Z"
   },
   {
    "duration": 24,
    "start_time": "2021-09-27T09:49:06.545Z"
   },
   {
    "duration": 12,
    "start_time": "2021-09-27T09:49:06.571Z"
   },
   {
    "duration": 5,
    "start_time": "2021-09-27T09:49:06.585Z"
   },
   {
    "duration": 92,
    "start_time": "2021-09-27T09:49:06.593Z"
   },
   {
    "duration": 87,
    "start_time": "2021-09-27T09:49:06.687Z"
   },
   {
    "duration": 82,
    "start_time": "2021-09-27T09:49:06.776Z"
   },
   {
    "duration": 10,
    "start_time": "2021-09-27T09:49:06.860Z"
   },
   {
    "duration": 16,
    "start_time": "2021-09-27T09:49:06.872Z"
   },
   {
    "duration": 13,
    "start_time": "2021-09-27T09:49:10.512Z"
   },
   {
    "duration": 10,
    "start_time": "2021-09-27T09:49:28.087Z"
   },
   {
    "duration": 5,
    "start_time": "2021-09-27T09:50:01.367Z"
   },
   {
    "duration": 34,
    "start_time": "2021-09-27T09:50:01.374Z"
   },
   {
    "duration": 476,
    "start_time": "2021-09-27T09:50:01.411Z"
   },
   {
    "duration": 5,
    "start_time": "2021-09-27T09:50:01.889Z"
   },
   {
    "duration": 20,
    "start_time": "2021-09-27T09:50:01.896Z"
   },
   {
    "duration": 36,
    "start_time": "2021-09-27T09:50:01.918Z"
   },
   {
    "duration": 201,
    "start_time": "2021-09-27T09:50:01.956Z"
   },
   {
    "duration": 44,
    "start_time": "2021-09-27T09:50:02.159Z"
   },
   {
    "duration": 63,
    "start_time": "2021-09-27T09:50:02.206Z"
   },
   {
    "duration": 188,
    "start_time": "2021-09-27T09:50:02.271Z"
   },
   {
    "duration": 170,
    "start_time": "2021-09-27T09:50:02.461Z"
   },
   {
    "duration": 166,
    "start_time": "2021-09-27T09:50:02.632Z"
   },
   {
    "duration": 168,
    "start_time": "2021-09-27T09:50:02.800Z"
   },
   {
    "duration": 23,
    "start_time": "2021-09-27T09:50:02.970Z"
   },
   {
    "duration": 58,
    "start_time": "2021-09-27T09:50:02.995Z"
   },
   {
    "duration": 48,
    "start_time": "2021-09-27T09:50:03.055Z"
   },
   {
    "duration": 25,
    "start_time": "2021-09-27T09:50:03.105Z"
   },
   {
    "duration": 23,
    "start_time": "2021-09-27T09:50:03.132Z"
   },
   {
    "duration": 38,
    "start_time": "2021-09-27T09:50:03.157Z"
   },
   {
    "duration": 27,
    "start_time": "2021-09-27T09:50:03.197Z"
   },
   {
    "duration": 32,
    "start_time": "2021-09-27T09:50:03.226Z"
   },
   {
    "duration": 57,
    "start_time": "2021-09-27T09:50:03.260Z"
   },
   {
    "duration": 471,
    "start_time": "2021-09-27T09:50:03.318Z"
   },
   {
    "duration": 55,
    "start_time": "2021-09-27T09:50:03.791Z"
   },
   {
    "duration": 13,
    "start_time": "2021-09-27T09:50:03.848Z"
   },
   {
    "duration": 5,
    "start_time": "2021-09-27T09:50:03.863Z"
   },
   {
    "duration": 20,
    "start_time": "2021-09-27T09:50:03.872Z"
   },
   {
    "duration": 28,
    "start_time": "2021-09-27T09:50:03.894Z"
   },
   {
    "duration": 70,
    "start_time": "2021-09-27T09:50:03.924Z"
   },
   {
    "duration": 9,
    "start_time": "2021-09-27T09:50:03.996Z"
   },
   {
    "duration": 75,
    "start_time": "2021-09-27T09:50:04.007Z"
   },
   {
    "duration": 5,
    "start_time": "2021-09-27T09:50:04.083Z"
   },
   {
    "duration": 21,
    "start_time": "2021-09-27T09:50:04.090Z"
   },
   {
    "duration": 8,
    "start_time": "2021-09-27T09:50:04.112Z"
   },
   {
    "duration": 10,
    "start_time": "2021-09-27T09:50:04.122Z"
   },
   {
    "duration": 10,
    "start_time": "2021-09-27T09:50:04.134Z"
   },
   {
    "duration": 9,
    "start_time": "2021-09-27T09:50:04.146Z"
   },
   {
    "duration": 7,
    "start_time": "2021-09-27T09:50:04.160Z"
   },
   {
    "duration": 144,
    "start_time": "2021-09-27T09:50:04.168Z"
   },
   {
    "duration": 6,
    "start_time": "2021-09-27T09:50:04.314Z"
   },
   {
    "duration": 27,
    "start_time": "2021-09-27T09:50:04.321Z"
   },
   {
    "duration": 35,
    "start_time": "2021-09-27T09:50:04.350Z"
   },
   {
    "duration": 10,
    "start_time": "2021-09-27T09:50:04.387Z"
   },
   {
    "duration": 69,
    "start_time": "2021-09-27T09:50:04.399Z"
   },
   {
    "duration": 4,
    "start_time": "2021-09-27T09:50:04.470Z"
   },
   {
    "duration": 32,
    "start_time": "2021-09-27T09:50:04.476Z"
   },
   {
    "duration": 50,
    "start_time": "2021-09-27T09:50:04.510Z"
   },
   {
    "duration": 16,
    "start_time": "2021-09-27T09:50:04.562Z"
   },
   {
    "duration": 18,
    "start_time": "2021-09-27T09:50:04.580Z"
   },
   {
    "duration": 77,
    "start_time": "2021-09-27T09:50:04.600Z"
   },
   {
    "duration": 86,
    "start_time": "2021-09-27T09:50:04.679Z"
   },
   {
    "duration": 84,
    "start_time": "2021-09-27T09:50:04.766Z"
   },
   {
    "duration": 12,
    "start_time": "2021-09-27T09:50:04.852Z"
   },
   {
    "duration": 10,
    "start_time": "2021-09-27T09:50:08.873Z"
   },
   {
    "duration": 10,
    "start_time": "2021-09-27T09:50:10.964Z"
   },
   {
    "duration": 14,
    "start_time": "2021-09-27T09:51:19.021Z"
   },
   {
    "duration": 13,
    "start_time": "2021-09-27T09:51:41.536Z"
   },
   {
    "duration": 13,
    "start_time": "2021-09-27T09:51:51.629Z"
   },
   {
    "duration": 12,
    "start_time": "2021-09-27T09:52:05.986Z"
   },
   {
    "duration": 289,
    "start_time": "2021-09-27T09:52:20.321Z"
   },
   {
    "duration": 51,
    "start_time": "2021-09-27T09:52:31.094Z"
   },
   {
    "duration": 7,
    "start_time": "2021-09-27T09:52:34.832Z"
   },
   {
    "duration": 6,
    "start_time": "2021-09-27T09:52:46.250Z"
   },
   {
    "duration": 593,
    "start_time": "2021-09-27T09:52:51.012Z"
   },
   {
    "duration": 5,
    "start_time": "2021-09-27T09:54:27.139Z"
   },
   {
    "duration": 681,
    "start_time": "2021-09-27T09:54:28.006Z"
   },
   {
    "duration": 289,
    "start_time": "2021-09-27T09:54:58.073Z"
   },
   {
    "duration": 51,
    "start_time": "2021-09-27T09:55:02.249Z"
   },
   {
    "duration": 8,
    "start_time": "2021-09-27T09:55:02.729Z"
   },
   {
    "duration": 7563,
    "start_time": "2021-09-27T09:55:51.299Z"
   },
   {
    "duration": 651,
    "start_time": "2021-09-27T09:56:01.545Z"
   },
   {
    "duration": 612,
    "start_time": "2021-09-27T09:56:16.464Z"
   },
   {
    "duration": 563,
    "start_time": "2021-09-27T09:56:43.237Z"
   },
   {
    "duration": 666,
    "start_time": "2021-09-27T09:56:47.360Z"
   },
   {
    "duration": 598,
    "start_time": "2021-09-27T09:58:02.035Z"
   },
   {
    "duration": 14,
    "start_time": "2021-09-27T09:58:12.360Z"
   },
   {
    "duration": 13,
    "start_time": "2021-09-27T09:58:15.768Z"
   },
   {
    "duration": 42,
    "start_time": "2021-09-27T09:58:24.251Z"
   },
   {
    "duration": 7,
    "start_time": "2021-09-27T09:58:24.657Z"
   },
   {
    "duration": 6,
    "start_time": "2021-09-27T09:58:29.742Z"
   },
   {
    "duration": 740,
    "start_time": "2021-09-27T09:58:54.885Z"
   },
   {
    "duration": 537,
    "start_time": "2021-09-27T09:59:08.011Z"
   },
   {
    "duration": 92,
    "start_time": "2021-09-27T09:59:51.077Z"
   },
   {
    "duration": 98,
    "start_time": "2021-09-27T10:00:11.277Z"
   },
   {
    "duration": 5,
    "start_time": "2021-09-27T10:00:20.637Z"
   },
   {
    "duration": 24,
    "start_time": "2021-09-27T10:00:22.452Z"
   },
   {
    "duration": 45,
    "start_time": "2021-09-27T10:00:33.016Z"
   },
   {
    "duration": 85,
    "start_time": "2021-09-27T10:01:21.525Z"
   },
   {
    "duration": 14,
    "start_time": "2021-09-27T10:04:00.031Z"
   },
   {
    "duration": 13,
    "start_time": "2021-09-27T10:04:01.687Z"
   },
   {
    "duration": 43,
    "start_time": "2021-09-27T10:04:20.964Z"
   },
   {
    "duration": 8,
    "start_time": "2021-09-27T10:04:21.978Z"
   },
   {
    "duration": 14,
    "start_time": "2021-09-27T10:05:13.545Z"
   },
   {
    "duration": 14,
    "start_time": "2021-09-27T10:05:24.067Z"
   },
   {
    "duration": 48,
    "start_time": "2021-09-27T10:05:36.069Z"
   },
   {
    "duration": 7,
    "start_time": "2021-09-27T10:05:38.133Z"
   },
   {
    "duration": 5,
    "start_time": "2021-09-27T10:06:24.262Z"
   },
   {
    "duration": 84,
    "start_time": "2021-09-27T10:06:58.023Z"
   },
   {
    "duration": 4,
    "start_time": "2021-09-27T10:10:48.115Z"
   },
   {
    "duration": 6,
    "start_time": "2021-09-27T10:22:22.504Z"
   },
   {
    "duration": 7,
    "start_time": "2021-09-27T10:23:03.208Z"
   },
   {
    "duration": 6,
    "start_time": "2021-09-27T10:23:04.279Z"
   },
   {
    "duration": 6,
    "start_time": "2021-09-27T10:23:27.634Z"
   },
   {
    "duration": 7,
    "start_time": "2021-09-27T10:23:35.728Z"
   },
   {
    "duration": 7,
    "start_time": "2021-09-27T10:23:47.026Z"
   },
   {
    "duration": 7,
    "start_time": "2021-09-27T10:23:47.659Z"
   },
   {
    "duration": 5,
    "start_time": "2021-09-27T10:24:00.207Z"
   },
   {
    "duration": 13,
    "start_time": "2021-09-27T10:24:00.214Z"
   },
   {
    "duration": 427,
    "start_time": "2021-09-27T10:24:00.229Z"
   },
   {
    "duration": 5,
    "start_time": "2021-09-27T10:24:00.658Z"
   },
   {
    "duration": 21,
    "start_time": "2021-09-27T10:24:00.665Z"
   },
   {
    "duration": 12,
    "start_time": "2021-09-27T10:24:00.688Z"
   },
   {
    "duration": 175,
    "start_time": "2021-09-27T10:24:00.702Z"
   },
   {
    "duration": 47,
    "start_time": "2021-09-27T10:24:00.880Z"
   },
   {
    "duration": 52,
    "start_time": "2021-09-27T10:24:00.945Z"
   },
   {
    "duration": 192,
    "start_time": "2021-09-27T10:24:00.999Z"
   },
   {
    "duration": 182,
    "start_time": "2021-09-27T10:24:01.193Z"
   },
   {
    "duration": 160,
    "start_time": "2021-09-27T10:24:01.377Z"
   },
   {
    "duration": 162,
    "start_time": "2021-09-27T10:24:01.545Z"
   },
   {
    "duration": 25,
    "start_time": "2021-09-27T10:24:01.708Z"
   },
   {
    "duration": 45,
    "start_time": "2021-09-27T10:24:01.745Z"
   },
   {
    "duration": 24,
    "start_time": "2021-09-27T10:24:01.792Z"
   },
   {
    "duration": 39,
    "start_time": "2021-09-27T10:24:01.817Z"
   },
   {
    "duration": 42,
    "start_time": "2021-09-27T10:24:01.858Z"
   },
   {
    "duration": 24,
    "start_time": "2021-09-27T10:24:01.902Z"
   },
   {
    "duration": 24,
    "start_time": "2021-09-27T10:24:01.928Z"
   },
   {
    "duration": 7,
    "start_time": "2021-09-27T10:24:01.954Z"
   },
   {
    "duration": 22,
    "start_time": "2021-09-27T10:24:01.963Z"
   },
   {
    "duration": 600,
    "start_time": "2021-09-27T10:24:01.990Z"
   },
   {
    "duration": 57,
    "start_time": "2021-09-27T10:24:02.594Z"
   },
   {
    "duration": 11,
    "start_time": "2021-09-27T10:24:02.653Z"
   },
   {
    "duration": 9,
    "start_time": "2021-09-27T10:24:02.666Z"
   },
   {
    "duration": 15,
    "start_time": "2021-09-27T10:24:02.677Z"
   },
   {
    "duration": 52,
    "start_time": "2021-09-27T10:24:02.694Z"
   },
   {
    "duration": 50,
    "start_time": "2021-09-27T10:24:02.747Z"
   },
   {
    "duration": 9,
    "start_time": "2021-09-27T10:24:02.799Z"
   },
   {
    "duration": 76,
    "start_time": "2021-09-27T10:24:02.810Z"
   },
   {
    "duration": 5,
    "start_time": "2021-09-27T10:24:02.888Z"
   },
   {
    "duration": 17,
    "start_time": "2021-09-27T10:24:02.895Z"
   },
   {
    "duration": 7,
    "start_time": "2021-09-27T10:24:02.914Z"
   },
   {
    "duration": 27,
    "start_time": "2021-09-27T10:24:02.923Z"
   },
   {
    "duration": 9,
    "start_time": "2021-09-27T10:24:02.953Z"
   },
   {
    "duration": 7,
    "start_time": "2021-09-27T10:24:02.964Z"
   },
   {
    "duration": 12,
    "start_time": "2021-09-27T10:24:02.973Z"
   },
   {
    "duration": 144,
    "start_time": "2021-09-27T10:24:02.986Z"
   },
   {
    "duration": 18,
    "start_time": "2021-09-27T10:24:03.131Z"
   },
   {
    "duration": 7,
    "start_time": "2021-09-27T10:24:03.150Z"
   },
   {
    "duration": 15,
    "start_time": "2021-09-27T10:24:03.158Z"
   },
   {
    "duration": 39,
    "start_time": "2021-09-27T10:24:03.174Z"
   },
   {
    "duration": 31,
    "start_time": "2021-09-27T10:24:03.215Z"
   },
   {
    "duration": 48,
    "start_time": "2021-09-27T10:24:03.247Z"
   },
   {
    "duration": 3,
    "start_time": "2021-09-27T10:24:03.297Z"
   },
   {
    "duration": 8,
    "start_time": "2021-09-27T10:24:03.302Z"
   },
   {
    "duration": 56,
    "start_time": "2021-09-27T10:24:03.311Z"
   },
   {
    "duration": 11,
    "start_time": "2021-09-27T10:24:03.369Z"
   },
   {
    "duration": 8,
    "start_time": "2021-09-27T10:24:03.382Z"
   },
   {
    "duration": 128,
    "start_time": "2021-09-27T10:24:03.392Z"
   },
   {
    "duration": 115,
    "start_time": "2021-09-27T10:24:03.522Z"
   },
   {
    "duration": 115,
    "start_time": "2021-09-27T10:24:03.645Z"
   },
   {
    "duration": 15,
    "start_time": "2021-09-27T10:24:03.762Z"
   },
   {
    "duration": 19,
    "start_time": "2021-09-27T10:24:03.779Z"
   },
   {
    "duration": 45,
    "start_time": "2021-09-27T10:24:03.800Z"
   },
   {
    "duration": 18,
    "start_time": "2021-09-27T10:24:03.847Z"
   },
   {
    "duration": 87,
    "start_time": "2021-09-27T10:24:03.867Z"
   },
   {
    "duration": 8,
    "start_time": "2021-09-27T10:24:03.957Z"
   },
   {
    "duration": 12,
    "start_time": "2021-09-27T10:24:03.967Z"
   },
   {
    "duration": 6,
    "start_time": "2021-09-27T10:24:50.616Z"
   },
   {
    "duration": 92,
    "start_time": "2021-09-27T10:24:52.237Z"
   }
  ],
  "interpreter": {
   "hash": "eecb6f739249f333e6eb6f28930ccb37aedec3f38785c7ff769d6e5598bab9c0"
  },
  "kernelspec": {
   "display_name": "Python 3",
   "language": "python",
   "name": "python3"
  },
  "language_info": {
   "codemirror_mode": {
    "name": "ipython",
    "version": 3
   },
   "file_extension": ".py",
   "mimetype": "text/x-python",
   "name": "python",
   "nbconvert_exporter": "python",
   "pygments_lexer": "ipython3",
   "version": "3.8.8"
  },
  "toc": {
   "base_numbering": 1,
   "nav_menu": {},
   "number_sections": true,
   "sideBar": true,
   "skip_h1_title": true,
   "title_cell": "Table of Contents",
   "title_sidebar": "Contents",
   "toc_cell": false,
   "toc_position": {},
   "toc_section_display": true,
   "toc_window_display": false
  }
 },
 "nbformat": 4,
 "nbformat_minor": 4
}
