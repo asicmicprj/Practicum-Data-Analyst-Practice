{
 "cells": [
  {
   "cell_type": "markdown",
   "metadata": {},
   "source": [
    "# Online Store"
   ]
  },
  {
   "cell_type": "markdown",
   "metadata": {},
   "source": [
    "# Table of contents"
   ]
  },
  {
   "cell_type": "markdown",
   "metadata": {},
   "source": [
    "1. [Project Description](#ProjectDescription)\n",
    "2. [Step 0: Open data and general information](#OpenData&GeneralInfo)\n",
    "4. [Part 1: Prioritizing Hypotheses](#Part1)\n",
    "6. [Part 2: A/B Test Analysis](#Part2)"
   ]
  },
  {
   "cell_type": "markdown",
   "metadata": {},
   "source": [
    "### Project Description. <a name=\"ProjectDescription\"></a>"
   ]
  },
  {
   "cell_type": "markdown",
   "metadata": {},
   "source": [
    "|  Name  |  Description  |\n",
    "| :----: |  :---- |\n",
    "|  **Initial conditions**  | Together with the marketing department, you've compiled a list of hypotheses that may help boost revenue.                  | \n",
    "|  **What we have**        | Hypotheses dataset, orders, visits on the date specified in the A/B test group specified                                   |\n",
    "|  **Main question of project**  |  You need to prioritize these hypotheses, launch an A/B test, and analyze the results.                               |\n",
    "| **Project Description**  | [Link to Project Description](https://practicum.yandex.com/trainer/data-analyst/lesson/da301f15-cfdb-4ac1-ba36-0872df8f9cf5/task/eb50e373-a61a-4206-89a3-49095515f6a7/)    |\n",
    "| **Datasets**             | [/datasets/visits_log_us.csv](https://code.s3.yandex.net/datasets/visits_log_us.csv)  |\n",
    "|                          | [/datasets/orders_log_us.csv](https://code.s3.yandex.net/datasets/orders_log_us.csv)  |\n",
    "|                          | [/datasets/costs_us.csv](https://code.s3.yandex.net/datasets/costs_us.csv)            |"
   ]
  },
  {
   "cell_type": "markdown",
   "metadata": {},
   "source": [
    "### Step 1. Open the data file and study the general information. <a name=\"OpenData&GeneralInfo\"></a>"
   ]
  },
  {
   "cell_type": "code",
   "execution_count": 1,
   "metadata": {},
   "outputs": [],
   "source": [
    "# import all packages\n",
    "import pandas as pd\n",
    "import numpy as np\n",
    "import random\n",
    "import scipy.stats as stats\n",
    "import sys\n",
    "\n",
    "import matplotlib.pyplot as plt\n",
    "import matplotlib.patches as mpatches\n",
    "import seaborn as sns\n",
    "\n",
    "pd.set_option('max_colwidth', 400)\n",
    "\n",
    "%matplotlib inline"
   ]
  },
  {
   "cell_type": "code",
   "execution_count": 2,
   "metadata": {},
   "outputs": [
    {
     "name": "stdout",
     "output_type": "stream",
     "text": [
      "Pandas version library: 0.25.1\n",
      "Numpy version library: 1.18.5\n",
      "Seaborn version library: 0.9.0\n",
      "Anaconda version package: 3.7.10 (default, Feb 26 2021, 13:06:18) [MSC v.1916 64 bit (AMD64)]\n"
     ]
    }
   ],
   "source": [
    "print('Pandas version library:',pd.__version__)\n",
    "print('Numpy version library:', np.__version__)\n",
    "print('Seaborn version library:', sns.__version__)\n",
    "print('Anaconda version package:', sys.version)"
   ]
  },
  {
   "cell_type": "code",
   "execution_count": 3,
   "metadata": {},
   "outputs": [],
   "source": [
    "hypotheses = pd.read_csv('https://code.s3.yandex.net//datasets/hypotheses_us.csv', ';')\n",
    "df_orders = pd.read_csv('https://code.s3.yandex.net/datasets/orders_us.csv', sep=',')\n",
    "df_visits = pd.read_csv('https://code.s3.yandex.net/datasets/visits_us.csv', sep=',')"
   ]
  },
  {
   "cell_type": "code",
   "execution_count": 4,
   "metadata": {},
   "outputs": [],
   "source": [
    "# function to determine if columns in file have null values:\n",
    "def get_percent_of_na(df, num):\n",
    "    count = 0; # first reset counter.\n",
    "    df = df.copy() # copy dataframe in new structure.\n",
    "    amount = (df.isna().sum() / df.shape[0])\n",
    "    \n",
    "    for column, percent in zip(amount.index, amount.values):\n",
    "        num_of_nulls = df[column].isna().sum()\n",
    "        if num_of_nulls == 0:\n",
    "            continue\n",
    "        else:\n",
    "            count += 1\n",
    "        print('Column {} has {:.{}%} percent of Nulls, and {} of nulls'.format(column, percent, num, num_of_nulls))\n",
    "        \n",
    "    if count != 0:\n",
    "        print('\\033[1m' + 'There are {} columns with NA.'.format(count) + '\\033[0m')\n",
    "    else: \n",
    "        print()\n",
    "        print('\\033[1m' + 'There are no columns with NA.' + '\\033[0m')"
   ]
  },
  {
   "cell_type": "code",
   "execution_count": 5,
   "metadata": {},
   "outputs": [],
   "source": [
    "def get_percent_of_na_table(df, num):\n",
    "    df_nulls = pd.DataFrame(df.isna().sum(), columns=['Missing Values'])\n",
    "    df_nulls['Percent of Nulls'] = round(df_nulls['Missing Values'] / df.shape[0], num) * 100\n",
    "    return df_nulls"
   ]
  },
  {
   "cell_type": "code",
   "execution_count": 6,
   "metadata": {},
   "outputs": [],
   "source": [
    "# function to display helpfull information about each file.\n",
    "def get_info(df):\n",
    "    print('Head:')\n",
    "    display(df.head())\n",
    "    print('-'*110)\n",
    "    \n",
    "    print('Info:')\n",
    "    display(df.info())\n",
    "    print('-'*110)\n",
    "    \n",
    "    print('Describe:')\n",
    "    display(df.describe())\n",
    "    display(df.describe(include=['category', 'object', 'float64']))\n",
    "    print('-'*110)\n",
    "    \n",
    "    print('Percent of columns with nulls:')\n",
    "    display(get_percent_of_na_table(df, 2))\n",
    "    print('-'*110)\n",
    "    \n",
    "    print('Shape:')\n",
    "    print(df.shape)\n",
    "    print('-'*110)\n",
    "    \n",
    "    print('Duplicated:')\n",
    "    print('\\033[1m' + 'We have {} duplicated rows. \\n'.format(df.duplicated().sum()) + '\\033[0m')\n",
    "    print('/'*110)"
   ]
  },
  {
   "cell_type": "code",
   "execution_count": 7,
   "metadata": {},
   "outputs": [
    {
     "name": "stdout",
     "output_type": "stream",
     "text": [
      "Head:\n"
     ]
    },
    {
     "data": {
      "text/html": [
       "<div>\n",
       "<style scoped>\n",
       "    .dataframe tbody tr th:only-of-type {\n",
       "        vertical-align: middle;\n",
       "    }\n",
       "\n",
       "    .dataframe tbody tr th {\n",
       "        vertical-align: top;\n",
       "    }\n",
       "\n",
       "    .dataframe thead th {\n",
       "        text-align: right;\n",
       "    }\n",
       "</style>\n",
       "<table border=\"1\" class=\"dataframe\">\n",
       "  <thead>\n",
       "    <tr style=\"text-align: right;\">\n",
       "      <th></th>\n",
       "      <th>transactionId</th>\n",
       "      <th>visitorId</th>\n",
       "      <th>date</th>\n",
       "      <th>revenue</th>\n",
       "      <th>group</th>\n",
       "    </tr>\n",
       "  </thead>\n",
       "  <tbody>\n",
       "    <tr>\n",
       "      <td>0</td>\n",
       "      <td>3667963787</td>\n",
       "      <td>3312258926</td>\n",
       "      <td>2019-08-15</td>\n",
       "      <td>30.4</td>\n",
       "      <td>B</td>\n",
       "    </tr>\n",
       "    <tr>\n",
       "      <td>1</td>\n",
       "      <td>2804400009</td>\n",
       "      <td>3642806036</td>\n",
       "      <td>2019-08-15</td>\n",
       "      <td>15.2</td>\n",
       "      <td>B</td>\n",
       "    </tr>\n",
       "    <tr>\n",
       "      <td>2</td>\n",
       "      <td>2961555356</td>\n",
       "      <td>4069496402</td>\n",
       "      <td>2019-08-15</td>\n",
       "      <td>10.2</td>\n",
       "      <td>A</td>\n",
       "    </tr>\n",
       "    <tr>\n",
       "      <td>3</td>\n",
       "      <td>3797467345</td>\n",
       "      <td>1196621759</td>\n",
       "      <td>2019-08-15</td>\n",
       "      <td>155.1</td>\n",
       "      <td>B</td>\n",
       "    </tr>\n",
       "    <tr>\n",
       "      <td>4</td>\n",
       "      <td>2282983706</td>\n",
       "      <td>2322279887</td>\n",
       "      <td>2019-08-15</td>\n",
       "      <td>40.5</td>\n",
       "      <td>B</td>\n",
       "    </tr>\n",
       "  </tbody>\n",
       "</table>\n",
       "</div>"
      ],
      "text/plain": [
       "   transactionId   visitorId        date  revenue group\n",
       "0     3667963787  3312258926  2019-08-15     30.4     B\n",
       "1     2804400009  3642806036  2019-08-15     15.2     B\n",
       "2     2961555356  4069496402  2019-08-15     10.2     A\n",
       "3     3797467345  1196621759  2019-08-15    155.1     B\n",
       "4     2282983706  2322279887  2019-08-15     40.5     B"
      ]
     },
     "metadata": {},
     "output_type": "display_data"
    },
    {
     "name": "stdout",
     "output_type": "stream",
     "text": [
      "--------------------------------------------------------------------------------------------------------------\n",
      "Info:\n",
      "<class 'pandas.core.frame.DataFrame'>\n",
      "RangeIndex: 1197 entries, 0 to 1196\n",
      "Data columns (total 5 columns):\n",
      "transactionId    1197 non-null int64\n",
      "visitorId        1197 non-null int64\n",
      "date             1197 non-null object\n",
      "revenue          1197 non-null float64\n",
      "group            1197 non-null object\n",
      "dtypes: float64(1), int64(2), object(2)\n",
      "memory usage: 46.9+ KB\n"
     ]
    },
    {
     "data": {
      "text/plain": [
       "None"
      ]
     },
     "metadata": {},
     "output_type": "display_data"
    },
    {
     "name": "stdout",
     "output_type": "stream",
     "text": [
      "--------------------------------------------------------------------------------------------------------------\n",
      "Describe:\n"
     ]
    },
    {
     "data": {
      "text/html": [
       "<div>\n",
       "<style scoped>\n",
       "    .dataframe tbody tr th:only-of-type {\n",
       "        vertical-align: middle;\n",
       "    }\n",
       "\n",
       "    .dataframe tbody tr th {\n",
       "        vertical-align: top;\n",
       "    }\n",
       "\n",
       "    .dataframe thead th {\n",
       "        text-align: right;\n",
       "    }\n",
       "</style>\n",
       "<table border=\"1\" class=\"dataframe\">\n",
       "  <thead>\n",
       "    <tr style=\"text-align: right;\">\n",
       "      <th></th>\n",
       "      <th>transactionId</th>\n",
       "      <th>visitorId</th>\n",
       "      <th>revenue</th>\n",
       "    </tr>\n",
       "  </thead>\n",
       "  <tbody>\n",
       "    <tr>\n",
       "      <td>count</td>\n",
       "      <td>1.197000e+03</td>\n",
       "      <td>1.197000e+03</td>\n",
       "      <td>1197.000000</td>\n",
       "    </tr>\n",
       "    <tr>\n",
       "      <td>mean</td>\n",
       "      <td>2.155621e+09</td>\n",
       "      <td>2.165960e+09</td>\n",
       "      <td>131.491646</td>\n",
       "    </tr>\n",
       "    <tr>\n",
       "      <td>std</td>\n",
       "      <td>1.229085e+09</td>\n",
       "      <td>1.236014e+09</td>\n",
       "      <td>603.004729</td>\n",
       "    </tr>\n",
       "    <tr>\n",
       "      <td>min</td>\n",
       "      <td>1.062393e+06</td>\n",
       "      <td>5.114589e+06</td>\n",
       "      <td>5.000000</td>\n",
       "    </tr>\n",
       "    <tr>\n",
       "      <td>25%</td>\n",
       "      <td>1.166776e+09</td>\n",
       "      <td>1.111826e+09</td>\n",
       "      <td>20.800000</td>\n",
       "    </tr>\n",
       "    <tr>\n",
       "      <td>50%</td>\n",
       "      <td>2.145194e+09</td>\n",
       "      <td>2.217985e+09</td>\n",
       "      <td>50.200000</td>\n",
       "    </tr>\n",
       "    <tr>\n",
       "      <td>75%</td>\n",
       "      <td>3.237740e+09</td>\n",
       "      <td>3.177606e+09</td>\n",
       "      <td>130.400000</td>\n",
       "    </tr>\n",
       "    <tr>\n",
       "      <td>max</td>\n",
       "      <td>4.293856e+09</td>\n",
       "      <td>4.283872e+09</td>\n",
       "      <td>19920.400000</td>\n",
       "    </tr>\n",
       "  </tbody>\n",
       "</table>\n",
       "</div>"
      ],
      "text/plain": [
       "       transactionId     visitorId       revenue\n",
       "count   1.197000e+03  1.197000e+03   1197.000000\n",
       "mean    2.155621e+09  2.165960e+09    131.491646\n",
       "std     1.229085e+09  1.236014e+09    603.004729\n",
       "min     1.062393e+06  5.114589e+06      5.000000\n",
       "25%     1.166776e+09  1.111826e+09     20.800000\n",
       "50%     2.145194e+09  2.217985e+09     50.200000\n",
       "75%     3.237740e+09  3.177606e+09    130.400000\n",
       "max     4.293856e+09  4.283872e+09  19920.400000"
      ]
     },
     "metadata": {},
     "output_type": "display_data"
    },
    {
     "data": {
      "text/html": [
       "<div>\n",
       "<style scoped>\n",
       "    .dataframe tbody tr th:only-of-type {\n",
       "        vertical-align: middle;\n",
       "    }\n",
       "\n",
       "    .dataframe tbody tr th {\n",
       "        vertical-align: top;\n",
       "    }\n",
       "\n",
       "    .dataframe thead th {\n",
       "        text-align: right;\n",
       "    }\n",
       "</style>\n",
       "<table border=\"1\" class=\"dataframe\">\n",
       "  <thead>\n",
       "    <tr style=\"text-align: right;\">\n",
       "      <th></th>\n",
       "      <th>date</th>\n",
       "      <th>revenue</th>\n",
       "      <th>group</th>\n",
       "    </tr>\n",
       "  </thead>\n",
       "  <tbody>\n",
       "    <tr>\n",
       "      <td>count</td>\n",
       "      <td>1197</td>\n",
       "      <td>1197.000000</td>\n",
       "      <td>1197</td>\n",
       "    </tr>\n",
       "    <tr>\n",
       "      <td>unique</td>\n",
       "      <td>31</td>\n",
       "      <td>NaN</td>\n",
       "      <td>2</td>\n",
       "    </tr>\n",
       "    <tr>\n",
       "      <td>top</td>\n",
       "      <td>2019-08-05</td>\n",
       "      <td>NaN</td>\n",
       "      <td>B</td>\n",
       "    </tr>\n",
       "    <tr>\n",
       "      <td>freq</td>\n",
       "      <td>48</td>\n",
       "      <td>NaN</td>\n",
       "      <td>640</td>\n",
       "    </tr>\n",
       "    <tr>\n",
       "      <td>mean</td>\n",
       "      <td>NaN</td>\n",
       "      <td>131.491646</td>\n",
       "      <td>NaN</td>\n",
       "    </tr>\n",
       "    <tr>\n",
       "      <td>std</td>\n",
       "      <td>NaN</td>\n",
       "      <td>603.004729</td>\n",
       "      <td>NaN</td>\n",
       "    </tr>\n",
       "    <tr>\n",
       "      <td>min</td>\n",
       "      <td>NaN</td>\n",
       "      <td>5.000000</td>\n",
       "      <td>NaN</td>\n",
       "    </tr>\n",
       "    <tr>\n",
       "      <td>25%</td>\n",
       "      <td>NaN</td>\n",
       "      <td>20.800000</td>\n",
       "      <td>NaN</td>\n",
       "    </tr>\n",
       "    <tr>\n",
       "      <td>50%</td>\n",
       "      <td>NaN</td>\n",
       "      <td>50.200000</td>\n",
       "      <td>NaN</td>\n",
       "    </tr>\n",
       "    <tr>\n",
       "      <td>75%</td>\n",
       "      <td>NaN</td>\n",
       "      <td>130.400000</td>\n",
       "      <td>NaN</td>\n",
       "    </tr>\n",
       "    <tr>\n",
       "      <td>max</td>\n",
       "      <td>NaN</td>\n",
       "      <td>19920.400000</td>\n",
       "      <td>NaN</td>\n",
       "    </tr>\n",
       "  </tbody>\n",
       "</table>\n",
       "</div>"
      ],
      "text/plain": [
       "              date       revenue group\n",
       "count         1197   1197.000000  1197\n",
       "unique          31           NaN     2\n",
       "top     2019-08-05           NaN     B\n",
       "freq            48           NaN   640\n",
       "mean           NaN    131.491646   NaN\n",
       "std            NaN    603.004729   NaN\n",
       "min            NaN      5.000000   NaN\n",
       "25%            NaN     20.800000   NaN\n",
       "50%            NaN     50.200000   NaN\n",
       "75%            NaN    130.400000   NaN\n",
       "max            NaN  19920.400000   NaN"
      ]
     },
     "metadata": {},
     "output_type": "display_data"
    },
    {
     "name": "stdout",
     "output_type": "stream",
     "text": [
      "--------------------------------------------------------------------------------------------------------------\n",
      "Percent of columns with nulls:\n"
     ]
    },
    {
     "data": {
      "text/html": [
       "<div>\n",
       "<style scoped>\n",
       "    .dataframe tbody tr th:only-of-type {\n",
       "        vertical-align: middle;\n",
       "    }\n",
       "\n",
       "    .dataframe tbody tr th {\n",
       "        vertical-align: top;\n",
       "    }\n",
       "\n",
       "    .dataframe thead th {\n",
       "        text-align: right;\n",
       "    }\n",
       "</style>\n",
       "<table border=\"1\" class=\"dataframe\">\n",
       "  <thead>\n",
       "    <tr style=\"text-align: right;\">\n",
       "      <th></th>\n",
       "      <th>Missing Values</th>\n",
       "      <th>Percent of Nulls</th>\n",
       "    </tr>\n",
       "  </thead>\n",
       "  <tbody>\n",
       "    <tr>\n",
       "      <td>transactionId</td>\n",
       "      <td>0</td>\n",
       "      <td>0.0</td>\n",
       "    </tr>\n",
       "    <tr>\n",
       "      <td>visitorId</td>\n",
       "      <td>0</td>\n",
       "      <td>0.0</td>\n",
       "    </tr>\n",
       "    <tr>\n",
       "      <td>date</td>\n",
       "      <td>0</td>\n",
       "      <td>0.0</td>\n",
       "    </tr>\n",
       "    <tr>\n",
       "      <td>revenue</td>\n",
       "      <td>0</td>\n",
       "      <td>0.0</td>\n",
       "    </tr>\n",
       "    <tr>\n",
       "      <td>group</td>\n",
       "      <td>0</td>\n",
       "      <td>0.0</td>\n",
       "    </tr>\n",
       "  </tbody>\n",
       "</table>\n",
       "</div>"
      ],
      "text/plain": [
       "               Missing Values  Percent of Nulls\n",
       "transactionId               0               0.0\n",
       "visitorId                   0               0.0\n",
       "date                        0               0.0\n",
       "revenue                     0               0.0\n",
       "group                       0               0.0"
      ]
     },
     "metadata": {},
     "output_type": "display_data"
    },
    {
     "name": "stdout",
     "output_type": "stream",
     "text": [
      "--------------------------------------------------------------------------------------------------------------\n",
      "Shape:\n",
      "(1197, 5)\n",
      "--------------------------------------------------------------------------------------------------------------\n",
      "Duplicated:\n",
      "\u001b[1mWe have 0 duplicated rows. \n",
      "\u001b[0m\n",
      "//////////////////////////////////////////////////////////////////////////////////////////////////////////////\n"
     ]
    }
   ],
   "source": [
    "get_info(df_orders)"
   ]
  },
  {
   "cell_type": "code",
   "execution_count": 8,
   "metadata": {},
   "outputs": [
    {
     "name": "stdout",
     "output_type": "stream",
     "text": [
      "Head:\n"
     ]
    },
    {
     "data": {
      "text/html": [
       "<div>\n",
       "<style scoped>\n",
       "    .dataframe tbody tr th:only-of-type {\n",
       "        vertical-align: middle;\n",
       "    }\n",
       "\n",
       "    .dataframe tbody tr th {\n",
       "        vertical-align: top;\n",
       "    }\n",
       "\n",
       "    .dataframe thead th {\n",
       "        text-align: right;\n",
       "    }\n",
       "</style>\n",
       "<table border=\"1\" class=\"dataframe\">\n",
       "  <thead>\n",
       "    <tr style=\"text-align: right;\">\n",
       "      <th></th>\n",
       "      <th>date</th>\n",
       "      <th>group</th>\n",
       "      <th>visits</th>\n",
       "    </tr>\n",
       "  </thead>\n",
       "  <tbody>\n",
       "    <tr>\n",
       "      <td>0</td>\n",
       "      <td>2019-08-01</td>\n",
       "      <td>A</td>\n",
       "      <td>719</td>\n",
       "    </tr>\n",
       "    <tr>\n",
       "      <td>1</td>\n",
       "      <td>2019-08-02</td>\n",
       "      <td>A</td>\n",
       "      <td>619</td>\n",
       "    </tr>\n",
       "    <tr>\n",
       "      <td>2</td>\n",
       "      <td>2019-08-03</td>\n",
       "      <td>A</td>\n",
       "      <td>507</td>\n",
       "    </tr>\n",
       "    <tr>\n",
       "      <td>3</td>\n",
       "      <td>2019-08-04</td>\n",
       "      <td>A</td>\n",
       "      <td>717</td>\n",
       "    </tr>\n",
       "    <tr>\n",
       "      <td>4</td>\n",
       "      <td>2019-08-05</td>\n",
       "      <td>A</td>\n",
       "      <td>756</td>\n",
       "    </tr>\n",
       "  </tbody>\n",
       "</table>\n",
       "</div>"
      ],
      "text/plain": [
       "         date group  visits\n",
       "0  2019-08-01     A     719\n",
       "1  2019-08-02     A     619\n",
       "2  2019-08-03     A     507\n",
       "3  2019-08-04     A     717\n",
       "4  2019-08-05     A     756"
      ]
     },
     "metadata": {},
     "output_type": "display_data"
    },
    {
     "name": "stdout",
     "output_type": "stream",
     "text": [
      "--------------------------------------------------------------------------------------------------------------\n",
      "Info:\n",
      "<class 'pandas.core.frame.DataFrame'>\n",
      "RangeIndex: 62 entries, 0 to 61\n",
      "Data columns (total 3 columns):\n",
      "date      62 non-null object\n",
      "group     62 non-null object\n",
      "visits    62 non-null int64\n",
      "dtypes: int64(1), object(2)\n",
      "memory usage: 1.6+ KB\n"
     ]
    },
    {
     "data": {
      "text/plain": [
       "None"
      ]
     },
     "metadata": {},
     "output_type": "display_data"
    },
    {
     "name": "stdout",
     "output_type": "stream",
     "text": [
      "--------------------------------------------------------------------------------------------------------------\n",
      "Describe:\n"
     ]
    },
    {
     "data": {
      "text/html": [
       "<div>\n",
       "<style scoped>\n",
       "    .dataframe tbody tr th:only-of-type {\n",
       "        vertical-align: middle;\n",
       "    }\n",
       "\n",
       "    .dataframe tbody tr th {\n",
       "        vertical-align: top;\n",
       "    }\n",
       "\n",
       "    .dataframe thead th {\n",
       "        text-align: right;\n",
       "    }\n",
       "</style>\n",
       "<table border=\"1\" class=\"dataframe\">\n",
       "  <thead>\n",
       "    <tr style=\"text-align: right;\">\n",
       "      <th></th>\n",
       "      <th>visits</th>\n",
       "    </tr>\n",
       "  </thead>\n",
       "  <tbody>\n",
       "    <tr>\n",
       "      <td>count</td>\n",
       "      <td>62.000000</td>\n",
       "    </tr>\n",
       "    <tr>\n",
       "      <td>mean</td>\n",
       "      <td>607.290323</td>\n",
       "    </tr>\n",
       "    <tr>\n",
       "      <td>std</td>\n",
       "      <td>114.400560</td>\n",
       "    </tr>\n",
       "    <tr>\n",
       "      <td>min</td>\n",
       "      <td>361.000000</td>\n",
       "    </tr>\n",
       "    <tr>\n",
       "      <td>25%</td>\n",
       "      <td>534.000000</td>\n",
       "    </tr>\n",
       "    <tr>\n",
       "      <td>50%</td>\n",
       "      <td>624.500000</td>\n",
       "    </tr>\n",
       "    <tr>\n",
       "      <td>75%</td>\n",
       "      <td>710.500000</td>\n",
       "    </tr>\n",
       "    <tr>\n",
       "      <td>max</td>\n",
       "      <td>770.000000</td>\n",
       "    </tr>\n",
       "  </tbody>\n",
       "</table>\n",
       "</div>"
      ],
      "text/plain": [
       "           visits\n",
       "count   62.000000\n",
       "mean   607.290323\n",
       "std    114.400560\n",
       "min    361.000000\n",
       "25%    534.000000\n",
       "50%    624.500000\n",
       "75%    710.500000\n",
       "max    770.000000"
      ]
     },
     "metadata": {},
     "output_type": "display_data"
    },
    {
     "data": {
      "text/html": [
       "<div>\n",
       "<style scoped>\n",
       "    .dataframe tbody tr th:only-of-type {\n",
       "        vertical-align: middle;\n",
       "    }\n",
       "\n",
       "    .dataframe tbody tr th {\n",
       "        vertical-align: top;\n",
       "    }\n",
       "\n",
       "    .dataframe thead th {\n",
       "        text-align: right;\n",
       "    }\n",
       "</style>\n",
       "<table border=\"1\" class=\"dataframe\">\n",
       "  <thead>\n",
       "    <tr style=\"text-align: right;\">\n",
       "      <th></th>\n",
       "      <th>date</th>\n",
       "      <th>group</th>\n",
       "    </tr>\n",
       "  </thead>\n",
       "  <tbody>\n",
       "    <tr>\n",
       "      <td>count</td>\n",
       "      <td>62</td>\n",
       "      <td>62</td>\n",
       "    </tr>\n",
       "    <tr>\n",
       "      <td>unique</td>\n",
       "      <td>31</td>\n",
       "      <td>2</td>\n",
       "    </tr>\n",
       "    <tr>\n",
       "      <td>top</td>\n",
       "      <td>2019-08-12</td>\n",
       "      <td>A</td>\n",
       "    </tr>\n",
       "    <tr>\n",
       "      <td>freq</td>\n",
       "      <td>2</td>\n",
       "      <td>31</td>\n",
       "    </tr>\n",
       "  </tbody>\n",
       "</table>\n",
       "</div>"
      ],
      "text/plain": [
       "              date group\n",
       "count           62    62\n",
       "unique          31     2\n",
       "top     2019-08-12     A\n",
       "freq             2    31"
      ]
     },
     "metadata": {},
     "output_type": "display_data"
    },
    {
     "name": "stdout",
     "output_type": "stream",
     "text": [
      "--------------------------------------------------------------------------------------------------------------\n",
      "Percent of columns with nulls:\n"
     ]
    },
    {
     "data": {
      "text/html": [
       "<div>\n",
       "<style scoped>\n",
       "    .dataframe tbody tr th:only-of-type {\n",
       "        vertical-align: middle;\n",
       "    }\n",
       "\n",
       "    .dataframe tbody tr th {\n",
       "        vertical-align: top;\n",
       "    }\n",
       "\n",
       "    .dataframe thead th {\n",
       "        text-align: right;\n",
       "    }\n",
       "</style>\n",
       "<table border=\"1\" class=\"dataframe\">\n",
       "  <thead>\n",
       "    <tr style=\"text-align: right;\">\n",
       "      <th></th>\n",
       "      <th>Missing Values</th>\n",
       "      <th>Percent of Nulls</th>\n",
       "    </tr>\n",
       "  </thead>\n",
       "  <tbody>\n",
       "    <tr>\n",
       "      <td>date</td>\n",
       "      <td>0</td>\n",
       "      <td>0.0</td>\n",
       "    </tr>\n",
       "    <tr>\n",
       "      <td>group</td>\n",
       "      <td>0</td>\n",
       "      <td>0.0</td>\n",
       "    </tr>\n",
       "    <tr>\n",
       "      <td>visits</td>\n",
       "      <td>0</td>\n",
       "      <td>0.0</td>\n",
       "    </tr>\n",
       "  </tbody>\n",
       "</table>\n",
       "</div>"
      ],
      "text/plain": [
       "        Missing Values  Percent of Nulls\n",
       "date                 0               0.0\n",
       "group                0               0.0\n",
       "visits               0               0.0"
      ]
     },
     "metadata": {},
     "output_type": "display_data"
    },
    {
     "name": "stdout",
     "output_type": "stream",
     "text": [
      "--------------------------------------------------------------------------------------------------------------\n",
      "Shape:\n",
      "(62, 3)\n",
      "--------------------------------------------------------------------------------------------------------------\n",
      "Duplicated:\n",
      "\u001b[1mWe have 0 duplicated rows. \n",
      "\u001b[0m\n",
      "//////////////////////////////////////////////////////////////////////////////////////////////////////////////\n"
     ]
    }
   ],
   "source": [
    "get_info(df_visits)"
   ]
  },
  {
   "cell_type": "code",
   "execution_count": 9,
   "metadata": {},
   "outputs": [
    {
     "data": {
      "text/html": [
       "<div>\n",
       "<style scoped>\n",
       "    .dataframe tbody tr th:only-of-type {\n",
       "        vertical-align: middle;\n",
       "    }\n",
       "\n",
       "    .dataframe tbody tr th {\n",
       "        vertical-align: top;\n",
       "    }\n",
       "\n",
       "    .dataframe thead th {\n",
       "        text-align: right;\n",
       "    }\n",
       "</style>\n",
       "<table border=\"1\" class=\"dataframe\">\n",
       "  <thead>\n",
       "    <tr style=\"text-align: right;\">\n",
       "      <th></th>\n",
       "      <th>transactionId</th>\n",
       "      <th>visitorId</th>\n",
       "      <th>date</th>\n",
       "      <th>revenue</th>\n",
       "      <th>group</th>\n",
       "    </tr>\n",
       "  </thead>\n",
       "  <tbody>\n",
       "    <tr>\n",
       "      <td>0</td>\n",
       "      <td>3667963787</td>\n",
       "      <td>3312258926</td>\n",
       "      <td>2019-08-15</td>\n",
       "      <td>30.4</td>\n",
       "      <td>B</td>\n",
       "    </tr>\n",
       "    <tr>\n",
       "      <td>1</td>\n",
       "      <td>2804400009</td>\n",
       "      <td>3642806036</td>\n",
       "      <td>2019-08-15</td>\n",
       "      <td>15.2</td>\n",
       "      <td>B</td>\n",
       "    </tr>\n",
       "    <tr>\n",
       "      <td>2</td>\n",
       "      <td>2961555356</td>\n",
       "      <td>4069496402</td>\n",
       "      <td>2019-08-15</td>\n",
       "      <td>10.2</td>\n",
       "      <td>A</td>\n",
       "    </tr>\n",
       "    <tr>\n",
       "      <td>3</td>\n",
       "      <td>3797467345</td>\n",
       "      <td>1196621759</td>\n",
       "      <td>2019-08-15</td>\n",
       "      <td>155.1</td>\n",
       "      <td>B</td>\n",
       "    </tr>\n",
       "    <tr>\n",
       "      <td>4</td>\n",
       "      <td>2282983706</td>\n",
       "      <td>2322279887</td>\n",
       "      <td>2019-08-15</td>\n",
       "      <td>40.5</td>\n",
       "      <td>B</td>\n",
       "    </tr>\n",
       "  </tbody>\n",
       "</table>\n",
       "</div>"
      ],
      "text/plain": [
       "   transactionId   visitorId        date  revenue group\n",
       "0     3667963787  3312258926  2019-08-15     30.4     B\n",
       "1     2804400009  3642806036  2019-08-15     15.2     B\n",
       "2     2961555356  4069496402  2019-08-15     10.2     A\n",
       "3     3797467345  1196621759  2019-08-15    155.1     B\n",
       "4     2282983706  2322279887  2019-08-15     40.5     B"
      ]
     },
     "execution_count": 9,
     "metadata": {},
     "output_type": "execute_result"
    }
   ],
   "source": [
    "df_orders.head()"
   ]
  },
  {
   "cell_type": "code",
   "execution_count": 10,
   "metadata": {},
   "outputs": [
    {
     "data": {
      "text/html": [
       "<div>\n",
       "<style scoped>\n",
       "    .dataframe tbody tr th:only-of-type {\n",
       "        vertical-align: middle;\n",
       "    }\n",
       "\n",
       "    .dataframe tbody tr th {\n",
       "        vertical-align: top;\n",
       "    }\n",
       "\n",
       "    .dataframe thead th {\n",
       "        text-align: right;\n",
       "    }\n",
       "</style>\n",
       "<table border=\"1\" class=\"dataframe\">\n",
       "  <thead>\n",
       "    <tr style=\"text-align: right;\">\n",
       "      <th></th>\n",
       "      <th>visitorId</th>\n",
       "      <th>users_both_groups</th>\n",
       "    </tr>\n",
       "  </thead>\n",
       "  <tbody>\n",
       "    <tr>\n",
       "      <td>0</td>\n",
       "      <td>5114589</td>\n",
       "      <td>1</td>\n",
       "    </tr>\n",
       "    <tr>\n",
       "      <td>1</td>\n",
       "      <td>6958315</td>\n",
       "      <td>1</td>\n",
       "    </tr>\n",
       "    <tr>\n",
       "      <td>2</td>\n",
       "      <td>8300375</td>\n",
       "      <td>2</td>\n",
       "    </tr>\n",
       "    <tr>\n",
       "      <td>3</td>\n",
       "      <td>11685486</td>\n",
       "      <td>1</td>\n",
       "    </tr>\n",
       "    <tr>\n",
       "      <td>4</td>\n",
       "      <td>39475350</td>\n",
       "      <td>1</td>\n",
       "    </tr>\n",
       "  </tbody>\n",
       "</table>\n",
       "</div>"
      ],
      "text/plain": [
       "   visitorId  users_both_groups\n",
       "0    5114589                  1\n",
       "1    6958315                  1\n",
       "2    8300375                  2\n",
       "3   11685486                  1\n",
       "4   39475350                  1"
      ]
     },
     "execution_count": 10,
     "metadata": {},
     "output_type": "execute_result"
    }
   ],
   "source": [
    "users_of_groups = df_orders.groupby('visitorId').agg({'group':'nunique'}).reset_index()\n",
    "users_of_groups.columns = ['visitorId','users_both_groups']\n",
    "users_of_groups.head()"
   ]
  },
  {
   "cell_type": "code",
   "execution_count": 14,
   "metadata": {},
   "outputs": [
    {
     "name": "stdout",
     "output_type": "stream",
     "text": [
      "This users appear in boths groups A and B:\n"
     ]
    }
   ],
   "source": [
    "list_of_both_groups = users_of_groups[users_of_groups['users_both_groups'] == 2]['visitorId']\n",
    "print('This users appear in boths groups A and B:')"
   ]
  },
  {
   "cell_type": "code",
   "execution_count": 15,
   "metadata": {},
   "outputs": [
    {
     "data": {
      "text/html": [
       "<div>\n",
       "<style scoped>\n",
       "    .dataframe tbody tr th:only-of-type {\n",
       "        vertical-align: middle;\n",
       "    }\n",
       "\n",
       "    .dataframe tbody tr th {\n",
       "        vertical-align: top;\n",
       "    }\n",
       "\n",
       "    .dataframe thead th {\n",
       "        text-align: right;\n",
       "    }\n",
       "</style>\n",
       "<table border=\"1\" class=\"dataframe\">\n",
       "  <thead>\n",
       "    <tr style=\"text-align: right;\">\n",
       "      <th></th>\n",
       "      <th>transactionId</th>\n",
       "      <th>visitorId</th>\n",
       "      <th>date</th>\n",
       "      <th>revenue</th>\n",
       "      <th>group</th>\n",
       "    </tr>\n",
       "  </thead>\n",
       "  <tbody>\n",
       "    <tr>\n",
       "      <td>0</td>\n",
       "      <td>3667963787</td>\n",
       "      <td>3312258926</td>\n",
       "      <td>2019-08-15</td>\n",
       "      <td>30.4</td>\n",
       "      <td>B</td>\n",
       "    </tr>\n",
       "    <tr>\n",
       "      <td>1</td>\n",
       "      <td>2804400009</td>\n",
       "      <td>3642806036</td>\n",
       "      <td>2019-08-15</td>\n",
       "      <td>15.2</td>\n",
       "      <td>B</td>\n",
       "    </tr>\n",
       "    <tr>\n",
       "      <td>3</td>\n",
       "      <td>3797467345</td>\n",
       "      <td>1196621759</td>\n",
       "      <td>2019-08-15</td>\n",
       "      <td>155.1</td>\n",
       "      <td>B</td>\n",
       "    </tr>\n",
       "    <tr>\n",
       "      <td>4</td>\n",
       "      <td>2282983706</td>\n",
       "      <td>2322279887</td>\n",
       "      <td>2019-08-15</td>\n",
       "      <td>40.5</td>\n",
       "      <td>B</td>\n",
       "    </tr>\n",
       "    <tr>\n",
       "      <td>5</td>\n",
       "      <td>182168103</td>\n",
       "      <td>935554773</td>\n",
       "      <td>2019-08-15</td>\n",
       "      <td>35.0</td>\n",
       "      <td>B</td>\n",
       "    </tr>\n",
       "  </tbody>\n",
       "</table>\n",
       "</div>"
      ],
      "text/plain": [
       "   transactionId   visitorId        date  revenue group\n",
       "0     3667963787  3312258926  2019-08-15     30.4     B\n",
       "1     2804400009  3642806036  2019-08-15     15.2     B\n",
       "3     3797467345  1196621759  2019-08-15    155.1     B\n",
       "4     2282983706  2322279887  2019-08-15     40.5     B\n",
       "5      182168103   935554773  2019-08-15     35.0     B"
      ]
     },
     "execution_count": 15,
     "metadata": {},
     "output_type": "execute_result"
    }
   ],
   "source": [
    "df_orders_clean = df_orders[~df_orders['visitorId'].isin(list_of_both_groups)]\n",
    "df_orders_clean.head()"
   ]
  },
  {
   "cell_type": "markdown",
   "metadata": {},
   "source": [
    "* The data is very clean. There are no missing values or duplicate values.\n",
    "* We have 8 hypotheses.\n",
    "* To avoid situation that some of the visitors might have gotten into both group A and group B, I removed visitors from both group A and group B."
   ]
  },
  {
   "cell_type": "markdown",
   "metadata": {},
   "source": [
    "### Part 1. Prioritizing Hypotheses <a name=\"Part1\"></a>\n",
    "The file hypotheses_us.csv contains nine hypotheses on boosting an online store's revenue with Reach, Impact, Confidence, and Effort specified for each."
   ]
  },
  {
   "cell_type": "code",
   "execution_count": 16,
   "metadata": {},
   "outputs": [
    {
     "data": {
      "text/html": [
       "<div>\n",
       "<style scoped>\n",
       "    .dataframe tbody tr th:only-of-type {\n",
       "        vertical-align: middle;\n",
       "    }\n",
       "\n",
       "    .dataframe tbody tr th {\n",
       "        vertical-align: top;\n",
       "    }\n",
       "\n",
       "    .dataframe thead th {\n",
       "        text-align: right;\n",
       "    }\n",
       "</style>\n",
       "<table border=\"1\" class=\"dataframe\">\n",
       "  <thead>\n",
       "    <tr style=\"text-align: right;\">\n",
       "      <th></th>\n",
       "      <th>Hypothesis</th>\n",
       "      <th>Reach</th>\n",
       "      <th>Impact</th>\n",
       "      <th>Confidence</th>\n",
       "      <th>Effort</th>\n",
       "    </tr>\n",
       "  </thead>\n",
       "  <tbody>\n",
       "    <tr>\n",
       "      <td>0</td>\n",
       "      <td>Add two new channels for attracting traffic. This will bring 30% more users</td>\n",
       "      <td>3</td>\n",
       "      <td>10</td>\n",
       "      <td>8</td>\n",
       "      <td>6</td>\n",
       "    </tr>\n",
       "    <tr>\n",
       "      <td>1</td>\n",
       "      <td>Launch your own delivery service. This will shorten delivery time</td>\n",
       "      <td>2</td>\n",
       "      <td>5</td>\n",
       "      <td>4</td>\n",
       "      <td>10</td>\n",
       "    </tr>\n",
       "    <tr>\n",
       "      <td>2</td>\n",
       "      <td>Add product recommendation blocks to the store's site. This will increase conversion and average purchase size</td>\n",
       "      <td>8</td>\n",
       "      <td>3</td>\n",
       "      <td>7</td>\n",
       "      <td>3</td>\n",
       "    </tr>\n",
       "    <tr>\n",
       "      <td>3</td>\n",
       "      <td>Change the category structure. This will increase conversion since users will find the products they want more quickly</td>\n",
       "      <td>8</td>\n",
       "      <td>3</td>\n",
       "      <td>3</td>\n",
       "      <td>8</td>\n",
       "    </tr>\n",
       "    <tr>\n",
       "      <td>4</td>\n",
       "      <td>Change the background color on the main page. This will increase user engagement</td>\n",
       "      <td>3</td>\n",
       "      <td>1</td>\n",
       "      <td>1</td>\n",
       "      <td>1</td>\n",
       "    </tr>\n",
       "    <tr>\n",
       "      <td>5</td>\n",
       "      <td>Add a customer review page. This will increase the number of orders</td>\n",
       "      <td>3</td>\n",
       "      <td>2</td>\n",
       "      <td>2</td>\n",
       "      <td>3</td>\n",
       "    </tr>\n",
       "    <tr>\n",
       "      <td>6</td>\n",
       "      <td>Show banners with current offers and sales on the main page. This will boost conversion</td>\n",
       "      <td>5</td>\n",
       "      <td>3</td>\n",
       "      <td>8</td>\n",
       "      <td>3</td>\n",
       "    </tr>\n",
       "    <tr>\n",
       "      <td>7</td>\n",
       "      <td>Add a subscription form to all the main pages. This will help you compile a mailing list</td>\n",
       "      <td>10</td>\n",
       "      <td>7</td>\n",
       "      <td>8</td>\n",
       "      <td>5</td>\n",
       "    </tr>\n",
       "    <tr>\n",
       "      <td>8</td>\n",
       "      <td>Launch a promotion that gives users discounts on their birthdays</td>\n",
       "      <td>1</td>\n",
       "      <td>9</td>\n",
       "      <td>9</td>\n",
       "      <td>5</td>\n",
       "    </tr>\n",
       "  </tbody>\n",
       "</table>\n",
       "</div>"
      ],
      "text/plain": [
       "                                                                                                               Hypothesis  \\\n",
       "0                                             Add two new channels for attracting traffic. This will bring 30% more users   \n",
       "1                                                       Launch your own delivery service. This will shorten delivery time   \n",
       "2          Add product recommendation blocks to the store's site. This will increase conversion and average purchase size   \n",
       "3  Change the category structure. This will increase conversion since users will find the products they want more quickly   \n",
       "4                                        Change the background color on the main page. This will increase user engagement   \n",
       "5                                                     Add a customer review page. This will increase the number of orders   \n",
       "6                                 Show banners with current offers and sales on the main page. This will boost conversion   \n",
       "7                                Add a subscription form to all the main pages. This will help you compile a mailing list   \n",
       "8                                                        Launch a promotion that gives users discounts on their birthdays   \n",
       "\n",
       "   Reach  Impact  Confidence  Effort  \n",
       "0      3      10           8       6  \n",
       "1      2       5           4      10  \n",
       "2      8       3           7       3  \n",
       "3      8       3           3       8  \n",
       "4      3       1           1       1  \n",
       "5      3       2           2       3  \n",
       "6      5       3           8       3  \n",
       "7     10       7           8       5  \n",
       "8      1       9           9       5  "
      ]
     },
     "metadata": {},
     "output_type": "display_data"
    }
   ],
   "source": [
    "display(hypotheses)"
   ]
  },
  {
   "cell_type": "code",
   "execution_count": 17,
   "metadata": {},
   "outputs": [
    {
     "data": {
      "text/html": [
       "<div>\n",
       "<style scoped>\n",
       "    .dataframe tbody tr th:only-of-type {\n",
       "        vertical-align: middle;\n",
       "    }\n",
       "\n",
       "    .dataframe tbody tr th {\n",
       "        vertical-align: top;\n",
       "    }\n",
       "\n",
       "    .dataframe thead th {\n",
       "        text-align: right;\n",
       "    }\n",
       "</style>\n",
       "<table border=\"1\" class=\"dataframe\">\n",
       "  <thead>\n",
       "    <tr style=\"text-align: right;\">\n",
       "      <th></th>\n",
       "      <th>Hypothesis</th>\n",
       "      <th>ICE</th>\n",
       "    </tr>\n",
       "  </thead>\n",
       "  <tbody>\n",
       "    <tr>\n",
       "      <td>8</td>\n",
       "      <td>Launch a promotion that gives users discounts on their birthdays</td>\n",
       "      <td>16.200000</td>\n",
       "    </tr>\n",
       "    <tr>\n",
       "      <td>0</td>\n",
       "      <td>Add two new channels for attracting traffic. This will bring 30% more users</td>\n",
       "      <td>13.333333</td>\n",
       "    </tr>\n",
       "    <tr>\n",
       "      <td>7</td>\n",
       "      <td>Add a subscription form to all the main pages. This will help you compile a mailing list</td>\n",
       "      <td>11.200000</td>\n",
       "    </tr>\n",
       "    <tr>\n",
       "      <td>6</td>\n",
       "      <td>Show banners with current offers and sales on the main page. This will boost conversion</td>\n",
       "      <td>8.000000</td>\n",
       "    </tr>\n",
       "    <tr>\n",
       "      <td>2</td>\n",
       "      <td>Add product recommendation blocks to the store's site. This will increase conversion and average purchase size</td>\n",
       "      <td>7.000000</td>\n",
       "    </tr>\n",
       "    <tr>\n",
       "      <td>1</td>\n",
       "      <td>Launch your own delivery service. This will shorten delivery time</td>\n",
       "      <td>2.000000</td>\n",
       "    </tr>\n",
       "    <tr>\n",
       "      <td>5</td>\n",
       "      <td>Add a customer review page. This will increase the number of orders</td>\n",
       "      <td>1.333333</td>\n",
       "    </tr>\n",
       "    <tr>\n",
       "      <td>3</td>\n",
       "      <td>Change the category structure. This will increase conversion since users will find the products they want more quickly</td>\n",
       "      <td>1.125000</td>\n",
       "    </tr>\n",
       "    <tr>\n",
       "      <td>4</td>\n",
       "      <td>Change the background color on the main page. This will increase user engagement</td>\n",
       "      <td>1.000000</td>\n",
       "    </tr>\n",
       "  </tbody>\n",
       "</table>\n",
       "</div>"
      ],
      "text/plain": [
       "                                                                                                               Hypothesis  \\\n",
       "8                                                        Launch a promotion that gives users discounts on their birthdays   \n",
       "0                                             Add two new channels for attracting traffic. This will bring 30% more users   \n",
       "7                                Add a subscription form to all the main pages. This will help you compile a mailing list   \n",
       "6                                 Show banners with current offers and sales on the main page. This will boost conversion   \n",
       "2          Add product recommendation blocks to the store's site. This will increase conversion and average purchase size   \n",
       "1                                                       Launch your own delivery service. This will shorten delivery time   \n",
       "5                                                     Add a customer review page. This will increase the number of orders   \n",
       "3  Change the category structure. This will increase conversion since users will find the products they want more quickly   \n",
       "4                                        Change the background color on the main page. This will increase user engagement   \n",
       "\n",
       "         ICE  \n",
       "8  16.200000  \n",
       "0  13.333333  \n",
       "7  11.200000  \n",
       "6   8.000000  \n",
       "2   7.000000  \n",
       "1   2.000000  \n",
       "5   1.333333  \n",
       "3   1.125000  \n",
       "4   1.000000  "
      ]
     },
     "metadata": {},
     "output_type": "display_data"
    }
   ],
   "source": [
    "hypotheses['ICE'] = (hypotheses['Impact'] * hypotheses['Confidence']) / hypotheses['Effort']\n",
    "display(hypotheses[['Hypothesis', 'ICE']].sort_values(by='ICE', ascending=False))"
   ]
  },
  {
   "cell_type": "code",
   "execution_count": 18,
   "metadata": {},
   "outputs": [
    {
     "data": {
      "text/html": [
       "<div>\n",
       "<style scoped>\n",
       "    .dataframe tbody tr th:only-of-type {\n",
       "        vertical-align: middle;\n",
       "    }\n",
       "\n",
       "    .dataframe tbody tr th {\n",
       "        vertical-align: top;\n",
       "    }\n",
       "\n",
       "    .dataframe thead th {\n",
       "        text-align: right;\n",
       "    }\n",
       "</style>\n",
       "<table border=\"1\" class=\"dataframe\">\n",
       "  <thead>\n",
       "    <tr style=\"text-align: right;\">\n",
       "      <th></th>\n",
       "      <th>Hypothesis</th>\n",
       "      <th>RICE</th>\n",
       "    </tr>\n",
       "  </thead>\n",
       "  <tbody>\n",
       "    <tr>\n",
       "      <td>7</td>\n",
       "      <td>Add a subscription form to all the main pages. This will help you compile a mailing list</td>\n",
       "      <td>112.0</td>\n",
       "    </tr>\n",
       "    <tr>\n",
       "      <td>2</td>\n",
       "      <td>Add product recommendation blocks to the store's site. This will increase conversion and average purchase size</td>\n",
       "      <td>56.0</td>\n",
       "    </tr>\n",
       "    <tr>\n",
       "      <td>0</td>\n",
       "      <td>Add two new channels for attracting traffic. This will bring 30% more users</td>\n",
       "      <td>40.0</td>\n",
       "    </tr>\n",
       "    <tr>\n",
       "      <td>6</td>\n",
       "      <td>Show banners with current offers and sales on the main page. This will boost conversion</td>\n",
       "      <td>40.0</td>\n",
       "    </tr>\n",
       "    <tr>\n",
       "      <td>8</td>\n",
       "      <td>Launch a promotion that gives users discounts on their birthdays</td>\n",
       "      <td>16.2</td>\n",
       "    </tr>\n",
       "    <tr>\n",
       "      <td>3</td>\n",
       "      <td>Change the category structure. This will increase conversion since users will find the products they want more quickly</td>\n",
       "      <td>9.0</td>\n",
       "    </tr>\n",
       "    <tr>\n",
       "      <td>1</td>\n",
       "      <td>Launch your own delivery service. This will shorten delivery time</td>\n",
       "      <td>4.0</td>\n",
       "    </tr>\n",
       "    <tr>\n",
       "      <td>5</td>\n",
       "      <td>Add a customer review page. This will increase the number of orders</td>\n",
       "      <td>4.0</td>\n",
       "    </tr>\n",
       "    <tr>\n",
       "      <td>4</td>\n",
       "      <td>Change the background color on the main page. This will increase user engagement</td>\n",
       "      <td>3.0</td>\n",
       "    </tr>\n",
       "  </tbody>\n",
       "</table>\n",
       "</div>"
      ],
      "text/plain": [
       "                                                                                                               Hypothesis  \\\n",
       "7                                Add a subscription form to all the main pages. This will help you compile a mailing list   \n",
       "2          Add product recommendation blocks to the store's site. This will increase conversion and average purchase size   \n",
       "0                                             Add two new channels for attracting traffic. This will bring 30% more users   \n",
       "6                                 Show banners with current offers and sales on the main page. This will boost conversion   \n",
       "8                                                        Launch a promotion that gives users discounts on their birthdays   \n",
       "3  Change the category structure. This will increase conversion since users will find the products they want more quickly   \n",
       "1                                                       Launch your own delivery service. This will shorten delivery time   \n",
       "5                                                     Add a customer review page. This will increase the number of orders   \n",
       "4                                        Change the background color on the main page. This will increase user engagement   \n",
       "\n",
       "    RICE  \n",
       "7  112.0  \n",
       "2   56.0  \n",
       "0   40.0  \n",
       "6   40.0  \n",
       "8   16.2  \n",
       "3    9.0  \n",
       "1    4.0  \n",
       "5    4.0  \n",
       "4    3.0  "
      ]
     },
     "metadata": {},
     "output_type": "display_data"
    }
   ],
   "source": [
    "hypotheses['RICE'] = (hypotheses['Reach'] * hypotheses['Impact'] * hypotheses['Confidence']) / hypotheses['Effort']\n",
    "display(hypotheses[['Hypothesis', 'RICE']].sort_values(by='RICE', ascending=False))"
   ]
  },
  {
   "cell_type": "code",
   "execution_count": 19,
   "metadata": {},
   "outputs": [
    {
     "data": {
      "image/png": "[encoded data removed]",
      "text/plain": [
       "<Figure size 1152x360 with 1 Axes>"
      ]
     },
     "metadata": {
      "needs_background": "light"
     },
     "output_type": "display_data"
    }
   ],
   "source": [
    "hypotheses.plot(\n",
    "    x='Hypothesis',\n",
    "    y=['ICE', 'RICE'],\n",
    "    kind='bar',\n",
    "    figsize=(16,5))\n",
    "plt.show()"
   ]
  },
  {
   "cell_type": "markdown",
   "metadata": {},
   "source": [
    "* According to the sorted tables and graphs, you can see that for framework ICE, hypothesis number 8 has the highest rating.\n",
    "* And for framework RICE, hypothesis number 7 has the highest rating."
   ]
  },
  {
   "cell_type": "markdown",
   "metadata": {},
   "source": [
    "### Part 2. A/B Test Analysis <a name=\"Part2\"></a>"
   ]
  },
  {
   "cell_type": "code",
   "execution_count": 20,
   "metadata": {},
   "outputs": [
    {
     "data": {
      "text/html": [
       "<div>\n",
       "<style scoped>\n",
       "    .dataframe tbody tr th:only-of-type {\n",
       "        vertical-align: middle;\n",
       "    }\n",
       "\n",
       "    .dataframe tbody tr th {\n",
       "        vertical-align: top;\n",
       "    }\n",
       "\n",
       "    .dataframe thead th {\n",
       "        text-align: right;\n",
       "    }\n",
       "</style>\n",
       "<table border=\"1\" class=\"dataframe\">\n",
       "  <thead>\n",
       "    <tr style=\"text-align: right;\">\n",
       "      <th></th>\n",
       "      <th>date</th>\n",
       "      <th>group</th>\n",
       "    </tr>\n",
       "  </thead>\n",
       "  <tbody>\n",
       "    <tr>\n",
       "      <td>0</td>\n",
       "      <td>2019-08-15</td>\n",
       "      <td>B</td>\n",
       "    </tr>\n",
       "    <tr>\n",
       "      <td>7</td>\n",
       "      <td>2019-08-15</td>\n",
       "      <td>A</td>\n",
       "    </tr>\n",
       "    <tr>\n",
       "      <td>45</td>\n",
       "      <td>2019-08-16</td>\n",
       "      <td>A</td>\n",
       "    </tr>\n",
       "    <tr>\n",
       "      <td>47</td>\n",
       "      <td>2019-08-16</td>\n",
       "      <td>B</td>\n",
       "    </tr>\n",
       "    <tr>\n",
       "      <td>55</td>\n",
       "      <td>2019-08-01</td>\n",
       "      <td>A</td>\n",
       "    </tr>\n",
       "  </tbody>\n",
       "</table>\n",
       "</div>"
      ],
      "text/plain": [
       "          date group\n",
       "0   2019-08-15     B\n",
       "7   2019-08-15     A\n",
       "45  2019-08-16     A\n",
       "47  2019-08-16     B\n",
       "55  2019-08-01     A"
      ]
     },
     "execution_count": 20,
     "metadata": {},
     "output_type": "execute_result"
    }
   ],
   "source": [
    "grouped_data = df_orders_clean[['date', 'group']].drop_duplicates()\n",
    "grouped_data.head()"
   ]
  },
  {
   "cell_type": "code",
   "execution_count": 21,
   "metadata": {},
   "outputs": [
    {
     "data": {
      "text/html": [
       "<div>\n",
       "<style scoped>\n",
       "    .dataframe tbody tr th:only-of-type {\n",
       "        vertical-align: middle;\n",
       "    }\n",
       "\n",
       "    .dataframe tbody tr th {\n",
       "        vertical-align: top;\n",
       "    }\n",
       "\n",
       "    .dataframe thead th {\n",
       "        text-align: right;\n",
       "    }\n",
       "</style>\n",
       "<table border=\"1\" class=\"dataframe\">\n",
       "  <thead>\n",
       "    <tr style=\"text-align: right;\">\n",
       "      <th></th>\n",
       "      <th>transactionId</th>\n",
       "      <th>visitorId</th>\n",
       "      <th>date</th>\n",
       "      <th>revenue</th>\n",
       "      <th>group</th>\n",
       "    </tr>\n",
       "  </thead>\n",
       "  <tbody>\n",
       "    <tr>\n",
       "      <td>0</td>\n",
       "      <td>3667963787</td>\n",
       "      <td>3312258926</td>\n",
       "      <td>2019-08-15</td>\n",
       "      <td>30.4</td>\n",
       "      <td>B</td>\n",
       "    </tr>\n",
       "    <tr>\n",
       "      <td>1</td>\n",
       "      <td>2804400009</td>\n",
       "      <td>3642806036</td>\n",
       "      <td>2019-08-15</td>\n",
       "      <td>15.2</td>\n",
       "      <td>B</td>\n",
       "    </tr>\n",
       "    <tr>\n",
       "      <td>3</td>\n",
       "      <td>3797467345</td>\n",
       "      <td>1196621759</td>\n",
       "      <td>2019-08-15</td>\n",
       "      <td>155.1</td>\n",
       "      <td>B</td>\n",
       "    </tr>\n",
       "    <tr>\n",
       "      <td>4</td>\n",
       "      <td>2282983706</td>\n",
       "      <td>2322279887</td>\n",
       "      <td>2019-08-15</td>\n",
       "      <td>40.5</td>\n",
       "      <td>B</td>\n",
       "    </tr>\n",
       "    <tr>\n",
       "      <td>5</td>\n",
       "      <td>182168103</td>\n",
       "      <td>935554773</td>\n",
       "      <td>2019-08-15</td>\n",
       "      <td>35.0</td>\n",
       "      <td>B</td>\n",
       "    </tr>\n",
       "  </tbody>\n",
       "</table>\n",
       "</div>"
      ],
      "text/plain": [
       "   transactionId   visitorId        date  revenue group\n",
       "0     3667963787  3312258926  2019-08-15     30.4     B\n",
       "1     2804400009  3642806036  2019-08-15     15.2     B\n",
       "3     3797467345  1196621759  2019-08-15    155.1     B\n",
       "4     2282983706  2322279887  2019-08-15     40.5     B\n",
       "5      182168103   935554773  2019-08-15     35.0     B"
      ]
     },
     "execution_count": 21,
     "metadata": {},
     "output_type": "execute_result"
    }
   ],
   "source": [
    "df_orders_clean.head()"
   ]
  },
  {
   "cell_type": "code",
   "execution_count": 22,
   "metadata": {},
   "outputs": [],
   "source": [
    "# getting aggregated cumulative daily data on orders\n",
    "orders_agg = grouped_data.apply(\n",
    "    lambda x: df_orders[np.logical_and(df_orders['date'] <= x['date'], df_orders['group'] == x['group'])].agg({\n",
    "    'date' : 'max',\n",
    "    'group' : 'max',\n",
    "    'transactionId' : pd.Series.nunique,\n",
    "    'visitorId' : pd.Series.nunique,\n",
    "    'revenue' : 'sum'}), axis=1).sort_values(by=['date','group']\n",
    ")"
   ]
  },
  {
   "cell_type": "code",
   "execution_count": 23,
   "metadata": {},
   "outputs": [
    {
     "data": {
      "text/html": [
       "<div>\n",
       "<style scoped>\n",
       "    .dataframe tbody tr th:only-of-type {\n",
       "        vertical-align: middle;\n",
       "    }\n",
       "\n",
       "    .dataframe tbody tr th {\n",
       "        vertical-align: top;\n",
       "    }\n",
       "\n",
       "    .dataframe thead th {\n",
       "        text-align: right;\n",
       "    }\n",
       "</style>\n",
       "<table border=\"1\" class=\"dataframe\">\n",
       "  <thead>\n",
       "    <tr style=\"text-align: right;\">\n",
       "      <th></th>\n",
       "      <th>date</th>\n",
       "      <th>group</th>\n",
       "      <th>transactionId</th>\n",
       "      <th>visitorId</th>\n",
       "      <th>revenue</th>\n",
       "    </tr>\n",
       "  </thead>\n",
       "  <tbody>\n",
       "    <tr>\n",
       "      <td>55</td>\n",
       "      <td>2019-08-01</td>\n",
       "      <td>A</td>\n",
       "      <td>24</td>\n",
       "      <td>20</td>\n",
       "      <td>2356.8</td>\n",
       "    </tr>\n",
       "    <tr>\n",
       "      <td>66</td>\n",
       "      <td>2019-08-01</td>\n",
       "      <td>B</td>\n",
       "      <td>21</td>\n",
       "      <td>20</td>\n",
       "      <td>1620.0</td>\n",
       "    </tr>\n",
       "    <tr>\n",
       "      <td>175</td>\n",
       "      <td>2019-08-02</td>\n",
       "      <td>A</td>\n",
       "      <td>44</td>\n",
       "      <td>38</td>\n",
       "      <td>3860.3</td>\n",
       "    </tr>\n",
       "    <tr>\n",
       "      <td>173</td>\n",
       "      <td>2019-08-02</td>\n",
       "      <td>B</td>\n",
       "      <td>45</td>\n",
       "      <td>43</td>\n",
       "      <td>4243.8</td>\n",
       "    </tr>\n",
       "    <tr>\n",
       "      <td>291</td>\n",
       "      <td>2019-08-03</td>\n",
       "      <td>A</td>\n",
       "      <td>68</td>\n",
       "      <td>62</td>\n",
       "      <td>5675.5</td>\n",
       "    </tr>\n",
       "  </tbody>\n",
       "</table>\n",
       "</div>"
      ],
      "text/plain": [
       "           date group  transactionId  visitorId  revenue\n",
       "55   2019-08-01     A             24         20   2356.8\n",
       "66   2019-08-01     B             21         20   1620.0\n",
       "175  2019-08-02     A             44         38   3860.3\n",
       "173  2019-08-02     B             45         43   4243.8\n",
       "291  2019-08-03     A             68         62   5675.5"
      ]
     },
     "execution_count": 23,
     "metadata": {},
     "output_type": "execute_result"
    }
   ],
   "source": [
    "orders_agg.head()"
   ]
  },
  {
   "cell_type": "code",
   "execution_count": 24,
   "metadata": {},
   "outputs": [],
   "source": [
    "# getting aggregated cumulative daily data on visitors  \n",
    "visitors_agg = grouped_data.apply(\n",
    "lambda x: df_visits[np.logical_and(df_visits['date'] <= x['date'], df_visits['group'] == x['group'])].agg({\n",
    "'date' : 'max',\n",
    "'group' : 'max',\n",
    "'visits' : 'sum'}), axis=1).sort_values(by=['date','group'])"
   ]
  },
  {
   "cell_type": "code",
   "execution_count": 25,
   "metadata": {},
   "outputs": [
    {
     "data": {
      "text/html": [
       "<div>\n",
       "<style scoped>\n",
       "    .dataframe tbody tr th:only-of-type {\n",
       "        vertical-align: middle;\n",
       "    }\n",
       "\n",
       "    .dataframe tbody tr th {\n",
       "        vertical-align: top;\n",
       "    }\n",
       "\n",
       "    .dataframe thead th {\n",
       "        text-align: right;\n",
       "    }\n",
       "</style>\n",
       "<table border=\"1\" class=\"dataframe\">\n",
       "  <thead>\n",
       "    <tr style=\"text-align: right;\">\n",
       "      <th></th>\n",
       "      <th>date</th>\n",
       "      <th>group</th>\n",
       "      <th>visits</th>\n",
       "    </tr>\n",
       "  </thead>\n",
       "  <tbody>\n",
       "    <tr>\n",
       "      <td>55</td>\n",
       "      <td>2019-08-01</td>\n",
       "      <td>A</td>\n",
       "      <td>719</td>\n",
       "    </tr>\n",
       "    <tr>\n",
       "      <td>66</td>\n",
       "      <td>2019-08-01</td>\n",
       "      <td>B</td>\n",
       "      <td>713</td>\n",
       "    </tr>\n",
       "    <tr>\n",
       "      <td>175</td>\n",
       "      <td>2019-08-02</td>\n",
       "      <td>A</td>\n",
       "      <td>1338</td>\n",
       "    </tr>\n",
       "    <tr>\n",
       "      <td>173</td>\n",
       "      <td>2019-08-02</td>\n",
       "      <td>B</td>\n",
       "      <td>1294</td>\n",
       "    </tr>\n",
       "    <tr>\n",
       "      <td>291</td>\n",
       "      <td>2019-08-03</td>\n",
       "      <td>A</td>\n",
       "      <td>1845</td>\n",
       "    </tr>\n",
       "  </tbody>\n",
       "</table>\n",
       "</div>"
      ],
      "text/plain": [
       "           date group  visits\n",
       "55   2019-08-01     A     719\n",
       "66   2019-08-01     B     713\n",
       "175  2019-08-02     A    1338\n",
       "173  2019-08-02     B    1294\n",
       "291  2019-08-03     A    1845"
      ]
     },
     "execution_count": 25,
     "metadata": {},
     "output_type": "execute_result"
    }
   ],
   "source": [
    "visitors_agg.head()"
   ]
  },
  {
   "cell_type": "code",
   "execution_count": 26,
   "metadata": {},
   "outputs": [
    {
     "name": "stdout",
     "output_type": "stream",
     "text": [
      "         date group  orders  buyers  revenue  visitors\n",
      "0  2019-08-01     A      24      20   2356.8       719\n",
      "1  2019-08-01     B      21      20   1620.0       713\n",
      "2  2019-08-02     A      44      38   3860.3      1338\n",
      "3  2019-08-02     B      45      43   4243.8      1294\n",
      "4  2019-08-03     A      68      62   5675.5      1845\n"
     ]
    }
   ],
   "source": [
    "# merging the two tables into one and giving its columns descriptive names\n",
    "cumulative_data = orders_agg.merge(visitors_agg, left_on=['date', 'group'], right_on=['date', 'group'])\n",
    "cumulative_data.columns = ['date', 'group', 'orders', 'buyers', 'revenue', 'visitors']\n",
    "\n",
    "print(cumulative_data.head(5)) "
   ]
  },
  {
   "cell_type": "code",
   "execution_count": 27,
   "metadata": {},
   "outputs": [],
   "source": [
    "cumulative_revenue_a = cumulative_data[cumulative_data['group']=='A'][['date','revenue', 'orders']]\n",
    "cumulative_revenue_b = cumulative_data[cumulative_data['group']=='B'][['date','revenue', 'orders']]"
   ]
  },
  {
   "cell_type": "code",
   "execution_count": 28,
   "metadata": {},
   "outputs": [
    {
     "data": {
      "text/html": [
       "<div>\n",
       "<style scoped>\n",
       "    .dataframe tbody tr th:only-of-type {\n",
       "        vertical-align: middle;\n",
       "    }\n",
       "\n",
       "    .dataframe tbody tr th {\n",
       "        vertical-align: top;\n",
       "    }\n",
       "\n",
       "    .dataframe thead th {\n",
       "        text-align: right;\n",
       "    }\n",
       "</style>\n",
       "<table border=\"1\" class=\"dataframe\">\n",
       "  <thead>\n",
       "    <tr style=\"text-align: right;\">\n",
       "      <th></th>\n",
       "      <th>date</th>\n",
       "      <th>revenue</th>\n",
       "      <th>orders</th>\n",
       "    </tr>\n",
       "  </thead>\n",
       "  <tbody>\n",
       "    <tr>\n",
       "      <td>0</td>\n",
       "      <td>2019-08-01</td>\n",
       "      <td>2356.8</td>\n",
       "      <td>24</td>\n",
       "    </tr>\n",
       "    <tr>\n",
       "      <td>2</td>\n",
       "      <td>2019-08-02</td>\n",
       "      <td>3860.3</td>\n",
       "      <td>44</td>\n",
       "    </tr>\n",
       "    <tr>\n",
       "      <td>4</td>\n",
       "      <td>2019-08-03</td>\n",
       "      <td>5675.5</td>\n",
       "      <td>68</td>\n",
       "    </tr>\n",
       "    <tr>\n",
       "      <td>6</td>\n",
       "      <td>2019-08-04</td>\n",
       "      <td>6822.1</td>\n",
       "      <td>84</td>\n",
       "    </tr>\n",
       "    <tr>\n",
       "      <td>8</td>\n",
       "      <td>2019-08-05</td>\n",
       "      <td>8810.2</td>\n",
       "      <td>109</td>\n",
       "    </tr>\n",
       "  </tbody>\n",
       "</table>\n",
       "</div>"
      ],
      "text/plain": [
       "         date  revenue  orders\n",
       "0  2019-08-01   2356.8      24\n",
       "2  2019-08-02   3860.3      44\n",
       "4  2019-08-03   5675.5      68\n",
       "6  2019-08-04   6822.1      84\n",
       "8  2019-08-05   8810.2     109"
      ]
     },
     "execution_count": 28,
     "metadata": {},
     "output_type": "execute_result"
    }
   ],
   "source": [
    "cumulative_revenue_a.head()"
   ]
  },
  {
   "cell_type": "code",
   "execution_count": 29,
   "metadata": {},
   "outputs": [
    {
     "data": {
      "text/html": [
       "<div>\n",
       "<style scoped>\n",
       "    .dataframe tbody tr th:only-of-type {\n",
       "        vertical-align: middle;\n",
       "    }\n",
       "\n",
       "    .dataframe tbody tr th {\n",
       "        vertical-align: top;\n",
       "    }\n",
       "\n",
       "    .dataframe thead th {\n",
       "        text-align: right;\n",
       "    }\n",
       "</style>\n",
       "<table border=\"1\" class=\"dataframe\">\n",
       "  <thead>\n",
       "    <tr style=\"text-align: right;\">\n",
       "      <th></th>\n",
       "      <th>date</th>\n",
       "      <th>revenue</th>\n",
       "      <th>orders</th>\n",
       "    </tr>\n",
       "  </thead>\n",
       "  <tbody>\n",
       "    <tr>\n",
       "      <td>1</td>\n",
       "      <td>2019-08-01</td>\n",
       "      <td>1620.0</td>\n",
       "      <td>21</td>\n",
       "    </tr>\n",
       "    <tr>\n",
       "      <td>3</td>\n",
       "      <td>2019-08-02</td>\n",
       "      <td>4243.8</td>\n",
       "      <td>45</td>\n",
       "    </tr>\n",
       "    <tr>\n",
       "      <td>5</td>\n",
       "      <td>2019-08-03</td>\n",
       "      <td>6050.6</td>\n",
       "      <td>61</td>\n",
       "    </tr>\n",
       "    <tr>\n",
       "      <td>7</td>\n",
       "      <td>2019-08-04</td>\n",
       "      <td>7767.9</td>\n",
       "      <td>78</td>\n",
       "    </tr>\n",
       "    <tr>\n",
       "      <td>9</td>\n",
       "      <td>2019-08-05</td>\n",
       "      <td>9262.9</td>\n",
       "      <td>101</td>\n",
       "    </tr>\n",
       "  </tbody>\n",
       "</table>\n",
       "</div>"
      ],
      "text/plain": [
       "         date  revenue  orders\n",
       "1  2019-08-01   1620.0      21\n",
       "3  2019-08-02   4243.8      45\n",
       "5  2019-08-03   6050.6      61\n",
       "7  2019-08-04   7767.9      78\n",
       "9  2019-08-05   9262.9     101"
      ]
     },
     "execution_count": 29,
     "metadata": {},
     "output_type": "execute_result"
    }
   ],
   "source": [
    "cumulative_revenue_b.head()"
   ]
  },
  {
   "cell_type": "code",
   "execution_count": 30,
   "metadata": {},
   "outputs": [
    {
     "data": {
      "image/png": "[encoded data removed]",
      "text/plain": [
       "<Figure size 1152x360 with 1 Axes>"
      ]
     },
     "metadata": {
      "needs_background": "light"
     },
     "output_type": "display_data"
    }
   ],
   "source": [
    "plt.figure(figsize=[16,5])\n",
    "plt.locs, labels = plt.xticks()\n",
    "plt.setp(labels, rotation=90)\n",
    "\n",
    "plt.plot(cumulative_revenue_a['date'], \n",
    "         cumulative_revenue_a['revenue'],                           \n",
    "         label='A')\n",
    "\n",
    "plt.plot(\n",
    "         cumulative_revenue_b['date'],\n",
    "         cumulative_revenue_b['revenue'], \n",
    "         label='B'\n",
    ")\n",
    "\n",
    "plt.title('Graphs cumulative revenue by group')\n",
    "plt.ylabel('Cumulative amount')\n",
    "plt.xlabel('Dates')\n",
    "plt.legend()\n",
    "plt.show()"
   ]
  },
  {
   "cell_type": "markdown",
   "metadata": {},
   "source": [
    "> * Looking at the graph, we can tell that the marketing strategy works best for Group B starting August 18-19. Compared to group A."
   ]
  },
  {
   "cell_type": "code",
   "execution_count": 31,
   "metadata": {},
   "outputs": [
    {
     "data": {
      "image/png": "[encoded data removed]",
      "text/plain": [
       "<Figure size 1152x360 with 1 Axes>"
      ]
     },
     "metadata": {
      "needs_background": "light"
     },
     "output_type": "display_data"
    }
   ],
   "source": [
    "plt.figure(figsize=[16,5])\n",
    "plt.locs, labels = plt.xticks()\n",
    "plt.setp(labels, rotation=90)\n",
    "\n",
    "plt.plot(cumulative_revenue_a['date'], \n",
    "         cumulative_revenue_a['revenue'] / cumulative_revenue_a['orders'],                           \n",
    "         label='A')\n",
    "\n",
    "plt.plot(\n",
    "         cumulative_revenue_b['date'],\n",
    "         cumulative_revenue_b['revenue'] / cumulative_revenue_b['orders'],\n",
    "         label='B'\n",
    ")\n",
    "\n",
    "plt.title('Graphs cumulative average order size by group')\n",
    "plt.ylabel('Cumulative amount')\n",
    "plt.xlabel('Dates')\n",
    "plt.legend()\n",
    "plt.show()"
   ]
  },
  {
   "cell_type": "markdown",
   "metadata": {},
   "source": [
    "> * According to this graph, the average order size by group starts to differ, just like for the cumulative revenue graph for the group, August 18-19."
   ]
  },
  {
   "cell_type": "code",
   "execution_count": 32,
   "metadata": {},
   "outputs": [],
   "source": [
    "# merge 2 DF's:\n",
    "cumulative_revenue_merged = cumulative_revenue_a.merge(cumulative_revenue_b, left_on='date', \n",
    "                                                   right_on='date', how='left', suffixes=['A', 'B'])"
   ]
  },
  {
   "cell_type": "code",
   "execution_count": 33,
   "metadata": {},
   "outputs": [
    {
     "data": {
      "text/html": [
       "<div>\n",
       "<style scoped>\n",
       "    .dataframe tbody tr th:only-of-type {\n",
       "        vertical-align: middle;\n",
       "    }\n",
       "\n",
       "    .dataframe tbody tr th {\n",
       "        vertical-align: top;\n",
       "    }\n",
       "\n",
       "    .dataframe thead th {\n",
       "        text-align: right;\n",
       "    }\n",
       "</style>\n",
       "<table border=\"1\" class=\"dataframe\">\n",
       "  <thead>\n",
       "    <tr style=\"text-align: right;\">\n",
       "      <th></th>\n",
       "      <th>date</th>\n",
       "      <th>revenueA</th>\n",
       "      <th>ordersA</th>\n",
       "      <th>revenueB</th>\n",
       "      <th>ordersB</th>\n",
       "    </tr>\n",
       "  </thead>\n",
       "  <tbody>\n",
       "    <tr>\n",
       "      <td>0</td>\n",
       "      <td>2019-08-01</td>\n",
       "      <td>2356.8</td>\n",
       "      <td>24</td>\n",
       "      <td>1620.0</td>\n",
       "      <td>21</td>\n",
       "    </tr>\n",
       "    <tr>\n",
       "      <td>1</td>\n",
       "      <td>2019-08-02</td>\n",
       "      <td>3860.3</td>\n",
       "      <td>44</td>\n",
       "      <td>4243.8</td>\n",
       "      <td>45</td>\n",
       "    </tr>\n",
       "    <tr>\n",
       "      <td>2</td>\n",
       "      <td>2019-08-03</td>\n",
       "      <td>5675.5</td>\n",
       "      <td>68</td>\n",
       "      <td>6050.6</td>\n",
       "      <td>61</td>\n",
       "    </tr>\n",
       "    <tr>\n",
       "      <td>3</td>\n",
       "      <td>2019-08-04</td>\n",
       "      <td>6822.1</td>\n",
       "      <td>84</td>\n",
       "      <td>7767.9</td>\n",
       "      <td>78</td>\n",
       "    </tr>\n",
       "    <tr>\n",
       "      <td>4</td>\n",
       "      <td>2019-08-05</td>\n",
       "      <td>8810.2</td>\n",
       "      <td>109</td>\n",
       "      <td>9262.9</td>\n",
       "      <td>101</td>\n",
       "    </tr>\n",
       "  </tbody>\n",
       "</table>\n",
       "</div>"
      ],
      "text/plain": [
       "         date  revenueA  ordersA  revenueB  ordersB\n",
       "0  2019-08-01    2356.8       24    1620.0       21\n",
       "1  2019-08-02    3860.3       44    4243.8       45\n",
       "2  2019-08-03    5675.5       68    6050.6       61\n",
       "3  2019-08-04    6822.1       84    7767.9       78\n",
       "4  2019-08-05    8810.2      109    9262.9      101"
      ]
     },
     "execution_count": 33,
     "metadata": {},
     "output_type": "execute_result"
    }
   ],
   "source": [
    "cumulative_revenue_merged.head()"
   ]
  },
  {
   "cell_type": "code",
   "execution_count": 34,
   "metadata": {},
   "outputs": [
    {
     "data": {
      "image/png": "[encoded data removed]",
      "text/plain": [
       "<Figure size 1152x360 with 1 Axes>"
      ]
     },
     "metadata": {
      "needs_background": "light"
     },
     "output_type": "display_data"
    }
   ],
   "source": [
    "plt.figure(figsize=[16,5])\n",
    "plt.plot(cumulative_revenue_merged['date'], \n",
    "        (cumulative_revenue_merged['revenueB']/ cumulative_revenue_merged['ordersB']) /\n",
    "        (cumulative_revenue_merged['revenueA']/ cumulative_revenue_merged['ordersA']) - 1)\n",
    "locs, labels = plt.xticks()\n",
    "plt.setp(labels, rotation=90)\n",
    "plt.axhline(y=0, color='black', linestyle='--')\n",
    "plt.axhline(y=0.3, color='grey', linestyle='--')\n",
    "\n",
    "plt.title('Graph the relative difference in cumulative average order size for group B compared with group A')\n",
    "plt.ylabel('Score')\n",
    "plt.xlabel('Dates')\n",
    "plt.show()"
   ]
  },
  {
   "cell_type": "markdown",
   "metadata": {},
   "source": [
    "> * According to this graph, we can see that at several points the difference between the segments spikes. \n",
    "> * This means there must be some big orders and outliers for both groups actually, but a specialy for group B. Because we have very big changes in range from 05-08 of August and in 18-20 of August."
   ]
  },
  {
   "cell_type": "code",
   "execution_count": 35,
   "metadata": {},
   "outputs": [
    {
     "data": {
      "text/html": [
       "<div>\n",
       "<style scoped>\n",
       "    .dataframe tbody tr th:only-of-type {\n",
       "        vertical-align: middle;\n",
       "    }\n",
       "\n",
       "    .dataframe tbody tr th {\n",
       "        vertical-align: top;\n",
       "    }\n",
       "\n",
       "    .dataframe thead th {\n",
       "        text-align: right;\n",
       "    }\n",
       "</style>\n",
       "<table border=\"1\" class=\"dataframe\">\n",
       "  <thead>\n",
       "    <tr style=\"text-align: right;\">\n",
       "      <th></th>\n",
       "      <th>date</th>\n",
       "      <th>group</th>\n",
       "      <th>orders</th>\n",
       "      <th>buyers</th>\n",
       "      <th>revenue</th>\n",
       "      <th>visitors</th>\n",
       "    </tr>\n",
       "  </thead>\n",
       "  <tbody>\n",
       "    <tr>\n",
       "      <td>0</td>\n",
       "      <td>2019-08-01</td>\n",
       "      <td>A</td>\n",
       "      <td>24</td>\n",
       "      <td>20</td>\n",
       "      <td>2356.8</td>\n",
       "      <td>719</td>\n",
       "    </tr>\n",
       "    <tr>\n",
       "      <td>1</td>\n",
       "      <td>2019-08-01</td>\n",
       "      <td>B</td>\n",
       "      <td>21</td>\n",
       "      <td>20</td>\n",
       "      <td>1620.0</td>\n",
       "      <td>713</td>\n",
       "    </tr>\n",
       "    <tr>\n",
       "      <td>2</td>\n",
       "      <td>2019-08-02</td>\n",
       "      <td>A</td>\n",
       "      <td>44</td>\n",
       "      <td>38</td>\n",
       "      <td>3860.3</td>\n",
       "      <td>1338</td>\n",
       "    </tr>\n",
       "    <tr>\n",
       "      <td>3</td>\n",
       "      <td>2019-08-02</td>\n",
       "      <td>B</td>\n",
       "      <td>45</td>\n",
       "      <td>43</td>\n",
       "      <td>4243.8</td>\n",
       "      <td>1294</td>\n",
       "    </tr>\n",
       "    <tr>\n",
       "      <td>4</td>\n",
       "      <td>2019-08-03</td>\n",
       "      <td>A</td>\n",
       "      <td>68</td>\n",
       "      <td>62</td>\n",
       "      <td>5675.5</td>\n",
       "      <td>1845</td>\n",
       "    </tr>\n",
       "  </tbody>\n",
       "</table>\n",
       "</div>"
      ],
      "text/plain": [
       "         date group  orders  buyers  revenue  visitors\n",
       "0  2019-08-01     A      24      20   2356.8       719\n",
       "1  2019-08-01     B      21      20   1620.0       713\n",
       "2  2019-08-02     A      44      38   3860.3      1338\n",
       "3  2019-08-02     B      45      43   4243.8      1294\n",
       "4  2019-08-03     A      68      62   5675.5      1845"
      ]
     },
     "execution_count": 35,
     "metadata": {},
     "output_type": "execute_result"
    }
   ],
   "source": [
    "cumulative_data.head()"
   ]
  },
  {
   "cell_type": "code",
   "execution_count": 36,
   "metadata": {},
   "outputs": [
    {
     "data": {
      "text/html": [
       "<div>\n",
       "<style scoped>\n",
       "    .dataframe tbody tr th:only-of-type {\n",
       "        vertical-align: middle;\n",
       "    }\n",
       "\n",
       "    .dataframe tbody tr th {\n",
       "        vertical-align: top;\n",
       "    }\n",
       "\n",
       "    .dataframe thead th {\n",
       "        text-align: right;\n",
       "    }\n",
       "</style>\n",
       "<table border=\"1\" class=\"dataframe\">\n",
       "  <thead>\n",
       "    <tr style=\"text-align: right;\">\n",
       "      <th></th>\n",
       "      <th>date</th>\n",
       "      <th>group</th>\n",
       "      <th>orders</th>\n",
       "      <th>buyers</th>\n",
       "      <th>revenue</th>\n",
       "      <th>visitors</th>\n",
       "      <th>conversion</th>\n",
       "    </tr>\n",
       "  </thead>\n",
       "  <tbody>\n",
       "    <tr>\n",
       "      <td>0</td>\n",
       "      <td>2019-08-01</td>\n",
       "      <td>A</td>\n",
       "      <td>24</td>\n",
       "      <td>20</td>\n",
       "      <td>2356.8</td>\n",
       "      <td>719</td>\n",
       "      <td>0.033380</td>\n",
       "    </tr>\n",
       "    <tr>\n",
       "      <td>1</td>\n",
       "      <td>2019-08-01</td>\n",
       "      <td>B</td>\n",
       "      <td>21</td>\n",
       "      <td>20</td>\n",
       "      <td>1620.0</td>\n",
       "      <td>713</td>\n",
       "      <td>0.029453</td>\n",
       "    </tr>\n",
       "    <tr>\n",
       "      <td>2</td>\n",
       "      <td>2019-08-02</td>\n",
       "      <td>A</td>\n",
       "      <td>44</td>\n",
       "      <td>38</td>\n",
       "      <td>3860.3</td>\n",
       "      <td>1338</td>\n",
       "      <td>0.032885</td>\n",
       "    </tr>\n",
       "    <tr>\n",
       "      <td>3</td>\n",
       "      <td>2019-08-02</td>\n",
       "      <td>B</td>\n",
       "      <td>45</td>\n",
       "      <td>43</td>\n",
       "      <td>4243.8</td>\n",
       "      <td>1294</td>\n",
       "      <td>0.034776</td>\n",
       "    </tr>\n",
       "    <tr>\n",
       "      <td>4</td>\n",
       "      <td>2019-08-03</td>\n",
       "      <td>A</td>\n",
       "      <td>68</td>\n",
       "      <td>62</td>\n",
       "      <td>5675.5</td>\n",
       "      <td>1845</td>\n",
       "      <td>0.036856</td>\n",
       "    </tr>\n",
       "  </tbody>\n",
       "</table>\n",
       "</div>"
      ],
      "text/plain": [
       "         date group  orders  buyers  revenue  visitors  conversion\n",
       "0  2019-08-01     A      24      20   2356.8       719    0.033380\n",
       "1  2019-08-01     B      21      20   1620.0       713    0.029453\n",
       "2  2019-08-02     A      44      38   3860.3      1338    0.032885\n",
       "3  2019-08-02     B      45      43   4243.8      1294    0.034776\n",
       "4  2019-08-03     A      68      62   5675.5      1845    0.036856"
      ]
     },
     "execution_count": 36,
     "metadata": {},
     "output_type": "execute_result"
    }
   ],
   "source": [
    "cumulative_data['conversion'] = cumulative_data['orders'] / cumulative_data['visitors']\n",
    "cumulative_data.head()"
   ]
  },
  {
   "cell_type": "code",
   "execution_count": 37,
   "metadata": {},
   "outputs": [
    {
     "data": {
      "text/html": [
       "<div>\n",
       "<style scoped>\n",
       "    .dataframe tbody tr th:only-of-type {\n",
       "        vertical-align: middle;\n",
       "    }\n",
       "\n",
       "    .dataframe tbody tr th {\n",
       "        vertical-align: top;\n",
       "    }\n",
       "\n",
       "    .dataframe thead th {\n",
       "        text-align: right;\n",
       "    }\n",
       "</style>\n",
       "<table border=\"1\" class=\"dataframe\">\n",
       "  <thead>\n",
       "    <tr style=\"text-align: right;\">\n",
       "      <th></th>\n",
       "      <th>date</th>\n",
       "      <th>group</th>\n",
       "      <th>orders</th>\n",
       "      <th>buyers</th>\n",
       "      <th>revenue</th>\n",
       "      <th>visitors</th>\n",
       "      <th>conversion</th>\n",
       "    </tr>\n",
       "  </thead>\n",
       "  <tbody>\n",
       "    <tr>\n",
       "      <td>0</td>\n",
       "      <td>2019-08-01</td>\n",
       "      <td>A</td>\n",
       "      <td>24</td>\n",
       "      <td>20</td>\n",
       "      <td>2356.8</td>\n",
       "      <td>719</td>\n",
       "      <td>0.033380</td>\n",
       "    </tr>\n",
       "    <tr>\n",
       "      <td>2</td>\n",
       "      <td>2019-08-02</td>\n",
       "      <td>A</td>\n",
       "      <td>44</td>\n",
       "      <td>38</td>\n",
       "      <td>3860.3</td>\n",
       "      <td>1338</td>\n",
       "      <td>0.032885</td>\n",
       "    </tr>\n",
       "    <tr>\n",
       "      <td>4</td>\n",
       "      <td>2019-08-03</td>\n",
       "      <td>A</td>\n",
       "      <td>68</td>\n",
       "      <td>62</td>\n",
       "      <td>5675.5</td>\n",
       "      <td>1845</td>\n",
       "      <td>0.036856</td>\n",
       "    </tr>\n",
       "    <tr>\n",
       "      <td>6</td>\n",
       "      <td>2019-08-04</td>\n",
       "      <td>A</td>\n",
       "      <td>84</td>\n",
       "      <td>77</td>\n",
       "      <td>6822.1</td>\n",
       "      <td>2562</td>\n",
       "      <td>0.032787</td>\n",
       "    </tr>\n",
       "    <tr>\n",
       "      <td>8</td>\n",
       "      <td>2019-08-05</td>\n",
       "      <td>A</td>\n",
       "      <td>109</td>\n",
       "      <td>100</td>\n",
       "      <td>8810.2</td>\n",
       "      <td>3318</td>\n",
       "      <td>0.032851</td>\n",
       "    </tr>\n",
       "  </tbody>\n",
       "</table>\n",
       "</div>"
      ],
      "text/plain": [
       "         date group  orders  buyers  revenue  visitors  conversion\n",
       "0  2019-08-01     A      24      20   2356.8       719    0.033380\n",
       "2  2019-08-02     A      44      38   3860.3      1338    0.032885\n",
       "4  2019-08-03     A      68      62   5675.5      1845    0.036856\n",
       "6  2019-08-04     A      84      77   6822.1      2562    0.032787\n",
       "8  2019-08-05     A     109     100   8810.2      3318    0.032851"
      ]
     },
     "execution_count": 37,
     "metadata": {},
     "output_type": "execute_result"
    }
   ],
   "source": [
    "cumulative_data_a = cumulative_data[cumulative_data['group']=='A']\n",
    "cumulative_data_a.head()"
   ]
  },
  {
   "cell_type": "code",
   "execution_count": 38,
   "metadata": {},
   "outputs": [
    {
     "data": {
      "text/html": [
       "<div>\n",
       "<style scoped>\n",
       "    .dataframe tbody tr th:only-of-type {\n",
       "        vertical-align: middle;\n",
       "    }\n",
       "\n",
       "    .dataframe tbody tr th {\n",
       "        vertical-align: top;\n",
       "    }\n",
       "\n",
       "    .dataframe thead th {\n",
       "        text-align: right;\n",
       "    }\n",
       "</style>\n",
       "<table border=\"1\" class=\"dataframe\">\n",
       "  <thead>\n",
       "    <tr style=\"text-align: right;\">\n",
       "      <th></th>\n",
       "      <th>date</th>\n",
       "      <th>group</th>\n",
       "      <th>orders</th>\n",
       "      <th>buyers</th>\n",
       "      <th>revenue</th>\n",
       "      <th>visitors</th>\n",
       "      <th>conversion</th>\n",
       "    </tr>\n",
       "  </thead>\n",
       "  <tbody>\n",
       "    <tr>\n",
       "      <td>1</td>\n",
       "      <td>2019-08-01</td>\n",
       "      <td>B</td>\n",
       "      <td>21</td>\n",
       "      <td>20</td>\n",
       "      <td>1620.0</td>\n",
       "      <td>713</td>\n",
       "      <td>0.029453</td>\n",
       "    </tr>\n",
       "    <tr>\n",
       "      <td>3</td>\n",
       "      <td>2019-08-02</td>\n",
       "      <td>B</td>\n",
       "      <td>45</td>\n",
       "      <td>43</td>\n",
       "      <td>4243.8</td>\n",
       "      <td>1294</td>\n",
       "      <td>0.034776</td>\n",
       "    </tr>\n",
       "    <tr>\n",
       "      <td>5</td>\n",
       "      <td>2019-08-03</td>\n",
       "      <td>B</td>\n",
       "      <td>61</td>\n",
       "      <td>59</td>\n",
       "      <td>6050.6</td>\n",
       "      <td>1803</td>\n",
       "      <td>0.033833</td>\n",
       "    </tr>\n",
       "    <tr>\n",
       "      <td>7</td>\n",
       "      <td>2019-08-04</td>\n",
       "      <td>B</td>\n",
       "      <td>78</td>\n",
       "      <td>75</td>\n",
       "      <td>7767.9</td>\n",
       "      <td>2573</td>\n",
       "      <td>0.030315</td>\n",
       "    </tr>\n",
       "    <tr>\n",
       "      <td>9</td>\n",
       "      <td>2019-08-05</td>\n",
       "      <td>B</td>\n",
       "      <td>101</td>\n",
       "      <td>98</td>\n",
       "      <td>9262.9</td>\n",
       "      <td>3280</td>\n",
       "      <td>0.030793</td>\n",
       "    </tr>\n",
       "  </tbody>\n",
       "</table>\n",
       "</div>"
      ],
      "text/plain": [
       "         date group  orders  buyers  revenue  visitors  conversion\n",
       "1  2019-08-01     B      21      20   1620.0       713    0.029453\n",
       "3  2019-08-02     B      45      43   4243.8      1294    0.034776\n",
       "5  2019-08-03     B      61      59   6050.6      1803    0.033833\n",
       "7  2019-08-04     B      78      75   7767.9      2573    0.030315\n",
       "9  2019-08-05     B     101      98   9262.9      3280    0.030793"
      ]
     },
     "execution_count": 38,
     "metadata": {},
     "output_type": "execute_result"
    }
   ],
   "source": [
    "cumulative_data_b = cumulative_data[cumulative_data['group']=='B']\n",
    "cumulative_data_b.head()"
   ]
  },
  {
   "cell_type": "code",
   "execution_count": 39,
   "metadata": {},
   "outputs": [
    {
     "data": {
      "image/png": "[encoded data removed]",
      "text/plain": [
       "<Figure size 1152x360 with 1 Axes>"
      ]
     },
     "metadata": {
      "needs_background": "light"
     },
     "output_type": "display_data"
    }
   ],
   "source": [
    "plt.figure(figsize=[16,5])\n",
    "plt.plot(cumulative_data_a['date'], \n",
    "         cumulative_data_a['conversion'], \n",
    "         label='A')\n",
    "\n",
    "plt.plot(cumulative_data_b['date'], \n",
    "         cumulative_data_b['conversion'], \n",
    "         label='B')\n",
    "\n",
    "locs, labels = plt.xticks()\n",
    "plt.setp(labels, rotation=90)\n",
    "\n",
    "plt.title('Graphs the daily conversion rates of the two groups')\n",
    "plt.ylabel('Score')\n",
    "plt.xlabel('Dates')\n",
    "plt.legend()\n",
    "plt.show()"
   ]
  },
  {
   "cell_type": "markdown",
   "metadata": {},
   "source": [
    "> * According to the graph, the graphs are visible are not symmetrical.\n",
    "> * The conversion rate of group B rose but not stabilizing. \n",
    "> * The conversion rate of group A dropped but then not stabilized, also."
   ]
  },
  {
   "cell_type": "code",
   "execution_count": 40,
   "metadata": {},
   "outputs": [],
   "source": [
    "cumulative_conversion_merged = cumulative_data_a.merge(cumulative_data_b, \n",
    "                                                       left_on='date', \n",
    "                                                       right_on='date', \n",
    "                                                       how='left', \n",
    "                                                       suffixes=['A', 'B'])"
   ]
  },
  {
   "cell_type": "code",
   "execution_count": 41,
   "metadata": {},
   "outputs": [
    {
     "data": {
      "text/html": [
       "<div>\n",
       "<style scoped>\n",
       "    .dataframe tbody tr th:only-of-type {\n",
       "        vertical-align: middle;\n",
       "    }\n",
       "\n",
       "    .dataframe tbody tr th {\n",
       "        vertical-align: top;\n",
       "    }\n",
       "\n",
       "    .dataframe thead th {\n",
       "        text-align: right;\n",
       "    }\n",
       "</style>\n",
       "<table border=\"1\" class=\"dataframe\">\n",
       "  <thead>\n",
       "    <tr style=\"text-align: right;\">\n",
       "      <th></th>\n",
       "      <th>date</th>\n",
       "      <th>groupA</th>\n",
       "      <th>ordersA</th>\n",
       "      <th>buyersA</th>\n",
       "      <th>revenueA</th>\n",
       "      <th>visitorsA</th>\n",
       "      <th>conversionA</th>\n",
       "      <th>groupB</th>\n",
       "      <th>ordersB</th>\n",
       "      <th>buyersB</th>\n",
       "      <th>revenueB</th>\n",
       "      <th>visitorsB</th>\n",
       "      <th>conversionB</th>\n",
       "    </tr>\n",
       "  </thead>\n",
       "  <tbody>\n",
       "    <tr>\n",
       "      <td>0</td>\n",
       "      <td>2019-08-01</td>\n",
       "      <td>A</td>\n",
       "      <td>24</td>\n",
       "      <td>20</td>\n",
       "      <td>2356.8</td>\n",
       "      <td>719</td>\n",
       "      <td>0.033380</td>\n",
       "      <td>B</td>\n",
       "      <td>21</td>\n",
       "      <td>20</td>\n",
       "      <td>1620.0</td>\n",
       "      <td>713</td>\n",
       "      <td>0.029453</td>\n",
       "    </tr>\n",
       "    <tr>\n",
       "      <td>1</td>\n",
       "      <td>2019-08-02</td>\n",
       "      <td>A</td>\n",
       "      <td>44</td>\n",
       "      <td>38</td>\n",
       "      <td>3860.3</td>\n",
       "      <td>1338</td>\n",
       "      <td>0.032885</td>\n",
       "      <td>B</td>\n",
       "      <td>45</td>\n",
       "      <td>43</td>\n",
       "      <td>4243.8</td>\n",
       "      <td>1294</td>\n",
       "      <td>0.034776</td>\n",
       "    </tr>\n",
       "    <tr>\n",
       "      <td>2</td>\n",
       "      <td>2019-08-03</td>\n",
       "      <td>A</td>\n",
       "      <td>68</td>\n",
       "      <td>62</td>\n",
       "      <td>5675.5</td>\n",
       "      <td>1845</td>\n",
       "      <td>0.036856</td>\n",
       "      <td>B</td>\n",
       "      <td>61</td>\n",
       "      <td>59</td>\n",
       "      <td>6050.6</td>\n",
       "      <td>1803</td>\n",
       "      <td>0.033833</td>\n",
       "    </tr>\n",
       "    <tr>\n",
       "      <td>3</td>\n",
       "      <td>2019-08-04</td>\n",
       "      <td>A</td>\n",
       "      <td>84</td>\n",
       "      <td>77</td>\n",
       "      <td>6822.1</td>\n",
       "      <td>2562</td>\n",
       "      <td>0.032787</td>\n",
       "      <td>B</td>\n",
       "      <td>78</td>\n",
       "      <td>75</td>\n",
       "      <td>7767.9</td>\n",
       "      <td>2573</td>\n",
       "      <td>0.030315</td>\n",
       "    </tr>\n",
       "    <tr>\n",
       "      <td>4</td>\n",
       "      <td>2019-08-05</td>\n",
       "      <td>A</td>\n",
       "      <td>109</td>\n",
       "      <td>100</td>\n",
       "      <td>8810.2</td>\n",
       "      <td>3318</td>\n",
       "      <td>0.032851</td>\n",
       "      <td>B</td>\n",
       "      <td>101</td>\n",
       "      <td>98</td>\n",
       "      <td>9262.9</td>\n",
       "      <td>3280</td>\n",
       "      <td>0.030793</td>\n",
       "    </tr>\n",
       "  </tbody>\n",
       "</table>\n",
       "</div>"
      ],
      "text/plain": [
       "         date groupA  ordersA  buyersA  revenueA  visitorsA  conversionA  \\\n",
       "0  2019-08-01      A       24       20    2356.8        719     0.033380   \n",
       "1  2019-08-02      A       44       38    3860.3       1338     0.032885   \n",
       "2  2019-08-03      A       68       62    5675.5       1845     0.036856   \n",
       "3  2019-08-04      A       84       77    6822.1       2562     0.032787   \n",
       "4  2019-08-05      A      109      100    8810.2       3318     0.032851   \n",
       "\n",
       "  groupB  ordersB  buyersB  revenueB  visitorsB  conversionB  \n",
       "0      B       21       20    1620.0        713     0.029453  \n",
       "1      B       45       43    4243.8       1294     0.034776  \n",
       "2      B       61       59    6050.6       1803     0.033833  \n",
       "3      B       78       75    7767.9       2573     0.030315  \n",
       "4      B      101       98    9262.9       3280     0.030793  "
      ]
     },
     "execution_count": 41,
     "metadata": {},
     "output_type": "execute_result"
    }
   ],
   "source": [
    "cumulative_conversion_merged.head()"
   ]
  },
  {
   "cell_type": "code",
   "execution_count": 42,
   "metadata": {},
   "outputs": [
    {
     "data": {
      "image/png": "[encoded data removed]",
      "text/plain": [
       "<Figure size 1152x360 with 1 Axes>"
      ]
     },
     "metadata": {
      "needs_background": "light"
     },
     "output_type": "display_data"
    }
   ],
   "source": [
    "plt.figure(figsize=[16,5])\n",
    "plt.plot(cumulative_conversion_merged['date'], \n",
    "        (cumulative_conversion_merged['conversionB'] / cumulative_conversion_merged['conversionA']) - 1)\n",
    "locs, labels = plt.xticks()\n",
    "plt.setp(labels, rotation=90)\n",
    "plt.axhline(y=0, color='black', linestyle='--')\n",
    "plt.axhline(y=0.15, color='grey', linestyle='--')\n",
    "\n",
    "plt.title('Relative difference graph for the cumulative conversion rates')\n",
    "plt.ylabel('Score')\n",
    "plt.xlabel('Dates')\n",
    "plt.show()"
   ]
  },
  {
   "cell_type": "markdown",
   "metadata": {},
   "source": [
    "> * At the beginning of the test, group B first made a sharp jump for 2 days. \n",
    "> * But then there was a rebound by one day and then continued to grow, continuing to fluctuate at an average of 0.15.\n",
    "> * In general, the conversion ratio is not yet stable, so it's too early to draw conclusions about the test. "
   ]
  },
  {
   "cell_type": "code",
   "execution_count": 43,
   "metadata": {},
   "outputs": [
    {
     "data": {
      "text/html": [
       "<div>\n",
       "<style scoped>\n",
       "    .dataframe tbody tr th:only-of-type {\n",
       "        vertical-align: middle;\n",
       "    }\n",
       "\n",
       "    .dataframe tbody tr th {\n",
       "        vertical-align: top;\n",
       "    }\n",
       "\n",
       "    .dataframe thead th {\n",
       "        text-align: right;\n",
       "    }\n",
       "</style>\n",
       "<table border=\"1\" class=\"dataframe\">\n",
       "  <thead>\n",
       "    <tr style=\"text-align: right;\">\n",
       "      <th></th>\n",
       "      <th>transactionId</th>\n",
       "      <th>visitorId</th>\n",
       "      <th>date</th>\n",
       "      <th>revenue</th>\n",
       "      <th>group</th>\n",
       "    </tr>\n",
       "  </thead>\n",
       "  <tbody>\n",
       "    <tr>\n",
       "      <td>0</td>\n",
       "      <td>3667963787</td>\n",
       "      <td>3312258926</td>\n",
       "      <td>2019-08-15</td>\n",
       "      <td>30.4</td>\n",
       "      <td>B</td>\n",
       "    </tr>\n",
       "    <tr>\n",
       "      <td>1</td>\n",
       "      <td>2804400009</td>\n",
       "      <td>3642806036</td>\n",
       "      <td>2019-08-15</td>\n",
       "      <td>15.2</td>\n",
       "      <td>B</td>\n",
       "    </tr>\n",
       "    <tr>\n",
       "      <td>3</td>\n",
       "      <td>3797467345</td>\n",
       "      <td>1196621759</td>\n",
       "      <td>2019-08-15</td>\n",
       "      <td>155.1</td>\n",
       "      <td>B</td>\n",
       "    </tr>\n",
       "    <tr>\n",
       "      <td>4</td>\n",
       "      <td>2282983706</td>\n",
       "      <td>2322279887</td>\n",
       "      <td>2019-08-15</td>\n",
       "      <td>40.5</td>\n",
       "      <td>B</td>\n",
       "    </tr>\n",
       "    <tr>\n",
       "      <td>5</td>\n",
       "      <td>182168103</td>\n",
       "      <td>935554773</td>\n",
       "      <td>2019-08-15</td>\n",
       "      <td>35.0</td>\n",
       "      <td>B</td>\n",
       "    </tr>\n",
       "  </tbody>\n",
       "</table>\n",
       "</div>"
      ],
      "text/plain": [
       "   transactionId   visitorId        date  revenue group\n",
       "0     3667963787  3312258926  2019-08-15     30.4     B\n",
       "1     2804400009  3642806036  2019-08-15     15.2     B\n",
       "3     3797467345  1196621759  2019-08-15    155.1     B\n",
       "4     2282983706  2322279887  2019-08-15     40.5     B\n",
       "5      182168103   935554773  2019-08-15     35.0     B"
      ]
     },
     "execution_count": 43,
     "metadata": {},
     "output_type": "execute_result"
    }
   ],
   "source": [
    "df_orders_clean.head()"
   ]
  },
  {
   "cell_type": "code",
   "execution_count": 44,
   "metadata": {},
   "outputs": [],
   "source": [
    "n_orders_user = df_orders_clean.drop(['group', 'revenue', 'date'], axis=1).groupby('visitorId', as_index=False).agg({'transactionId' : pd.Series.nunique})\n",
    "n_orders_user.columns = ['visitor_id','orders']"
   ]
  },
  {
   "cell_type": "code",
   "execution_count": 45,
   "metadata": {},
   "outputs": [
    {
     "data": {
      "text/html": [
       "<div>\n",
       "<style scoped>\n",
       "    .dataframe tbody tr th:only-of-type {\n",
       "        vertical-align: middle;\n",
       "    }\n",
       "\n",
       "    .dataframe tbody tr th {\n",
       "        vertical-align: top;\n",
       "    }\n",
       "\n",
       "    .dataframe thead th {\n",
       "        text-align: right;\n",
       "    }\n",
       "</style>\n",
       "<table border=\"1\" class=\"dataframe\">\n",
       "  <thead>\n",
       "    <tr style=\"text-align: right;\">\n",
       "      <th></th>\n",
       "      <th>visitor_id</th>\n",
       "      <th>orders</th>\n",
       "    </tr>\n",
       "  </thead>\n",
       "  <tbody>\n",
       "    <tr>\n",
       "      <td>0</td>\n",
       "      <td>5114589</td>\n",
       "      <td>1</td>\n",
       "    </tr>\n",
       "    <tr>\n",
       "      <td>1</td>\n",
       "      <td>6958315</td>\n",
       "      <td>1</td>\n",
       "    </tr>\n",
       "    <tr>\n",
       "      <td>2</td>\n",
       "      <td>11685486</td>\n",
       "      <td>1</td>\n",
       "    </tr>\n",
       "    <tr>\n",
       "      <td>3</td>\n",
       "      <td>39475350</td>\n",
       "      <td>1</td>\n",
       "    </tr>\n",
       "    <tr>\n",
       "      <td>4</td>\n",
       "      <td>47206413</td>\n",
       "      <td>1</td>\n",
       "    </tr>\n",
       "  </tbody>\n",
       "</table>\n",
       "</div>"
      ],
      "text/plain": [
       "   visitor_id  orders\n",
       "0     5114589       1\n",
       "1     6958315       1\n",
       "2    11685486       1\n",
       "3    39475350       1\n",
       "4    47206413       1"
      ]
     },
     "execution_count": 45,
     "metadata": {},
     "output_type": "execute_result"
    }
   ],
   "source": [
    "n_orders_user.head()"
   ]
  },
  {
   "cell_type": "code",
   "execution_count": 46,
   "metadata": {},
   "outputs": [
    {
     "data": {
      "image/png": "[encoded data removed]",
      "text/plain": [
       "<Figure size 1152x360 with 1 Axes>"
      ]
     },
     "metadata": {
      "needs_background": "light"
     },
     "output_type": "display_data"
    }
   ],
   "source": [
    "x_values = pd.Series(range(0,len(n_orders_user)))\n",
    "\n",
    "plt.figure(figsize=[16,5])\n",
    "plt.scatter(x_values, n_orders_user['orders'])\n",
    "#sns.scatterplot(data=n_orders_user, x=x_values, y=\"orders\", hue=\"orders\")\n",
    "\n",
    "plt.grid(True)\n",
    "plt.title('Scatter chart of the number of orders per user')\n",
    "plt.ylabel('Number of orders per each user')\n",
    "plt.xlabel('Orders by users')\n",
    "plt.yticks(np.arange(0, 13, step=1))\n",
    "plt.show()"
   ]
  },
  {
   "cell_type": "markdown",
   "metadata": {},
   "source": [
    "> * Just as we expected, there are several big orders. Based on the graph, we can set the limit for abnormal number of orders per user between 2 and 3. \n",
    "> * However, as a rule, the sharpest outliers of the observed values start at 2 orders per user."
   ]
  },
  {
   "cell_type": "code",
   "execution_count": 71,
   "metadata": {},
   "outputs": [
    {
     "name": "stdout",
     "output_type": "stream",
     "text": [
      "[1.]\n"
     ]
    }
   ],
   "source": [
    "print(np.percentile(n_orders_user['orders'], [95])) "
   ]
  },
  {
   "cell_type": "code",
   "execution_count": 72,
   "metadata": {},
   "outputs": [
    {
     "name": "stdout",
     "output_type": "stream",
     "text": [
      "[2.]\n"
     ]
    }
   ],
   "source": [
    "print(np.percentile(n_orders_user['orders'], [99])) "
   ]
  },
  {
   "cell_type": "markdown",
   "metadata": {},
   "source": [
    "> * No more than 5% of users make more than 1 orders.\n",
    "> * No more than 1% of users make more than 2 orders.\n",
    "> * Thus, it would be reasonable to set two orders per user as the lower limit for the number of orders and to filter anomalies on that basis. "
   ]
  },
  {
   "cell_type": "code",
   "execution_count": 73,
   "metadata": {},
   "outputs": [
    {
     "data": {
      "text/html": [
       "<div>\n",
       "<style scoped>\n",
       "    .dataframe tbody tr th:only-of-type {\n",
       "        vertical-align: middle;\n",
       "    }\n",
       "\n",
       "    .dataframe tbody tr th {\n",
       "        vertical-align: top;\n",
       "    }\n",
       "\n",
       "    .dataframe thead th {\n",
       "        text-align: right;\n",
       "    }\n",
       "</style>\n",
       "<table border=\"1\" class=\"dataframe\">\n",
       "  <thead>\n",
       "    <tr style=\"text-align: right;\">\n",
       "      <th></th>\n",
       "      <th>transactionId</th>\n",
       "      <th>visitorId</th>\n",
       "      <th>date</th>\n",
       "      <th>revenue</th>\n",
       "      <th>group</th>\n",
       "    </tr>\n",
       "  </thead>\n",
       "  <tbody>\n",
       "    <tr>\n",
       "      <td>0</td>\n",
       "      <td>3667963787</td>\n",
       "      <td>3312258926</td>\n",
       "      <td>2019-08-15</td>\n",
       "      <td>30.4</td>\n",
       "      <td>B</td>\n",
       "    </tr>\n",
       "    <tr>\n",
       "      <td>1</td>\n",
       "      <td>2804400009</td>\n",
       "      <td>3642806036</td>\n",
       "      <td>2019-08-15</td>\n",
       "      <td>15.2</td>\n",
       "      <td>B</td>\n",
       "    </tr>\n",
       "    <tr>\n",
       "      <td>3</td>\n",
       "      <td>3797467345</td>\n",
       "      <td>1196621759</td>\n",
       "      <td>2019-08-15</td>\n",
       "      <td>155.1</td>\n",
       "      <td>B</td>\n",
       "    </tr>\n",
       "    <tr>\n",
       "      <td>4</td>\n",
       "      <td>2282983706</td>\n",
       "      <td>2322279887</td>\n",
       "      <td>2019-08-15</td>\n",
       "      <td>40.5</td>\n",
       "      <td>B</td>\n",
       "    </tr>\n",
       "    <tr>\n",
       "      <td>5</td>\n",
       "      <td>182168103</td>\n",
       "      <td>935554773</td>\n",
       "      <td>2019-08-15</td>\n",
       "      <td>35.0</td>\n",
       "      <td>B</td>\n",
       "    </tr>\n",
       "  </tbody>\n",
       "</table>\n",
       "</div>"
      ],
      "text/plain": [
       "   transactionId   visitorId        date  revenue group\n",
       "0     3667963787  3312258926  2019-08-15     30.4     B\n",
       "1     2804400009  3642806036  2019-08-15     15.2     B\n",
       "3     3797467345  1196621759  2019-08-15    155.1     B\n",
       "4     2282983706  2322279887  2019-08-15     40.5     B\n",
       "5      182168103   935554773  2019-08-15     35.0     B"
      ]
     },
     "execution_count": 73,
     "metadata": {},
     "output_type": "execute_result"
    }
   ],
   "source": [
    "df_orders_clean.head()"
   ]
  },
  {
   "cell_type": "code",
   "execution_count": 74,
   "metadata": {},
   "outputs": [
    {
     "data": {
      "image/png": "[encoded data removed]",
      "text/plain": [
       "<Figure size 1152x504 with 1 Axes>"
      ]
     },
     "metadata": {
      "needs_background": "light"
     },
     "output_type": "display_data"
    }
   ],
   "source": [
    "x_values = pd.Series(range(0,len(df_orders_clean['revenue'])))\n",
    "\n",
    "plt.figure(figsize=[16,7])\n",
    "#plt.scatter(x_values, df_orders_clean['revenue']) \n",
    "sns.scatterplot(data=df_orders_clean, x=x_values, y=df_orders_clean['revenue'], hue=\"group\")\n",
    "\n",
    "plt.grid(True)\n",
    "plt.title('Scatter chart of order prices')\n",
    "plt.ylabel('Revenue, $')\n",
    "plt.xlabel('Number of orders')\n",
    "plt.yticks(np.arange(0, 21000, step=1000))\n",
    "plt.show()"
   ]
  },
  {
   "cell_type": "markdown",
   "metadata": {},
   "source": [
    "> * Based on the graph, we can set the limit for abnormal orders started from 1000 revenue."
   ]
  },
  {
   "cell_type": "code",
   "execution_count": 93,
   "metadata": {},
   "outputs": [
    {
     "name": "stdout",
     "output_type": "stream",
     "text": [
      "[414.275]\n"
     ]
    }
   ],
   "source": [
    "print(np.percentile(df_orders_clean['revenue'], [95])) "
   ]
  },
  {
   "cell_type": "code",
   "execution_count": 92,
   "metadata": {},
   "outputs": [
    {
     "name": "stdout",
     "output_type": "stream",
     "text": [
      "[830.3]\n"
     ]
    }
   ],
   "source": [
    "print(np.percentile(df_orders_clean['revenue'], [99])) "
   ]
  },
  {
   "cell_type": "markdown",
   "metadata": {},
   "source": [
    "> * No more than 5% of orders cost more than 414,275, and no more than 1% cost more than 830,3.\n",
    "> * Thus, it would be reasonable to set $436 revenue as the lower limit for the revenue and to filter anomalies on that basis. "
   ]
  },
  {
   "cell_type": "code",
   "execution_count": 94,
   "metadata": {},
   "outputs": [
    {
     "data": {
      "text/html": [
       "<div>\n",
       "<style scoped>\n",
       "    .dataframe tbody tr th:only-of-type {\n",
       "        vertical-align: middle;\n",
       "    }\n",
       "\n",
       "    .dataframe tbody tr th {\n",
       "        vertical-align: top;\n",
       "    }\n",
       "\n",
       "    .dataframe thead th {\n",
       "        text-align: right;\n",
       "    }\n",
       "</style>\n",
       "<table border=\"1\" class=\"dataframe\">\n",
       "  <thead>\n",
       "    <tr style=\"text-align: right;\">\n",
       "      <th></th>\n",
       "      <th>transactionId</th>\n",
       "      <th>visitorId</th>\n",
       "      <th>date</th>\n",
       "      <th>revenue</th>\n",
       "      <th>group</th>\n",
       "    </tr>\n",
       "  </thead>\n",
       "  <tbody>\n",
       "    <tr>\n",
       "      <td>0</td>\n",
       "      <td>3667963787</td>\n",
       "      <td>3312258926</td>\n",
       "      <td>2019-08-15</td>\n",
       "      <td>30.4</td>\n",
       "      <td>B</td>\n",
       "    </tr>\n",
       "    <tr>\n",
       "      <td>1</td>\n",
       "      <td>2804400009</td>\n",
       "      <td>3642806036</td>\n",
       "      <td>2019-08-15</td>\n",
       "      <td>15.2</td>\n",
       "      <td>B</td>\n",
       "    </tr>\n",
       "    <tr>\n",
       "      <td>3</td>\n",
       "      <td>3797467345</td>\n",
       "      <td>1196621759</td>\n",
       "      <td>2019-08-15</td>\n",
       "      <td>155.1</td>\n",
       "      <td>B</td>\n",
       "    </tr>\n",
       "    <tr>\n",
       "      <td>4</td>\n",
       "      <td>2282983706</td>\n",
       "      <td>2322279887</td>\n",
       "      <td>2019-08-15</td>\n",
       "      <td>40.5</td>\n",
       "      <td>B</td>\n",
       "    </tr>\n",
       "    <tr>\n",
       "      <td>5</td>\n",
       "      <td>182168103</td>\n",
       "      <td>935554773</td>\n",
       "      <td>2019-08-15</td>\n",
       "      <td>35.0</td>\n",
       "      <td>B</td>\n",
       "    </tr>\n",
       "  </tbody>\n",
       "</table>\n",
       "</div>"
      ],
      "text/plain": [
       "   transactionId   visitorId        date  revenue group\n",
       "0     3667963787  3312258926  2019-08-15     30.4     B\n",
       "1     2804400009  3642806036  2019-08-15     15.2     B\n",
       "3     3797467345  1196621759  2019-08-15    155.1     B\n",
       "4     2282983706  2322279887  2019-08-15     40.5     B\n",
       "5      182168103   935554773  2019-08-15     35.0     B"
      ]
     },
     "execution_count": 94,
     "metadata": {},
     "output_type": "execute_result"
    }
   ],
   "source": [
    "df_orders_clean.head()"
   ]
  },
  {
   "cell_type": "markdown",
   "metadata": {},
   "source": [
    "Let us formulate hypotheses: (raw data)\n",
    " - H_0 (the null hypothesis): there's not a statistically significant difference in conversion between Group A and Group B;\n",
    " - H_a (the alternative hypothesis): there is a statistically significant difference in conversion between Group A and Group B;"
   ]
  },
  {
   "cell_type": "code",
   "execution_count": 95,
   "metadata": {},
   "outputs": [],
   "source": [
    "orders_per_user_a = df_orders_clean[df_orders_clean['group']=='A'].groupby('visitorId', as_index=False).agg({'transactionId' : pd.Series.nunique})\n",
    "orders_per_user_a.columns = ['visitor_id', 'orders']\n",
    "\n",
    "orders_per_user_b = df_orders_clean[df_orders_clean['group']=='B'].groupby('visitorId', as_index=False).agg({'transactionId' : pd.Series.nunique})\n",
    "orders_per_user_b.columns = ['visitor_id', 'orders']"
   ]
  },
  {
   "cell_type": "code",
   "execution_count": 96,
   "metadata": {},
   "outputs": [
    {
     "data": {
      "text/html": [
       "<div>\n",
       "<style scoped>\n",
       "    .dataframe tbody tr th:only-of-type {\n",
       "        vertical-align: middle;\n",
       "    }\n",
       "\n",
       "    .dataframe tbody tr th {\n",
       "        vertical-align: top;\n",
       "    }\n",
       "\n",
       "    .dataframe thead th {\n",
       "        text-align: right;\n",
       "    }\n",
       "</style>\n",
       "<table border=\"1\" class=\"dataframe\">\n",
       "  <thead>\n",
       "    <tr style=\"text-align: right;\">\n",
       "      <th></th>\n",
       "      <th>visitor_id</th>\n",
       "      <th>orders</th>\n",
       "    </tr>\n",
       "  </thead>\n",
       "  <tbody>\n",
       "    <tr>\n",
       "      <td>0</td>\n",
       "      <td>11685486</td>\n",
       "      <td>1</td>\n",
       "    </tr>\n",
       "    <tr>\n",
       "      <td>1</td>\n",
       "      <td>54447517</td>\n",
       "      <td>1</td>\n",
       "    </tr>\n",
       "    <tr>\n",
       "      <td>2</td>\n",
       "      <td>66685450</td>\n",
       "      <td>1</td>\n",
       "    </tr>\n",
       "    <tr>\n",
       "      <td>3</td>\n",
       "      <td>78758296</td>\n",
       "      <td>1</td>\n",
       "    </tr>\n",
       "    <tr>\n",
       "      <td>4</td>\n",
       "      <td>85103373</td>\n",
       "      <td>1</td>\n",
       "    </tr>\n",
       "  </tbody>\n",
       "</table>\n",
       "</div>"
      ],
      "text/plain": [
       "   visitor_id  orders\n",
       "0    11685486       1\n",
       "1    54447517       1\n",
       "2    66685450       1\n",
       "3    78758296       1\n",
       "4    85103373       1"
      ]
     },
     "execution_count": 96,
     "metadata": {},
     "output_type": "execute_result"
    }
   ],
   "source": [
    "orders_per_user_a.head()"
   ]
  },
  {
   "cell_type": "code",
   "execution_count": 97,
   "metadata": {},
   "outputs": [],
   "source": [
    "sample_a = pd.concat([orders_per_user_a['orders'],pd.Series(0, \\\n",
    "                    index=np.arange(df_visits[df_visits['group']=='A']['visits'].sum() - len(orders_per_user_a['orders'])), name='orders')],axis=0)"
   ]
  },
  {
   "cell_type": "code",
   "execution_count": 98,
   "metadata": {},
   "outputs": [],
   "source": [
    "sample_b = pd.concat([orders_per_user_b['orders'],pd.Series(0, index=np.arange(df_visits[df_visits['group']=='B']['visits'].sum() - len(orders_per_user_b['orders'])), name='orders')],axis=0)"
   ]
  },
  {
   "cell_type": "code",
   "execution_count": 99,
   "metadata": {},
   "outputs": [
    {
     "name": "stdout",
     "output_type": "stream",
     "text": [
      "0.006\n"
     ]
    }
   ],
   "source": [
    "print(\"{0:.3f}\".format(stats.mannwhitneyu(sample_a, sample_b)[1]))"
   ]
  },
  {
   "cell_type": "markdown",
   "metadata": {},
   "source": [
    "> * p-value, 0.006, which is less than 0.05 (0.008 < 0.05). So we can reject the null hypothesis: that there's not a statistically significant difference in conversion between the Group A and Group B."
   ]
  },
  {
   "cell_type": "markdown",
   "metadata": {},
   "source": [
    "Let us formulate hypotheses: (raw data)\n",
    " - H_0 (the null hypothesis): there is no statistically significant difference in average order size between Group A and Group B;\n",
    " - H_a (the alternative hypothesis): there is statistically significant difference in average order size between Group A and Group B;"
   ]
  },
  {
   "cell_type": "code",
   "execution_count": 100,
   "metadata": {},
   "outputs": [
    {
     "data": {
      "text/html": [
       "<div>\n",
       "<style scoped>\n",
       "    .dataframe tbody tr th:only-of-type {\n",
       "        vertical-align: middle;\n",
       "    }\n",
       "\n",
       "    .dataframe tbody tr th {\n",
       "        vertical-align: top;\n",
       "    }\n",
       "\n",
       "    .dataframe thead th {\n",
       "        text-align: right;\n",
       "    }\n",
       "</style>\n",
       "<table border=\"1\" class=\"dataframe\">\n",
       "  <thead>\n",
       "    <tr style=\"text-align: right;\">\n",
       "      <th></th>\n",
       "      <th>visitor_id</th>\n",
       "      <th>orders</th>\n",
       "    </tr>\n",
       "  </thead>\n",
       "  <tbody>\n",
       "    <tr>\n",
       "      <td>0</td>\n",
       "      <td>11685486</td>\n",
       "      <td>1</td>\n",
       "    </tr>\n",
       "    <tr>\n",
       "      <td>1</td>\n",
       "      <td>54447517</td>\n",
       "      <td>1</td>\n",
       "    </tr>\n",
       "    <tr>\n",
       "      <td>2</td>\n",
       "      <td>66685450</td>\n",
       "      <td>1</td>\n",
       "    </tr>\n",
       "    <tr>\n",
       "      <td>3</td>\n",
       "      <td>78758296</td>\n",
       "      <td>1</td>\n",
       "    </tr>\n",
       "    <tr>\n",
       "      <td>4</td>\n",
       "      <td>85103373</td>\n",
       "      <td>1</td>\n",
       "    </tr>\n",
       "  </tbody>\n",
       "</table>\n",
       "</div>"
      ],
      "text/plain": [
       "   visitor_id  orders\n",
       "0    11685486       1\n",
       "1    54447517       1\n",
       "2    66685450       1\n",
       "3    78758296       1\n",
       "4    85103373       1"
      ]
     },
     "execution_count": 100,
     "metadata": {},
     "output_type": "execute_result"
    }
   ],
   "source": [
    "orders_per_user_a.head()"
   ]
  },
  {
   "cell_type": "code",
   "execution_count": 101,
   "metadata": {},
   "outputs": [
    {
     "name": "stdout",
     "output_type": "stream",
     "text": [
      "0.431\n",
      "0.278\n"
     ]
    }
   ],
   "source": [
    "print(\"{0:.3f}\".format(stats.mannwhitneyu(df_orders_clean[df_orders_clean['group']=='A']['revenue'], df_orders_clean[df_orders_clean['group']=='B']['revenue'])[1]))\n",
    "print('{0:.3f}'.format(df_orders_clean[df_orders_clean['group']=='B']['revenue'].mean()/df_orders_clean[df_orders_clean['group']=='A']['revenue'].mean()-1)) "
   ]
  },
  {
   "cell_type": "markdown",
   "metadata": {},
   "source": [
    "> * The p-value 0.431 is considerably higher than 0.05, so there's no reason to reject the null hypothesis. \n",
    "> * But the relative profit of group B is 27.8%\n",
    "> * Null hypothesis can't be rejected; there is no statistically significant difference in average order size between Group A and Group B"
   ]
  },
  {
   "cell_type": "markdown",
   "metadata": {},
   "source": [
    "Let us formulate hypotheses: (filtered data)\n",
    " - H_0 (the null hypothesis): there is no statistically significant difference in conversion between Group A and Group B;\n",
    " - H_a (the alternative hypothesis): there is statistically significant difference in conversion between Group A and Group B;"
   ]
  },
  {
   "cell_type": "code",
   "execution_count": 102,
   "metadata": {},
   "outputs": [
    {
     "name": "stdout",
     "output_type": "stream",
     "text": [
      "[1.]\n"
     ]
    }
   ],
   "source": [
    "# Let's take look again 95th percentiles for the number of orders per user:\n",
    "print(np.percentile(n_orders_user['orders'], [95])) "
   ]
  },
  {
   "cell_type": "code",
   "execution_count": 103,
   "metadata": {},
   "outputs": [
    {
     "data": {
      "text/plain": [
       "36      366673373\n",
       "58      611059232\n",
       "64      678354126\n",
       "72      759473111\n",
       "171    1617417821\n",
       "Name: visitor_id, dtype: int64"
      ]
     },
     "execution_count": 103,
     "metadata": {},
     "output_type": "execute_result"
    }
   ],
   "source": [
    "# use this values for \n",
    "users_with_many_orders = pd.concat([orders_per_user_a[orders_per_user_a['orders'] > 1]['visitor_id'], orders_per_user_b[orders_per_user_b['orders'] > 1]['visitor_id']], axis = 0)\n",
    "users_with_many_orders.head()"
   ]
  },
  {
   "cell_type": "code",
   "execution_count": 104,
   "metadata": {},
   "outputs": [
    {
     "data": {
      "text/html": [
       "<div>\n",
       "<style scoped>\n",
       "    .dataframe tbody tr th:only-of-type {\n",
       "        vertical-align: middle;\n",
       "    }\n",
       "\n",
       "    .dataframe tbody tr th {\n",
       "        vertical-align: top;\n",
       "    }\n",
       "\n",
       "    .dataframe thead th {\n",
       "        text-align: right;\n",
       "    }\n",
       "</style>\n",
       "<table border=\"1\" class=\"dataframe\">\n",
       "  <thead>\n",
       "    <tr style=\"text-align: right;\">\n",
       "      <th></th>\n",
       "      <th>transactionId</th>\n",
       "      <th>visitorId</th>\n",
       "      <th>date</th>\n",
       "      <th>revenue</th>\n",
       "      <th>group</th>\n",
       "    </tr>\n",
       "  </thead>\n",
       "  <tbody>\n",
       "    <tr>\n",
       "      <td>0</td>\n",
       "      <td>3667963787</td>\n",
       "      <td>3312258926</td>\n",
       "      <td>2019-08-15</td>\n",
       "      <td>30.4</td>\n",
       "      <td>B</td>\n",
       "    </tr>\n",
       "    <tr>\n",
       "      <td>1</td>\n",
       "      <td>2804400009</td>\n",
       "      <td>3642806036</td>\n",
       "      <td>2019-08-15</td>\n",
       "      <td>15.2</td>\n",
       "      <td>B</td>\n",
       "    </tr>\n",
       "    <tr>\n",
       "      <td>3</td>\n",
       "      <td>3797467345</td>\n",
       "      <td>1196621759</td>\n",
       "      <td>2019-08-15</td>\n",
       "      <td>155.1</td>\n",
       "      <td>B</td>\n",
       "    </tr>\n",
       "    <tr>\n",
       "      <td>4</td>\n",
       "      <td>2282983706</td>\n",
       "      <td>2322279887</td>\n",
       "      <td>2019-08-15</td>\n",
       "      <td>40.5</td>\n",
       "      <td>B</td>\n",
       "    </tr>\n",
       "    <tr>\n",
       "      <td>5</td>\n",
       "      <td>182168103</td>\n",
       "      <td>935554773</td>\n",
       "      <td>2019-08-15</td>\n",
       "      <td>35.0</td>\n",
       "      <td>B</td>\n",
       "    </tr>\n",
       "  </tbody>\n",
       "</table>\n",
       "</div>"
      ],
      "text/plain": [
       "   transactionId   visitorId        date  revenue group\n",
       "0     3667963787  3312258926  2019-08-15     30.4     B\n",
       "1     2804400009  3642806036  2019-08-15     15.2     B\n",
       "3     3797467345  1196621759  2019-08-15    155.1     B\n",
       "4     2282983706  2322279887  2019-08-15     40.5     B\n",
       "5      182168103   935554773  2019-08-15     35.0     B"
      ]
     },
     "execution_count": 104,
     "metadata": {},
     "output_type": "execute_result"
    }
   ],
   "source": [
    "df_orders_clean.head()"
   ]
  },
  {
   "cell_type": "code",
   "execution_count": 105,
   "metadata": {},
   "outputs": [
    {
     "name": "stdout",
     "output_type": "stream",
     "text": [
      "568     113298937\n",
      "1099    148427295\n",
      "928     204675465\n",
      "33      249864742\n",
      "684     358944393\n",
      "dtype: int64\n",
      "(86,)\n"
     ]
    }
   ],
   "source": [
    "users_with_expensive_orders = df_orders_clean[df_orders_clean['revenue'] > 414]['visitorId']\n",
    "abnormal_users = pd.concat([users_with_many_orders, users_with_expensive_orders], axis = 0).drop_duplicates().sort_values()\n",
    "print(abnormal_users.head(5))\n",
    "print(abnormal_users.shape)"
   ]
  },
  {
   "cell_type": "markdown",
   "metadata": {},
   "source": [
    "> * We have 86 anomalous users in total."
   ]
  },
  {
   "cell_type": "code",
   "execution_count": 106,
   "metadata": {},
   "outputs": [
    {
     "data": {
      "text/html": [
       "<div>\n",
       "<style scoped>\n",
       "    .dataframe tbody tr th:only-of-type {\n",
       "        vertical-align: middle;\n",
       "    }\n",
       "\n",
       "    .dataframe tbody tr th {\n",
       "        vertical-align: top;\n",
       "    }\n",
       "\n",
       "    .dataframe thead th {\n",
       "        text-align: right;\n",
       "    }\n",
       "</style>\n",
       "<table border=\"1\" class=\"dataframe\">\n",
       "  <thead>\n",
       "    <tr style=\"text-align: right;\">\n",
       "      <th></th>\n",
       "      <th>date</th>\n",
       "      <th>group</th>\n",
       "      <th>visits</th>\n",
       "    </tr>\n",
       "  </thead>\n",
       "  <tbody>\n",
       "    <tr>\n",
       "      <td>0</td>\n",
       "      <td>2019-08-01</td>\n",
       "      <td>A</td>\n",
       "      <td>719</td>\n",
       "    </tr>\n",
       "    <tr>\n",
       "      <td>1</td>\n",
       "      <td>2019-08-02</td>\n",
       "      <td>A</td>\n",
       "      <td>619</td>\n",
       "    </tr>\n",
       "    <tr>\n",
       "      <td>2</td>\n",
       "      <td>2019-08-03</td>\n",
       "      <td>A</td>\n",
       "      <td>507</td>\n",
       "    </tr>\n",
       "    <tr>\n",
       "      <td>3</td>\n",
       "      <td>2019-08-04</td>\n",
       "      <td>A</td>\n",
       "      <td>717</td>\n",
       "    </tr>\n",
       "    <tr>\n",
       "      <td>4</td>\n",
       "      <td>2019-08-05</td>\n",
       "      <td>A</td>\n",
       "      <td>756</td>\n",
       "    </tr>\n",
       "  </tbody>\n",
       "</table>\n",
       "</div>"
      ],
      "text/plain": [
       "         date group  visits\n",
       "0  2019-08-01     A     719\n",
       "1  2019-08-02     A     619\n",
       "2  2019-08-03     A     507\n",
       "3  2019-08-04     A     717\n",
       "4  2019-08-05     A     756"
      ]
     },
     "execution_count": 106,
     "metadata": {},
     "output_type": "execute_result"
    }
   ],
   "source": [
    "df_visits.head()"
   ]
  },
  {
   "cell_type": "code",
   "execution_count": 107,
   "metadata": {},
   "outputs": [],
   "source": [
    "sample_a_filtered = pd.concat([orders_per_user_a[np.logical_not(orders_per_user_a['visitor_id'].isin(abnormal_users))]['orders'],pd.Series(0, index=np.arange(df_visits[df_visits['group']=='A']['visits'].sum() - len(orders_per_user_a['orders'])),name='orders')],axis=0)\n",
    "sample_b_filtered = pd.concat([orders_per_user_b[np.logical_not(orders_per_user_b['visitor_id'].isin(abnormal_users))]['orders'],pd.Series(0, index=np.arange(df_visits[df_visits['group']=='B']['visits'].sum() - len(orders_per_user_b['orders'])),name='orders')],axis=0)"
   ]
  },
  {
   "cell_type": "code",
   "execution_count": 108,
   "metadata": {},
   "outputs": [
    {
     "name": "stdout",
     "output_type": "stream",
     "text": [
      "0.008\n",
      "0.174\n"
     ]
    }
   ],
   "source": [
    "print(\"{0:.3f}\".format(stats.mannwhitneyu(sample_a_filtered, sample_b_filtered)[1]))\n",
    "print(\"{0:.3f}\".format(sample_b_filtered.mean()/sample_a_filtered.mean()-1))"
   ]
  },
  {
   "cell_type": "markdown",
   "metadata": {},
   "source": [
    "> * The first row of the output gives us the p-value, 0.008, which is less than 0.05. So we can reject the null hypothesis: there is no statistically significant difference in conversion between Group A and Group B;\n",
    "> * The relative profit of group B is 17.4%.\n",
    "> * The results for conversion changed."
   ]
  },
  {
   "cell_type": "markdown",
   "metadata": {},
   "source": [
    "Let us formulate hypotheses: (filtered data)\n",
    " - H_0 (the null hypothesis): there is no statistically significant difference in average order size between Group A and Group B;\n",
    " - H_a (the alternative hypothesis): there is statistically significant difference in average order size between Group A and Group B;"
   ]
  },
  {
   "cell_type": "code",
   "execution_count": 109,
   "metadata": {},
   "outputs": [
    {
     "name": "stdout",
     "output_type": "stream",
     "text": [
      "0.386\n",
      "-0.033\n"
     ]
    }
   ],
   "source": [
    "print('{0:.3f}'.format(stats.mannwhitneyu(\n",
    "    df_orders_clean[np.logical_and(\n",
    "        df_orders_clean['group']=='A',\n",
    "        np.logical_not(df_orders_clean['visitorId'].isin(abnormal_users)))]['revenue'],\n",
    "    df_orders_clean[np.logical_and(\n",
    "        df_orders_clean['group']=='B',\n",
    "        np.logical_not(df_orders_clean['visitorId'].isin(abnormal_users)))]['revenue'])[1]))\n",
    "\n",
    "print('{0:.3f}'.format(\n",
    "    df_orders_clean[np.logical_and(df_orders_clean['group']=='B',np.logical_not(df_orders_clean['visitorId'].isin(abnormal_users)))]['revenue'].mean()/\n",
    "    df_orders_clean[np.logical_and(\n",
    "        df_orders_clean['group']=='A',\n",
    "        np.logical_not(df_orders_clean['visitorId'].isin(abnormal_users)))]['revenue'].mean() - 1))"
   ]
  },
  {
   "cell_type": "markdown",
   "metadata": {},
   "source": [
    "> * The p-value 0.386 is considerably higher than 0.05, so there's no reason to reject the null hypothesis. \n",
    "> * But the relative loss of group B is 3.3%. Not so big. \n",
    "> * Null hypothesis can't be rejected; there is no statistically significant difference in average order size between Group A and Group B\n",
    "> * The p-value increased, but now the difference between the segments is 3.3% instead of 17.8%."
   ]
  },
  {
   "cell_type": "markdown",
   "metadata": {},
   "source": [
    "### Conclusion:"
   ]
  },
  {
   "cell_type": "markdown",
   "metadata": {},
   "source": [
    "  - Here are the facts:\n",
    "> * Neither raw nor filtered data revealed any statistically significant differences in average order size between the groups.\n",
    "> * Both raw and filtered data revealed statistically significant differences in conversion rates between groups.\n",
    "> * Based on these facts, we can conclude that the test passed and should be continued. It makes sense to continue it, since the probability that segment B will be better than segment A is present."
   ]
  }
 ],
 "metadata": {
  "ExecuteTimeLog": [
   {
    "duration": 101,
    "start_time": "2021-09-14T18:07:02.238Z"
   },
   {
    "duration": 5,
    "start_time": "2021-09-14T18:07:24.383Z"
   },
   {
    "duration": 119,
    "start_time": "2021-09-14T18:08:08.068Z"
   },
   {
    "duration": 3,
    "start_time": "2021-09-14T18:08:26.855Z"
   },
   {
    "duration": 1754,
    "start_time": "2021-09-14T18:08:38.948Z"
   },
   {
    "duration": 6,
    "start_time": "2021-09-14T18:08:46.183Z"
   },
   {
    "duration": 308,
    "start_time": "2021-09-14T18:20:26.879Z"
   },
   {
    "duration": 422,
    "start_time": "2021-09-14T19:07:30.055Z"
   },
   {
    "duration": 9,
    "start_time": "2021-09-14T19:07:36.687Z"
   },
   {
    "duration": 7,
    "start_time": "2021-09-14T19:08:01.650Z"
   },
   {
    "duration": 5,
    "start_time": "2021-09-14T19:08:11.707Z"
   },
   {
    "duration": 7,
    "start_time": "2021-09-14T19:08:26.417Z"
   },
   {
    "duration": 221,
    "start_time": "2021-09-14T19:08:40.305Z"
   },
   {
    "duration": 212,
    "start_time": "2021-09-14T19:08:51.942Z"
   },
   {
    "duration": 6,
    "start_time": "2021-09-14T19:08:53.821Z"
   },
   {
    "duration": 4,
    "start_time": "2021-09-14T19:08:54.432Z"
   },
   {
    "duration": 7,
    "start_time": "2021-09-14T19:08:55.252Z"
   },
   {
    "duration": 87,
    "start_time": "2021-09-14T19:08:56.008Z"
   },
   {
    "duration": 60,
    "start_time": "2021-09-14T19:09:16.541Z"
   },
   {
    "duration": 12,
    "start_time": "2021-09-14T19:15:55.122Z"
   },
   {
    "duration": 14,
    "start_time": "2021-09-14T19:20:21.255Z"
   },
   {
    "duration": 14,
    "start_time": "2021-09-14T19:23:47.749Z"
   },
   {
    "duration": 15,
    "start_time": "2021-09-14T19:25:48.270Z"
   },
   {
    "duration": 5,
    "start_time": "2021-09-14T19:29:25.755Z"
   },
   {
    "duration": 242,
    "start_time": "2021-09-14T19:29:52.155Z"
   },
   {
    "duration": 222,
    "start_time": "2021-09-14T19:29:58.169Z"
   },
   {
    "duration": 5,
    "start_time": "2021-09-14T19:30:18.473Z"
   },
   {
    "duration": 334,
    "start_time": "2021-09-14T19:30:18.871Z"
   },
   {
    "duration": 284,
    "start_time": "2021-09-14T19:30:42.383Z"
   },
   {
    "duration": 370,
    "start_time": "2021-09-14T19:30:51.766Z"
   },
   {
    "duration": 361,
    "start_time": "2021-09-14T19:31:03.520Z"
   },
   {
    "duration": 369,
    "start_time": "2021-09-14T19:33:02.529Z"
   },
   {
    "duration": 392,
    "start_time": "2021-09-14T19:33:12.343Z"
   },
   {
    "duration": 136,
    "start_time": "2021-09-14T19:37:05.360Z"
   },
   {
    "duration": 65459,
    "start_time": "2021-09-14T19:37:08.381Z"
   },
   {
    "duration": 4,
    "start_time": "2021-09-14T19:38:27.554Z"
   },
   {
    "duration": 638,
    "start_time": "2021-09-14T19:39:07.942Z"
   },
   {
    "duration": 136,
    "start_time": "2021-09-14T19:41:02.633Z"
   },
   {
    "duration": 673,
    "start_time": "2021-09-14T19:41:04.689Z"
   },
   {
    "duration": 90,
    "start_time": "2021-09-14T19:51:29.840Z"
   },
   {
    "duration": 13,
    "start_time": "2021-09-14T19:52:42.504Z"
   },
   {
    "duration": 9,
    "start_time": "2021-09-14T20:03:07.750Z"
   },
   {
    "duration": 10,
    "start_time": "2021-09-14T20:03:18.773Z"
   },
   {
    "duration": 333,
    "start_time": "2021-09-14T20:06:39.638Z"
   },
   {
    "duration": 14,
    "start_time": "2021-09-14T20:23:33.463Z"
   },
   {
    "duration": 326,
    "start_time": "2021-09-14T20:23:49.866Z"
   },
   {
    "duration": 228,
    "start_time": "2021-09-14T20:24:11.276Z"
   },
   {
    "duration": 257,
    "start_time": "2021-09-14T20:24:21.819Z"
   },
   {
    "duration": 11,
    "start_time": "2021-09-14T20:24:31.551Z"
   },
   {
    "duration": 15,
    "start_time": "2021-09-14T20:25:13.613Z"
   },
   {
    "duration": 15,
    "start_time": "2021-09-14T20:26:19.848Z"
   },
   {
    "duration": 16,
    "start_time": "2021-09-14T20:26:25.740Z"
   },
   {
    "duration": 10,
    "start_time": "2021-09-14T20:28:11.563Z"
   },
   {
    "duration": 11,
    "start_time": "2021-09-14T20:28:21.399Z"
   },
   {
    "duration": 11,
    "start_time": "2021-09-14T20:28:38.393Z"
   },
   {
    "duration": 404,
    "start_time": "2021-09-14T20:29:35.675Z"
   },
   {
    "duration": 534,
    "start_time": "2021-09-14T20:30:21.361Z"
   },
   {
    "duration": 560,
    "start_time": "2021-09-14T20:31:11.802Z"
   },
   {
    "duration": 924,
    "start_time": "2021-09-14T20:31:48.105Z"
   },
   {
    "duration": 267,
    "start_time": "2021-09-14T20:32:03.064Z"
   },
   {
    "duration": 1267,
    "start_time": "2021-09-14T20:32:11.862Z"
   },
   {
    "duration": 236,
    "start_time": "2021-09-14T20:32:37.217Z"
   },
   {
    "duration": 580,
    "start_time": "2021-09-14T20:32:54.464Z"
   },
   {
    "duration": 397,
    "start_time": "2021-09-14T20:32:58.898Z"
   },
   {
    "duration": 388,
    "start_time": "2021-09-14T20:36:02.439Z"
   },
   {
    "duration": 468,
    "start_time": "2021-09-14T20:36:12.559Z"
   },
   {
    "duration": 627,
    "start_time": "2021-09-14T20:37:27.764Z"
   },
   {
    "duration": 504,
    "start_time": "2021-09-14T20:37:38.899Z"
   },
   {
    "duration": 90,
    "start_time": "2021-09-14T20:38:40.306Z"
   },
   {
    "duration": 617,
    "start_time": "2021-09-14T20:44:37.677Z"
   },
   {
    "duration": 10,
    "start_time": "2021-09-14T20:48:56.583Z"
   },
   {
    "duration": 13,
    "start_time": "2021-09-14T20:49:07.419Z"
   },
   {
    "duration": 666,
    "start_time": "2021-09-14T20:50:34.353Z"
   },
   {
    "duration": 620,
    "start_time": "2021-09-14T20:50:47.537Z"
   },
   {
    "duration": 14,
    "start_time": "2021-09-14T20:53:40.068Z"
   },
   {
    "duration": 5,
    "start_time": "2021-09-14T20:54:11.219Z"
   },
   {
    "duration": 15,
    "start_time": "2021-09-14T20:54:23.167Z"
   },
   {
    "duration": 17,
    "start_time": "2021-09-14T20:55:04.189Z"
   },
   {
    "duration": 15,
    "start_time": "2021-09-14T20:55:20.142Z"
   },
   {
    "duration": 554,
    "start_time": "2021-09-14T20:57:16.264Z"
   },
   {
    "duration": 12,
    "start_time": "2021-09-14T21:03:45.548Z"
   },
   {
    "duration": 21,
    "start_time": "2021-09-14T21:03:57.077Z"
   },
   {
    "duration": 613,
    "start_time": "2021-09-14T21:06:22.911Z"
   },
   {
    "duration": 12,
    "start_time": "2021-09-14T21:09:52.963Z"
   },
   {
    "duration": 82,
    "start_time": "2021-09-14T21:10:38.752Z"
   },
   {
    "duration": 215,
    "start_time": "2021-09-14T21:11:40.325Z"
   },
   {
    "duration": 9,
    "start_time": "2021-09-14T21:11:51.804Z"
   },
   {
    "duration": 225,
    "start_time": "2021-09-14T21:12:43.645Z"
   },
   {
    "duration": 9,
    "start_time": "2021-09-14T21:12:44.332Z"
   },
   {
    "duration": 359,
    "start_time": "2021-09-14T21:14:43.117Z"
   },
   {
    "duration": 6,
    "start_time": "2021-09-14T21:16:36.892Z"
   },
   {
    "duration": 438,
    "start_time": "2021-09-14T21:17:06.952Z"
   },
   {
    "duration": 6,
    "start_time": "2021-09-14T21:17:17.517Z"
   },
   {
    "duration": 6,
    "start_time": "2021-09-14T21:17:24.537Z"
   },
   {
    "duration": 12,
    "start_time": "2021-09-14T21:19:16.995Z"
   },
   {
    "duration": 631,
    "start_time": "2021-09-14T21:19:30.299Z"
   },
   {
    "duration": 399,
    "start_time": "2021-09-14T21:20:10.247Z"
   },
   {
    "duration": 92,
    "start_time": "2021-09-14T21:21:26.091Z"
   },
   {
    "duration": 6,
    "start_time": "2021-09-14T21:22:02.128Z"
   },
   {
    "duration": 6,
    "start_time": "2021-09-14T21:22:11.351Z"
   },
   {
    "duration": 6,
    "start_time": "2021-09-14T21:23:47.240Z"
   },
   {
    "duration": 12,
    "start_time": "2021-09-14T21:26:05.067Z"
   },
   {
    "duration": 208,
    "start_time": "2021-09-14T21:26:35.925Z"
   },
   {
    "duration": 9,
    "start_time": "2021-09-14T21:26:43.612Z"
   },
   {
    "duration": 7,
    "start_time": "2021-09-14T21:33:19.779Z"
   },
   {
    "duration": 7,
    "start_time": "2021-09-14T21:34:08.518Z"
   },
   {
    "duration": 235,
    "start_time": "2021-09-14T21:34:30.481Z"
   },
   {
    "duration": 8,
    "start_time": "2021-09-14T21:34:51.048Z"
   },
   {
    "duration": 8,
    "start_time": "2021-09-14T21:34:56.016Z"
   },
   {
    "duration": 6,
    "start_time": "2021-09-14T21:34:56.570Z"
   },
   {
    "duration": 7,
    "start_time": "2021-09-14T21:35:05.326Z"
   },
   {
    "duration": 242,
    "start_time": "2021-09-14T21:35:23.885Z"
   },
   {
    "duration": 11,
    "start_time": "2021-09-14T21:35:32.220Z"
   },
   {
    "duration": 1529,
    "start_time": "2021-09-16T21:34:06.860Z"
   },
   {
    "duration": 5,
    "start_time": "2021-09-16T21:34:08.391Z"
   },
   {
    "duration": 251,
    "start_time": "2021-09-16T21:34:08.399Z"
   },
   {
    "duration": 7,
    "start_time": "2021-09-16T21:34:08.652Z"
   },
   {
    "duration": 13,
    "start_time": "2021-09-16T21:34:08.661Z"
   },
   {
    "duration": 8,
    "start_time": "2021-09-16T21:34:08.676Z"
   },
   {
    "duration": 112,
    "start_time": "2021-09-16T21:34:08.686Z"
   },
   {
    "duration": 95,
    "start_time": "2021-09-16T21:34:08.802Z"
   },
   {
    "duration": 8,
    "start_time": "2021-09-16T21:34:08.899Z"
   },
   {
    "duration": 18,
    "start_time": "2021-09-16T21:34:08.909Z"
   },
   {
    "duration": 49,
    "start_time": "2021-09-16T21:34:08.929Z"
   },
   {
    "duration": 20,
    "start_time": "2021-09-16T21:34:08.980Z"
   },
   {
    "duration": 648,
    "start_time": "2021-09-16T21:34:09.002Z"
   },
   {
    "duration": 24,
    "start_time": "2021-09-16T21:34:09.652Z"
   },
   {
    "duration": 17,
    "start_time": "2021-09-16T21:34:09.679Z"
   },
   {
    "duration": 375,
    "start_time": "2021-09-16T21:34:09.699Z"
   },
   {
    "duration": 13,
    "start_time": "2021-09-16T21:34:10.076Z"
   },
   {
    "duration": 263,
    "start_time": "2021-09-16T21:34:10.092Z"
   },
   {
    "duration": 15,
    "start_time": "2021-09-16T21:34:10.358Z"
   },
   {
    "duration": 21,
    "start_time": "2021-09-16T21:34:10.375Z"
   },
   {
    "duration": 12,
    "start_time": "2021-09-16T21:34:10.398Z"
   },
   {
    "duration": 15,
    "start_time": "2021-09-16T21:34:10.412Z"
   },
   {
    "duration": 45,
    "start_time": "2021-09-16T21:34:10.433Z"
   },
   {
    "duration": 586,
    "start_time": "2021-09-16T21:34:10.481Z"
   },
   {
    "duration": 578,
    "start_time": "2021-09-16T21:34:11.069Z"
   },
   {
    "duration": 19,
    "start_time": "2021-09-16T21:34:11.649Z"
   },
   {
    "duration": 17,
    "start_time": "2021-09-16T21:34:11.671Z"
   },
   {
    "duration": 699,
    "start_time": "2021-09-16T21:34:11.690Z"
   },
   {
    "duration": 12,
    "start_time": "2021-09-16T21:34:12.391Z"
   },
   {
    "duration": 17,
    "start_time": "2021-09-16T21:34:12.406Z"
   },
   {
    "duration": 44,
    "start_time": "2021-09-16T21:34:12.426Z"
   },
   {
    "duration": 20,
    "start_time": "2021-09-16T21:34:12.472Z"
   },
   {
    "duration": 679,
    "start_time": "2021-09-16T21:34:12.494Z"
   },
   {
    "duration": 12,
    "start_time": "2021-09-16T21:34:13.175Z"
   },
   {
    "duration": 33,
    "start_time": "2021-09-16T21:34:13.189Z"
   },
   {
    "duration": 652,
    "start_time": "2021-09-16T21:34:13.225Z"
   },
   {
    "duration": 12,
    "start_time": "2021-09-16T21:34:13.880Z"
   },
   {
    "duration": 243,
    "start_time": "2021-09-16T21:34:13.894Z"
   },
   {
    "duration": 10,
    "start_time": "2021-09-16T21:34:14.139Z"
   },
   {
    "duration": 517,
    "start_time": "2021-09-16T21:34:14.151Z"
   },
   {
    "duration": 5,
    "start_time": "2021-09-16T21:34:14.671Z"
   },
   {
    "duration": 9,
    "start_time": "2021-09-16T21:34:14.679Z"
   },
   {
    "duration": 14,
    "start_time": "2021-09-16T21:34:14.691Z"
   },
   {
    "duration": 644,
    "start_time": "2021-09-16T21:34:14.707Z"
   },
   {
    "duration": 13,
    "start_time": "2021-09-16T21:34:15.354Z"
   },
   {
    "duration": 14,
    "start_time": "2021-09-16T21:34:15.369Z"
   },
   {
    "duration": 16,
    "start_time": "2021-09-16T21:34:15.385Z"
   },
   {
    "duration": 270,
    "start_time": "2021-09-16T21:34:15.403Z"
   },
   {
    "duration": 9,
    "start_time": "2021-09-16T21:34:15.676Z"
   },
   {
    "duration": 15,
    "start_time": "2021-09-16T21:34:15.687Z"
   },
   {
    "duration": 21,
    "start_time": "2021-09-16T21:34:15.705Z"
   },
   {
    "duration": 31,
    "start_time": "2021-09-16T21:34:15.728Z"
   },
   {
    "duration": 17,
    "start_time": "2021-09-16T21:34:15.761Z"
   },
   {
    "duration": 30,
    "start_time": "2021-09-16T21:34:15.780Z"
   },
   {
    "duration": 29,
    "start_time": "2021-09-16T21:34:15.813Z"
   },
   {
    "duration": 25,
    "start_time": "2021-09-16T21:34:15.844Z"
   },
   {
    "duration": 24,
    "start_time": "2021-09-16T21:34:15.871Z"
   },
   {
    "duration": 25,
    "start_time": "2021-09-16T21:34:15.897Z"
   },
   {
    "duration": 23,
    "start_time": "2021-09-16T21:34:15.924Z"
   },
   {
    "duration": 31,
    "start_time": "2021-09-16T21:34:15.949Z"
   },
   {
    "duration": 21,
    "start_time": "2021-09-16T21:34:15.982Z"
   },
   {
    "duration": 24,
    "start_time": "2021-09-16T21:34:16.005Z"
   },
   {
    "duration": 307,
    "start_time": "2021-09-16T22:32:30.322Z"
   },
   {
    "duration": 484,
    "start_time": "2021-09-16T22:32:32.910Z"
   },
   {
    "duration": 363,
    "start_time": "2021-09-16T22:32:53.846Z"
   },
   {
    "duration": 360,
    "start_time": "2021-09-16T22:32:59.636Z"
   },
   {
    "duration": 5,
    "start_time": "2021-09-16T22:33:02.127Z"
   },
   {
    "duration": 5,
    "start_time": "2021-09-16T22:33:09.613Z"
   },
   {
    "duration": 205,
    "start_time": "2021-09-17T05:34:01.158Z"
   },
   {
    "duration": 1154,
    "start_time": "2021-09-17T05:34:06.326Z"
   },
   {
    "duration": 4,
    "start_time": "2021-09-17T05:34:07.481Z"
   },
   {
    "duration": 304,
    "start_time": "2021-09-17T05:34:07.487Z"
   },
   {
    "duration": 4,
    "start_time": "2021-09-17T05:34:07.793Z"
   },
   {
    "duration": 6,
    "start_time": "2021-09-17T05:34:07.799Z"
   },
   {
    "duration": 6,
    "start_time": "2021-09-17T05:34:07.807Z"
   },
   {
    "duration": 105,
    "start_time": "2021-09-17T05:34:07.815Z"
   },
   {
    "duration": 38,
    "start_time": "2021-09-17T05:34:07.922Z"
   },
   {
    "duration": 5,
    "start_time": "2021-09-17T05:34:07.961Z"
   },
   {
    "duration": 9,
    "start_time": "2021-09-17T06:35:11.602Z"
   },
   {
    "duration": 12,
    "start_time": "2021-09-17T06:36:03.534Z"
   },
   {
    "duration": 243,
    "start_time": "2021-09-17T06:36:14.899Z"
   },
   {
    "duration": 183,
    "start_time": "2021-09-17T06:36:26.038Z"
   },
   {
    "duration": 15,
    "start_time": "2021-09-17T06:36:36.914Z"
   },
   {
    "duration": 158,
    "start_time": "2021-09-17T06:40:39.526Z"
   },
   {
    "duration": 9,
    "start_time": "2021-09-17T06:45:25.418Z"
   },
   {
    "duration": 61,
    "start_time": "2021-09-17T06:45:54.027Z"
   },
   {
    "duration": 165,
    "start_time": "2021-09-17T06:46:03.292Z"
   },
   {
    "duration": 87,
    "start_time": "2021-09-17T06:46:10.051Z"
   },
   {
    "duration": 9,
    "start_time": "2021-09-17T06:46:17.046Z"
   },
   {
    "duration": 163,
    "start_time": "2021-09-17T06:46:28.793Z"
   },
   {
    "duration": 161,
    "start_time": "2021-09-17T06:46:49.583Z"
   },
   {
    "duration": 167,
    "start_time": "2021-09-17T06:48:10.149Z"
   },
   {
    "duration": 164,
    "start_time": "2021-09-17T06:48:54.498Z"
   },
   {
    "duration": 169,
    "start_time": "2021-09-17T06:49:22.765Z"
   },
   {
    "duration": 191,
    "start_time": "2021-09-17T06:51:19.086Z"
   },
   {
    "duration": 306,
    "start_time": "2021-09-17T06:51:30.730Z"
   },
   {
    "duration": 180,
    "start_time": "2021-09-17T06:52:47.515Z"
   },
   {
    "duration": 10,
    "start_time": "2021-09-17T06:55:38.294Z"
   },
   {
    "duration": 6,
    "start_time": "2021-09-17T07:01:44.776Z"
   },
   {
    "duration": 10,
    "start_time": "2021-09-17T07:02:03.974Z"
   },
   {
    "duration": 8,
    "start_time": "2021-09-17T07:04:58.258Z"
   },
   {
    "duration": 9,
    "start_time": "2021-09-17T07:05:01.099Z"
   },
   {
    "duration": 172,
    "start_time": "2021-09-17T07:05:57.740Z"
   },
   {
    "duration": 1293,
    "start_time": "2021-09-17T07:07:04.675Z"
   },
   {
    "duration": 1960,
    "start_time": "2021-09-17T07:08:23.696Z"
   },
   {
    "duration": 1683,
    "start_time": "2021-09-17T07:08:29.885Z"
   },
   {
    "duration": 10,
    "start_time": "2021-09-17T07:08:43.327Z"
   },
   {
    "duration": 10,
    "start_time": "2021-09-17T07:09:08.596Z"
   },
   {
    "duration": 9,
    "start_time": "2021-09-17T07:11:28.980Z"
   },
   {
    "duration": 8,
    "start_time": "2021-09-17T07:12:07.044Z"
   },
   {
    "duration": 183,
    "start_time": "2021-09-17T07:12:49.288Z"
   },
   {
    "duration": 5,
    "start_time": "2021-09-17T07:13:12.472Z"
   },
   {
    "duration": 8,
    "start_time": "2021-09-17T07:13:32.602Z"
   },
   {
    "duration": 7,
    "start_time": "2021-09-17T07:13:41.835Z"
   },
   {
    "duration": 5,
    "start_time": "2021-09-17T07:50:17.968Z"
   },
   {
    "duration": 8,
    "start_time": "2021-09-17T07:50:17.975Z"
   },
   {
    "duration": 314,
    "start_time": "2021-09-17T07:50:17.985Z"
   },
   {
    "duration": 6,
    "start_time": "2021-09-17T07:50:18.301Z"
   },
   {
    "duration": 5,
    "start_time": "2021-09-17T07:50:18.309Z"
   },
   {
    "duration": 5,
    "start_time": "2021-09-17T07:50:18.316Z"
   },
   {
    "duration": 86,
    "start_time": "2021-09-17T07:50:18.323Z"
   },
   {
    "duration": 36,
    "start_time": "2021-09-17T07:50:18.411Z"
   },
   {
    "duration": 8,
    "start_time": "2021-09-17T07:50:18.449Z"
   },
   {
    "duration": 41,
    "start_time": "2021-09-17T07:50:18.459Z"
   },
   {
    "duration": 7,
    "start_time": "2021-09-17T07:50:18.502Z"
   },
   {
    "duration": 9,
    "start_time": "2021-09-17T07:50:18.511Z"
   },
   {
    "duration": 9,
    "start_time": "2021-09-17T07:50:18.522Z"
   },
   {
    "duration": 12,
    "start_time": "2021-09-17T07:50:18.533Z"
   },
   {
    "duration": 418,
    "start_time": "2021-09-17T07:50:18.547Z"
   },
   {
    "duration": 10,
    "start_time": "2021-09-17T07:50:18.967Z"
   },
   {
    "duration": 24,
    "start_time": "2021-09-17T07:50:18.979Z"
   },
   {
    "duration": 199,
    "start_time": "2021-09-17T07:50:19.005Z"
   },
   {
    "duration": 7,
    "start_time": "2021-09-17T07:50:19.206Z"
   },
   {
    "duration": 151,
    "start_time": "2021-09-17T07:50:19.215Z"
   },
   {
    "duration": 12,
    "start_time": "2021-09-17T07:50:19.368Z"
   },
   {
    "duration": 22,
    "start_time": "2021-09-17T07:50:19.381Z"
   },
   {
    "duration": 7,
    "start_time": "2021-09-17T07:50:19.404Z"
   },
   {
    "duration": 10,
    "start_time": "2021-09-17T07:50:19.413Z"
   },
   {
    "duration": 7,
    "start_time": "2021-09-17T07:50:19.425Z"
   },
   {
    "duration": 349,
    "start_time": "2021-09-17T07:50:19.433Z"
   },
   {
    "duration": 335,
    "start_time": "2021-09-17T07:50:19.786Z"
   },
   {
    "duration": 7,
    "start_time": "2021-09-17T07:50:20.123Z"
   },
   {
    "duration": 15,
    "start_time": "2021-09-17T07:50:20.131Z"
   },
   {
    "duration": 549,
    "start_time": "2021-09-17T07:50:20.147Z"
   },
   {
    "duration": 8,
    "start_time": "2021-09-17T07:50:20.698Z"
   },
   {
    "duration": 16,
    "start_time": "2021-09-17T07:50:20.707Z"
   },
   {
    "duration": 10,
    "start_time": "2021-09-17T07:50:20.724Z"
   },
   {
    "duration": 10,
    "start_time": "2021-09-17T07:50:20.736Z"
   },
   {
    "duration": 368,
    "start_time": "2021-09-17T07:50:20.747Z"
   },
   {
    "duration": 8,
    "start_time": "2021-09-17T07:50:21.117Z"
   },
   {
    "duration": 14,
    "start_time": "2021-09-17T07:50:21.127Z"
   },
   {
    "duration": 500,
    "start_time": "2021-09-17T07:50:21.143Z"
   },
   {
    "duration": 8,
    "start_time": "2021-09-17T07:50:21.645Z"
   },
   {
    "duration": 114,
    "start_time": "2021-09-17T07:50:21.655Z"
   },
   {
    "duration": 6,
    "start_time": "2021-09-17T07:50:21.770Z"
   },
   {
    "duration": 402,
    "start_time": "2021-09-17T07:50:21.778Z"
   },
   {
    "duration": 4,
    "start_time": "2021-09-17T07:50:22.182Z"
   },
   {
    "duration": 3,
    "start_time": "2021-09-17T07:50:22.199Z"
   },
   {
    "duration": 10,
    "start_time": "2021-09-17T07:50:22.204Z"
   },
   {
    "duration": 392,
    "start_time": "2021-09-17T07:50:22.215Z"
   },
   {
    "duration": 4,
    "start_time": "2021-09-17T07:50:22.608Z"
   },
   {
    "duration": 7,
    "start_time": "2021-09-17T07:50:22.614Z"
   },
   {
    "duration": 9,
    "start_time": "2021-09-17T07:50:22.623Z"
   },
   {
    "duration": 122,
    "start_time": "2021-09-17T07:50:22.634Z"
   },
   {
    "duration": 6,
    "start_time": "2021-09-17T07:50:22.757Z"
   },
   {
    "duration": 7,
    "start_time": "2021-09-17T07:50:22.765Z"
   },
   {
    "duration": 9,
    "start_time": "2021-09-17T07:50:22.773Z"
   },
   {
    "duration": 17,
    "start_time": "2021-09-17T07:50:22.783Z"
   },
   {
    "duration": 6,
    "start_time": "2021-09-17T07:50:22.801Z"
   },
   {
    "duration": 10,
    "start_time": "2021-09-17T07:50:22.808Z"
   },
   {
    "duration": 4,
    "start_time": "2021-09-17T07:50:22.819Z"
   },
   {
    "duration": 8,
    "start_time": "2021-09-17T07:50:22.824Z"
   },
   {
    "duration": 8,
    "start_time": "2021-09-17T07:50:22.834Z"
   },
   {
    "duration": 9,
    "start_time": "2021-09-17T07:51:39.469Z"
   },
   {
    "duration": 8,
    "start_time": "2021-09-17T07:51:45.089Z"
   },
   {
    "duration": 7,
    "start_time": "2021-09-17T07:51:56.721Z"
   },
   {
    "duration": 10,
    "start_time": "2021-09-17T07:52:03.606Z"
   },
   {
    "duration": 7,
    "start_time": "2021-09-17T07:52:06.110Z"
   },
   {
    "duration": 13,
    "start_time": "2021-09-17T07:52:32.337Z"
   },
   {
    "duration": 450,
    "start_time": "2021-09-17T18:43:02.912Z"
   },
   {
    "duration": 1537,
    "start_time": "2021-09-17T18:43:07.981Z"
   },
   {
    "duration": 6,
    "start_time": "2021-09-17T18:43:09.521Z"
   },
   {
    "duration": 346,
    "start_time": "2021-09-17T18:43:09.532Z"
   },
   {
    "duration": 7,
    "start_time": "2021-09-17T18:43:09.882Z"
   },
   {
    "duration": 13,
    "start_time": "2021-09-17T18:43:09.891Z"
   },
   {
    "duration": 10,
    "start_time": "2021-09-17T18:43:09.906Z"
   },
   {
    "duration": 119,
    "start_time": "2021-09-17T18:43:09.918Z"
   },
   {
    "duration": 98,
    "start_time": "2021-09-17T18:43:10.039Z"
   },
   {
    "duration": 12,
    "start_time": "2021-09-17T18:43:10.140Z"
   },
   {
    "duration": 15,
    "start_time": "2021-09-17T18:44:27.287Z"
   },
   {
    "duration": 14,
    "start_time": "2021-09-17T18:46:02.504Z"
   },
   {
    "duration": 547,
    "start_time": "2021-09-17T18:50:17.943Z"
   },
   {
    "duration": 14,
    "start_time": "2021-09-17T18:50:57.863Z"
   },
   {
    "duration": 15,
    "start_time": "2021-09-17T18:52:17.519Z"
   },
   {
    "duration": 20,
    "start_time": "2021-09-17T18:54:37.363Z"
   },
   {
    "duration": 413,
    "start_time": "2021-09-17T18:57:03.503Z"
   },
   {
    "duration": 421,
    "start_time": "2021-09-17T18:57:46.483Z"
   },
   {
    "duration": 400,
    "start_time": "2021-09-17T18:58:05.782Z"
   },
   {
    "duration": 11,
    "start_time": "2021-09-17T18:58:19.915Z"
   },
   {
    "duration": 372,
    "start_time": "2021-09-17T19:06:48.243Z"
   },
   {
    "duration": 394,
    "start_time": "2021-09-17T19:06:57.603Z"
   },
   {
    "duration": 14,
    "start_time": "2021-09-17T19:13:21.943Z"
   },
   {
    "duration": 14,
    "start_time": "2021-09-17T19:13:44.698Z"
   },
   {
    "duration": 20,
    "start_time": "2021-09-17T19:13:52.215Z"
   },
   {
    "duration": 14,
    "start_time": "2021-09-17T19:15:13.224Z"
   },
   {
    "duration": 14,
    "start_time": "2021-09-17T19:16:23.704Z"
   },
   {
    "duration": 11,
    "start_time": "2021-09-17T19:17:31.466Z"
   },
   {
    "duration": 17,
    "start_time": "2021-09-17T19:18:59.522Z"
   },
   {
    "duration": 16,
    "start_time": "2021-09-17T19:19:33.402Z"
   },
   {
    "duration": 9,
    "start_time": "2021-09-17T19:19:40.943Z"
   },
   {
    "duration": 17,
    "start_time": "2021-09-17T19:19:59.123Z"
   },
   {
    "duration": 16,
    "start_time": "2021-09-17T19:20:11.818Z"
   },
   {
    "duration": 386,
    "start_time": "2021-09-17T19:21:29.603Z"
   },
   {
    "duration": 7,
    "start_time": "2021-09-17T19:21:35.162Z"
   },
   {
    "duration": 5,
    "start_time": "2021-09-17T19:21:35.843Z"
   },
   {
    "duration": 6,
    "start_time": "2021-09-17T19:22:12.083Z"
   },
   {
    "duration": 6,
    "start_time": "2021-09-17T19:22:20.964Z"
   },
   {
    "duration": 1146,
    "start_time": "2021-09-18T21:11:02.376Z"
   },
   {
    "duration": 4,
    "start_time": "2021-09-18T21:11:03.524Z"
   },
   {
    "duration": 303,
    "start_time": "2021-09-18T21:11:03.529Z"
   },
   {
    "duration": 4,
    "start_time": "2021-09-18T21:11:03.834Z"
   },
   {
    "duration": 6,
    "start_time": "2021-09-18T21:11:03.840Z"
   },
   {
    "duration": 5,
    "start_time": "2021-09-18T21:11:03.847Z"
   },
   {
    "duration": 54,
    "start_time": "2021-09-18T21:11:03.854Z"
   },
   {
    "duration": 65,
    "start_time": "2021-09-18T21:11:03.911Z"
   },
   {
    "duration": 8,
    "start_time": "2021-09-18T21:11:03.978Z"
   },
   {
    "duration": 11,
    "start_time": "2021-09-18T21:11:03.988Z"
   },
   {
    "duration": 11,
    "start_time": "2021-09-18T21:11:04.001Z"
   },
   {
    "duration": 12,
    "start_time": "2021-09-18T21:11:04.050Z"
   },
   {
    "duration": 1501,
    "start_time": "2021-09-18T21:28:24.649Z"
   },
   {
    "duration": 6,
    "start_time": "2021-09-18T21:28:26.153Z"
   },
   {
    "duration": 299,
    "start_time": "2021-09-18T21:28:26.162Z"
   },
   {
    "duration": 6,
    "start_time": "2021-09-18T21:28:26.464Z"
   },
   {
    "duration": 9,
    "start_time": "2021-09-18T21:28:26.473Z"
   },
   {
    "duration": 20,
    "start_time": "2021-09-18T21:28:26.484Z"
   },
   {
    "duration": 99,
    "start_time": "2021-09-18T21:28:26.506Z"
   },
   {
    "duration": 83,
    "start_time": "2021-09-18T21:28:26.608Z"
   },
   {
    "duration": 11,
    "start_time": "2021-09-18T21:28:26.694Z"
   },
   {
    "duration": 52,
    "start_time": "2021-09-18T21:28:26.707Z"
   },
   {
    "duration": 15,
    "start_time": "2021-09-18T21:28:26.762Z"
   },
   {
    "duration": 5,
    "start_time": "2021-09-18T21:29:09.969Z"
   },
   {
    "duration": 6,
    "start_time": "2021-09-18T21:30:46.623Z"
   },
   {
    "duration": 491,
    "start_time": "2021-09-18T21:33:47.001Z"
   },
   {
    "duration": 2533,
    "start_time": "2021-09-18T21:36:23.631Z"
   },
   {
    "duration": 10,
    "start_time": "2021-09-18T22:09:58.243Z"
   },
   {
    "duration": 5563,
    "start_time": "2021-09-18T22:10:12.400Z"
   },
   {
    "duration": 4494,
    "start_time": "2021-09-18T22:11:09.871Z"
   },
   {
    "duration": 10,
    "start_time": "2021-09-18T22:12:17.824Z"
   },
   {
    "duration": 369,
    "start_time": "2021-09-18T22:12:22.305Z"
   },
   {
    "duration": 679,
    "start_time": "2021-09-18T22:12:50.094Z"
   },
   {
    "duration": 357,
    "start_time": "2021-09-18T22:12:59.825Z"
   },
   {
    "duration": 360,
    "start_time": "2021-09-18T22:13:04.088Z"
   },
   {
    "duration": 119,
    "start_time": "2021-09-18T22:13:31.043Z"
   },
   {
    "duration": 372,
    "start_time": "2021-09-18T22:14:08.839Z"
   },
   {
    "duration": 14,
    "start_time": "2021-09-18T22:15:11.503Z"
   },
   {
    "duration": 11,
    "start_time": "2021-09-18T22:16:40.975Z"
   },
   {
    "duration": 9,
    "start_time": "2021-09-18T22:17:14.017Z"
   },
   {
    "duration": 7,
    "start_time": "2021-09-18T22:17:15.353Z"
   },
   {
    "duration": 177,
    "start_time": "2021-09-18T22:17:17.476Z"
   },
   {
    "duration": 6,
    "start_time": "2021-09-18T22:17:18.005Z"
   },
   {
    "duration": 5,
    "start_time": "2021-09-18T22:17:18.418Z"
   },
   {
    "duration": 6,
    "start_time": "2021-09-18T22:17:18.887Z"
   },
   {
    "duration": 75,
    "start_time": "2021-09-18T22:17:19.342Z"
   },
   {
    "duration": 56,
    "start_time": "2021-09-18T22:17:19.986Z"
   },
   {
    "duration": 11,
    "start_time": "2021-09-18T22:17:21.318Z"
   },
   {
    "duration": 16,
    "start_time": "2021-09-18T22:17:22.853Z"
   },
   {
    "duration": 10,
    "start_time": "2021-09-18T22:17:23.886Z"
   },
   {
    "duration": 14,
    "start_time": "2021-09-18T22:17:25.663Z"
   },
   {
    "duration": 11,
    "start_time": "2021-09-18T22:17:31.566Z"
   },
   {
    "duration": 15,
    "start_time": "2021-09-18T22:17:38.576Z"
   },
   {
    "duration": 16,
    "start_time": "2021-09-18T22:17:41.878Z"
   },
   {
    "duration": 13,
    "start_time": "2021-09-18T22:18:59.681Z"
   },
   {
    "duration": 12,
    "start_time": "2021-09-18T22:19:05.441Z"
   },
   {
    "duration": 318,
    "start_time": "2021-09-18T22:19:08.379Z"
   },
   {
    "duration": 12,
    "start_time": "2021-09-18T22:19:09.781Z"
   },
   {
    "duration": 235,
    "start_time": "2021-09-18T22:19:11.179Z"
   },
   {
    "duration": 14,
    "start_time": "2021-09-18T22:19:13.256Z"
   },
   {
    "duration": 14,
    "start_time": "2021-09-18T22:19:14.979Z"
   },
   {
    "duration": 10,
    "start_time": "2021-09-18T22:19:16.525Z"
   },
   {
    "duration": 24,
    "start_time": "2021-09-18T22:19:17.356Z"
   },
   {
    "duration": 11,
    "start_time": "2021-09-18T22:19:18.078Z"
   },
   {
    "duration": 574,
    "start_time": "2021-09-18T22:19:19.051Z"
   },
   {
    "duration": 14,
    "start_time": "2021-09-18T22:19:57.867Z"
   },
   {
    "duration": 12,
    "start_time": "2021-09-18T22:19:58.583Z"
   },
   {
    "duration": 353,
    "start_time": "2021-09-18T22:19:59.187Z"
   },
   {
    "duration": 12,
    "start_time": "2021-09-18T22:19:59.704Z"
   },
   {
    "duration": 261,
    "start_time": "2021-09-18T22:20:00.166Z"
   },
   {
    "duration": 13,
    "start_time": "2021-09-18T22:20:00.674Z"
   },
   {
    "duration": 15,
    "start_time": "2021-09-18T22:20:01.411Z"
   },
   {
    "duration": 12,
    "start_time": "2021-09-18T22:20:01.848Z"
   },
   {
    "duration": 10,
    "start_time": "2021-09-18T22:20:02.377Z"
   },
   {
    "duration": 12,
    "start_time": "2021-09-18T22:20:02.845Z"
   },
   {
    "duration": 571,
    "start_time": "2021-09-18T22:20:03.505Z"
   },
   {
    "duration": 568,
    "start_time": "2021-09-18T22:20:06.236Z"
   },
   {
    "duration": 10,
    "start_time": "2021-09-18T22:20:07.885Z"
   },
   {
    "duration": 13,
    "start_time": "2021-09-18T22:20:08.382Z"
   },
   {
    "duration": 708,
    "start_time": "2021-09-18T22:20:12.591Z"
   },
   {
    "duration": 14,
    "start_time": "2021-09-18T22:20:14.965Z"
   },
   {
    "duration": 17,
    "start_time": "2021-09-18T22:20:15.393Z"
   },
   {
    "duration": 16,
    "start_time": "2021-09-18T22:20:15.813Z"
   },
   {
    "duration": 15,
    "start_time": "2021-09-18T22:20:16.212Z"
   },
   {
    "duration": 659,
    "start_time": "2021-09-18T22:20:16.579Z"
   },
   {
    "duration": 12,
    "start_time": "2021-09-18T22:20:17.475Z"
   },
   {
    "duration": 19,
    "start_time": "2021-09-18T22:20:17.823Z"
   },
   {
    "duration": 690,
    "start_time": "2021-09-18T22:20:18.198Z"
   },
   {
    "duration": 13,
    "start_time": "2021-09-18T22:20:20.079Z"
   },
   {
    "duration": 217,
    "start_time": "2021-09-18T22:20:20.391Z"
   },
   {
    "duration": 9,
    "start_time": "2021-09-18T22:20:20.803Z"
   },
   {
    "duration": 520,
    "start_time": "2021-09-18T22:20:21.215Z"
   },
   {
    "duration": 5,
    "start_time": "2021-09-18T22:20:23.880Z"
   },
   {
    "duration": 7,
    "start_time": "2021-09-18T22:20:25.354Z"
   },
   {
    "duration": 13,
    "start_time": "2021-09-18T22:20:27.423Z"
   },
   {
    "duration": 526,
    "start_time": "2021-09-18T22:20:27.995Z"
   },
   {
    "duration": 6,
    "start_time": "2021-09-18T22:20:29.423Z"
   },
   {
    "duration": 6,
    "start_time": "2021-09-18T22:20:30.036Z"
   },
   {
    "duration": 12,
    "start_time": "2021-09-18T22:20:31.901Z"
   },
   {
    "duration": 227,
    "start_time": "2021-09-18T22:20:32.600Z"
   },
   {
    "duration": 10,
    "start_time": "2021-09-18T22:20:32.932Z"
   },
   {
    "duration": 8,
    "start_time": "2021-09-18T22:20:33.178Z"
   },
   {
    "duration": 8,
    "start_time": "2021-09-18T22:20:33.623Z"
   },
   {
    "duration": 11,
    "start_time": "2021-09-18T22:20:33.996Z"
   },
   {
    "duration": 9,
    "start_time": "2021-09-18T22:20:35.818Z"
   },
   {
    "duration": 14,
    "start_time": "2021-09-18T22:20:36.172Z"
   },
   {
    "duration": 6,
    "start_time": "2021-09-18T22:20:37.471Z"
   },
   {
    "duration": 11,
    "start_time": "2021-09-18T22:20:37.875Z"
   },
   {
    "duration": 16,
    "start_time": "2021-09-18T22:20:38.258Z"
   },
   {
    "duration": 11,
    "start_time": "2021-09-18T22:20:38.607Z"
   },
   {
    "duration": 11,
    "start_time": "2021-09-18T22:20:39.231Z"
   },
   {
    "duration": 15,
    "start_time": "2021-09-18T22:20:39.506Z"
   },
   {
    "duration": 10,
    "start_time": "2021-09-18T22:20:39.881Z"
   },
   {
    "duration": 20,
    "start_time": "2021-09-18T22:20:41.299Z"
   },
   {
    "duration": 16,
    "start_time": "2021-09-18T22:30:11.621Z"
   },
   {
    "duration": 15,
    "start_time": "2021-09-18T22:30:40.050Z"
   },
   {
    "duration": 12,
    "start_time": "2021-09-18T22:30:41.133Z"
   },
   {
    "duration": 387,
    "start_time": "2021-09-18T22:30:47.369Z"
   },
   {
    "duration": 12,
    "start_time": "2021-09-18T22:30:48.835Z"
   },
   {
    "duration": 325,
    "start_time": "2021-09-18T22:30:52.136Z"
   },
   {
    "duration": 12,
    "start_time": "2021-09-18T22:30:52.748Z"
   },
   {
    "duration": 15,
    "start_time": "2021-09-18T22:30:55.332Z"
   },
   {
    "duration": 11,
    "start_time": "2021-09-18T22:30:56.833Z"
   },
   {
    "duration": 11,
    "start_time": "2021-09-18T22:31:00.987Z"
   },
   {
    "duration": 11,
    "start_time": "2021-09-18T22:31:03.464Z"
   },
   {
    "duration": 530,
    "start_time": "2021-09-18T22:31:05.783Z"
   },
   {
    "duration": 552,
    "start_time": "2021-09-18T22:31:17.052Z"
   },
   {
    "duration": 9,
    "start_time": "2021-09-18T22:31:22.415Z"
   },
   {
    "duration": 12,
    "start_time": "2021-09-18T22:31:23.890Z"
   },
   {
    "duration": 634,
    "start_time": "2021-09-18T22:31:25.818Z"
   },
   {
    "duration": 13,
    "start_time": "2021-09-18T22:31:36.270Z"
   },
   {
    "duration": 16,
    "start_time": "2021-09-18T22:31:37.055Z"
   },
   {
    "duration": 17,
    "start_time": "2021-09-18T22:31:38.060Z"
   },
   {
    "duration": 15,
    "start_time": "2021-09-18T22:31:39.041Z"
   },
   {
    "duration": 575,
    "start_time": "2021-09-18T22:31:40.313Z"
   },
   {
    "duration": 11,
    "start_time": "2021-09-18T22:31:44.016Z"
   },
   {
    "duration": 20,
    "start_time": "2021-09-18T22:31:44.786Z"
   },
   {
    "duration": 621,
    "start_time": "2021-09-18T22:31:45.813Z"
   },
   {
    "duration": 12,
    "start_time": "2021-09-18T22:31:50.671Z"
   },
   {
    "duration": 179,
    "start_time": "2021-09-18T22:31:51.640Z"
   },
   {
    "duration": 9,
    "start_time": "2021-09-18T22:31:52.845Z"
   },
   {
    "duration": 457,
    "start_time": "2021-09-18T22:31:56.284Z"
   },
   {
    "duration": 874,
    "start_time": "2021-09-18T22:35:31.496Z"
   },
   {
    "duration": 474,
    "start_time": "2021-09-18T22:37:44.169Z"
   },
   {
    "duration": 587,
    "start_time": "2021-09-18T22:43:37.875Z"
   },
   {
    "duration": 12,
    "start_time": "2021-09-18T22:45:04.805Z"
   },
   {
    "duration": 420,
    "start_time": "2021-09-18T22:45:17.120Z"
   },
   {
    "duration": 13,
    "start_time": "2021-09-18T22:45:17.812Z"
   },
   {
    "duration": 258,
    "start_time": "2021-09-18T22:45:18.543Z"
   },
   {
    "duration": 11,
    "start_time": "2021-09-18T22:45:19.200Z"
   },
   {
    "duration": 16,
    "start_time": "2021-09-18T22:45:20.252Z"
   },
   {
    "duration": 11,
    "start_time": "2021-09-18T22:45:20.921Z"
   },
   {
    "duration": 12,
    "start_time": "2021-09-18T22:45:24.134Z"
   },
   {
    "duration": 11,
    "start_time": "2021-09-18T22:45:24.578Z"
   },
   {
    "duration": 625,
    "start_time": "2021-09-18T22:45:25.348Z"
   },
   {
    "duration": 535,
    "start_time": "2021-09-18T22:45:28.135Z"
   },
   {
    "duration": 10,
    "start_time": "2021-09-18T22:45:30.689Z"
   },
   {
    "duration": 13,
    "start_time": "2021-09-18T22:45:32.268Z"
   },
   {
    "duration": 658,
    "start_time": "2021-09-18T22:45:40.450Z"
   },
   {
    "duration": 15,
    "start_time": "2021-09-18T22:45:44.999Z"
   },
   {
    "duration": 15,
    "start_time": "2021-09-18T22:45:46.660Z"
   },
   {
    "duration": 17,
    "start_time": "2021-09-18T22:45:47.839Z"
   },
   {
    "duration": 15,
    "start_time": "2021-09-18T22:45:52.113Z"
   },
   {
    "duration": 565,
    "start_time": "2021-09-18T22:45:53.056Z"
   },
   {
    "duration": 11,
    "start_time": "2021-09-18T22:45:54.020Z"
   },
   {
    "duration": 20,
    "start_time": "2021-09-18T22:45:55.375Z"
   },
   {
    "duration": 603,
    "start_time": "2021-09-18T22:45:58.556Z"
   },
   {
    "duration": 12,
    "start_time": "2021-09-18T22:46:08.339Z"
   },
   {
    "duration": 594,
    "start_time": "2021-09-18T22:46:48.480Z"
   },
   {
    "duration": 899,
    "start_time": "2021-09-18T22:47:00.822Z"
   },
   {
    "duration": 367,
    "start_time": "2021-09-18T22:47:14.687Z"
   },
   {
    "duration": 355,
    "start_time": "2021-09-18T22:47:57.904Z"
   },
   {
    "duration": 722,
    "start_time": "2021-09-18T22:48:08.821Z"
   },
   {
    "duration": 534,
    "start_time": "2021-09-18T22:49:48.741Z"
   },
   {
    "duration": 601,
    "start_time": "2021-09-18T22:49:54.866Z"
   },
   {
    "duration": 507,
    "start_time": "2021-09-18T22:50:02.824Z"
   },
   {
    "duration": 487,
    "start_time": "2021-09-18T22:50:09.967Z"
   },
   {
    "duration": 6,
    "start_time": "2021-09-18T22:50:19.441Z"
   },
   {
    "duration": 6,
    "start_time": "2021-09-18T22:50:20.206Z"
   },
   {
    "duration": 13,
    "start_time": "2021-09-18T22:50:23.300Z"
   },
   {
    "duration": 12,
    "start_time": "2021-09-18T22:50:29.156Z"
   },
   {
    "duration": 705,
    "start_time": "2021-09-18T22:50:36.924Z"
   },
   {
    "duration": 549,
    "start_time": "2021-09-18T22:50:55.251Z"
   },
   {
    "duration": 666,
    "start_time": "2021-09-18T22:52:31.543Z"
   },
   {
    "duration": 775,
    "start_time": "2021-09-18T22:52:57.492Z"
   },
   {
    "duration": 752,
    "start_time": "2021-09-18T22:53:11.646Z"
   },
   {
    "duration": 5,
    "start_time": "2021-09-18T22:55:07.832Z"
   },
   {
    "duration": 6,
    "start_time": "2021-09-18T22:55:11.564Z"
   },
   {
    "duration": 13,
    "start_time": "2021-09-18T22:55:27.403Z"
   },
   {
    "duration": 452,
    "start_time": "2021-09-18T22:55:48.163Z"
   },
   {
    "duration": 208,
    "start_time": "2021-09-18T22:55:58.580Z"
   },
   {
    "duration": 9,
    "start_time": "2021-09-18T22:56:09.359Z"
   },
   {
    "duration": 8,
    "start_time": "2021-09-18T22:56:10.434Z"
   },
   {
    "duration": 9,
    "start_time": "2021-09-18T22:56:11.754Z"
   },
   {
    "duration": 8,
    "start_time": "2021-09-18T22:56:13.284Z"
   },
   {
    "duration": 10,
    "start_time": "2021-09-18T22:56:36.350Z"
   },
   {
    "duration": 14,
    "start_time": "2021-09-18T22:57:21.803Z"
   },
   {
    "duration": 6,
    "start_time": "2021-09-18T22:57:52.945Z"
   },
   {
    "duration": 9,
    "start_time": "2021-09-18T22:58:03.102Z"
   },
   {
    "duration": 12,
    "start_time": "2021-09-18T22:58:10.631Z"
   },
   {
    "duration": 11,
    "start_time": "2021-09-18T22:58:25.105Z"
   },
   {
    "duration": 11,
    "start_time": "2021-09-18T22:58:35.246Z"
   },
   {
    "duration": 15,
    "start_time": "2021-09-18T22:58:45.646Z"
   },
   {
    "duration": 10,
    "start_time": "2021-09-18T22:58:48.326Z"
   },
   {
    "duration": 21,
    "start_time": "2021-09-18T23:01:11.061Z"
   }
  ],
  "interpreter": {
   "hash": "eecb6f739249f333e6eb6f28930ccb37aedec3f38785c7ff769d6e5598bab9c0"
  },
  "kernelspec": {
   "display_name": "Python 3",
   "language": "python",
   "name": "python3"
  },
  "language_info": {
   "codemirror_mode": {
    "name": "ipython",
    "version": 3
   },
   "file_extension": ".py",
   "mimetype": "text/x-python",
   "name": "python",
   "nbconvert_exporter": "python",
   "pygments_lexer": "ipython3",
   "version": "3.8.8"
  },
  "toc": {
   "base_numbering": 1,
   "nav_menu": {},
   "number_sections": true,
   "sideBar": true,
   "skip_h1_title": true,
   "title_cell": "Table of Contents",
   "title_sidebar": "Contents",
   "toc_cell": false,
   "toc_position": {},
   "toc_section_display": true,
   "toc_window_display": false
  }
 },
 "nbformat": 4,
 "nbformat_minor": 2
}
